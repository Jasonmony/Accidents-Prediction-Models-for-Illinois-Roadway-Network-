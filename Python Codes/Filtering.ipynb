{
 "cells": [
  {
   "cell_type": "markdown",
   "metadata": {},
   "source": [
    "This file contains information on what filters were applied to the data. "
   ]
  },
  {
   "cell_type": "code",
   "execution_count": 1,
   "metadata": {},
   "outputs": [],
   "source": [
    "import pandas as pd"
   ]
  },
  {
   "cell_type": "code",
   "execution_count": 2,
   "metadata": {},
   "outputs": [],
   "source": [
    "Unfiltered_Merged_06 = pd.read_csv(\"Unfiltered_MergedData_06.csv\")"
   ]
  },
  {
   "cell_type": "code",
   "execution_count": 3,
   "metadata": {},
   "outputs": [
    {
     "data": {
      "text/plain": [
       "Index(['medwid', 'no_lanes', 'lanewid', 'aadt', 'trf_cntl', 'curv_rad',\n",
       "       'begmp', 'seg_lng', 'endmp', 'access', 'oneway', 'spd_limt', 'med_type',\n",
       "       'surf_typ', 'cnty_rte', 'rururb', 'rodwycls', 'AccCount',\n",
       "       'Severity_PDO', 'Severity_Inj_TypeA', 'Severity_Inj_TypeB',\n",
       "       'Severity_Inj_TypeC', 'Severity_Fatal', 'Severity_Unknown',\n",
       "       'Weather_Clear', 'Weather_Rain', 'Weather_Snow', 'Weather_Fog',\n",
       "       'Weather_Hail', 'Weather_CrossWind', 'Weather_Other',\n",
       "       'Weather_Unknown'],\n",
       "      dtype='object')"
      ]
     },
     "execution_count": 3,
     "metadata": {},
     "output_type": "execute_result"
    }
   ],
   "source": [
    "Unfiltered_Merged_06.columns"
   ]
  },
  {
   "cell_type": "markdown",
   "metadata": {},
   "source": [
    "MEDIAN WIDTH AND TYPE"
   ]
  },
  {
   "cell_type": "code",
   "execution_count": 4,
   "metadata": {},
   "outputs": [
    {
     "data": {
      "text/plain": [
       "0    115156\n",
       "1     17571\n",
       "2     11348\n",
       "5      8768\n",
       "3      4416\n",
       "7      1724\n",
       "4      1710\n",
       "Name: med_type, dtype: int64"
      ]
     },
     "execution_count": 4,
     "metadata": {},
     "output_type": "execute_result"
    }
   ],
   "source": [
    "Unfiltered_Merged_06.med_type.value_counts()"
   ]
  },
  {
   "cell_type": "code",
   "execution_count": 5,
   "metadata": {},
   "outputs": [
    {
     "data": {
      "text/plain": [
       "4      4842\n",
       "12     4091\n",
       "64     3732\n",
       "40     3205\n",
       "14     2659\n",
       "       ... \n",
       "295       1\n",
       "540       1\n",
       "550       1\n",
       "410       1\n",
       "475       1\n",
       "Name: medwid, Length: 148, dtype: int64"
      ]
     },
     "execution_count": 5,
     "metadata": {},
     "output_type": "execute_result"
    }
   ],
   "source": [
    "Unfiltered_Merged_06[Unfiltered_Merged_06.med_type!=0].medwid.value_counts()"
   ]
  },
  {
   "cell_type": "code",
   "execution_count": 6,
   "metadata": {},
   "outputs": [
    {
     "data": {
      "text/plain": [
       "0"
      ]
     },
     "execution_count": 6,
     "metadata": {},
     "output_type": "execute_result"
    }
   ],
   "source": [
    "Unfiltered_Merged_06[Unfiltered_Merged_06.med_type==0].medwid.sum()"
   ]
  },
  {
   "cell_type": "code",
   "execution_count": 7,
   "metadata": {},
   "outputs": [
    {
     "name": "stdout",
     "output_type": "stream",
     "text": [
      "0\n",
      "0\n",
      "0\n"
     ]
    }
   ],
   "source": [
    "print(sum(Unfiltered_Merged_06.med_type.isna()))\n",
    "print(sum(Unfiltered_Merged_06[Unfiltered_Merged_06.med_type==0].medwid.isna()))\n",
    "print(sum(Unfiltered_Merged_06[Unfiltered_Merged_06.med_type!=0].medwid.isna()))"
   ]
  },
  {
   "cell_type": "markdown",
   "metadata": {},
   "source": [
    "It is seen that if the median exists, median width > 0 and if median doesn't exist, median width == 0. Also, median type has 7 (maybe 8) categories. We could do some feature engineering here?"
   ]
  },
  {
   "cell_type": "markdown",
   "metadata": {},
   "source": [
    "NUMBER OF LANES AND LANE WIDTH"
   ]
  },
  {
   "cell_type": "code",
   "execution_count": 8,
   "metadata": {},
   "outputs": [
    {
     "data": {
      "text/plain": [
       "0"
      ]
     },
     "execution_count": 8,
     "metadata": {},
     "output_type": "execute_result"
    }
   ],
   "source": [
    "Unfiltered_Merged_06.no_lanes.isna().sum()"
   ]
  },
  {
   "cell_type": "code",
   "execution_count": 9,
   "metadata": {},
   "outputs": [
    {
     "data": {
      "text/plain": [
       "2     107948\n",
       "4      44471\n",
       "6       4706\n",
       "3       1752\n",
       "8        904\n",
       "5        476\n",
       "1        175\n",
       "10        88\n",
       "12        84\n",
       "7         61\n",
       "9         27\n",
       "0          1\n",
       "Name: no_lanes, dtype: int64"
      ]
     },
     "execution_count": 9,
     "metadata": {},
     "output_type": "execute_result"
    }
   ],
   "source": [
    "Unfiltered_Merged_06.no_lanes.value_counts()"
   ]
  },
  {
   "cell_type": "code",
   "execution_count": 10,
   "metadata": {},
   "outputs": [
    {
     "data": {
      "text/html": [
       "<div>\n",
       "<style scoped>\n",
       "    .dataframe tbody tr th:only-of-type {\n",
       "        vertical-align: middle;\n",
       "    }\n",
       "\n",
       "    .dataframe tbody tr th {\n",
       "        vertical-align: top;\n",
       "    }\n",
       "\n",
       "    .dataframe thead th {\n",
       "        text-align: right;\n",
       "    }\n",
       "</style>\n",
       "<table border=\"1\" class=\"dataframe\">\n",
       "  <thead>\n",
       "    <tr style=\"text-align: right;\">\n",
       "      <th></th>\n",
       "      <th>medwid</th>\n",
       "      <th>no_lanes</th>\n",
       "      <th>lanewid</th>\n",
       "      <th>aadt</th>\n",
       "      <th>trf_cntl</th>\n",
       "      <th>curv_rad</th>\n",
       "      <th>begmp</th>\n",
       "      <th>seg_lng</th>\n",
       "      <th>endmp</th>\n",
       "      <th>access</th>\n",
       "      <th>...</th>\n",
       "      <th>Severity_Fatal</th>\n",
       "      <th>Severity_Unknown</th>\n",
       "      <th>Weather_Clear</th>\n",
       "      <th>Weather_Rain</th>\n",
       "      <th>Weather_Snow</th>\n",
       "      <th>Weather_Fog</th>\n",
       "      <th>Weather_Hail</th>\n",
       "      <th>Weather_CrossWind</th>\n",
       "      <th>Weather_Other</th>\n",
       "      <th>Weather_Unknown</th>\n",
       "    </tr>\n",
       "  </thead>\n",
       "  <tbody>\n",
       "    <tr>\n",
       "      <th>63009</th>\n",
       "      <td>0</td>\n",
       "      <td>0</td>\n",
       "      <td>0</td>\n",
       "      <td>175</td>\n",
       "      <td>NaN</td>\n",
       "      <td>0</td>\n",
       "      <td>0.12</td>\n",
       "      <td>0.03</td>\n",
       "      <td>0.15</td>\n",
       "      <td>0</td>\n",
       "      <td>...</td>\n",
       "      <td>0</td>\n",
       "      <td>0</td>\n",
       "      <td>0</td>\n",
       "      <td>0</td>\n",
       "      <td>0</td>\n",
       "      <td>0</td>\n",
       "      <td>0</td>\n",
       "      <td>0</td>\n",
       "      <td>0</td>\n",
       "      <td>0</td>\n",
       "    </tr>\n",
       "  </tbody>\n",
       "</table>\n",
       "<p>1 rows × 32 columns</p>\n",
       "</div>"
      ],
      "text/plain": [
       "       medwid  no_lanes  lanewid  aadt trf_cntl  curv_rad  begmp  seg_lng  \\\n",
       "63009       0         0        0   175      NaN         0   0.12     0.03   \n",
       "\n",
       "       endmp  access  ...  Severity_Fatal  Severity_Unknown  Weather_Clear  \\\n",
       "63009   0.15       0  ...               0                 0              0   \n",
       "\n",
       "       Weather_Rain  Weather_Snow  Weather_Fog  Weather_Hail  \\\n",
       "63009             0             0            0             0   \n",
       "\n",
       "       Weather_CrossWind  Weather_Other  Weather_Unknown  \n",
       "63009                  0              0                0  \n",
       "\n",
       "[1 rows x 32 columns]"
      ]
     },
     "execution_count": 10,
     "metadata": {},
     "output_type": "execute_result"
    }
   ],
   "source": [
    "#One case where the number of lanes = 0 to be removed\n",
    "Unfiltered_Merged_06[Unfiltered_Merged_06.no_lanes==0]"
   ]
  },
  {
   "cell_type": "code",
   "execution_count": 11,
   "metadata": {},
   "outputs": [
    {
     "data": {
      "text/plain": [
       "63009    0\n",
       "Name: AccCount, dtype: int64"
      ]
     },
     "execution_count": 11,
     "metadata": {},
     "output_type": "execute_result"
    }
   ],
   "source": [
    "Unfiltered_Merged_06[Unfiltered_Merged_06.no_lanes==0].AccCount"
   ]
  },
  {
   "cell_type": "code",
   "execution_count": 12,
   "metadata": {},
   "outputs": [
    {
     "data": {
      "text/plain": [
       "0      1627\n",
       "4        11\n",
       "5        99\n",
       "6        25\n",
       "7         8\n",
       "8        63\n",
       "9      3710\n",
       "10     6782\n",
       "11    25720\n",
       "12    98800\n",
       "13    14677\n",
       "14     3464\n",
       "15     2165\n",
       "16     1099\n",
       "17      468\n",
       "18      644\n",
       "19      223\n",
       "20      423\n",
       "21      157\n",
       "22      189\n",
       "23       72\n",
       "24      126\n",
       "25       32\n",
       "26       63\n",
       "27       16\n",
       "28        5\n",
       "29        1\n",
       "30       10\n",
       "31        3\n",
       "32        7\n",
       "33        1\n",
       "36        2\n",
       "Name: lanewid, dtype: int64"
      ]
     },
     "execution_count": 12,
     "metadata": {},
     "output_type": "execute_result"
    }
   ],
   "source": [
    "Unfiltered_Merged_06[Unfiltered_Merged_06.no_lanes!=0].lanewid.value_counts().sort_index()"
   ]
  },
  {
   "cell_type": "code",
   "execution_count": 13,
   "metadata": {},
   "outputs": [
    {
     "data": {
      "text/html": [
       "<div>\n",
       "<style scoped>\n",
       "    .dataframe tbody tr th:only-of-type {\n",
       "        vertical-align: middle;\n",
       "    }\n",
       "\n",
       "    .dataframe tbody tr th {\n",
       "        vertical-align: top;\n",
       "    }\n",
       "\n",
       "    .dataframe thead th {\n",
       "        text-align: right;\n",
       "    }\n",
       "</style>\n",
       "<table border=\"1\" class=\"dataframe\">\n",
       "  <thead>\n",
       "    <tr style=\"text-align: right;\">\n",
       "      <th></th>\n",
       "      <th>medwid</th>\n",
       "      <th>no_lanes</th>\n",
       "      <th>lanewid</th>\n",
       "      <th>aadt</th>\n",
       "      <th>trf_cntl</th>\n",
       "      <th>curv_rad</th>\n",
       "      <th>begmp</th>\n",
       "      <th>seg_lng</th>\n",
       "      <th>endmp</th>\n",
       "      <th>access</th>\n",
       "      <th>...</th>\n",
       "      <th>Severity_Fatal</th>\n",
       "      <th>Severity_Unknown</th>\n",
       "      <th>Weather_Clear</th>\n",
       "      <th>Weather_Rain</th>\n",
       "      <th>Weather_Snow</th>\n",
       "      <th>Weather_Fog</th>\n",
       "      <th>Weather_Hail</th>\n",
       "      <th>Weather_CrossWind</th>\n",
       "      <th>Weather_Other</th>\n",
       "      <th>Weather_Unknown</th>\n",
       "    </tr>\n",
       "  </thead>\n",
       "  <tbody>\n",
       "    <tr>\n",
       "      <th>19299</th>\n",
       "      <td>0</td>\n",
       "      <td>1</td>\n",
       "      <td>36</td>\n",
       "      <td>10200</td>\n",
       "      <td>9</td>\n",
       "      <td>0</td>\n",
       "      <td>32.65</td>\n",
       "      <td>0.18</td>\n",
       "      <td>32.83</td>\n",
       "      <td>2</td>\n",
       "      <td>...</td>\n",
       "      <td>0</td>\n",
       "      <td>0</td>\n",
       "      <td>0</td>\n",
       "      <td>0</td>\n",
       "      <td>0</td>\n",
       "      <td>0</td>\n",
       "      <td>0</td>\n",
       "      <td>0</td>\n",
       "      <td>0</td>\n",
       "      <td>0</td>\n",
       "    </tr>\n",
       "    <tr>\n",
       "      <th>19300</th>\n",
       "      <td>0</td>\n",
       "      <td>1</td>\n",
       "      <td>36</td>\n",
       "      <td>10200</td>\n",
       "      <td>NaN</td>\n",
       "      <td>0</td>\n",
       "      <td>32.78</td>\n",
       "      <td>0.18</td>\n",
       "      <td>32.96</td>\n",
       "      <td>2</td>\n",
       "      <td>...</td>\n",
       "      <td>0</td>\n",
       "      <td>0</td>\n",
       "      <td>1</td>\n",
       "      <td>0</td>\n",
       "      <td>0</td>\n",
       "      <td>0</td>\n",
       "      <td>0</td>\n",
       "      <td>0</td>\n",
       "      <td>0</td>\n",
       "      <td>0</td>\n",
       "    </tr>\n",
       "  </tbody>\n",
       "</table>\n",
       "<p>2 rows × 32 columns</p>\n",
       "</div>"
      ],
      "text/plain": [
       "       medwid  no_lanes  lanewid   aadt trf_cntl  curv_rad  begmp  seg_lng  \\\n",
       "19299       0         1       36  10200        9         0  32.65     0.18   \n",
       "19300       0         1       36  10200      NaN         0  32.78     0.18   \n",
       "\n",
       "       endmp  access  ...  Severity_Fatal  Severity_Unknown  Weather_Clear  \\\n",
       "19299  32.83       2  ...               0                 0              0   \n",
       "19300  32.96       2  ...               0                 0              1   \n",
       "\n",
       "       Weather_Rain  Weather_Snow  Weather_Fog  Weather_Hail  \\\n",
       "19299             0             0            0             0   \n",
       "19300             0             0            0             0   \n",
       "\n",
       "       Weather_CrossWind  Weather_Other  Weather_Unknown  \n",
       "19299                  0              0                0  \n",
       "19300                  0              0                0  \n",
       "\n",
       "[2 rows x 32 columns]"
      ]
     },
     "execution_count": 13,
     "metadata": {},
     "output_type": "execute_result"
    }
   ],
   "source": [
    "Unfiltered_Merged_06[Unfiltered_Merged_06.lanewid==36]"
   ]
  },
  {
   "cell_type": "code",
   "execution_count": 14,
   "metadata": {},
   "outputs": [
    {
     "data": {
      "text/plain": [
       "19299    164041\n",
       "19300    164041\n",
       "Name: cnty_rte, dtype: int64"
      ]
     },
     "execution_count": 14,
     "metadata": {},
     "output_type": "execute_result"
    }
   ],
   "source": [
    "Unfiltered_Merged_06[Unfiltered_Merged_06.lanewid==36].cnty_rte"
   ]
  },
  {
   "cell_type": "markdown",
   "metadata": {},
   "source": [
    "The standard lane width is 12 feet \n",
    "https://safety.fhwa.dot.gov/geometric/pubs/mitigationstrategies/chapter3/3_lanewidth.cfm"
   ]
  },
  {
   "cell_type": "code",
   "execution_count": 15,
   "metadata": {},
   "outputs": [
    {
     "data": {
      "text/plain": [
       "(38045, 32)"
      ]
     },
     "execution_count": 15,
     "metadata": {},
     "output_type": "execute_result"
    }
   ],
   "source": [
    "Unfiltered_Merged_06[(Unfiltered_Merged_06.no_lanes!=0)&(Unfiltered_Merged_06.lanewid<12)].shape"
   ]
  },
  {
   "cell_type": "code",
   "execution_count": 16,
   "metadata": {},
   "outputs": [
    {
     "data": {
      "text/html": [
       "<div>\n",
       "<style scoped>\n",
       "    .dataframe tbody tr th:only-of-type {\n",
       "        vertical-align: middle;\n",
       "    }\n",
       "\n",
       "    .dataframe tbody tr th {\n",
       "        vertical-align: top;\n",
       "    }\n",
       "\n",
       "    .dataframe thead th {\n",
       "        text-align: right;\n",
       "    }\n",
       "</style>\n",
       "<table border=\"1\" class=\"dataframe\">\n",
       "  <thead>\n",
       "    <tr style=\"text-align: right;\">\n",
       "      <th></th>\n",
       "      <th>lanewid</th>\n",
       "      <th>AccCount</th>\n",
       "    </tr>\n",
       "  </thead>\n",
       "  <tbody>\n",
       "    <tr>\n",
       "      <th>73</th>\n",
       "      <td>11</td>\n",
       "      <td>0</td>\n",
       "    </tr>\n",
       "    <tr>\n",
       "      <th>74</th>\n",
       "      <td>11</td>\n",
       "      <td>0</td>\n",
       "    </tr>\n",
       "    <tr>\n",
       "      <th>75</th>\n",
       "      <td>11</td>\n",
       "      <td>2</td>\n",
       "    </tr>\n",
       "    <tr>\n",
       "      <th>76</th>\n",
       "      <td>11</td>\n",
       "      <td>0</td>\n",
       "    </tr>\n",
       "    <tr>\n",
       "      <th>77</th>\n",
       "      <td>11</td>\n",
       "      <td>0</td>\n",
       "    </tr>\n",
       "    <tr>\n",
       "      <th>...</th>\n",
       "      <td>...</td>\n",
       "      <td>...</td>\n",
       "    </tr>\n",
       "    <tr>\n",
       "      <th>160610</th>\n",
       "      <td>0</td>\n",
       "      <td>0</td>\n",
       "    </tr>\n",
       "    <tr>\n",
       "      <th>160611</th>\n",
       "      <td>0</td>\n",
       "      <td>0</td>\n",
       "    </tr>\n",
       "    <tr>\n",
       "      <th>160612</th>\n",
       "      <td>0</td>\n",
       "      <td>0</td>\n",
       "    </tr>\n",
       "    <tr>\n",
       "      <th>160613</th>\n",
       "      <td>10</td>\n",
       "      <td>0</td>\n",
       "    </tr>\n",
       "    <tr>\n",
       "      <th>160614</th>\n",
       "      <td>10</td>\n",
       "      <td>0</td>\n",
       "    </tr>\n",
       "  </tbody>\n",
       "</table>\n",
       "<p>38045 rows × 2 columns</p>\n",
       "</div>"
      ],
      "text/plain": [
       "        lanewid  AccCount\n",
       "73           11         0\n",
       "74           11         0\n",
       "75           11         2\n",
       "76           11         0\n",
       "77           11         0\n",
       "...         ...       ...\n",
       "160610        0         0\n",
       "160611        0         0\n",
       "160612        0         0\n",
       "160613       10         0\n",
       "160614       10         0\n",
       "\n",
       "[38045 rows x 2 columns]"
      ]
     },
     "execution_count": 16,
     "metadata": {},
     "output_type": "execute_result"
    }
   ],
   "source": [
    "Unfiltered_Merged_06[(Unfiltered_Merged_06.no_lanes!=0)&(Unfiltered_Merged_06.lanewid<12)][['lanewid','AccCount']]"
   ]
  },
  {
   "cell_type": "code",
   "execution_count": 17,
   "metadata": {},
   "outputs": [
    {
     "data": {
      "text/plain": [
       "73        0\n",
       "74        0\n",
       "75        2\n",
       "76        0\n",
       "77        0\n",
       "         ..\n",
       "160610    0\n",
       "160611    0\n",
       "160612    0\n",
       "160613    0\n",
       "160614    0\n",
       "Name: AccCount, Length: 38045, dtype: int64"
      ]
     },
     "execution_count": 17,
     "metadata": {},
     "output_type": "execute_result"
    }
   ],
   "source": [
    "Unfiltered_Merged_06[(Unfiltered_Merged_06.no_lanes!=0)&(Unfiltered_Merged_06.lanewid<12)].AccCount"
   ]
  },
  {
   "cell_type": "code",
   "execution_count": 18,
   "metadata": {},
   "outputs": [
    {
     "data": {
      "text/plain": [
       "38730"
      ]
     },
     "execution_count": 18,
     "metadata": {},
     "output_type": "execute_result"
    }
   ],
   "source": [
    "Unfiltered_Merged_06[(Unfiltered_Merged_06.no_lanes!=0)&(Unfiltered_Merged_06.lanewid<12)].AccCount.sum()"
   ]
  },
  {
   "cell_type": "code",
   "execution_count": 19,
   "metadata": {},
   "outputs": [
    {
     "data": {
      "text/plain": [
       "91"
      ]
     },
     "execution_count": 19,
     "metadata": {},
     "output_type": "execute_result"
    }
   ],
   "source": [
    "Unfiltered_Merged_06[(Unfiltered_Merged_06.no_lanes!=0)&(Unfiltered_Merged_06.lanewid<12)].AccCount.max()"
   ]
  },
  {
   "cell_type": "code",
   "execution_count": 20,
   "metadata": {},
   "outputs": [
    {
     "data": {
      "text/plain": [
       "0"
      ]
     },
     "execution_count": 20,
     "metadata": {},
     "output_type": "execute_result"
    }
   ],
   "source": [
    "Unfiltered_Merged_06[(Unfiltered_Merged_06.no_lanes!=0)&(Unfiltered_Merged_06.lanewid<12)].AccCount.min()"
   ]
  },
  {
   "cell_type": "code",
   "execution_count": 21,
   "metadata": {},
   "outputs": [
    {
     "data": {
      "text/plain": [
       "197859"
      ]
     },
     "execution_count": 21,
     "metadata": {},
     "output_type": "execute_result"
    }
   ],
   "source": [
    "Unfiltered_Merged_06[(Unfiltered_Merged_06.no_lanes!=0)].AccCount.sum()"
   ]
  },
  {
   "cell_type": "code",
   "execution_count": 22,
   "metadata": {},
   "outputs": [
    {
     "data": {
      "text/plain": [
       "1694"
      ]
     },
     "execution_count": 22,
     "metadata": {},
     "output_type": "execute_result"
    }
   ],
   "source": [
    "Unfiltered_Merged_06[(Unfiltered_Merged_06.no_lanes!=0)&(Unfiltered_Merged_06.lanewid<10)].AccCount.sum()"
   ]
  },
  {
   "cell_type": "code",
   "execution_count": 23,
   "metadata": {},
   "outputs": [
    {
     "data": {
      "text/plain": [
       "(5543, 32)"
      ]
     },
     "execution_count": 23,
     "metadata": {},
     "output_type": "execute_result"
    }
   ],
   "source": [
    "Unfiltered_Merged_06[(Unfiltered_Merged_06.no_lanes!=0)&(Unfiltered_Merged_06.lanewid<10)].shape"
   ]
  },
  {
   "cell_type": "markdown",
   "metadata": {},
   "source": [
    "Possibly remove all road segments where the lane width < 10. Result in removing 1694 accidents. Also remove all cases where no_lanes = 0"
   ]
  },
  {
   "cell_type": "markdown",
   "metadata": {},
   "source": [
    "AADT"
   ]
  },
  {
   "cell_type": "code",
   "execution_count": 24,
   "metadata": {},
   "outputs": [
    {
     "data": {
      "text/html": [
       "<div>\n",
       "<style scoped>\n",
       "    .dataframe tbody tr th:only-of-type {\n",
       "        vertical-align: middle;\n",
       "    }\n",
       "\n",
       "    .dataframe tbody tr th {\n",
       "        vertical-align: top;\n",
       "    }\n",
       "\n",
       "    .dataframe thead th {\n",
       "        text-align: right;\n",
       "    }\n",
       "</style>\n",
       "<table border=\"1\" class=\"dataframe\">\n",
       "  <thead>\n",
       "    <tr style=\"text-align: right;\">\n",
       "      <th></th>\n",
       "      <th>medwid</th>\n",
       "      <th>no_lanes</th>\n",
       "      <th>lanewid</th>\n",
       "      <th>aadt</th>\n",
       "      <th>trf_cntl</th>\n",
       "      <th>curv_rad</th>\n",
       "      <th>begmp</th>\n",
       "      <th>seg_lng</th>\n",
       "      <th>endmp</th>\n",
       "      <th>access</th>\n",
       "      <th>...</th>\n",
       "      <th>Severity_Fatal</th>\n",
       "      <th>Severity_Unknown</th>\n",
       "      <th>Weather_Clear</th>\n",
       "      <th>Weather_Rain</th>\n",
       "      <th>Weather_Snow</th>\n",
       "      <th>Weather_Fog</th>\n",
       "      <th>Weather_Hail</th>\n",
       "      <th>Weather_CrossWind</th>\n",
       "      <th>Weather_Other</th>\n",
       "      <th>Weather_Unknown</th>\n",
       "    </tr>\n",
       "  </thead>\n",
       "  <tbody>\n",
       "    <tr>\n",
       "      <th>1667</th>\n",
       "      <td>0</td>\n",
       "      <td>2</td>\n",
       "      <td>0</td>\n",
       "      <td>0</td>\n",
       "      <td>N</td>\n",
       "      <td>0</td>\n",
       "      <td>0.00</td>\n",
       "      <td>0.01</td>\n",
       "      <td>0.01</td>\n",
       "      <td>0</td>\n",
       "      <td>...</td>\n",
       "      <td>0</td>\n",
       "      <td>0</td>\n",
       "      <td>0</td>\n",
       "      <td>0</td>\n",
       "      <td>0</td>\n",
       "      <td>0</td>\n",
       "      <td>0</td>\n",
       "      <td>0</td>\n",
       "      <td>0</td>\n",
       "      <td>0</td>\n",
       "    </tr>\n",
       "    <tr>\n",
       "      <th>1668</th>\n",
       "      <td>0</td>\n",
       "      <td>2</td>\n",
       "      <td>0</td>\n",
       "      <td>0</td>\n",
       "      <td>N</td>\n",
       "      <td>0</td>\n",
       "      <td>0.01</td>\n",
       "      <td>0.23</td>\n",
       "      <td>0.24</td>\n",
       "      <td>0</td>\n",
       "      <td>...</td>\n",
       "      <td>0</td>\n",
       "      <td>0</td>\n",
       "      <td>0</td>\n",
       "      <td>0</td>\n",
       "      <td>0</td>\n",
       "      <td>0</td>\n",
       "      <td>0</td>\n",
       "      <td>0</td>\n",
       "      <td>0</td>\n",
       "      <td>0</td>\n",
       "    </tr>\n",
       "    <tr>\n",
       "      <th>1669</th>\n",
       "      <td>0</td>\n",
       "      <td>2</td>\n",
       "      <td>0</td>\n",
       "      <td>0</td>\n",
       "      <td>NaN</td>\n",
       "      <td>0</td>\n",
       "      <td>0.24</td>\n",
       "      <td>0.01</td>\n",
       "      <td>0.25</td>\n",
       "      <td>0</td>\n",
       "      <td>...</td>\n",
       "      <td>0</td>\n",
       "      <td>0</td>\n",
       "      <td>0</td>\n",
       "      <td>0</td>\n",
       "      <td>0</td>\n",
       "      <td>0</td>\n",
       "      <td>0</td>\n",
       "      <td>0</td>\n",
       "      <td>0</td>\n",
       "      <td>0</td>\n",
       "    </tr>\n",
       "    <tr>\n",
       "      <th>1681</th>\n",
       "      <td>0</td>\n",
       "      <td>2</td>\n",
       "      <td>0</td>\n",
       "      <td>0</td>\n",
       "      <td>N</td>\n",
       "      <td>0</td>\n",
       "      <td>0.00</td>\n",
       "      <td>0.03</td>\n",
       "      <td>0.03</td>\n",
       "      <td>0</td>\n",
       "      <td>...</td>\n",
       "      <td>0</td>\n",
       "      <td>0</td>\n",
       "      <td>0</td>\n",
       "      <td>0</td>\n",
       "      <td>0</td>\n",
       "      <td>0</td>\n",
       "      <td>0</td>\n",
       "      <td>0</td>\n",
       "      <td>0</td>\n",
       "      <td>0</td>\n",
       "    </tr>\n",
       "    <tr>\n",
       "      <th>1682</th>\n",
       "      <td>0</td>\n",
       "      <td>2</td>\n",
       "      <td>0</td>\n",
       "      <td>0</td>\n",
       "      <td>NaN</td>\n",
       "      <td>0</td>\n",
       "      <td>0.03</td>\n",
       "      <td>0.05</td>\n",
       "      <td>0.08</td>\n",
       "      <td>0</td>\n",
       "      <td>...</td>\n",
       "      <td>0</td>\n",
       "      <td>0</td>\n",
       "      <td>0</td>\n",
       "      <td>0</td>\n",
       "      <td>0</td>\n",
       "      <td>0</td>\n",
       "      <td>0</td>\n",
       "      <td>0</td>\n",
       "      <td>0</td>\n",
       "      <td>0</td>\n",
       "    </tr>\n",
       "    <tr>\n",
       "      <th>...</th>\n",
       "      <td>...</td>\n",
       "      <td>...</td>\n",
       "      <td>...</td>\n",
       "      <td>...</td>\n",
       "      <td>...</td>\n",
       "      <td>...</td>\n",
       "      <td>...</td>\n",
       "      <td>...</td>\n",
       "      <td>...</td>\n",
       "      <td>...</td>\n",
       "      <td>...</td>\n",
       "      <td>...</td>\n",
       "      <td>...</td>\n",
       "      <td>...</td>\n",
       "      <td>...</td>\n",
       "      <td>...</td>\n",
       "      <td>...</td>\n",
       "      <td>...</td>\n",
       "      <td>...</td>\n",
       "      <td>...</td>\n",
       "      <td>...</td>\n",
       "    </tr>\n",
       "    <tr>\n",
       "      <th>160607</th>\n",
       "      <td>0</td>\n",
       "      <td>2</td>\n",
       "      <td>0</td>\n",
       "      <td>0</td>\n",
       "      <td>9</td>\n",
       "      <td>0</td>\n",
       "      <td>0.25</td>\n",
       "      <td>0.07</td>\n",
       "      <td>0.32</td>\n",
       "      <td>1</td>\n",
       "      <td>...</td>\n",
       "      <td>0</td>\n",
       "      <td>0</td>\n",
       "      <td>1</td>\n",
       "      <td>0</td>\n",
       "      <td>0</td>\n",
       "      <td>0</td>\n",
       "      <td>0</td>\n",
       "      <td>0</td>\n",
       "      <td>0</td>\n",
       "      <td>0</td>\n",
       "    </tr>\n",
       "    <tr>\n",
       "      <th>160608</th>\n",
       "      <td>0</td>\n",
       "      <td>2</td>\n",
       "      <td>0</td>\n",
       "      <td>0</td>\n",
       "      <td>9</td>\n",
       "      <td>0</td>\n",
       "      <td>0.32</td>\n",
       "      <td>0.12</td>\n",
       "      <td>0.44</td>\n",
       "      <td>1</td>\n",
       "      <td>...</td>\n",
       "      <td>0</td>\n",
       "      <td>0</td>\n",
       "      <td>0</td>\n",
       "      <td>0</td>\n",
       "      <td>0</td>\n",
       "      <td>0</td>\n",
       "      <td>0</td>\n",
       "      <td>0</td>\n",
       "      <td>0</td>\n",
       "      <td>0</td>\n",
       "    </tr>\n",
       "    <tr>\n",
       "      <th>160609</th>\n",
       "      <td>0</td>\n",
       "      <td>2</td>\n",
       "      <td>0</td>\n",
       "      <td>0</td>\n",
       "      <td>9</td>\n",
       "      <td>0</td>\n",
       "      <td>0.44</td>\n",
       "      <td>0.06</td>\n",
       "      <td>0.50</td>\n",
       "      <td>1</td>\n",
       "      <td>...</td>\n",
       "      <td>0</td>\n",
       "      <td>0</td>\n",
       "      <td>0</td>\n",
       "      <td>0</td>\n",
       "      <td>0</td>\n",
       "      <td>0</td>\n",
       "      <td>0</td>\n",
       "      <td>0</td>\n",
       "      <td>0</td>\n",
       "      <td>0</td>\n",
       "    </tr>\n",
       "    <tr>\n",
       "      <th>160613</th>\n",
       "      <td>0</td>\n",
       "      <td>2</td>\n",
       "      <td>10</td>\n",
       "      <td>0</td>\n",
       "      <td>N</td>\n",
       "      <td>0</td>\n",
       "      <td>0.00</td>\n",
       "      <td>0.01</td>\n",
       "      <td>0.01</td>\n",
       "      <td>1</td>\n",
       "      <td>...</td>\n",
       "      <td>0</td>\n",
       "      <td>0</td>\n",
       "      <td>0</td>\n",
       "      <td>0</td>\n",
       "      <td>0</td>\n",
       "      <td>0</td>\n",
       "      <td>0</td>\n",
       "      <td>0</td>\n",
       "      <td>0</td>\n",
       "      <td>0</td>\n",
       "    </tr>\n",
       "    <tr>\n",
       "      <th>160614</th>\n",
       "      <td>0</td>\n",
       "      <td>2</td>\n",
       "      <td>10</td>\n",
       "      <td>0</td>\n",
       "      <td>9</td>\n",
       "      <td>0</td>\n",
       "      <td>0.01</td>\n",
       "      <td>0.04</td>\n",
       "      <td>0.05</td>\n",
       "      <td>1</td>\n",
       "      <td>...</td>\n",
       "      <td>0</td>\n",
       "      <td>0</td>\n",
       "      <td>0</td>\n",
       "      <td>0</td>\n",
       "      <td>0</td>\n",
       "      <td>0</td>\n",
       "      <td>0</td>\n",
       "      <td>0</td>\n",
       "      <td>0</td>\n",
       "      <td>0</td>\n",
       "    </tr>\n",
       "  </tbody>\n",
       "</table>\n",
       "<p>1576 rows × 32 columns</p>\n",
       "</div>"
      ],
      "text/plain": [
       "        medwid  no_lanes  lanewid  aadt trf_cntl  curv_rad  begmp  seg_lng  \\\n",
       "1667         0         2        0     0        N         0   0.00     0.01   \n",
       "1668         0         2        0     0        N         0   0.01     0.23   \n",
       "1669         0         2        0     0      NaN         0   0.24     0.01   \n",
       "1681         0         2        0     0        N         0   0.00     0.03   \n",
       "1682         0         2        0     0      NaN         0   0.03     0.05   \n",
       "...        ...       ...      ...   ...      ...       ...    ...      ...   \n",
       "160607       0         2        0     0        9         0   0.25     0.07   \n",
       "160608       0         2        0     0        9         0   0.32     0.12   \n",
       "160609       0         2        0     0        9         0   0.44     0.06   \n",
       "160613       0         2       10     0        N         0   0.00     0.01   \n",
       "160614       0         2       10     0        9         0   0.01     0.04   \n",
       "\n",
       "        endmp  access  ...  Severity_Fatal  Severity_Unknown  Weather_Clear  \\\n",
       "1667     0.01       0  ...               0                 0              0   \n",
       "1668     0.24       0  ...               0                 0              0   \n",
       "1669     0.25       0  ...               0                 0              0   \n",
       "1681     0.03       0  ...               0                 0              0   \n",
       "1682     0.08       0  ...               0                 0              0   \n",
       "...       ...     ...  ...             ...               ...            ...   \n",
       "160607   0.32       1  ...               0                 0              1   \n",
       "160608   0.44       1  ...               0                 0              0   \n",
       "160609   0.50       1  ...               0                 0              0   \n",
       "160613   0.01       1  ...               0                 0              0   \n",
       "160614   0.05       1  ...               0                 0              0   \n",
       "\n",
       "        Weather_Rain  Weather_Snow  Weather_Fog  Weather_Hail  \\\n",
       "1667               0             0            0             0   \n",
       "1668               0             0            0             0   \n",
       "1669               0             0            0             0   \n",
       "1681               0             0            0             0   \n",
       "1682               0             0            0             0   \n",
       "...              ...           ...          ...           ...   \n",
       "160607             0             0            0             0   \n",
       "160608             0             0            0             0   \n",
       "160609             0             0            0             0   \n",
       "160613             0             0            0             0   \n",
       "160614             0             0            0             0   \n",
       "\n",
       "        Weather_CrossWind  Weather_Other  Weather_Unknown  \n",
       "1667                    0              0                0  \n",
       "1668                    0              0                0  \n",
       "1669                    0              0                0  \n",
       "1681                    0              0                0  \n",
       "1682                    0              0                0  \n",
       "...                   ...            ...              ...  \n",
       "160607                  0              0                0  \n",
       "160608                  0              0                0  \n",
       "160609                  0              0                0  \n",
       "160613                  0              0                0  \n",
       "160614                  0              0                0  \n",
       "\n",
       "[1576 rows x 32 columns]"
      ]
     },
     "execution_count": 24,
     "metadata": {},
     "output_type": "execute_result"
    }
   ],
   "source": [
    "Unfiltered_Merged_06[Unfiltered_Merged_06.aadt==0]"
   ]
  },
  {
   "cell_type": "code",
   "execution_count": 25,
   "metadata": {},
   "outputs": [
    {
     "data": {
      "text/plain": [
       "0      1576\n",
       "9       119\n",
       "10       12\n",
       "25      136\n",
       "29      170\n",
       "50      152\n",
       "59      176\n",
       "75      106\n",
       "79       43\n",
       "100      98\n",
       "Name: aadt, dtype: int64"
      ]
     },
     "execution_count": 25,
     "metadata": {},
     "output_type": "execute_result"
    }
   ],
   "source": [
    "Unfiltered_Merged_06.aadt.value_counts().sort_index().head(10)"
   ]
  },
  {
   "cell_type": "code",
   "execution_count": 26,
   "metadata": {},
   "outputs": [
    {
     "data": {
      "text/plain": [
       "0"
      ]
     },
     "execution_count": 26,
     "metadata": {},
     "output_type": "execute_result"
    }
   ],
   "source": [
    "Unfiltered_Merged_06.aadt.isna().sum()"
   ]
  },
  {
   "cell_type": "code",
   "execution_count": 27,
   "metadata": {},
   "outputs": [
    {
     "data": {
      "text/plain": [
       "647"
      ]
     },
     "execution_count": 27,
     "metadata": {},
     "output_type": "execute_result"
    }
   ],
   "source": [
    "Unfiltered_Merged_06[Unfiltered_Merged_06.aadt==0].AccCount.sum()"
   ]
  },
  {
   "cell_type": "code",
   "execution_count": 28,
   "metadata": {},
   "outputs": [
    {
     "data": {
      "text/plain": [
       "332400"
      ]
     },
     "execution_count": 28,
     "metadata": {},
     "output_type": "execute_result"
    }
   ],
   "source": [
    "Unfiltered_Merged_06.aadt.max()"
   ]
  },
  {
   "cell_type": "code",
   "execution_count": 29,
   "metadata": {},
   "outputs": [
    {
     "data": {
      "text/plain": [
       "332400    1\n",
       "322500    1\n",
       "322400    3\n",
       "318800    3\n",
       "315700    3\n",
       "314900    2\n",
       "313300    6\n",
       "312800    5\n",
       "311300    1\n",
       "310700    1\n",
       "309300    1\n",
       "308800    1\n",
       "308500    1\n",
       "307800    1\n",
       "307100    1\n",
       "307000    1\n",
       "306000    1\n",
       "305900    1\n",
       "305500    2\n",
       "304900    1\n",
       "Name: aadt, dtype: int64"
      ]
     },
     "execution_count": 29,
     "metadata": {},
     "output_type": "execute_result"
    }
   ],
   "source": [
    "Unfiltered_Merged_06.aadt.value_counts().sort_index(ascending=False).head(20)"
   ]
  },
  {
   "cell_type": "code",
   "execution_count": 30,
   "metadata": {},
   "outputs": [
    {
     "data": {
      "text/plain": [
       "(57, 32)"
      ]
     },
     "execution_count": 30,
     "metadata": {},
     "output_type": "execute_result"
    }
   ],
   "source": [
    "Unfiltered_Merged_06[Unfiltered_Merged_06.aadt>300000].shape"
   ]
  },
  {
   "cell_type": "code",
   "execution_count": 31,
   "metadata": {},
   "outputs": [
    {
     "data": {
      "text/plain": [
       "4"
      ]
     },
     "execution_count": 31,
     "metadata": {},
     "output_type": "execute_result"
    }
   ],
   "source": [
    "Unfiltered_Merged_06[Unfiltered_Merged_06.aadt>300000].AccCount.sum()"
   ]
  },
  {
   "cell_type": "markdown",
   "metadata": {},
   "source": [
    "There are 1576 locations where AADT = 0. 647 accidents are recorded. These should be removed. "
   ]
  },
  {
   "cell_type": "markdown",
   "metadata": {},
   "source": [
    "TRAFFIC CONTROL DEVICE"
   ]
  },
  {
   "cell_type": "code",
   "execution_count": 32,
   "metadata": {},
   "outputs": [
    {
     "data": {
      "text/plain": [
       "95373"
      ]
     },
     "execution_count": 32,
     "metadata": {},
     "output_type": "execute_result"
    }
   ],
   "source": [
    "Unfiltered_Merged_06.trf_cntl.isna().sum()"
   ]
  },
  {
   "cell_type": "code",
   "execution_count": 33,
   "metadata": {},
   "outputs": [
    {
     "data": {
      "text/plain": [
       "160693"
      ]
     },
     "execution_count": 33,
     "metadata": {},
     "output_type": "execute_result"
    }
   ],
   "source": [
    "Unfiltered_Merged_06.shape[0]"
   ]
  },
  {
   "cell_type": "markdown",
   "metadata": {},
   "source": [
    "Nearly 60% of the records have NA for type of traffic control. Should be eliminated"
   ]
  },
  {
   "cell_type": "markdown",
   "metadata": {},
   "source": [
    "CURVE RADIUS"
   ]
  },
  {
   "cell_type": "code",
   "execution_count": 35,
   "metadata": {},
   "outputs": [
    {
     "data": {
      "text/plain": [
       "0"
      ]
     },
     "execution_count": 35,
     "metadata": {},
     "output_type": "execute_result"
    }
   ],
   "source": [
    "Unfiltered_Merged_06.curv_rad.isna().sum()"
   ]
  },
  {
   "cell_type": "code",
   "execution_count": 36,
   "metadata": {},
   "outputs": [
    {
     "data": {
      "text/plain": [
       "0     157127\n",
       "15         1\n",
       "25         2\n",
       "30         2\n",
       "35         1\n",
       "40         1\n",
       "45         2\n",
       "48         1\n",
       "50        89\n",
       "54         1\n",
       "Name: curv_rad, dtype: int64"
      ]
     },
     "execution_count": 36,
     "metadata": {},
     "output_type": "execute_result"
    }
   ],
   "source": [
    "Unfiltered_Merged_06.curv_rad.value_counts().sort_index().head(10)"
   ]
  },
  {
   "cell_type": "code",
   "execution_count": 37,
   "metadata": {},
   "outputs": [
    {
     "data": {
      "text/plain": [
       "(3566, 32)"
      ]
     },
     "execution_count": 37,
     "metadata": {},
     "output_type": "execute_result"
    }
   ],
   "source": [
    "Unfiltered_Merged_06[Unfiltered_Merged_06.curv_rad!=0].shape"
   ]
  },
  {
   "cell_type": "markdown",
   "metadata": {},
   "source": [
    "Curve Radius = 0 means straight segment. Most cases are straight. It should be kept "
   ]
  },
  {
   "cell_type": "markdown",
   "metadata": {},
   "source": [
    "SEGMENT LENGTH"
   ]
  },
  {
   "cell_type": "code",
   "execution_count": 39,
   "metadata": {},
   "outputs": [
    {
     "data": {
      "text/plain": [
       "0"
      ]
     },
     "execution_count": 39,
     "metadata": {},
     "output_type": "execute_result"
    }
   ],
   "source": [
    "Unfiltered_Merged_06.seg_lng.isna().sum()"
   ]
  },
  {
   "cell_type": "code",
   "execution_count": 40,
   "metadata": {},
   "outputs": [
    {
     "data": {
      "text/plain": [
       "0.01    22682\n",
       "0.02    16492\n",
       "0.03    13841\n",
       "0.04    14181\n",
       "0.05    10574\n",
       "0.06    12912\n",
       "0.07     8682\n",
       "0.08     8880\n",
       "0.09     4982\n",
       "0.10     4738\n",
       "Name: seg_lng, dtype: int64"
      ]
     },
     "execution_count": 40,
     "metadata": {},
     "output_type": "execute_result"
    }
   ],
   "source": [
    "Unfiltered_Merged_06.seg_lng.value_counts().sort_index().head(10)"
   ]
  },
  {
   "cell_type": "code",
   "execution_count": 41,
   "metadata": {},
   "outputs": [
    {
     "data": {
      "text/plain": [
       "3.19"
      ]
     },
     "execution_count": 41,
     "metadata": {},
     "output_type": "execute_result"
    }
   ],
   "source": [
    "Unfiltered_Merged_06.seg_lng.max()"
   ]
  },
  {
   "cell_type": "code",
   "execution_count": 42,
   "metadata": {},
   "outputs": [
    {
     "data": {
      "text/plain": [
       "0.01"
      ]
     },
     "execution_count": 42,
     "metadata": {},
     "output_type": "execute_result"
    }
   ],
   "source": [
    "Unfiltered_Merged_06.seg_lng.min()"
   ]
  },
  {
   "cell_type": "markdown",
   "metadata": {},
   "source": [
    "Segment Length seems ok. It should be kept. "
   ]
  },
  {
   "cell_type": "markdown",
   "metadata": {},
   "source": [
    "ROADWAY ACCESS TYPE"
   ]
  },
  {
   "cell_type": "code",
   "execution_count": 43,
   "metadata": {},
   "outputs": [
    {
     "data": {
      "text/plain": [
       "0"
      ]
     },
     "execution_count": 43,
     "metadata": {},
     "output_type": "execute_result"
    }
   ],
   "source": [
    "Unfiltered_Merged_06.access.isna().sum()"
   ]
  },
  {
   "cell_type": "code",
   "execution_count": 44,
   "metadata": {},
   "outputs": [
    {
     "data": {
      "text/plain": [
       "0    129347\n",
       "2     16842\n",
       "1     14504\n",
       "Name: access, dtype: int64"
      ]
     },
     "execution_count": 44,
     "metadata": {},
     "output_type": "execute_result"
    }
   ],
   "source": [
    "Unfiltered_Merged_06.access.value_counts().head(10)"
   ]
  },
  {
   "cell_type": "markdown",
   "metadata": {},
   "source": [
    "Just three categories. Should be kept. "
   ]
  },
  {
   "cell_type": "markdown",
   "metadata": {},
   "source": [
    "ONEWAY"
   ]
  },
  {
   "cell_type": "code",
   "execution_count": 45,
   "metadata": {},
   "outputs": [
    {
     "data": {
      "text/plain": [
       "0"
      ]
     },
     "execution_count": 45,
     "metadata": {},
     "output_type": "execute_result"
    }
   ],
   "source": [
    "Unfiltered_Merged_06.oneway.isna().sum()"
   ]
  },
  {
   "cell_type": "code",
   "execution_count": 46,
   "metadata": {},
   "outputs": [
    {
     "data": {
      "text/plain": [
       "2    157740\n",
       "1      2953\n",
       "Name: oneway, dtype: int64"
      ]
     },
     "execution_count": 46,
     "metadata": {},
     "output_type": "execute_result"
    }
   ],
   "source": [
    "Unfiltered_Merged_06.oneway.value_counts().head(10)"
   ]
  },
  {
   "cell_type": "markdown",
   "metadata": {},
   "source": [
    "Just two categories. Should be kept. "
   ]
  },
  {
   "cell_type": "markdown",
   "metadata": {},
   "source": [
    "SPEED LIMIT"
   ]
  },
  {
   "cell_type": "code",
   "execution_count": 47,
   "metadata": {},
   "outputs": [
    {
     "data": {
      "text/plain": [
       "0"
      ]
     },
     "execution_count": 47,
     "metadata": {},
     "output_type": "execute_result"
    }
   ],
   "source": [
    "Unfiltered_Merged_06.spd_limt.isna().sum()"
   ]
  },
  {
   "cell_type": "code",
   "execution_count": 48,
   "metadata": {},
   "outputs": [
    {
     "data": {
      "text/plain": [
       "55    59543\n",
       "0     25987\n",
       "30    16295\n",
       "35    15066\n",
       "45    13744\n",
       "65    11329\n",
       "40    10962\n",
       "50     5632\n",
       "25     1850\n",
       "20      260\n",
       "10       20\n",
       "15        5\n",
       "Name: spd_limt, dtype: int64"
      ]
     },
     "execution_count": 48,
     "metadata": {},
     "output_type": "execute_result"
    }
   ],
   "source": [
    "Unfiltered_Merged_06.spd_limt.value_counts()"
   ]
  },
  {
   "cell_type": "code",
   "execution_count": 49,
   "metadata": {},
   "outputs": [
    {
     "data": {
      "text/plain": [
       "11186"
      ]
     },
     "execution_count": 49,
     "metadata": {},
     "output_type": "execute_result"
    }
   ],
   "source": [
    "Unfiltered_Merged_06[Unfiltered_Merged_06.spd_limt==0].AccCount.sum()"
   ]
  },
  {
   "cell_type": "code",
   "execution_count": 50,
   "metadata": {},
   "outputs": [
    {
     "data": {
      "text/plain": [
       "85"
      ]
     },
     "execution_count": 50,
     "metadata": {},
     "output_type": "execute_result"
    }
   ],
   "source": [
    "Unfiltered_Merged_06[Unfiltered_Merged_06.spd_limt==0].AccCount.max()"
   ]
  },
  {
   "cell_type": "code",
   "execution_count": 51,
   "metadata": {},
   "outputs": [
    {
     "data": {
      "text/plain": [
       "0"
      ]
     },
     "execution_count": 51,
     "metadata": {},
     "output_type": "execute_result"
    }
   ],
   "source": [
    "Unfiltered_Merged_06[Unfiltered_Merged_06.spd_limt==0].AccCount.min()"
   ]
  },
  {
   "cell_type": "markdown",
   "metadata": {},
   "source": [
    "25987 cases where the speed limit is unknown. There are 11186 accidents. \n",
    "1. Should filter out OR\n",
    "2. Make a guess of the speed limit based on other conditions from data. "
   ]
  },
  {
   "cell_type": "markdown",
   "metadata": {},
   "source": [
    "SURFACE TYPE"
   ]
  },
  {
   "cell_type": "code",
   "execution_count": 52,
   "metadata": {},
   "outputs": [
    {
     "data": {
      "text/plain": [
       "0"
      ]
     },
     "execution_count": 52,
     "metadata": {},
     "output_type": "execute_result"
    }
   ],
   "source": [
    "Unfiltered_Merged_06.surf_typ.isna().sum()"
   ]
  },
  {
   "cell_type": "code",
   "execution_count": 53,
   "metadata": {},
   "outputs": [
    {
     "data": {
      "text/plain": [
       "600    53155\n",
       "610    37760\n",
       "620    17135\n",
       "630    14742\n",
       "640     6373\n",
       "550     5611\n",
       "560     4649\n",
       "730     3803\n",
       "740     3560\n",
       "720     3024\n",
       "700     2233\n",
       "710     1834\n",
       "500     1475\n",
       "650     1251\n",
       "725     1242\n",
       "300      629\n",
       "976      492\n",
       "965      469\n",
       "967      311\n",
       "200      235\n",
       "400      111\n",
       "410      106\n",
       "975       91\n",
       "800       67\n",
       "625       50\n",
       "10        45\n",
       "963       40\n",
       "530       27\n",
       "790       22\n",
       "973       21\n",
       "775       21\n",
       "20        18\n",
       "987       15\n",
       "520       12\n",
       "954       12\n",
       "210       10\n",
       "972       10\n",
       "792        9\n",
       "956        7\n",
       "0          4\n",
       "957        4\n",
       "964        3\n",
       "110        2\n",
       "971        2\n",
       "974        1\n",
       "Name: surf_typ, dtype: int64"
      ]
     },
     "execution_count": 53,
     "metadata": {},
     "output_type": "execute_result"
    }
   ],
   "source": [
    "Unfiltered_Merged_06.surf_typ.value_counts()"
   ]
  },
  {
   "cell_type": "markdown",
   "metadata": {},
   "source": [
    "Large number of categories. We should concolidate categories based on commonalities. "
   ]
  },
  {
   "cell_type": "markdown",
   "metadata": {},
   "source": [
    "RURAL OR URBAN"
   ]
  },
  {
   "cell_type": "code",
   "execution_count": 54,
   "metadata": {},
   "outputs": [
    {
     "data": {
      "text/plain": [
       "0"
      ]
     },
     "execution_count": 54,
     "metadata": {},
     "output_type": "execute_result"
    }
   ],
   "source": [
    "Unfiltered_Merged_06.rururb.isna().sum()"
   ]
  },
  {
   "cell_type": "code",
   "execution_count": 55,
   "metadata": {},
   "outputs": [
    {
     "data": {
      "text/plain": [
       "1    89619\n",
       "2    71074\n",
       "Name: rururb, dtype: int64"
      ]
     },
     "execution_count": 55,
     "metadata": {},
     "output_type": "execute_result"
    }
   ],
   "source": [
    "Unfiltered_Merged_06.rururb.value_counts()"
   ]
  },
  {
   "cell_type": "markdown",
   "metadata": {},
   "source": [
    "Should be kept"
   ]
  },
  {
   "cell_type": "markdown",
   "metadata": {},
   "source": [
    "ROADWAY CLASS"
   ]
  },
  {
   "cell_type": "code",
   "execution_count": 56,
   "metadata": {},
   "outputs": [
    {
     "data": {
      "text/plain": [
       "0"
      ]
     },
     "execution_count": 56,
     "metadata": {},
     "output_type": "execute_result"
    }
   ],
   "source": [
    "Unfiltered_Merged_06.rodwycls.isna().sum()"
   ]
  },
  {
   "cell_type": "code",
   "execution_count": 57,
   "metadata": {},
   "outputs": [
    {
     "data": {
      "text/plain": [
       "8     77685\n",
       "3     27641\n",
       "4     18969\n",
       "5     12698\n",
       "1      8558\n",
       "6      7440\n",
       "99     3282\n",
       "9      3169\n",
       "10      519\n",
       "7       467\n",
       "2       265\n",
       "Name: rodwycls, dtype: int64"
      ]
     },
     "execution_count": 57,
     "metadata": {},
     "output_type": "execute_result"
    }
   ],
   "source": [
    "Unfiltered_Merged_06.rodwycls.value_counts()"
   ]
  },
  {
   "cell_type": "markdown",
   "metadata": {},
   "source": [
    "11 categories. May consider consolidating categories. Should be kept. "
   ]
  },
  {
   "cell_type": "code",
   "execution_count": 61,
   "metadata": {},
   "outputs": [],
   "source": [
    "Filtered_Merged_06 = Unfiltered_Merged_06[(Unfiltered_Merged_06.no_lanes!=0)&(Unfiltered_Merged_06.lanewid>=10)&(Unfiltered_Merged_06.aadt>0)]"
   ]
  },
  {
   "cell_type": "code",
   "execution_count": 63,
   "metadata": {},
   "outputs": [
    {
     "name": "stderr",
     "output_type": "stream",
     "text": [
      "/Users/jacob/anaconda/envs/py3/lib/python3.7/site-packages/ipykernel_launcher.py:1: SettingWithCopyWarning: \n",
      "A value is trying to be set on a copy of a slice from a DataFrame.\n",
      "Try using .loc[row_indexer,col_indexer] = value instead\n",
      "\n",
      "See the caveats in the documentation: https://pandas.pydata.org/pandas-docs/stable/user_guide/indexing.html#returning-a-view-versus-a-copy\n",
      "  \"\"\"Entry point for launching an IPython kernel.\n"
     ]
    }
   ],
   "source": [
    "Filtered_Merged_06['Year'] = '06'"
   ]
  },
  {
   "cell_type": "code",
   "execution_count": 64,
   "metadata": {},
   "outputs": [
    {
     "data": {
      "text/html": [
       "<div>\n",
       "<style scoped>\n",
       "    .dataframe tbody tr th:only-of-type {\n",
       "        vertical-align: middle;\n",
       "    }\n",
       "\n",
       "    .dataframe tbody tr th {\n",
       "        vertical-align: top;\n",
       "    }\n",
       "\n",
       "    .dataframe thead th {\n",
       "        text-align: right;\n",
       "    }\n",
       "</style>\n",
       "<table border=\"1\" class=\"dataframe\">\n",
       "  <thead>\n",
       "    <tr style=\"text-align: right;\">\n",
       "      <th></th>\n",
       "      <th>medwid</th>\n",
       "      <th>no_lanes</th>\n",
       "      <th>lanewid</th>\n",
       "      <th>aadt</th>\n",
       "      <th>trf_cntl</th>\n",
       "      <th>curv_rad</th>\n",
       "      <th>begmp</th>\n",
       "      <th>seg_lng</th>\n",
       "      <th>endmp</th>\n",
       "      <th>access</th>\n",
       "      <th>...</th>\n",
       "      <th>Severity_Unknown</th>\n",
       "      <th>Weather_Clear</th>\n",
       "      <th>Weather_Rain</th>\n",
       "      <th>Weather_Snow</th>\n",
       "      <th>Weather_Fog</th>\n",
       "      <th>Weather_Hail</th>\n",
       "      <th>Weather_CrossWind</th>\n",
       "      <th>Weather_Other</th>\n",
       "      <th>Weather_Unknown</th>\n",
       "      <th>Year</th>\n",
       "    </tr>\n",
       "  </thead>\n",
       "  <tbody>\n",
       "    <tr>\n",
       "      <th>0</th>\n",
       "      <td>0</td>\n",
       "      <td>2</td>\n",
       "      <td>12</td>\n",
       "      <td>8600</td>\n",
       "      <td>N</td>\n",
       "      <td>0</td>\n",
       "      <td>0.00</td>\n",
       "      <td>0.01</td>\n",
       "      <td>0.01</td>\n",
       "      <td>0</td>\n",
       "      <td>...</td>\n",
       "      <td>0</td>\n",
       "      <td>0</td>\n",
       "      <td>0</td>\n",
       "      <td>0</td>\n",
       "      <td>0</td>\n",
       "      <td>0</td>\n",
       "      <td>0</td>\n",
       "      <td>0</td>\n",
       "      <td>0</td>\n",
       "      <td>06</td>\n",
       "    </tr>\n",
       "    <tr>\n",
       "      <th>1</th>\n",
       "      <td>0</td>\n",
       "      <td>2</td>\n",
       "      <td>12</td>\n",
       "      <td>8600</td>\n",
       "      <td>NaN</td>\n",
       "      <td>0</td>\n",
       "      <td>0.01</td>\n",
       "      <td>0.12</td>\n",
       "      <td>0.13</td>\n",
       "      <td>0</td>\n",
       "      <td>...</td>\n",
       "      <td>0</td>\n",
       "      <td>0</td>\n",
       "      <td>0</td>\n",
       "      <td>0</td>\n",
       "      <td>0</td>\n",
       "      <td>0</td>\n",
       "      <td>0</td>\n",
       "      <td>0</td>\n",
       "      <td>0</td>\n",
       "      <td>06</td>\n",
       "    </tr>\n",
       "    <tr>\n",
       "      <th>2</th>\n",
       "      <td>0</td>\n",
       "      <td>2</td>\n",
       "      <td>12</td>\n",
       "      <td>8600</td>\n",
       "      <td>N</td>\n",
       "      <td>0</td>\n",
       "      <td>0.13</td>\n",
       "      <td>0.03</td>\n",
       "      <td>0.16</td>\n",
       "      <td>0</td>\n",
       "      <td>...</td>\n",
       "      <td>0</td>\n",
       "      <td>0</td>\n",
       "      <td>0</td>\n",
       "      <td>0</td>\n",
       "      <td>0</td>\n",
       "      <td>0</td>\n",
       "      <td>0</td>\n",
       "      <td>0</td>\n",
       "      <td>0</td>\n",
       "      <td>06</td>\n",
       "    </tr>\n",
       "    <tr>\n",
       "      <th>3</th>\n",
       "      <td>0</td>\n",
       "      <td>2</td>\n",
       "      <td>12</td>\n",
       "      <td>8600</td>\n",
       "      <td>NaN</td>\n",
       "      <td>0</td>\n",
       "      <td>0.16</td>\n",
       "      <td>0.02</td>\n",
       "      <td>0.18</td>\n",
       "      <td>0</td>\n",
       "      <td>...</td>\n",
       "      <td>0</td>\n",
       "      <td>0</td>\n",
       "      <td>0</td>\n",
       "      <td>0</td>\n",
       "      <td>0</td>\n",
       "      <td>0</td>\n",
       "      <td>0</td>\n",
       "      <td>0</td>\n",
       "      <td>0</td>\n",
       "      <td>06</td>\n",
       "    </tr>\n",
       "    <tr>\n",
       "      <th>4</th>\n",
       "      <td>0</td>\n",
       "      <td>2</td>\n",
       "      <td>18</td>\n",
       "      <td>8600</td>\n",
       "      <td>NaN</td>\n",
       "      <td>0</td>\n",
       "      <td>0.18</td>\n",
       "      <td>0.03</td>\n",
       "      <td>0.21</td>\n",
       "      <td>0</td>\n",
       "      <td>...</td>\n",
       "      <td>0</td>\n",
       "      <td>2</td>\n",
       "      <td>0</td>\n",
       "      <td>0</td>\n",
       "      <td>0</td>\n",
       "      <td>0</td>\n",
       "      <td>0</td>\n",
       "      <td>0</td>\n",
       "      <td>0</td>\n",
       "      <td>06</td>\n",
       "    </tr>\n",
       "    <tr>\n",
       "      <th>...</th>\n",
       "      <td>...</td>\n",
       "      <td>...</td>\n",
       "      <td>...</td>\n",
       "      <td>...</td>\n",
       "      <td>...</td>\n",
       "      <td>...</td>\n",
       "      <td>...</td>\n",
       "      <td>...</td>\n",
       "      <td>...</td>\n",
       "      <td>...</td>\n",
       "      <td>...</td>\n",
       "      <td>...</td>\n",
       "      <td>...</td>\n",
       "      <td>...</td>\n",
       "      <td>...</td>\n",
       "      <td>...</td>\n",
       "      <td>...</td>\n",
       "      <td>...</td>\n",
       "      <td>...</td>\n",
       "      <td>...</td>\n",
       "      <td>...</td>\n",
       "    </tr>\n",
       "    <tr>\n",
       "      <th>160688</th>\n",
       "      <td>64</td>\n",
       "      <td>4</td>\n",
       "      <td>12</td>\n",
       "      <td>22500</td>\n",
       "      <td>NaN</td>\n",
       "      <td>0</td>\n",
       "      <td>116.07</td>\n",
       "      <td>0.26</td>\n",
       "      <td>116.33</td>\n",
       "      <td>2</td>\n",
       "      <td>...</td>\n",
       "      <td>0</td>\n",
       "      <td>2</td>\n",
       "      <td>0</td>\n",
       "      <td>0</td>\n",
       "      <td>0</td>\n",
       "      <td>0</td>\n",
       "      <td>0</td>\n",
       "      <td>0</td>\n",
       "      <td>0</td>\n",
       "      <td>06</td>\n",
       "    </tr>\n",
       "    <tr>\n",
       "      <th>160689</th>\n",
       "      <td>64</td>\n",
       "      <td>4</td>\n",
       "      <td>12</td>\n",
       "      <td>22500</td>\n",
       "      <td>NaN</td>\n",
       "      <td>0</td>\n",
       "      <td>116.33</td>\n",
       "      <td>0.29</td>\n",
       "      <td>116.62</td>\n",
       "      <td>2</td>\n",
       "      <td>...</td>\n",
       "      <td>0</td>\n",
       "      <td>0</td>\n",
       "      <td>1</td>\n",
       "      <td>1</td>\n",
       "      <td>0</td>\n",
       "      <td>0</td>\n",
       "      <td>0</td>\n",
       "      <td>0</td>\n",
       "      <td>0</td>\n",
       "      <td>06</td>\n",
       "    </tr>\n",
       "    <tr>\n",
       "      <th>160690</th>\n",
       "      <td>64</td>\n",
       "      <td>4</td>\n",
       "      <td>12</td>\n",
       "      <td>22500</td>\n",
       "      <td>NaN</td>\n",
       "      <td>0</td>\n",
       "      <td>116.62</td>\n",
       "      <td>0.65</td>\n",
       "      <td>117.27</td>\n",
       "      <td>2</td>\n",
       "      <td>...</td>\n",
       "      <td>0</td>\n",
       "      <td>3</td>\n",
       "      <td>1</td>\n",
       "      <td>1</td>\n",
       "      <td>0</td>\n",
       "      <td>0</td>\n",
       "      <td>0</td>\n",
       "      <td>0</td>\n",
       "      <td>0</td>\n",
       "      <td>06</td>\n",
       "    </tr>\n",
       "    <tr>\n",
       "      <th>160691</th>\n",
       "      <td>64</td>\n",
       "      <td>4</td>\n",
       "      <td>12</td>\n",
       "      <td>22500</td>\n",
       "      <td>NaN</td>\n",
       "      <td>0</td>\n",
       "      <td>117.27</td>\n",
       "      <td>0.97</td>\n",
       "      <td>118.24</td>\n",
       "      <td>2</td>\n",
       "      <td>...</td>\n",
       "      <td>0</td>\n",
       "      <td>1</td>\n",
       "      <td>0</td>\n",
       "      <td>0</td>\n",
       "      <td>0</td>\n",
       "      <td>0</td>\n",
       "      <td>0</td>\n",
       "      <td>0</td>\n",
       "      <td>0</td>\n",
       "      <td>06</td>\n",
       "    </tr>\n",
       "    <tr>\n",
       "      <th>160692</th>\n",
       "      <td>64</td>\n",
       "      <td>4</td>\n",
       "      <td>12</td>\n",
       "      <td>22500</td>\n",
       "      <td>NaN</td>\n",
       "      <td>0</td>\n",
       "      <td>118.24</td>\n",
       "      <td>0.36</td>\n",
       "      <td>118.60</td>\n",
       "      <td>2</td>\n",
       "      <td>...</td>\n",
       "      <td>0</td>\n",
       "      <td>0</td>\n",
       "      <td>0</td>\n",
       "      <td>1</td>\n",
       "      <td>0</td>\n",
       "      <td>0</td>\n",
       "      <td>0</td>\n",
       "      <td>0</td>\n",
       "      <td>0</td>\n",
       "      <td>06</td>\n",
       "    </tr>\n",
       "  </tbody>\n",
       "</table>\n",
       "<p>154727 rows × 33 columns</p>\n",
       "</div>"
      ],
      "text/plain": [
       "        medwid  no_lanes  lanewid   aadt trf_cntl  curv_rad   begmp  seg_lng  \\\n",
       "0            0         2       12   8600        N         0    0.00     0.01   \n",
       "1            0         2       12   8600      NaN         0    0.01     0.12   \n",
       "2            0         2       12   8600        N         0    0.13     0.03   \n",
       "3            0         2       12   8600      NaN         0    0.16     0.02   \n",
       "4            0         2       18   8600      NaN         0    0.18     0.03   \n",
       "...        ...       ...      ...    ...      ...       ...     ...      ...   \n",
       "160688      64         4       12  22500      NaN         0  116.07     0.26   \n",
       "160689      64         4       12  22500      NaN         0  116.33     0.29   \n",
       "160690      64         4       12  22500      NaN         0  116.62     0.65   \n",
       "160691      64         4       12  22500      NaN         0  117.27     0.97   \n",
       "160692      64         4       12  22500      NaN         0  118.24     0.36   \n",
       "\n",
       "         endmp  access  ...  Severity_Unknown  Weather_Clear  Weather_Rain  \\\n",
       "0         0.01       0  ...                 0              0             0   \n",
       "1         0.13       0  ...                 0              0             0   \n",
       "2         0.16       0  ...                 0              0             0   \n",
       "3         0.18       0  ...                 0              0             0   \n",
       "4         0.21       0  ...                 0              2             0   \n",
       "...        ...     ...  ...               ...            ...           ...   \n",
       "160688  116.33       2  ...                 0              2             0   \n",
       "160689  116.62       2  ...                 0              0             1   \n",
       "160690  117.27       2  ...                 0              3             1   \n",
       "160691  118.24       2  ...                 0              1             0   \n",
       "160692  118.60       2  ...                 0              0             0   \n",
       "\n",
       "        Weather_Snow  Weather_Fog  Weather_Hail  Weather_CrossWind  \\\n",
       "0                  0            0             0                  0   \n",
       "1                  0            0             0                  0   \n",
       "2                  0            0             0                  0   \n",
       "3                  0            0             0                  0   \n",
       "4                  0            0             0                  0   \n",
       "...              ...          ...           ...                ...   \n",
       "160688             0            0             0                  0   \n",
       "160689             1            0             0                  0   \n",
       "160690             1            0             0                  0   \n",
       "160691             0            0             0                  0   \n",
       "160692             1            0             0                  0   \n",
       "\n",
       "        Weather_Other  Weather_Unknown  Year  \n",
       "0                   0                0    06  \n",
       "1                   0                0    06  \n",
       "2                   0                0    06  \n",
       "3                   0                0    06  \n",
       "4                   0                0    06  \n",
       "...               ...              ...   ...  \n",
       "160688              0                0    06  \n",
       "160689              0                0    06  \n",
       "160690              0                0    06  \n",
       "160691              0                0    06  \n",
       "160692              0                0    06  \n",
       "\n",
       "[154727 rows x 33 columns]"
      ]
     },
     "execution_count": 64,
     "metadata": {},
     "output_type": "execute_result"
    }
   ],
   "source": [
    "Filtered_Merged_06"
   ]
  },
  {
   "cell_type": "code",
   "execution_count": 66,
   "metadata": {},
   "outputs": [],
   "source": [
    "Filtered_Merged_06.to_csv('Filtered_Merged_06.csv',index=False)"
   ]
  },
  {
   "cell_type": "code",
   "execution_count": null,
   "metadata": {},
   "outputs": [],
   "source": []
  }
 ],
 "metadata": {
  "kernelspec": {
   "display_name": "Python 3",
   "language": "python",
   "name": "python3"
  },
  "language_info": {
   "codemirror_mode": {
    "name": "ipython",
    "version": 3
   },
   "file_extension": ".py",
   "mimetype": "text/x-python",
   "name": "python",
   "nbconvert_exporter": "python",
   "pygments_lexer": "ipython3",
   "version": "3.7.6"
  }
 },
 "nbformat": 4,
 "nbformat_minor": 4
}
