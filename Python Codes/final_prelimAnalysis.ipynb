{
 "cells": [
  {
   "cell_type": "code",
   "execution_count": 1,
   "metadata": {},
   "outputs": [],
   "source": [
    "import numpy as np\n",
    "import pandas as pd\n",
    "import matplotlib.pyplot as plt\n",
    "import matplotlib.dates as mdates\n",
    "import warnings\n",
    "import scipy.stats as st\n",
    "import statsmodels as sm\n",
    "import seaborn as sns\n",
    "sns.set_style('whitegrid')"
   ]
  },
  {
   "cell_type": "code",
   "execution_count": 2,
   "metadata": {},
   "outputs": [],
   "source": [
    "il06veh = pd.read_excel(\"~/Desktop/UIUC/Courses/Spring 2021/CS 498 Data Science and Analytics/MP/Final Project/My Proposal/IL/il06veh.xlsx\")\n",
    "il06road = pd.read_excel(\"~/Desktop/UIUC/Courses/Spring 2021/CS 498 Data Science and Analytics/MP/Final Project/My Proposal/IL/il06road.xlsx\")\n",
    "il06occ = pd.read_excel(\"~/Desktop/UIUC/Courses/Spring 2021/CS 498 Data Science and Analytics/MP/Final Project/My Proposal/IL/il06occ.xlsx\")\n",
    "il06acc = pd.read_excel(\"~/Desktop/UIUC/Courses/Spring 2021/CS 498 Data Science and Analytics/MP/Final Project/My Proposal/IL/il06acc.xlsx\")"
   ]
  },
  {
   "cell_type": "code",
   "execution_count": 3,
   "metadata": {},
   "outputs": [
    {
     "name": "stdout",
     "output_type": "stream",
     "text": [
      "(382033, 4)\n",
      "(160693, 17)\n",
      "(128760, 3)\n",
      "(201773, 10)\n",
      "Index(['caseno', 'vehno', 'vehtype', 'drv_inj'], dtype='object')\n",
      "Index(['medwid', 'no_lanes', 'lanewid', 'aadt', 'trf_cntl', 'curv_rad',\n",
      "       'begmp', 'seg_lng', 'endmp', 'access', 'oneway', 'spd_limt', 'med_type',\n",
      "       'surf_typ', 'cnty_rte', 'rururb', 'rodwycls'],\n",
      "      dtype='object')\n",
      "Index(['caseno', 'vehno', 'seatpos'], dtype='object')\n",
      "Index(['cntyrte', 'milepost', 'rodwycls', 'caseno', 'acc_date', 'weather',\n",
      "       'severity', 'numvehs', 'hour', 'rdsurf'],\n",
      "      dtype='object')\n"
     ]
    }
   ],
   "source": [
    "print(il06veh.shape)\n",
    "print(il06road.shape)\n",
    "print(il06occ.shape)\n",
    "print(il06acc.shape)\n",
    "print(il06veh.columns)\n",
    "print(il06road.columns)\n",
    "print(il06occ.columns)\n",
    "print(il06acc.columns)"
   ]
  },
  {
   "cell_type": "code",
   "execution_count": 4,
   "metadata": {},
   "outputs": [],
   "source": [
    "il07veh = pd.read_excel(\"~/Desktop/UIUC/Courses/Spring 2021/CS 498 Data Science and Analytics/MP/Final Project/My Proposal/IL/il07veh.xlsx\")\n",
    "il07road = pd.read_excel(\"~/Desktop/UIUC/Courses/Spring 2021/CS 498 Data Science and Analytics/MP/Final Project/My Proposal/IL/il07road.xlsx\")\n",
    "il07occ = pd.read_excel(\"~/Desktop/UIUC/Courses/Spring 2021/CS 498 Data Science and Analytics/MP/Final Project/My Proposal/IL/il07occ.xlsx\")\n",
    "il07acc = pd.read_excel(\"~/Desktop/UIUC/Courses/Spring 2021/CS 498 Data Science and Analytics/MP/Final Project/My Proposal/IL/il07acc.xlsx\")\n",
    "il08veh = pd.read_excel(\"~/Desktop/UIUC/Courses/Spring 2021/CS 498 Data Science and Analytics/MP/Final Project/My Proposal/IL/il08veh.xlsx\")\n",
    "il08road = pd.read_excel(\"~/Desktop/UIUC/Courses/Spring 2021/CS 498 Data Science and Analytics/MP/Final Project/My Proposal/IL/il08road.xlsx\")\n",
    "il08occ = pd.read_excel(\"~/Desktop/UIUC/Courses/Spring 2021/CS 498 Data Science and Analytics/MP/Final Project/My Proposal/IL/il08occ.xlsx\")\n",
    "il08acc = pd.read_excel(\"~/Desktop/UIUC/Courses/Spring 2021/CS 498 Data Science and Analytics/MP/Final Project/My Proposal/IL/il08acc.xlsx\")\n",
    "il09veh = pd.read_excel(\"~/Desktop/UIUC/Courses/Spring 2021/CS 498 Data Science and Analytics/MP/Final Project/My Proposal/IL/il09veh.xlsx\")\n",
    "il09road = pd.read_excel(\"~/Desktop/UIUC/Courses/Spring 2021/CS 498 Data Science and Analytics/MP/Final Project/My Proposal/IL/il09road.xlsx\")\n",
    "il09occ = pd.read_excel(\"~/Desktop/UIUC/Courses/Spring 2021/CS 498 Data Science and Analytics/MP/Final Project/My Proposal/IL/il09occ.xlsx\")\n",
    "il09acc = pd.read_excel(\"~/Desktop/UIUC/Courses/Spring 2021/CS 498 Data Science and Analytics/MP/Final Project/My Proposal/IL/il09acc.xlsx\")"
   ]
  },
  {
   "cell_type": "code",
   "execution_count": 142,
   "metadata": {},
   "outputs": [],
   "source": [
    "il10veh = pd.read_excel(\"~/Desktop/UIUC/Courses/Spring 2021/CS 498 Data Science and Analytics/MP/Final Project/My Proposal/IL/il10veh.xlsx\")\n",
    "il10road = pd.read_excel(\"~/Desktop/UIUC/Courses/Spring 2021/CS 498 Data Science and Analytics/MP/Final Project/My Proposal/IL/il10road.xlsx\")\n",
    "il10occ = pd.read_excel(\"~/Desktop/UIUC/Courses/Spring 2021/CS 498 Data Science and Analytics/MP/Final Project/My Proposal/IL/il10occ.xlsx\")\n",
    "il10acc = pd.read_excel(\"~/Desktop/UIUC/Courses/Spring 2021/CS 498 Data Science and Analytics/MP/Final Project/My Proposal/IL/il10acc.xlsx\")"
   ]
  },
  {
   "cell_type": "code",
   "execution_count": 42,
   "metadata": {},
   "outputs": [],
   "source": [
    "#Since different years road data has same cnty_rte, I cannot append them before merging Accident Information. \n",
    "#il_veh_train = il06veh.append([il07veh, il08veh,il09veh])\n",
    "#il_occ_train = il06occ.append([il07occ, il08occ,il09occ])\n",
    "#il_acc_train = il06acc.append([il07acc, il08acc,il09acc])\n",
    "#il_road_train = il06road.append([il07road, il08road,il09road])\n",
    "#print(il_veh_train.shape, il06veh.shape[0]+il07veh.shape[0]+il08veh.shape[0]+il09veh.shape[0])\n",
    "#print(il_occ_train.shape, il06occ.shape[0]+il07occ.shape[0]+il08occ.shape[0]+il09occ.shape[0])\n",
    "#print(il_acc_train.shape, il06acc.shape[0]+il07acc.shape[0]+il08acc.shape[0]+il09acc.shape[0])\n",
    "#print(il_road_train.shape, il06road.shape[0]+il07road.shape[0]+il08road.shape[0]+il09road.shape[0])"
   ]
  },
  {
   "cell_type": "code",
   "execution_count": 45,
   "metadata": {},
   "outputs": [],
   "source": [
    "#il_veh_train.index = np.arange(len(il_veh_train))\n",
    "#il_occ_train.index = np.arange(len(il_occ_train))\n",
    "#il_acc_train.index = np.arange(len(il_acc_train))\n",
    "#il_road_train.index = np.arange(len(il_road_train))"
   ]
  },
  {
   "cell_type": "code",
   "execution_count": 132,
   "metadata": {},
   "outputs": [
    {
     "name": "stdout",
     "output_type": "stream",
     "text": [
      "3997 4670 4761 3705\n",
      "17133\n"
     ]
    }
   ],
   "source": [
    "caseno_with_pedacc06 = il06veh.loc[il06veh['vehtype'] == 98, 'caseno'].to_numpy()\n",
    "caseno_with_pedacc07 = il07veh.loc[il07veh['vehtype'] == 98, 'caseno'].to_numpy()\n",
    "caseno_with_pedacc08 = il08veh.loc[il08veh['vehtype'] == 98, 'caseno'].to_numpy()\n",
    "caseno_with_pedacc09 = il09veh.loc[il09veh['vehtype'] == 98, 'caseno'].to_numpy()\n",
    "print(len(caseno_with_pedacc06),len(caseno_with_pedacc07),len(caseno_with_pedacc08),len(caseno_with_pedacc09))\n",
    "print(len(caseno_with_pedacc06)+len(caseno_with_pedacc07)+len(caseno_with_pedacc08)+len(caseno_with_pedacc09))\n",
    "#caseno_with_pedacc.unique"
   ]
  },
  {
   "cell_type": "code",
   "execution_count": 143,
   "metadata": {},
   "outputs": [],
   "source": [
    "caseno_with_pedacc10 = il10veh.loc[il10veh['vehtype'] == 98, 'caseno'].to_numpy()"
   ]
  },
  {
   "cell_type": "code",
   "execution_count": 145,
   "metadata": {},
   "outputs": [
    {
     "data": {
      "text/plain": [
       "Index(['medwid', 'no_lanes', 'lanewid', 'aadt', 'trf_cntl', 'curv_rad',\n",
       "       'begmp', 'seg_lng', 'endmp', 'access', 'oneway', 'spd_limt', 'med_type',\n",
       "       'surf_typ', 'cnty_rte', 'rururb', 'rodwycls'],\n",
       "      dtype='object')"
      ]
     },
     "execution_count": 145,
     "metadata": {},
     "output_type": "execute_result"
    }
   ],
   "source": [
    "TestingData10.columns"
   ]
  },
  {
   "cell_type": "code",
   "execution_count": 115,
   "metadata": {},
   "outputs": [
    {
     "data": {
      "text/plain": [
       "Index(['medwid', 'no_lanes', 'lanewid', 'aadt', 'trf_cntl', 'curv_rad',\n",
       "       'begmp', 'seg_lng', 'endmp', 'access', 'oneway', 'spd_limt', 'med_type',\n",
       "       'surf_typ', 'cnty_rte', 'rururb', 'rodwycls', 'AccCount',\n",
       "       'Severity_PDO', 'Severity_Inj_TypeA', 'Severity_Inj_TypeB',\n",
       "       'Severity_Inj_TypeC', 'Severity_Fatal', 'Severity_Unknown',\n",
       "       'Weather_Clear', 'Weather_Rain', 'Weather_Snow', 'Weather_Fog',\n",
       "       'Weather_Hail', 'Weather_CrossWind', 'Weather_Other',\n",
       "       'Weather_Unknown'],\n",
       "      dtype='object')"
      ]
     },
     "execution_count": 115,
     "metadata": {},
     "output_type": "execute_result"
    }
   ],
   "source": []
  },
  {
   "cell_type": "code",
   "execution_count": 146,
   "metadata": {},
   "outputs": [
    {
     "data": {
      "text/plain": [
       "array([201001010520, 201001011621, 201001011644, ..., 201001474895,\n",
       "       201001474919, 201001474919])"
      ]
     },
     "execution_count": 146,
     "metadata": {},
     "output_type": "execute_result"
    }
   ],
   "source": [
    "caseno_with_pedacc10"
   ]
  },
  {
   "cell_type": "code",
   "execution_count": 117,
   "metadata": {},
   "outputs": [],
   "source": []
  },
  {
   "cell_type": "code",
   "execution_count": null,
   "metadata": {},
   "outputs": [],
   "source": []
  },
  {
   "cell_type": "code",
   "execution_count": null,
   "metadata": {},
   "outputs": [],
   "source": []
  },
  {
   "cell_type": "code",
   "execution_count": null,
   "metadata": {},
   "outputs": [],
   "source": []
  },
  {
   "cell_type": "code",
   "execution_count": 131,
   "metadata": {},
   "outputs": [],
   "source": [
    "#TrainingData06 = il06road.copy()\n",
    "#TrainingData07 = il07road.copy()\n",
    "#TrainingData08 = il08road.copy()\n",
    "#TrainingData09 = il09road.copy()"
   ]
  },
  {
   "cell_type": "code",
   "execution_count": 144,
   "metadata": {},
   "outputs": [],
   "source": [
    "TestingData10 = il10road.copy()"
   ]
  },
  {
   "cell_type": "code",
   "execution_count": 102,
   "metadata": {},
   "outputs": [],
   "source": [
    "TrainingData06['AccCount'] = 0\n",
    "#Injury Severity\n",
    "TrainingData06['Severity_PDO'] = 0\n",
    "TrainingData06['Severity_Inj_TypeA'] = 0\n",
    "TrainingData06['Severity_Inj_TypeB'] = 0\n",
    "TrainingData06['Severity_Inj_TypeC'] = 0\n",
    "TrainingData06['Severity_Fatal'] = 0\n",
    "TrainingData06['Severity_Unknown'] = 0 # Unknown\n",
    "#Weather Type\n",
    "TrainingData06['Weather_Clear'] = 0\n",
    "TrainingData06['Weather_Rain'] = 0\n",
    "TrainingData06['Weather_Snow'] = 0\n",
    "TrainingData06['Weather_Fog'] = 0\n",
    "TrainingData06['Weather_Hail'] = 0\n",
    "TrainingData06['Weather_CrossWind'] = 0\n",
    "TrainingData06['Weather_Other'] = 0\n",
    "TrainingData06['Weather_Unknown'] = 0"
   ]
  },
  {
   "cell_type": "code",
   "execution_count": 103,
   "metadata": {},
   "outputs": [],
   "source": [
    "# Get accident info into AccData df\n",
    "acc_with_mp_overlap = [] #some road locations have same cnty_rte value and end mp of one segment might be after start mp of another segment\n",
    "for i, row in il06acc.iterrows():\n",
    "    if row['caseno'] in caseno_with_pedacc06:\n",
    "        continue\n",
    "    cntyrte_val = row['cntyrte']\n",
    "    mp = row['milepost']\n",
    "    severity = row['severity']\n",
    "    weather = row['weather']\n",
    "    if TrainingData06.loc[(TrainingData06.cnty_rte == cntyrte_val) & (TrainingData06.begmp <= mp) & (TrainingData06.endmp >= mp), 'AccCount'].shape[0]>1:\n",
    "        acc_with_mp_overlap.append(i)\n",
    "        mask = (TrainingData06.cnty_rte == cntyrte_val) & (TrainingData06.begmp <= mp) & (TrainingData06.endmp >= mp)\n",
    "        TrainingData06.loc[mask.idxmax(), 'AccCount'] += 1\n",
    "        if severity == 0:\n",
    "            TrainingData06.loc[mask.idxmax(), 'Severity_PDO'] += 1\n",
    "        elif severity == 1:\n",
    "            TrainingData06.loc[mask.idxmax(), 'Severity_Inj_TypeA'] += 1\n",
    "        elif severity == 2:\n",
    "            TrainingData06.loc[mask.idxmax(), 'Severity_Inj_TypeB'] += 1\n",
    "        elif severity == 3:\n",
    "            TrainingData06.loc[mask.idxmax(), 'Severity_Inj_TypeC'] += 1\n",
    "        elif severity == 4:\n",
    "            TrainingData06.loc[mask.idxmax(), 'Severity_Fatal'] += 1\n",
    "        else:\n",
    "            TrainingData06.loc[mask.idxmax(), 'Severity_Unknown'] += 1\n",
    "        if weather == 1:\n",
    "            TrainingData06.loc[mask.idxmax(), 'Weather_Clear'] += 1\n",
    "        elif weather == 2:\n",
    "            TrainingData06.loc[mask.idxmax(), 'Weather_Rain'] += 1\n",
    "        elif weather == 3:\n",
    "            TrainingData06.loc[mask.idxmax(), 'Weather_Snow'] += 1\n",
    "        elif weather == 4:\n",
    "            TrainingData06.loc[mask.idxmax(), 'Weather_Fog'] += 1\n",
    "        elif weather == 5:\n",
    "            TrainingData06.loc[mask.idxmax(), 'Weather_Hail'] += 1\n",
    "        elif weather == 6:\n",
    "            TrainingData06.loc[mask.idxmax(), 'Weather_CrossWind'] += 1\n",
    "        elif weather == 7:\n",
    "            TrainingData06.loc[mask.idxmax(), 'Weather_Other'] += 1\n",
    "        else:\n",
    "            TrainingData06.loc[mask.idxmax(), 'Weather_Unknown'] += 1\n",
    "    elif TrainingData06.loc[(TrainingData06.cnty_rte == cntyrte_val) & (TrainingData06.begmp <= mp) & (TrainingData06.endmp >= mp), 'AccCount'].shape[0]==1:\n",
    "        TrainingData06.loc[(TrainingData06.cnty_rte == cntyrte_val) & (TrainingData06.begmp <= mp) & (TrainingData06.endmp >= mp),'AccCount']+=1\n",
    "        if severity == 0:\n",
    "            TrainingData06.loc[(TrainingData06.cnty_rte == cntyrte_val) & (TrainingData06.begmp <= mp) & (TrainingData06.endmp >= mp),'Severity_PDO']+=1\n",
    "        elif severity == 1:\n",
    "            TrainingData06.loc[(TrainingData06.cnty_rte == cntyrte_val) & (TrainingData06.begmp <= mp) & (TrainingData06.endmp >= mp),'Severity_Inj_TypeA']+=1\n",
    "        elif severity == 2:\n",
    "            TrainingData06.loc[(TrainingData06.cnty_rte == cntyrte_val) & (TrainingData06.begmp <= mp) & (TrainingData06.endmp >= mp),'Severity_Inj_TypeB']+=1\n",
    "        elif severity == 3:\n",
    "            TrainingData06.loc[(TrainingData06.cnty_rte == cntyrte_val) & (TrainingData06.begmp <= mp) & (TrainingData06.endmp >= mp),'Severity_Inj_TypeC']+=1\n",
    "        elif severity == 4:\n",
    "            TrainingData06.loc[(TrainingData06.cnty_rte == cntyrte_val) & (TrainingData06.begmp <= mp) & (TrainingData06.endmp >= mp),'Severity_Fatal']+=1\n",
    "        else:\n",
    "            TrainingData06.loc[(TrainingData06.cnty_rte == cntyrte_val) & (TrainingData06.begmp <= mp) & (TrainingData06.endmp >= mp),'Severity_Unknown']+=1\n",
    "        if weather == 1:\n",
    "            TrainingData06.loc[(TrainingData06.cnty_rte == cntyrte_val) & (TrainingData06.begmp <= mp) & (TrainingData06.endmp >= mp),'Weather_Clear']+=1\n",
    "        elif weather == 2:\n",
    "            TrainingData06.loc[(TrainingData06.cnty_rte == cntyrte_val) & (TrainingData06.begmp <= mp) & (TrainingData06.endmp >= mp),'Weather_Rain']+=1\n",
    "        elif weather == 3:\n",
    "            TrainingData06.loc[(TrainingData06.cnty_rte == cntyrte_val) & (TrainingData06.begmp <= mp) & (TrainingData06.endmp >= mp),'Weather_Snow']+=1\n",
    "        elif weather == 4:\n",
    "            TrainingData06.loc[(TrainingData06.cnty_rte == cntyrte_val) & (TrainingData06.begmp <= mp) & (TrainingData06.endmp >= mp),'Weather_Fog']+=1\n",
    "        elif weather == 5:\n",
    "            TrainingData06.loc[(TrainingData06.cnty_rte == cntyrte_val) & (TrainingData06.begmp <= mp) & (TrainingData06.endmp >= mp),'Weather_Hail']+=1\n",
    "        elif weather == 6:\n",
    "            TrainingData06.loc[(TrainingData06.cnty_rte == cntyrte_val) & (TrainingData06.begmp <= mp) & (TrainingData06.endmp >= mp),'Weather_CrossWind']+=1\n",
    "        elif weather == 7:\n",
    "            TrainingData06.loc[(TrainingData06.cnty_rte == cntyrte_val) & (TrainingData06.begmp <= mp) & (TrainingData06.endmp >= mp),'Weather_Other']+=1\n",
    "        else:\n",
    "            TrainingData06.loc[(TrainingData06.cnty_rte == cntyrte_val) & (TrainingData06.begmp <= mp) & (TrainingData06.endmp >= mp),'Weather_Unknown']+=1\n",
    "    else:\n",
    "        print(i)\n",
    "        break"
   ]
  },
  {
   "cell_type": "code",
   "execution_count": 129,
   "metadata": {},
   "outputs": [],
   "source": [
    "TrainingData07['AccCount'] = 0\n",
    "#Injury Severity\n",
    "TrainingData07['Severity_PDO'] = 0\n",
    "TrainingData07['Severity_Inj_TypeA'] = 0\n",
    "TrainingData07['Severity_Inj_TypeB'] = 0\n",
    "TrainingData07['Severity_Inj_TypeC'] = 0\n",
    "TrainingData07['Severity_Fatal'] = 0\n",
    "TrainingData07['Severity_Unknown'] = 0 # Unknown\n",
    "#Weather Type\n",
    "TrainingData07['Weather_Clear'] = 0\n",
    "TrainingData07['Weather_Rain'] = 0\n",
    "TrainingData07['Weather_Snow'] = 0\n",
    "TrainingData07['Weather_Fog'] = 0\n",
    "TrainingData07['Weather_Hail'] = 0\n",
    "TrainingData07['Weather_CrossWind'] = 0\n",
    "TrainingData07['Weather_Other'] = 0\n",
    "TrainingData07['Weather_Unknown'] = 0\n",
    "# Get accident info into AccData df\n",
    "acc_with_mp_overlap_07 = [] #some road locations have same cnty_rte value and end mp of one segment might be after start mp of another segment\n",
    "for i, row in il07acc.iterrows():\n",
    "    if row['caseno'] in caseno_with_pedacc07:\n",
    "        continue\n",
    "    cntyrte_val = row['cntyrte']\n",
    "    mp = row['milepost']\n",
    "    severity = row['severity']\n",
    "    weather = row['weather']\n",
    "    if TrainingData07.loc[(TrainingData07.cnty_rte == cntyrte_val) & (TrainingData07.begmp <= mp) & (TrainingData07.endmp >= mp), 'AccCount'].shape[0]>1:\n",
    "        acc_with_mp_overlap_07.append(i)\n",
    "        mask = (TrainingData07.cnty_rte == cntyrte_val) & (TrainingData07.begmp <= mp) & (TrainingData07.endmp >= mp)\n",
    "        TrainingData07.loc[mask.idxmax(), 'AccCount'] += 1\n",
    "        if severity == 0:\n",
    "            TrainingData07.loc[mask.idxmax(), 'Severity_PDO'] += 1\n",
    "        elif severity == 1:\n",
    "            TrainingData07.loc[mask.idxmax(), 'Severity_Inj_TypeA'] += 1\n",
    "        elif severity == 2:\n",
    "            TrainingData07.loc[mask.idxmax(), 'Severity_Inj_TypeB'] += 1\n",
    "        elif severity == 3:\n",
    "            TrainingData07.loc[mask.idxmax(), 'Severity_Inj_TypeC'] += 1\n",
    "        elif severity == 4:\n",
    "            TrainingData07.loc[mask.idxmax(), 'Severity_Fatal'] += 1\n",
    "        else:\n",
    "            TrainingData07.loc[mask.idxmax(), 'Severity_Unknown'] += 1\n",
    "        if weather == 1:\n",
    "            TrainingData07.loc[mask.idxmax(), 'Weather_Clear'] += 1\n",
    "        elif weather == 2:\n",
    "            TrainingData07.loc[mask.idxmax(), 'Weather_Rain'] += 1\n",
    "        elif weather == 3:\n",
    "            TrainingData07.loc[mask.idxmax(), 'Weather_Snow'] += 1\n",
    "        elif weather == 4:\n",
    "            TrainingData07.loc[mask.idxmax(), 'Weather_Fog'] += 1\n",
    "        elif weather == 5:\n",
    "            TrainingData07.loc[mask.idxmax(), 'Weather_Hail'] += 1\n",
    "        elif weather == 6:\n",
    "            TrainingData07.loc[mask.idxmax(), 'Weather_CrossWind'] += 1\n",
    "        elif weather == 7:\n",
    "            TrainingData07.loc[mask.idxmax(), 'Weather_Other'] += 1\n",
    "        else:\n",
    "            TrainingData07.loc[mask.idxmax(), 'Weather_Unknown'] += 1\n",
    "    elif TrainingData07.loc[(TrainingData07.cnty_rte == cntyrte_val) & (TrainingData07.begmp <= mp) & (TrainingData07.endmp >= mp), 'AccCount'].shape[0]==1:\n",
    "        TrainingData07.loc[(TrainingData07.cnty_rte == cntyrte_val) & (TrainingData07.begmp <= mp) & (TrainingData07.endmp >= mp),'AccCount']+=1\n",
    "        if severity == 0:\n",
    "            TrainingData07.loc[(TrainingData07.cnty_rte == cntyrte_val) & (TrainingData07.begmp <= mp) & (TrainingData07.endmp >= mp),'Severity_PDO']+=1\n",
    "        elif severity == 1:\n",
    "            TrainingData07.loc[(TrainingData07.cnty_rte == cntyrte_val) & (TrainingData07.begmp <= mp) & (TrainingData07.endmp >= mp),'Severity_Inj_TypeA']+=1\n",
    "        elif severity == 2:\n",
    "            TrainingData07.loc[(TrainingData07.cnty_rte == cntyrte_val) & (TrainingData07.begmp <= mp) & (TrainingData07.endmp >= mp),'Severity_Inj_TypeB']+=1\n",
    "        elif severity == 3:\n",
    "            TrainingData07.loc[(TrainingData07.cnty_rte == cntyrte_val) & (TrainingData07.begmp <= mp) & (TrainingData07.endmp >= mp),'Severity_Inj_TypeC']+=1\n",
    "        elif severity == 4:\n",
    "            TrainingData07.loc[(TrainingData07.cnty_rte == cntyrte_val) & (TrainingData07.begmp <= mp) & (TrainingData07.endmp >= mp),'Severity_Fatal']+=1\n",
    "        else:\n",
    "            TrainingData07.loc[(TrainingData07.cnty_rte == cntyrte_val) & (TrainingData07.begmp <= mp) & (TrainingData07.endmp >= mp),'Severity_Unknown']+=1\n",
    "        if weather == 1:\n",
    "            TrainingData07.loc[(TrainingData07.cnty_rte == cntyrte_val) & (TrainingData07.begmp <= mp) & (TrainingData07.endmp >= mp),'Weather_Clear']+=1\n",
    "        elif weather == 2:\n",
    "            TrainingData07.loc[(TrainingData07.cnty_rte == cntyrte_val) & (TrainingData07.begmp <= mp) & (TrainingData07.endmp >= mp),'Weather_Rain']+=1\n",
    "        elif weather == 3:\n",
    "            TrainingData07.loc[(TrainingData07.cnty_rte == cntyrte_val) & (TrainingData07.begmp <= mp) & (TrainingData07.endmp >= mp),'Weather_Snow']+=1\n",
    "        elif weather == 4:\n",
    "            TrainingData07.loc[(TrainingData07.cnty_rte == cntyrte_val) & (TrainingData07.begmp <= mp) & (TrainingData07.endmp >= mp),'Weather_Fog']+=1\n",
    "        elif weather == 5:\n",
    "            TrainingData07.loc[(TrainingData07.cnty_rte == cntyrte_val) & (TrainingData07.begmp <= mp) & (TrainingData07.endmp >= mp),'Weather_Hail']+=1\n",
    "        elif weather == 6:\n",
    "            TrainingData07.loc[(TrainingData07.cnty_rte == cntyrte_val) & (TrainingData07.begmp <= mp) & (TrainingData07.endmp >= mp),'Weather_CrossWind']+=1\n",
    "        elif weather == 7:\n",
    "            TrainingData07.loc[(TrainingData07.cnty_rte == cntyrte_val) & (TrainingData07.begmp <= mp) & (TrainingData07.endmp >= mp),'Weather_Other']+=1\n",
    "        else:\n",
    "            TrainingData07.loc[(TrainingData07.cnty_rte == cntyrte_val) & (TrainingData07.begmp <= mp) & (TrainingData07.endmp >= mp),'Weather_Unknown']+=1\n",
    "    else:\n",
    "        print(i)\n",
    "        break"
   ]
  },
  {
   "cell_type": "code",
   "execution_count": 133,
   "metadata": {},
   "outputs": [],
   "source": [
    "TrainingData08['AccCount'] = 0\n",
    "#Injury Severity\n",
    "TrainingData08['Severity_PDO'] = 0\n",
    "TrainingData08['Severity_Inj_TypeA'] = 0\n",
    "TrainingData08['Severity_Inj_TypeB'] = 0\n",
    "TrainingData08['Severity_Inj_TypeC'] = 0\n",
    "TrainingData08['Severity_Fatal'] = 0\n",
    "TrainingData08['Severity_Unknown'] = 0 # Unknown\n",
    "#Weather Type\n",
    "TrainingData08['Weather_Clear'] = 0\n",
    "TrainingData08['Weather_Rain'] = 0\n",
    "TrainingData08['Weather_Snow'] = 0\n",
    "TrainingData08['Weather_Fog'] = 0\n",
    "TrainingData08['Weather_Hail'] = 0\n",
    "TrainingData08['Weather_CrossWind'] = 0\n",
    "TrainingData08['Weather_Other'] = 0\n",
    "TrainingData08['Weather_Unknown'] = 0\n",
    "# Get accident info into AccData df\n",
    "acc_with_mp_overlap_08 = [] #some road locations have same cnty_rte value and end mp of one segment might be after start mp of another segment\n",
    "for i, row in il08acc.iterrows():\n",
    "    if row['caseno'] in caseno_with_pedacc08:\n",
    "        continue\n",
    "    cntyrte_val = row['cntyrte']\n",
    "    mp = row['milepost']\n",
    "    severity = row['severity']\n",
    "    weather = row['weather']\n",
    "    if TrainingData08.loc[(TrainingData08.cnty_rte == cntyrte_val) & (TrainingData08.begmp <= mp) & (TrainingData08.endmp >= mp), 'AccCount'].shape[0]>1:\n",
    "        acc_with_mp_overlap_08.append(i)\n",
    "        mask = (TrainingData08.cnty_rte == cntyrte_val) & (TrainingData08.begmp <= mp) & (TrainingData08.endmp >= mp)\n",
    "        TrainingData08.loc[mask.idxmax(), 'AccCount'] += 1\n",
    "        if severity == 0:\n",
    "            TrainingData08.loc[mask.idxmax(), 'Severity_PDO'] += 1\n",
    "        elif severity == 1:\n",
    "            TrainingData08.loc[mask.idxmax(), 'Severity_Inj_TypeA'] += 1\n",
    "        elif severity == 2:\n",
    "            TrainingData08.loc[mask.idxmax(), 'Severity_Inj_TypeB'] += 1\n",
    "        elif severity == 3:\n",
    "            TrainingData08.loc[mask.idxmax(), 'Severity_Inj_TypeC'] += 1\n",
    "        elif severity == 4:\n",
    "            TrainingData08.loc[mask.idxmax(), 'Severity_Fatal'] += 1\n",
    "        else:\n",
    "            TrainingData08.loc[mask.idxmax(), 'Severity_Unknown'] += 1\n",
    "        if weather == 1:\n",
    "            TrainingData08.loc[mask.idxmax(), 'Weather_Clear'] += 1\n",
    "        elif weather == 2:\n",
    "            TrainingData08.loc[mask.idxmax(), 'Weather_Rain'] += 1\n",
    "        elif weather == 3:\n",
    "            TrainingData08.loc[mask.idxmax(), 'Weather_Snow'] += 1\n",
    "        elif weather == 4:\n",
    "            TrainingData08.loc[mask.idxmax(), 'Weather_Fog'] += 1\n",
    "        elif weather == 5:\n",
    "            TrainingData08.loc[mask.idxmax(), 'Weather_Hail'] += 1\n",
    "        elif weather == 6:\n",
    "            TrainingData08.loc[mask.idxmax(), 'Weather_CrossWind'] += 1\n",
    "        elif weather == 7:\n",
    "            TrainingData08.loc[mask.idxmax(), 'Weather_Other'] += 1\n",
    "        else:\n",
    "            TrainingData08.loc[mask.idxmax(), 'Weather_Unknown'] += 1\n",
    "    elif TrainingData08.loc[(TrainingData08.cnty_rte == cntyrte_val) & (TrainingData08.begmp <= mp) & (TrainingData08.endmp >= mp), 'AccCount'].shape[0]==1:\n",
    "        TrainingData08.loc[(TrainingData08.cnty_rte == cntyrte_val) & (TrainingData08.begmp <= mp) & (TrainingData08.endmp >= mp),'AccCount']+=1\n",
    "        if severity == 0:\n",
    "            TrainingData08.loc[(TrainingData08.cnty_rte == cntyrte_val) & (TrainingData08.begmp <= mp) & (TrainingData08.endmp >= mp),'Severity_PDO']+=1\n",
    "        elif severity == 1:\n",
    "            TrainingData08.loc[(TrainingData08.cnty_rte == cntyrte_val) & (TrainingData08.begmp <= mp) & (TrainingData08.endmp >= mp),'Severity_Inj_TypeA']+=1\n",
    "        elif severity == 2:\n",
    "            TrainingData08.loc[(TrainingData08.cnty_rte == cntyrte_val) & (TrainingData08.begmp <= mp) & (TrainingData08.endmp >= mp),'Severity_Inj_TypeB']+=1\n",
    "        elif severity == 3:\n",
    "            TrainingData08.loc[(TrainingData08.cnty_rte == cntyrte_val) & (TrainingData08.begmp <= mp) & (TrainingData08.endmp >= mp),'Severity_Inj_TypeC']+=1\n",
    "        elif severity == 4:\n",
    "            TrainingData08.loc[(TrainingData08.cnty_rte == cntyrte_val) & (TrainingData08.begmp <= mp) & (TrainingData08.endmp >= mp),'Severity_Fatal']+=1\n",
    "        else:\n",
    "            TrainingData08.loc[(TrainingData08.cnty_rte == cntyrte_val) & (TrainingData08.begmp <= mp) & (TrainingData08.endmp >= mp),'Severity_Unknown']+=1\n",
    "        if weather == 1:\n",
    "            TrainingData08.loc[(TrainingData08.cnty_rte == cntyrte_val) & (TrainingData08.begmp <= mp) & (TrainingData08.endmp >= mp),'Weather_Clear']+=1\n",
    "        elif weather == 2:\n",
    "            TrainingData08.loc[(TrainingData08.cnty_rte == cntyrte_val) & (TrainingData08.begmp <= mp) & (TrainingData08.endmp >= mp),'Weather_Rain']+=1\n",
    "        elif weather == 3:\n",
    "            TrainingData08.loc[(TrainingData08.cnty_rte == cntyrte_val) & (TrainingData08.begmp <= mp) & (TrainingData08.endmp >= mp),'Weather_Snow']+=1\n",
    "        elif weather == 4:\n",
    "            TrainingData08.loc[(TrainingData08.cnty_rte == cntyrte_val) & (TrainingData08.begmp <= mp) & (TrainingData08.endmp >= mp),'Weather_Fog']+=1\n",
    "        elif weather == 5:\n",
    "            TrainingData08.loc[(TrainingData08.cnty_rte == cntyrte_val) & (TrainingData08.begmp <= mp) & (TrainingData08.endmp >= mp),'Weather_Hail']+=1\n",
    "        elif weather == 6:\n",
    "            TrainingData08.loc[(TrainingData08.cnty_rte == cntyrte_val) & (TrainingData08.begmp <= mp) & (TrainingData08.endmp >= mp),'Weather_CrossWind']+=1\n",
    "        elif weather == 7:\n",
    "            TrainingData08.loc[(TrainingData08.cnty_rte == cntyrte_val) & (TrainingData08.begmp <= mp) & (TrainingData08.endmp >= mp),'Weather_Other']+=1\n",
    "        else:\n",
    "            TrainingData08.loc[(TrainingData08.cnty_rte == cntyrte_val) & (TrainingData08.begmp <= mp) & (TrainingData08.endmp >= mp),'Weather_Unknown']+=1\n",
    "    else:\n",
    "        print(i)\n",
    "        break"
   ]
  },
  {
   "cell_type": "code",
   "execution_count": 119,
   "metadata": {},
   "outputs": [],
   "source": [
    "TrainingData09['AccCount'] = 0\n",
    "#Injury Severity\n",
    "TrainingData09['Severity_PDO'] = 0\n",
    "TrainingData09['Severity_Inj_TypeA'] = 0\n",
    "TrainingData09['Severity_Inj_TypeB'] = 0\n",
    "TrainingData09['Severity_Inj_TypeC'] = 0\n",
    "TrainingData09['Severity_Fatal'] = 0\n",
    "TrainingData09['Severity_Unknown'] = 0 # Unknown\n",
    "#Weather Type\n",
    "TrainingData09['Weather_Clear'] = 0\n",
    "TrainingData09['Weather_Rain'] = 0\n",
    "TrainingData09['Weather_Snow'] = 0\n",
    "TrainingData09['Weather_Fog'] = 0\n",
    "TrainingData09['Weather_Hail'] = 0\n",
    "TrainingData09['Weather_CrossWind'] = 0\n",
    "TrainingData09['Weather_Other'] = 0\n",
    "TrainingData09['Weather_Unknown'] = 0\n",
    "# Get accident info into AccData df\n",
    "acc_with_mp_overlap_09 = [] #some road locations have same cnty_rte value and end mp of one segment might be after start mp of another segment\n",
    "for i, row in il09acc.iterrows():\n",
    "    if row['caseno'] in caseno_with_pedacc09:\n",
    "        continue\n",
    "    cntyrte_val = row['cntyrte']\n",
    "    mp = row['milepost']\n",
    "    severity = row['severity']\n",
    "    weather = row['weather']\n",
    "    if TrainingData09.loc[(TrainingData09.cnty_rte == cntyrte_val) & (TrainingData09.begmp <= mp) & (TrainingData09.endmp >= mp), 'AccCount'].shape[0]>1:\n",
    "        acc_with_mp_overlap_09.append(i)\n",
    "        mask = (TrainingData09.cnty_rte == cntyrte_val) & (TrainingData09.begmp <= mp) & (TrainingData09.endmp >= mp)\n",
    "        TrainingData09.loc[mask.idxmax(), 'AccCount'] += 1\n",
    "        if severity == 0:\n",
    "            TrainingData09.loc[mask.idxmax(), 'Severity_PDO'] += 1\n",
    "        elif severity == 1:\n",
    "            TrainingData09.loc[mask.idxmax(), 'Severity_Inj_TypeA'] += 1\n",
    "        elif severity == 2:\n",
    "            TrainingData09.loc[mask.idxmax(), 'Severity_Inj_TypeB'] += 1\n",
    "        elif severity == 3:\n",
    "            TrainingData09.loc[mask.idxmax(), 'Severity_Inj_TypeC'] += 1\n",
    "        elif severity == 4:\n",
    "            TrainingData09.loc[mask.idxmax(), 'Severity_Fatal'] += 1\n",
    "        else:\n",
    "            TrainingData09.loc[mask.idxmax(), 'Severity_Unknown'] += 1\n",
    "        if weather == 1:\n",
    "            TrainingData09.loc[mask.idxmax(), 'Weather_Clear'] += 1\n",
    "        elif weather == 2:\n",
    "            TrainingData09.loc[mask.idxmax(), 'Weather_Rain'] += 1\n",
    "        elif weather == 3:\n",
    "            TrainingData09.loc[mask.idxmax(), 'Weather_Snow'] += 1\n",
    "        elif weather == 4:\n",
    "            TrainingData09.loc[mask.idxmax(), 'Weather_Fog'] += 1\n",
    "        elif weather == 5:\n",
    "            TrainingData09.loc[mask.idxmax(), 'Weather_Hail'] += 1\n",
    "        elif weather == 6:\n",
    "            TrainingData09.loc[mask.idxmax(), 'Weather_CrossWind'] += 1\n",
    "        elif weather == 7:\n",
    "            TrainingData09.loc[mask.idxmax(), 'Weather_Other'] += 1\n",
    "        else:\n",
    "            TrainingData09.loc[mask.idxmax(), 'Weather_Unknown'] += 1\n",
    "    elif TrainingData09.loc[(TrainingData09.cnty_rte == cntyrte_val) & (TrainingData09.begmp <= mp) & (TrainingData09.endmp >= mp), 'AccCount'].shape[0]==1:\n",
    "        TrainingData09.loc[(TrainingData09.cnty_rte == cntyrte_val) & (TrainingData09.begmp <= mp) & (TrainingData09.endmp >= mp),'AccCount']+=1\n",
    "        if severity == 0:\n",
    "            TrainingData09.loc[(TrainingData09.cnty_rte == cntyrte_val) & (TrainingData09.begmp <= mp) & (TrainingData09.endmp >= mp),'Severity_PDO']+=1\n",
    "        elif severity == 1:\n",
    "            TrainingData09.loc[(TrainingData09.cnty_rte == cntyrte_val) & (TrainingData09.begmp <= mp) & (TrainingData09.endmp >= mp),'Severity_Inj_TypeA']+=1\n",
    "        elif severity == 2:\n",
    "            TrainingData09.loc[(TrainingData09.cnty_rte == cntyrte_val) & (TrainingData09.begmp <= mp) & (TrainingData09.endmp >= mp),'Severity_Inj_TypeB']+=1\n",
    "        elif severity == 3:\n",
    "            TrainingData09.loc[(TrainingData09.cnty_rte == cntyrte_val) & (TrainingData09.begmp <= mp) & (TrainingData09.endmp >= mp),'Severity_Inj_TypeC']+=1\n",
    "        elif severity == 4:\n",
    "            TrainingData09.loc[(TrainingData09.cnty_rte == cntyrte_val) & (TrainingData09.begmp <= mp) & (TrainingData09.endmp >= mp),'Severity_Fatal']+=1\n",
    "        else:\n",
    "            TrainingData09.loc[(TrainingData09.cnty_rte == cntyrte_val) & (TrainingData09.begmp <= mp) & (TrainingData09.endmp >= mp),'Severity_Unknown']+=1\n",
    "        if weather == 1:\n",
    "            TrainingData09.loc[(TrainingData09.cnty_rte == cntyrte_val) & (TrainingData09.begmp <= mp) & (TrainingData09.endmp >= mp),'Weather_Clear']+=1\n",
    "        elif weather == 2:\n",
    "            TrainingData09.loc[(TrainingData09.cnty_rte == cntyrte_val) & (TrainingData09.begmp <= mp) & (TrainingData09.endmp >= mp),'Weather_Rain']+=1\n",
    "        elif weather == 3:\n",
    "            TrainingData09.loc[(TrainingData09.cnty_rte == cntyrte_val) & (TrainingData09.begmp <= mp) & (TrainingData09.endmp >= mp),'Weather_Snow']+=1\n",
    "        elif weather == 4:\n",
    "            TrainingData09.loc[(TrainingData09.cnty_rte == cntyrte_val) & (TrainingData09.begmp <= mp) & (TrainingData09.endmp >= mp),'Weather_Fog']+=1\n",
    "        elif weather == 5:\n",
    "            TrainingData09.loc[(TrainingData09.cnty_rte == cntyrte_val) & (TrainingData09.begmp <= mp) & (TrainingData09.endmp >= mp),'Weather_Hail']+=1\n",
    "        elif weather == 6:\n",
    "            TrainingData09.loc[(TrainingData09.cnty_rte == cntyrte_val) & (TrainingData09.begmp <= mp) & (TrainingData09.endmp >= mp),'Weather_CrossWind']+=1\n",
    "        elif weather == 7:\n",
    "            TrainingData09.loc[(TrainingData09.cnty_rte == cntyrte_val) & (TrainingData09.begmp <= mp) & (TrainingData09.endmp >= mp),'Weather_Other']+=1\n",
    "        else:\n",
    "            TrainingData09.loc[(TrainingData09.cnty_rte == cntyrte_val) & (TrainingData09.begmp <= mp) & (TrainingData09.endmp >= mp),'Weather_Unknown']+=1\n",
    "    else:\n",
    "        print(i)\n",
    "        break"
   ]
  },
  {
   "cell_type": "code",
   "execution_count": 147,
   "metadata": {},
   "outputs": [],
   "source": [
    "TestingData10['AccCount'] = 0\n",
    "#Injury Severity\n",
    "TestingData10['Severity_PDO'] = 0\n",
    "TestingData10['Severity_Inj_TypeA'] = 0\n",
    "TestingData10['Severity_Inj_TypeB'] = 0\n",
    "TestingData10['Severity_Inj_TypeC'] = 0\n",
    "TestingData10['Severity_Fatal'] = 0\n",
    "TestingData10['Severity_Unknown'] = 0 # Unknown\n",
    "#Weather Type\n",
    "TestingData10['Weather_Clear'] = 0\n",
    "TestingData10['Weather_Rain'] = 0\n",
    "TestingData10['Weather_Snow'] = 0\n",
    "TestingData10['Weather_Fog'] = 0\n",
    "TestingData10['Weather_Hail'] = 0\n",
    "TestingData10['Weather_CrossWind'] = 0\n",
    "TestingData10['Weather_Other'] = 0\n",
    "TestingData10['Weather_Unknown'] = 0\n",
    "# Get accident info into AccData df\n",
    "acc_with_mp_overlap_10 = [] #some road locations have same cnty_rte value and end mp of one segment might be after start mp of another segment\n",
    "for i, row in il10acc.iterrows():\n",
    "    if row['caseno'] in caseno_with_pedacc10:\n",
    "        continue\n",
    "    cntyrte_val = row['cntyrte']\n",
    "    mp = row['milepost']\n",
    "    severity = row['severity']\n",
    "    weather = row['weather']\n",
    "    if TestingData10.loc[(TestingData10.cnty_rte == cntyrte_val) & (TestingData10.begmp <= mp) & (TestingData10.endmp >= mp), 'AccCount'].shape[0]>1:\n",
    "        acc_with_mp_overlap_10.append(i)\n",
    "        mask = (TrainingData09.cnty_rte == cntyrte_val) & (TrainingData09.begmp <= mp) & (TrainingData09.endmp >= mp)\n",
    "        TestingData10.loc[mask.idxmax(), 'AccCount'] += 1\n",
    "        if severity == 0:\n",
    "            TestingData10.loc[mask.idxmax(), 'Severity_PDO'] += 1\n",
    "        elif severity == 1:\n",
    "            TestingData10.loc[mask.idxmax(), 'Severity_Inj_TypeA'] += 1\n",
    "        elif severity == 2:\n",
    "            TestingData10.loc[mask.idxmax(), 'Severity_Inj_TypeB'] += 1\n",
    "        elif severity == 3:\n",
    "            TestingData10.loc[mask.idxmax(), 'Severity_Inj_TypeC'] += 1\n",
    "        elif severity == 4:\n",
    "            TestingData10.loc[mask.idxmax(), 'Severity_Fatal'] += 1\n",
    "        else:\n",
    "            TestingData10.loc[mask.idxmax(), 'Severity_Unknown'] += 1\n",
    "        if weather == 1:\n",
    "            TestingData10.loc[mask.idxmax(), 'Weather_Clear'] += 1\n",
    "        elif weather == 2:\n",
    "            TestingData10.loc[mask.idxmax(), 'Weather_Rain'] += 1\n",
    "        elif weather == 3:\n",
    "            TestingData10.loc[mask.idxmax(), 'Weather_Snow'] += 1\n",
    "        elif weather == 4:\n",
    "            TestingData10.loc[mask.idxmax(), 'Weather_Fog'] += 1\n",
    "        elif weather == 5:\n",
    "            TestingData10.loc[mask.idxmax(), 'Weather_Hail'] += 1\n",
    "        elif weather == 6:\n",
    "            TestingData10.loc[mask.idxmax(), 'Weather_CrossWind'] += 1\n",
    "        elif weather == 7:\n",
    "            TestingData10.loc[mask.idxmax(), 'Weather_Other'] += 1\n",
    "        else:\n",
    "            TestingData10.loc[mask.idxmax(), 'Weather_Unknown'] += 1\n",
    "    elif TestingData10.loc[(TestingData10.cnty_rte == cntyrte_val) & (TestingData10.begmp <= mp) & (TestingData10.endmp >= mp), 'AccCount'].shape[0]==1:\n",
    "        TestingData10.loc[(TestingData10.cnty_rte == cntyrte_val) & (TestingData10.begmp <= mp) & (TestingData10.endmp >= mp),'AccCount']+=1\n",
    "        if severity == 0:\n",
    "            TestingData10.loc[(TestingData10.cnty_rte == cntyrte_val) & (TestingData10.begmp <= mp) & (TestingData10.endmp >= mp),'Severity_PDO']+=1\n",
    "        elif severity == 1:\n",
    "            TestingData10.loc[(TestingData10.cnty_rte == cntyrte_val) & (TestingData10.begmp <= mp) & (TestingData10.endmp >= mp),'Severity_Inj_TypeA']+=1\n",
    "        elif severity == 2:\n",
    "            TestingData10.loc[(TestingData10.cnty_rte == cntyrte_val) & (TestingData10.begmp <= mp) & (TestingData10.endmp >= mp),'Severity_Inj_TypeB']+=1\n",
    "        elif severity == 3:\n",
    "            TestingData10.loc[(TestingData10.cnty_rte == cntyrte_val) & (TestingData10.begmp <= mp) & (TestingData10.endmp >= mp),'Severity_Inj_TypeC']+=1\n",
    "        elif severity == 4:\n",
    "            TestingData10.loc[(TestingData10.cnty_rte == cntyrte_val) & (TestingData10.begmp <= mp) & (TestingData10.endmp >= mp),'Severity_Fatal']+=1\n",
    "        else:\n",
    "            TestingData10.loc[(TestingData10.cnty_rte == cntyrte_val) & (TestingData10.begmp <= mp) & (TestingData10.endmp >= mp),'Severity_Unknown']+=1\n",
    "        if weather == 1:\n",
    "            TestingData10.loc[(TestingData10.cnty_rte == cntyrte_val) & (TestingData10.begmp <= mp) & (TestingData10.endmp >= mp),'Weather_Clear']+=1\n",
    "        elif weather == 2:\n",
    "            TestingData10.loc[(TestingData10.cnty_rte == cntyrte_val) & (TestingData10.begmp <= mp) & (TestingData10.endmp >= mp),'Weather_Rain']+=1\n",
    "        elif weather == 3:\n",
    "            TestingData10.loc[(TestingData10.cnty_rte == cntyrte_val) & (TestingData10.begmp <= mp) & (TestingData10.endmp >= mp),'Weather_Snow']+=1\n",
    "        elif weather == 4:\n",
    "            TestingData10.loc[(TestingData10.cnty_rte == cntyrte_val) & (TestingData10.begmp <= mp) & (TestingData10.endmp >= mp),'Weather_Fog']+=1\n",
    "        elif weather == 5:\n",
    "            TestingData10.loc[(TestingData10.cnty_rte == cntyrte_val) & (TestingData10.begmp <= mp) & (TestingData10.endmp >= mp),'Weather_Hail']+=1\n",
    "        elif weather == 6:\n",
    "            TestingData10.loc[(TestingData10.cnty_rte == cntyrte_val) & (TestingData10.begmp <= mp) & (TestingData10.endmp >= mp),'Weather_CrossWind']+=1\n",
    "        elif weather == 7:\n",
    "            TestingData10.loc[(TestingData10.cnty_rte == cntyrte_val) & (TestingData10.begmp <= mp) & (TestingData10.endmp >= mp),'Weather_Other']+=1\n",
    "        else:\n",
    "            TestingData10.loc[(TestingData10.cnty_rte == cntyrte_val) & (TestingData10.begmp <= mp) & (TestingData10.endmp >= mp),'Weather_Unknown']+=1\n",
    "    else:\n",
    "        print(i)\n",
    "        break"
   ]
  },
  {
   "cell_type": "code",
   "execution_count": 106,
   "metadata": {},
   "outputs": [],
   "source": [
    "# Get accident info into AccData df\n",
    "#acc_with_mp_overlap = [] #some road locations have same cnty_rte value and end mp of one segment might be after start mp of another segment\n",
    "#for i, row in il_acc_train.iterrows():\n",
    "#    cntyrte_val = row['cntyrte']\n",
    "#    mp = row['milepost']\n",
    "#    if AllData06.loc[(AllData06.cnty_rte == cntyrte_val) & (AllData06.begmp <= mp) & (AllData06.endmp >= mp), 'AccCount'].shape[0]>1:\n",
    "#        acc_with_mp_overlap.append(i)\n",
    "#        mask = (AllData06.cnty_rte == cntyrte_val) & (AllData06.begmp <= mp) & (AllData06.endmp >= mp)\n",
    "#        AllData06.loc[mask.idxmax(), 'AccCount'] += 1\n",
    "##        AllData06.loc[(AllData06.cnty_rte == cntyrte_val) & (AllData06.begmp <= mp) & (AllData06.endmp >= mp)].iloc[0]['AccCount']+=1\n",
    "#    elif AllData06.loc[(AllData06.cnty_rte == cntyrte_val) & (AllData06.begmp <= mp) & (AllData06.endmp >= mp), 'AccCount'].shape[0]==1:\n",
    "#        AllData06.loc[(AllData06.cnty_rte == cntyrte_val) & (AllData06.begmp <= mp) & (AllData06.endmp >= mp),'AccCount']+=1\n",
    "#    else:\n",
    "#        print(i)\n",
    "#        break\n",
    "    "
   ]
  },
  {
   "cell_type": "code",
   "execution_count": 87,
   "metadata": {},
   "outputs": [],
   "source": []
  },
  {
   "cell_type": "code",
   "execution_count": null,
   "metadata": {},
   "outputs": [],
   "source": [
    "ped_acc06 = il06acc.caseno.isin(caseno_with_pedacc06)\n",
    "trueIndex_ped_acc06 = [i for i, x in enumerate(ped_acc06) if x]"
   ]
  },
  {
   "cell_type": "code",
   "execution_count": 104,
   "metadata": {},
   "outputs": [
    {
     "name": "stdout",
     "output_type": "stream",
     "text": [
      "197859\n",
      "201773\n",
      "(201773, 10)\n"
     ]
    }
   ],
   "source": [
    "print(sum(TrainingData06['AccCount']))\n",
    "print(sum(TrainingData06['AccCount'])+len(np.unique(caseno_with_pedacc06)))\n",
    "print(il06acc.shape)"
   ]
  },
  {
   "cell_type": "code",
   "execution_count": 138,
   "metadata": {},
   "outputs": [
    {
     "name": "stdout",
     "output_type": "stream",
     "text": [
      "207911\n",
      "4579\n",
      "4670\n",
      "212490\n",
      "(212489, 10)\n"
     ]
    }
   ],
   "source": [
    "print(sum(TrainingData07['AccCount']))\n",
    "print(len(np.unique(caseno_with_pedacc07)))\n",
    "print(len(caseno_with_pedacc07))\n",
    "print(sum(TrainingData07['AccCount'])+len(np.unique(caseno_with_pedacc07)))\n",
    "print(il07acc.shape)"
   ]
  },
  {
   "cell_type": "code",
   "execution_count": 137,
   "metadata": {},
   "outputs": [
    {
     "name": "stdout",
     "output_type": "stream",
     "text": [
      "203723\n",
      "4631\n",
      "4761\n",
      "208354\n",
      "(208357, 10)\n"
     ]
    }
   ],
   "source": [
    "print(sum(TrainingData08['AccCount']))\n",
    "print(len(np.unique(caseno_with_pedacc08)))\n",
    "print(len(caseno_with_pedacc08))\n",
    "print(sum(TrainingData08['AccCount'])+len(np.unique(caseno_with_pedacc08)))\n",
    "print(il08acc.shape)"
   ]
  },
  {
   "cell_type": "code",
   "execution_count": 124,
   "metadata": {},
   "outputs": [
    {
     "name": "stdout",
     "output_type": "stream",
     "text": [
      "140565\n",
      "144191\n",
      "(144191, 10)\n"
     ]
    }
   ],
   "source": [
    "print(sum(TrainingData09['AccCount']))\n",
    "print(sum(TrainingData09['AccCount'])+len(np.unique(caseno_with_pedacc09)))\n",
    "print(il09acc.shape)"
   ]
  },
  {
   "cell_type": "code",
   "execution_count": 148,
   "metadata": {},
   "outputs": [
    {
     "name": "stdout",
     "output_type": "stream",
     "text": [
      "140739\n",
      "144512\n",
      "(144512, 10)\n"
     ]
    }
   ],
   "source": [
    "print(sum(TestingData10['AccCount']))\n",
    "print(sum(TestingData10['AccCount'])+len(np.unique(caseno_with_pedacc10)))\n",
    "print(il10acc.shape)"
   ]
  },
  {
   "cell_type": "code",
   "execution_count": 135,
   "metadata": {},
   "outputs": [],
   "source": [
    "TrainingData06.to_csv('Unfiltered_MergedData_06.csv', index=False)\n",
    "TrainingData07.to_csv('Unfiltered_MergedData_07.csv', index=False)\n",
    "TrainingData08.to_csv('Unfiltered_MergedData_08.csv', index=False)\n",
    "TrainingData09.to_csv('Unfiltered_MergedData_09.csv', index=False)"
   ]
  },
  {
   "cell_type": "code",
   "execution_count": 150,
   "metadata": {},
   "outputs": [],
   "source": [
    "TestingData10.to_csv('Unfiltered_MergedData_10.csv', index=False)"
   ]
  },
  {
   "cell_type": "code",
   "execution_count": 295,
   "metadata": {},
   "outputs": [
    {
     "data": {
      "text/html": [
       "<div>\n",
       "<style scoped>\n",
       "    .dataframe tbody tr th:only-of-type {\n",
       "        vertical-align: middle;\n",
       "    }\n",
       "\n",
       "    .dataframe tbody tr th {\n",
       "        vertical-align: top;\n",
       "    }\n",
       "\n",
       "    .dataframe thead th {\n",
       "        text-align: right;\n",
       "    }\n",
       "</style>\n",
       "<table border=\"1\" class=\"dataframe\">\n",
       "  <thead>\n",
       "    <tr style=\"text-align: right;\">\n",
       "      <th></th>\n",
       "      <th>medwid</th>\n",
       "      <th>no_lanes</th>\n",
       "      <th>lanewid</th>\n",
       "      <th>aadt</th>\n",
       "      <th>trf_cntl</th>\n",
       "      <th>curv_rad</th>\n",
       "      <th>begmp</th>\n",
       "      <th>seg_lng</th>\n",
       "      <th>endmp</th>\n",
       "      <th>access</th>\n",
       "      <th>oneway</th>\n",
       "      <th>spd_limt</th>\n",
       "      <th>med_type</th>\n",
       "      <th>surf_typ</th>\n",
       "      <th>cnty_rte</th>\n",
       "      <th>rururb</th>\n",
       "      <th>rodwycls</th>\n",
       "      <th>AccCount</th>\n",
       "    </tr>\n",
       "  </thead>\n",
       "  <tbody>\n",
       "    <tr>\n",
       "      <th>344</th>\n",
       "      <td>0</td>\n",
       "      <td>2</td>\n",
       "      <td>12</td>\n",
       "      <td>5900</td>\n",
       "      <td>NaN</td>\n",
       "      <td>0</td>\n",
       "      <td>0.61</td>\n",
       "      <td>0.04</td>\n",
       "      <td>0.65</td>\n",
       "      <td>0</td>\n",
       "      <td>1</td>\n",
       "      <td>30</td>\n",
       "      <td>0</td>\n",
       "      <td>630</td>\n",
       "      <td>14024</td>\n",
       "      <td>2</td>\n",
       "      <td>99</td>\n",
       "      <td>1</td>\n",
       "    </tr>\n",
       "    <tr>\n",
       "      <th>345</th>\n",
       "      <td>0</td>\n",
       "      <td>2</td>\n",
       "      <td>12</td>\n",
       "      <td>5900</td>\n",
       "      <td>1</td>\n",
       "      <td>0</td>\n",
       "      <td>0.65</td>\n",
       "      <td>0.05</td>\n",
       "      <td>0.70</td>\n",
       "      <td>0</td>\n",
       "      <td>1</td>\n",
       "      <td>30</td>\n",
       "      <td>0</td>\n",
       "      <td>630</td>\n",
       "      <td>14024</td>\n",
       "      <td>2</td>\n",
       "      <td>99</td>\n",
       "      <td>0</td>\n",
       "    </tr>\n",
       "  </tbody>\n",
       "</table>\n",
       "</div>"
      ],
      "text/plain": [
       "     medwid  no_lanes  lanewid  aadt trf_cntl  curv_rad  begmp  seg_lng  \\\n",
       "344       0         2       12  5900      NaN         0   0.61     0.04   \n",
       "345       0         2       12  5900        1         0   0.65     0.05   \n",
       "\n",
       "     endmp  access  oneway  spd_limt  med_type  surf_typ  cnty_rte  rururb  \\\n",
       "344   0.65       0       1        30         0       630     14024       2   \n",
       "345   0.70       0       1        30         0       630     14024       2   \n",
       "\n",
       "     rodwycls  AccCount  \n",
       "344        99         1  \n",
       "345        99         0  "
      ]
     },
     "execution_count": 295,
     "metadata": {},
     "output_type": "execute_result"
    }
   ],
   "source": [
    "AllData06[(AllData06.cnty_rte == 14024)  & (AllData06.begmp <= 0.65) & (AllData06.endmp >= 0.65)]"
   ]
  },
  {
   "cell_type": "code",
   "execution_count": 116,
   "metadata": {},
   "outputs": [
    {
     "data": {
      "text/plain": [
       "0      110632\n",
       "1       23084\n",
       "2        8748\n",
       "3        4539\n",
       "4        2867\n",
       "        ...  \n",
       "132         1\n",
       "80          1\n",
       "79          1\n",
       "78          1\n",
       "111         1\n",
       "Name: AccCount, Length: 87, dtype: int64"
      ]
     },
     "execution_count": 116,
     "metadata": {},
     "output_type": "execute_result"
    }
   ],
   "source": [
    "AllData06.AccCount.value_counts()"
   ]
  },
  {
   "cell_type": "code",
   "execution_count": null,
   "metadata": {},
   "outputs": [],
   "source": []
  },
  {
   "cell_type": "code",
   "execution_count": 115,
   "metadata": {},
   "outputs": [
    {
     "data": {
      "text/plain": [
       "<matplotlib.axes._subplots.AxesSubplot at 0x11e4ffed0>"
      ]
     },
     "execution_count": 115,
     "metadata": {},
     "output_type": "execute_result"
    },
    {
     "data": {
      "image/png": "[encoded data removed]",
      "text/plain": [
       "<Figure size 432x288 with 1 Axes>"
      ]
     },
     "metadata": {},
     "output_type": "display_data"
    }
   ],
   "source": [
    "AllData06.AccCount.value_counts(bins = 10).plot(kind='bar')"
   ]
  },
  {
   "cell_type": "code",
   "execution_count": 118,
   "metadata": {},
   "outputs": [
    {
     "data": {
      "text/plain": [
       "Int64Index([  0,   1,   2,   3,   4,   5,   6,   7,   8,   9,  10,  11,  12,\n",
       "             13,  14,  15,  16,  17,  18,  19,  20,  21,  23,  22,  24,  25,\n",
       "             27,  28,  26,  29,  30,  35,  36,  33,  32,  31,  34,  37,  40,\n",
       "             38,  39,  45,  43,  41,  48,  42,  46,  44,  52,  50,  49,  51,\n",
       "             47,  56,  60,  57,  53,  54,  58,  59,  61,  63,  55,  67,  74,\n",
       "             76,  65,  77,  70,  71,  62,  66,  64,  69,  68,  75,  91,  83,\n",
       "             84,  89,  85,  95, 132,  80,  79,  78, 111],\n",
       "           dtype='int64')"
      ]
     },
     "execution_count": 118,
     "metadata": {},
     "output_type": "execute_result"
    }
   ],
   "source": [
    "AllData06.AccCount.value_counts().index"
   ]
  },
  {
   "cell_type": "code",
   "execution_count": 119,
   "metadata": {},
   "outputs": [
    {
     "data": {
      "text/plain": [
       "Index(['medwid', 'no_lanes', 'lanewid', 'aadt', 'trf_cntl', 'curv_rad',\n",
       "       'begmp', 'seg_lng', 'endmp', 'access', 'oneway', 'spd_limt', 'med_type',\n",
       "       'surf_typ', 'cnty_rte', 'rururb', 'rodwycls', 'AccCount'],\n",
       "      dtype='object')"
      ]
     },
     "execution_count": 119,
     "metadata": {},
     "output_type": "execute_result"
    }
   ],
   "source": [
    "AllData06.columns"
   ]
  },
  {
   "cell_type": "code",
   "execution_count": 120,
   "metadata": {},
   "outputs": [
    {
     "data": {
      "text/plain": [
       "1    25575\n",
       "A    10775\n",
       "0     8007\n",
       "N     6609\n",
       "9     6341\n",
       "8     6078\n",
       "5      475\n",
       "6      386\n",
       "2      369\n",
       "4      272\n",
       "7      240\n",
       "3      172\n",
       "B       21\n",
       "Name: trf_cntl, dtype: int64"
      ]
     },
     "execution_count": 120,
     "metadata": {},
     "output_type": "execute_result"
    }
   ],
   "source": [
    "AllData06.trf_cntl.value_counts()"
   ]
  },
  {
   "cell_type": "code",
   "execution_count": 121,
   "metadata": {},
   "outputs": [
    {
     "data": {
      "text/plain": [
       "<matplotlib.axes._subplots.AxesSubplot at 0x12c17a310>"
      ]
     },
     "execution_count": 121,
     "metadata": {},
     "output_type": "execute_result"
    },
    {
     "data": {
      "image/png": "[encoded data removed]",
      "text/plain": [
       "<Figure size 432x288 with 1 Axes>"
      ]
     },
     "metadata": {},
     "output_type": "display_data"
    }
   ],
   "source": [
    "AllData06.plot.scatter(x = 'medwid', y ='AccCount')"
   ]
  },
  {
   "cell_type": "code",
   "execution_count": 122,
   "metadata": {},
   "outputs": [
    {
     "data": {
      "text/plain": [
       "<matplotlib.axes._subplots.AxesSubplot at 0x12c1663d0>"
      ]
     },
     "execution_count": 122,
     "metadata": {},
     "output_type": "execute_result"
    },
    {
     "data": {
      "image/png": "[encoded data removed]",
      "text/plain": [
       "<Figure size 432x288 with 1 Axes>"
      ]
     },
     "metadata": {},
     "output_type": "display_data"
    }
   ],
   "source": [
    "AllData06.plot.scatter(x = 'no_lanes', y ='AccCount')"
   ]
  },
  {
   "cell_type": "code",
   "execution_count": 123,
   "metadata": {},
   "outputs": [
    {
     "data": {
      "text/plain": [
       "<matplotlib.axes._subplots.AxesSubplot at 0x12c154210>"
      ]
     },
     "execution_count": 123,
     "metadata": {},
     "output_type": "execute_result"
    },
    {
     "data": {
      "image/png": "[encoded data removed]",
      "text/plain": [
       "<Figure size 432x288 with 1 Axes>"
      ]
     },
     "metadata": {},
     "output_type": "display_data"
    }
   ],
   "source": [
    "AllData06.plot.scatter(x = 'lanewid', y ='AccCount')"
   ]
  },
  {
   "cell_type": "code",
   "execution_count": 124,
   "metadata": {},
   "outputs": [
    {
     "data": {
      "text/plain": [
       "<matplotlib.axes._subplots.AxesSubplot at 0x12c2f9910>"
      ]
     },
     "execution_count": 124,
     "metadata": {},
     "output_type": "execute_result"
    },
    {
     "data": {
      "image/png": "[encoded data removed]",
      "text/plain": [
       "<Figure size 432x288 with 1 Axes>"
      ]
     },
     "metadata": {},
     "output_type": "display_data"
    }
   ],
   "source": [
    "AllData06.plot.scatter(x = 'aadt', y ='AccCount')"
   ]
  },
  {
   "cell_type": "code",
   "execution_count": 126,
   "metadata": {},
   "outputs": [
    {
     "data": {
      "text/plain": [
       "<matplotlib.axes._subplots.AxesSubplot at 0x12c22bf50>"
      ]
     },
     "execution_count": 126,
     "metadata": {},
     "output_type": "execute_result"
    },
    {
     "data": {
      "image/png": "[encoded data removed]",
      "text/plain": [
       "<Figure size 432x288 with 1 Axes>"
      ]
     },
     "metadata": {},
     "output_type": "display_data"
    }
   ],
   "source": [
    "AllData06.plot.scatter(x = 'seg_lng', y ='AccCount')"
   ]
  },
  {
   "cell_type": "code",
   "execution_count": 127,
   "metadata": {},
   "outputs": [
    {
     "data": {
      "text/plain": [
       "<matplotlib.axes._subplots.AxesSubplot at 0x12c161050>"
      ]
     },
     "execution_count": 127,
     "metadata": {},
     "output_type": "execute_result"
    },
    {
     "data": {
      "image/png": "[encoded data removed]",
      "text/plain": [
       "<Figure size 432x288 with 1 Axes>"
      ]
     },
     "metadata": {},
     "output_type": "display_data"
    }
   ],
   "source": [
    "AllData06.plot.scatter(x = 'access', y ='AccCount')"
   ]
  },
  {
   "cell_type": "code",
   "execution_count": 128,
   "metadata": {},
   "outputs": [
    {
     "data": {
      "text/plain": [
       "<matplotlib.axes._subplots.AxesSubplot at 0x12be6d210>"
      ]
     },
     "execution_count": 128,
     "metadata": {},
     "output_type": "execute_result"
    },
    {
     "data": {
      "image/png": "[encoded data removed]",
      "text/plain": [
       "<Figure size 432x288 with 1 Axes>"
      ]
     },
     "metadata": {},
     "output_type": "display_data"
    }
   ],
   "source": [
    "AllData06.plot.scatter(x = 'oneway', y ='AccCount')"
   ]
  },
  {
   "cell_type": "code",
   "execution_count": 129,
   "metadata": {},
   "outputs": [
    {
     "data": {
      "text/plain": [
       "<matplotlib.axes._subplots.AxesSubplot at 0x12becefd0>"
      ]
     },
     "execution_count": 129,
     "metadata": {},
     "output_type": "execute_result"
    },
    {
     "data": {
      "image/png": "[encoded data removed]",
      "text/plain": [
       "<Figure size 432x288 with 1 Axes>"
      ]
     },
     "metadata": {},
     "output_type": "display_data"
    }
   ],
   "source": [
    "AllData06.plot.scatter(x = 'spd_limt', y ='AccCount')"
   ]
  },
  {
   "cell_type": "code",
   "execution_count": 130,
   "metadata": {},
   "outputs": [
    {
     "data": {
      "text/plain": [
       "<matplotlib.axes._subplots.AxesSubplot at 0x12bf10250>"
      ]
     },
     "execution_count": 130,
     "metadata": {},
     "output_type": "execute_result"
    },
    {
     "data": {
      "image/png": "[encoded data removed]",
      "text/plain": [
       "<Figure size 432x288 with 1 Axes>"
      ]
     },
     "metadata": {},
     "output_type": "display_data"
    }
   ],
   "source": [
    "AllData06.plot.scatter(x = 'med_type', y ='AccCount')"
   ]
  },
  {
   "cell_type": "code",
   "execution_count": 131,
   "metadata": {},
   "outputs": [
    {
     "data": {
      "text/plain": [
       "<matplotlib.axes._subplots.AxesSubplot at 0x12bf2c690>"
      ]
     },
     "execution_count": 131,
     "metadata": {},
     "output_type": "execute_result"
    },
    {
     "data": {
      "image/png": "[encoded data removed]",
      "text/plain": [
       "<Figure size 432x288 with 1 Axes>"
      ]
     },
     "metadata": {},
     "output_type": "display_data"
    }
   ],
   "source": [
    "AllData06.plot.scatter(x = 'surf_typ', y ='AccCount')"
   ]
  },
  {
   "cell_type": "code",
   "execution_count": 132,
   "metadata": {},
   "outputs": [
    {
     "data": {
      "text/plain": [
       "<matplotlib.axes._subplots.AxesSubplot at 0x13ff5fe90>"
      ]
     },
     "execution_count": 132,
     "metadata": {},
     "output_type": "execute_result"
    },
    {
     "data": {
      "image/png": "[encoded data removed]",
      "text/plain": [
       "<Figure size 432x288 with 1 Axes>"
      ]
     },
     "metadata": {},
     "output_type": "display_data"
    }
   ],
   "source": [
    "AllData06.plot.scatter(x = 'rururb', y ='AccCount')"
   ]
  },
  {
   "cell_type": "code",
   "execution_count": 133,
   "metadata": {},
   "outputs": [
    {
     "data": {
      "text/plain": [
       "<matplotlib.axes._subplots.AxesSubplot at 0x13ffe1fd0>"
      ]
     },
     "execution_count": 133,
     "metadata": {},
     "output_type": "execute_result"
    },
    {
     "data": {
      "image/png": "[encoded data removed]",
      "text/plain": [
       "<Figure size 432x288 with 1 Axes>"
      ]
     },
     "metadata": {},
     "output_type": "display_data"
    }
   ],
   "source": [
    "AllData06.plot.scatter(x = 'rodwycls', y ='AccCount')"
   ]
  },
  {
   "cell_type": "code",
   "execution_count": 134,
   "metadata": {},
   "outputs": [
    {
     "data": {
      "text/html": [
       "<style  type=\"text/css\" >\n",
       "    #T_a111dd0e_77b6_11eb_a9d3_a0999b1609f9row0_col0 {\n",
       "            background-color:  #b40426;\n",
       "            color:  #f1f1f1;\n",
       "        }    #T_a111dd0e_77b6_11eb_a9d3_a0999b1609f9row0_col1 {\n",
       "            background-color:  #d3dbe7;\n",
       "            color:  #000000;\n",
       "        }    #T_a111dd0e_77b6_11eb_a9d3_a0999b1609f9row0_col2 {\n",
       "            background-color:  #5e7de7;\n",
       "            color:  #000000;\n",
       "        }    #T_a111dd0e_77b6_11eb_a9d3_a0999b1609f9row0_col3 {\n",
       "            background-color:  #abc8fd;\n",
       "            color:  #000000;\n",
       "        }    #T_a111dd0e_77b6_11eb_a9d3_a0999b1609f9row0_col4 {\n",
       "            background-color:  #7699f6;\n",
       "            color:  #000000;\n",
       "        }    #T_a111dd0e_77b6_11eb_a9d3_a0999b1609f9row0_col5 {\n",
       "            background-color:  #f3c8b2;\n",
       "            color:  #000000;\n",
       "        }    #T_a111dd0e_77b6_11eb_a9d3_a0999b1609f9row0_col6 {\n",
       "            background-color:  #dddcdc;\n",
       "            color:  #000000;\n",
       "        }    #T_a111dd0e_77b6_11eb_a9d3_a0999b1609f9row0_col7 {\n",
       "            background-color:  #a6c4fe;\n",
       "            color:  #000000;\n",
       "        }    #T_a111dd0e_77b6_11eb_a9d3_a0999b1609f9row0_col8 {\n",
       "            background-color:  #98b9ff;\n",
       "            color:  #000000;\n",
       "        }    #T_a111dd0e_77b6_11eb_a9d3_a0999b1609f9row0_col9 {\n",
       "            background-color:  #93b5fe;\n",
       "            color:  #000000;\n",
       "        }    #T_a111dd0e_77b6_11eb_a9d3_a0999b1609f9row0_col10 {\n",
       "            background-color:  #799cf8;\n",
       "            color:  #000000;\n",
       "        }    #T_a111dd0e_77b6_11eb_a9d3_a0999b1609f9row0_col11 {\n",
       "            background-color:  #cdd9ec;\n",
       "            color:  #000000;\n",
       "        }    #T_a111dd0e_77b6_11eb_a9d3_a0999b1609f9row0_col12 {\n",
       "            background-color:  #4961d2;\n",
       "            color:  #f1f1f1;\n",
       "        }    #T_a111dd0e_77b6_11eb_a9d3_a0999b1609f9row1_col0 {\n",
       "            background-color:  #cdd9ec;\n",
       "            color:  #000000;\n",
       "        }    #T_a111dd0e_77b6_11eb_a9d3_a0999b1609f9row1_col1 {\n",
       "            background-color:  #b40426;\n",
       "            color:  #f1f1f1;\n",
       "        }    #T_a111dd0e_77b6_11eb_a9d3_a0999b1609f9row1_col2 {\n",
       "            background-color:  #4f69d9;\n",
       "            color:  #000000;\n",
       "        }    #T_a111dd0e_77b6_11eb_a9d3_a0999b1609f9row1_col3 {\n",
       "            background-color:  #f49a7b;\n",
       "            color:  #000000;\n",
       "        }    #T_a111dd0e_77b6_11eb_a9d3_a0999b1609f9row1_col4 {\n",
       "            background-color:  #5a78e4;\n",
       "            color:  #000000;\n",
       "        }    #T_a111dd0e_77b6_11eb_a9d3_a0999b1609f9row1_col5 {\n",
       "            background-color:  #edd1c2;\n",
       "            color:  #000000;\n",
       "        }    #T_a111dd0e_77b6_11eb_a9d3_a0999b1609f9row1_col6 {\n",
       "            background-color:  #dcdddd;\n",
       "            color:  #000000;\n",
       "        }    #T_a111dd0e_77b6_11eb_a9d3_a0999b1609f9row1_col7 {\n",
       "            background-color:  #93b5fe;\n",
       "            color:  #000000;\n",
       "        }    #T_a111dd0e_77b6_11eb_a9d3_a0999b1609f9row1_col8 {\n",
       "            background-color:  #e1dad6;\n",
       "            color:  #000000;\n",
       "        }    #T_a111dd0e_77b6_11eb_a9d3_a0999b1609f9row1_col9 {\n",
       "            background-color:  #abc8fd;\n",
       "            color:  #000000;\n",
       "        }    #T_a111dd0e_77b6_11eb_a9d3_a0999b1609f9row1_col10 {\n",
       "            background-color:  #e8d6cc;\n",
       "            color:  #000000;\n",
       "        }    #T_a111dd0e_77b6_11eb_a9d3_a0999b1609f9row1_col11 {\n",
       "            background-color:  #c6d6f1;\n",
       "            color:  #000000;\n",
       "        }    #T_a111dd0e_77b6_11eb_a9d3_a0999b1609f9row1_col12 {\n",
       "            background-color:  #96b7ff;\n",
       "            color:  #000000;\n",
       "        }    #T_a111dd0e_77b6_11eb_a9d3_a0999b1609f9row2_col0 {\n",
       "            background-color:  #5e7de7;\n",
       "            color:  #000000;\n",
       "        }    #T_a111dd0e_77b6_11eb_a9d3_a0999b1609f9row2_col1 {\n",
       "            background-color:  #5a78e4;\n",
       "            color:  #000000;\n",
       "        }    #T_a111dd0e_77b6_11eb_a9d3_a0999b1609f9row2_col2 {\n",
       "            background-color:  #b40426;\n",
       "            color:  #f1f1f1;\n",
       "        }    #T_a111dd0e_77b6_11eb_a9d3_a0999b1609f9row2_col3 {\n",
       "            background-color:  #6384eb;\n",
       "            color:  #000000;\n",
       "        }    #T_a111dd0e_77b6_11eb_a9d3_a0999b1609f9row2_col4 {\n",
       "            background-color:  #5673e0;\n",
       "            color:  #000000;\n",
       "        }    #T_a111dd0e_77b6_11eb_a9d3_a0999b1609f9row2_col5 {\n",
       "            background-color:  #6687ed;\n",
       "            color:  #000000;\n",
       "        }    #T_a111dd0e_77b6_11eb_a9d3_a0999b1609f9row2_col6 {\n",
       "            background-color:  #cdd9ec;\n",
       "            color:  #000000;\n",
       "        }    #T_a111dd0e_77b6_11eb_a9d3_a0999b1609f9row2_col7 {\n",
       "            background-color:  #6f92f3;\n",
       "            color:  #000000;\n",
       "        }    #T_a111dd0e_77b6_11eb_a9d3_a0999b1609f9row2_col8 {\n",
       "            background-color:  #7597f6;\n",
       "            color:  #000000;\n",
       "        }    #T_a111dd0e_77b6_11eb_a9d3_a0999b1609f9row2_col9 {\n",
       "            background-color:  #9dbdff;\n",
       "            color:  #000000;\n",
       "        }    #T_a111dd0e_77b6_11eb_a9d3_a0999b1609f9row2_col10 {\n",
       "            background-color:  #6f92f3;\n",
       "            color:  #000000;\n",
       "        }    #T_a111dd0e_77b6_11eb_a9d3_a0999b1609f9row2_col11 {\n",
       "            background-color:  #d8dce2;\n",
       "            color:  #000000;\n",
       "        }    #T_a111dd0e_77b6_11eb_a9d3_a0999b1609f9row2_col12 {\n",
       "            background-color:  #4257c9;\n",
       "            color:  #f1f1f1;\n",
       "        }    #T_a111dd0e_77b6_11eb_a9d3_a0999b1609f9row3_col0 {\n",
       "            background-color:  #a3c2fe;\n",
       "            color:  #000000;\n",
       "        }    #T_a111dd0e_77b6_11eb_a9d3_a0999b1609f9row3_col1 {\n",
       "            background-color:  #f49a7b;\n",
       "            color:  #000000;\n",
       "        }    #T_a111dd0e_77b6_11eb_a9d3_a0999b1609f9row3_col2 {\n",
       "            background-color:  #5977e3;\n",
       "            color:  #000000;\n",
       "        }    #T_a111dd0e_77b6_11eb_a9d3_a0999b1609f9row3_col3 {\n",
       "            background-color:  #b40426;\n",
       "            color:  #f1f1f1;\n",
       "        }    #T_a111dd0e_77b6_11eb_a9d3_a0999b1609f9row3_col4 {\n",
       "            background-color:  #5d7ce6;\n",
       "            color:  #000000;\n",
       "        }    #T_a111dd0e_77b6_11eb_a9d3_a0999b1609f9row3_col5 {\n",
       "            background-color:  #e0dbd8;\n",
       "            color:  #000000;\n",
       "        }    #T_a111dd0e_77b6_11eb_a9d3_a0999b1609f9row3_col6 {\n",
       "            background-color:  #dbdcde;\n",
       "            color:  #000000;\n",
       "        }    #T_a111dd0e_77b6_11eb_a9d3_a0999b1609f9row3_col7 {\n",
       "            background-color:  #8badfd;\n",
       "            color:  #000000;\n",
       "        }    #T_a111dd0e_77b6_11eb_a9d3_a0999b1609f9row3_col8 {\n",
       "            background-color:  #c6d6f1;\n",
       "            color:  #000000;\n",
       "        }    #T_a111dd0e_77b6_11eb_a9d3_a0999b1609f9row3_col9 {\n",
       "            background-color:  #89acfd;\n",
       "            color:  #000000;\n",
       "        }    #T_a111dd0e_77b6_11eb_a9d3_a0999b1609f9row3_col10 {\n",
       "            background-color:  #d7dce3;\n",
       "            color:  #000000;\n",
       "        }    #T_a111dd0e_77b6_11eb_a9d3_a0999b1609f9row3_col11 {\n",
       "            background-color:  #c7d7f0;\n",
       "            color:  #000000;\n",
       "        }    #T_a111dd0e_77b6_11eb_a9d3_a0999b1609f9row3_col12 {\n",
       "            background-color:  #98b9ff;\n",
       "            color:  #000000;\n",
       "        }    #T_a111dd0e_77b6_11eb_a9d3_a0999b1609f9row4_col0 {\n",
       "            background-color:  #5f7fe8;\n",
       "            color:  #000000;\n",
       "        }    #T_a111dd0e_77b6_11eb_a9d3_a0999b1609f9row4_col1 {\n",
       "            background-color:  #4c66d6;\n",
       "            color:  #000000;\n",
       "        }    #T_a111dd0e_77b6_11eb_a9d3_a0999b1609f9row4_col2 {\n",
       "            background-color:  #3e51c5;\n",
       "            color:  #f1f1f1;\n",
       "        }    #T_a111dd0e_77b6_11eb_a9d3_a0999b1609f9row4_col3 {\n",
       "            background-color:  #4f69d9;\n",
       "            color:  #000000;\n",
       "        }    #T_a111dd0e_77b6_11eb_a9d3_a0999b1609f9row4_col4 {\n",
       "            background-color:  #b40426;\n",
       "            color:  #f1f1f1;\n",
       "        }    #T_a111dd0e_77b6_11eb_a9d3_a0999b1609f9row4_col5 {\n",
       "            background-color:  #6c8ff1;\n",
       "            color:  #000000;\n",
       "        }    #T_a111dd0e_77b6_11eb_a9d3_a0999b1609f9row4_col6 {\n",
       "            background-color:  #dddcdc;\n",
       "            color:  #000000;\n",
       "        }    #T_a111dd0e_77b6_11eb_a9d3_a0999b1609f9row4_col7 {\n",
       "            background-color:  #6c8ff1;\n",
       "            color:  #000000;\n",
       "        }    #T_a111dd0e_77b6_11eb_a9d3_a0999b1609f9row4_col8 {\n",
       "            background-color:  #4358cb;\n",
       "            color:  #f1f1f1;\n",
       "        }    #T_a111dd0e_77b6_11eb_a9d3_a0999b1609f9row4_col9 {\n",
       "            background-color:  #506bda;\n",
       "            color:  #000000;\n",
       "        }    #T_a111dd0e_77b6_11eb_a9d3_a0999b1609f9row4_col10 {\n",
       "            background-color:  #3b4cc0;\n",
       "            color:  #f1f1f1;\n",
       "        }    #T_a111dd0e_77b6_11eb_a9d3_a0999b1609f9row4_col11 {\n",
       "            background-color:  #d7dce3;\n",
       "            color:  #000000;\n",
       "        }    #T_a111dd0e_77b6_11eb_a9d3_a0999b1609f9row4_col12 {\n",
       "            background-color:  #5b7ae5;\n",
       "            color:  #000000;\n",
       "        }    #T_a111dd0e_77b6_11eb_a9d3_a0999b1609f9row5_col0 {\n",
       "            background-color:  #f2cab5;\n",
       "            color:  #000000;\n",
       "        }    #T_a111dd0e_77b6_11eb_a9d3_a0999b1609f9row5_col1 {\n",
       "            background-color:  #eed0c0;\n",
       "            color:  #000000;\n",
       "        }    #T_a111dd0e_77b6_11eb_a9d3_a0999b1609f9row5_col2 {\n",
       "            background-color:  #5f7fe8;\n",
       "            color:  #000000;\n",
       "        }    #T_a111dd0e_77b6_11eb_a9d3_a0999b1609f9row5_col3 {\n",
       "            background-color:  #e1dad6;\n",
       "            color:  #000000;\n",
       "        }    #T_a111dd0e_77b6_11eb_a9d3_a0999b1609f9row5_col4 {\n",
       "            background-color:  #7ea1fa;\n",
       "            color:  #000000;\n",
       "        }    #T_a111dd0e_77b6_11eb_a9d3_a0999b1609f9row5_col5 {\n",
       "            background-color:  #b40426;\n",
       "            color:  #f1f1f1;\n",
       "        }    #T_a111dd0e_77b6_11eb_a9d3_a0999b1609f9row5_col6 {\n",
       "            background-color:  #dddcdc;\n",
       "            color:  #000000;\n",
       "        }    #T_a111dd0e_77b6_11eb_a9d3_a0999b1609f9row5_col7 {\n",
       "            background-color:  #bed2f6;\n",
       "            color:  #000000;\n",
       "        }    #T_a111dd0e_77b6_11eb_a9d3_a0999b1609f9row5_col8 {\n",
       "            background-color:  #97b8ff;\n",
       "            color:  #000000;\n",
       "        }    #T_a111dd0e_77b6_11eb_a9d3_a0999b1609f9row5_col9 {\n",
       "            background-color:  #a5c3fe;\n",
       "            color:  #000000;\n",
       "        }    #T_a111dd0e_77b6_11eb_a9d3_a0999b1609f9row5_col10 {\n",
       "            background-color:  #7ea1fa;\n",
       "            color:  #000000;\n",
       "        }    #T_a111dd0e_77b6_11eb_a9d3_a0999b1609f9row5_col11 {\n",
       "            background-color:  #c9d7f0;\n",
       "            color:  #000000;\n",
       "        }    #T_a111dd0e_77b6_11eb_a9d3_a0999b1609f9row5_col12 {\n",
       "            background-color:  #485fd1;\n",
       "            color:  #f1f1f1;\n",
       "        }    #T_a111dd0e_77b6_11eb_a9d3_a0999b1609f9row6_col0 {\n",
       "            background-color:  #5d7ce6;\n",
       "            color:  #000000;\n",
       "        }    #T_a111dd0e_77b6_11eb_a9d3_a0999b1609f9row6_col1 {\n",
       "            background-color:  #6384eb;\n",
       "            color:  #000000;\n",
       "        }    #T_a111dd0e_77b6_11eb_a9d3_a0999b1609f9row6_col2 {\n",
       "            background-color:  #3b4cc0;\n",
       "            color:  #f1f1f1;\n",
       "        }    #T_a111dd0e_77b6_11eb_a9d3_a0999b1609f9row6_col3 {\n",
       "            background-color:  #6180e9;\n",
       "            color:  #000000;\n",
       "        }    #T_a111dd0e_77b6_11eb_a9d3_a0999b1609f9row6_col4 {\n",
       "            background-color:  #7396f5;\n",
       "            color:  #000000;\n",
       "        }    #T_a111dd0e_77b6_11eb_a9d3_a0999b1609f9row6_col5 {\n",
       "            background-color:  #6384eb;\n",
       "            color:  #000000;\n",
       "        }    #T_a111dd0e_77b6_11eb_a9d3_a0999b1609f9row6_col6 {\n",
       "            background-color:  #b40426;\n",
       "            color:  #f1f1f1;\n",
       "        }    #T_a111dd0e_77b6_11eb_a9d3_a0999b1609f9row6_col7 {\n",
       "            background-color:  #799cf8;\n",
       "            color:  #000000;\n",
       "        }    #T_a111dd0e_77b6_11eb_a9d3_a0999b1609f9row6_col8 {\n",
       "            background-color:  #6c8ff1;\n",
       "            color:  #000000;\n",
       "        }    #T_a111dd0e_77b6_11eb_a9d3_a0999b1609f9row6_col9 {\n",
       "            background-color:  #4e68d8;\n",
       "            color:  #000000;\n",
       "        }    #T_a111dd0e_77b6_11eb_a9d3_a0999b1609f9row6_col10 {\n",
       "            background-color:  #4055c8;\n",
       "            color:  #f1f1f1;\n",
       "        }    #T_a111dd0e_77b6_11eb_a9d3_a0999b1609f9row6_col11 {\n",
       "            background-color:  #3b4cc0;\n",
       "            color:  #f1f1f1;\n",
       "        }    #T_a111dd0e_77b6_11eb_a9d3_a0999b1609f9row6_col12 {\n",
       "            background-color:  #3b4cc0;\n",
       "            color:  #f1f1f1;\n",
       "        }    #T_a111dd0e_77b6_11eb_a9d3_a0999b1609f9row7_col0 {\n",
       "            background-color:  #9dbdff;\n",
       "            color:  #000000;\n",
       "        }    #T_a111dd0e_77b6_11eb_a9d3_a0999b1609f9row7_col1 {\n",
       "            background-color:  #93b5fe;\n",
       "            color:  #000000;\n",
       "        }    #T_a111dd0e_77b6_11eb_a9d3_a0999b1609f9row7_col2 {\n",
       "            background-color:  #6384eb;\n",
       "            color:  #000000;\n",
       "        }    #T_a111dd0e_77b6_11eb_a9d3_a0999b1609f9row7_col3 {\n",
       "            background-color:  #89acfd;\n",
       "            color:  #000000;\n",
       "        }    #T_a111dd0e_77b6_11eb_a9d3_a0999b1609f9row7_col4 {\n",
       "            background-color:  #799cf8;\n",
       "            color:  #000000;\n",
       "        }    #T_a111dd0e_77b6_11eb_a9d3_a0999b1609f9row7_col5 {\n",
       "            background-color:  #bad0f8;\n",
       "            color:  #000000;\n",
       "        }    #T_a111dd0e_77b6_11eb_a9d3_a0999b1609f9row7_col6 {\n",
       "            background-color:  #e5d8d1;\n",
       "            color:  #000000;\n",
       "        }    #T_a111dd0e_77b6_11eb_a9d3_a0999b1609f9row7_col7 {\n",
       "            background-color:  #b40426;\n",
       "            color:  #f1f1f1;\n",
       "        }    #T_a111dd0e_77b6_11eb_a9d3_a0999b1609f9row7_col8 {\n",
       "            background-color:  #6e90f2;\n",
       "            color:  #000000;\n",
       "        }    #T_a111dd0e_77b6_11eb_a9d3_a0999b1609f9row7_col9 {\n",
       "            background-color:  #80a3fa;\n",
       "            color:  #000000;\n",
       "        }    #T_a111dd0e_77b6_11eb_a9d3_a0999b1609f9row7_col10 {\n",
       "            background-color:  #5673e0;\n",
       "            color:  #000000;\n",
       "        }    #T_a111dd0e_77b6_11eb_a9d3_a0999b1609f9row7_col11 {\n",
       "            background-color:  #c6d6f1;\n",
       "            color:  #000000;\n",
       "        }    #T_a111dd0e_77b6_11eb_a9d3_a0999b1609f9row7_col12 {\n",
       "            background-color:  #3e51c5;\n",
       "            color:  #f1f1f1;\n",
       "        }    #T_a111dd0e_77b6_11eb_a9d3_a0999b1609f9row8_col0 {\n",
       "            background-color:  #8fb1fe;\n",
       "            color:  #000000;\n",
       "        }    #T_a111dd0e_77b6_11eb_a9d3_a0999b1609f9row8_col1 {\n",
       "            background-color:  #e1dad6;\n",
       "            color:  #000000;\n",
       "        }    #T_a111dd0e_77b6_11eb_a9d3_a0999b1609f9row8_col2 {\n",
       "            background-color:  #688aef;\n",
       "            color:  #000000;\n",
       "        }    #T_a111dd0e_77b6_11eb_a9d3_a0999b1609f9row8_col3 {\n",
       "            background-color:  #c5d6f2;\n",
       "            color:  #000000;\n",
       "        }    #T_a111dd0e_77b6_11eb_a9d3_a0999b1609f9row8_col4 {\n",
       "            background-color:  #506bda;\n",
       "            color:  #000000;\n",
       "        }    #T_a111dd0e_77b6_11eb_a9d3_a0999b1609f9row8_col5 {\n",
       "            background-color:  #93b5fe;\n",
       "            color:  #000000;\n",
       "        }    #T_a111dd0e_77b6_11eb_a9d3_a0999b1609f9row8_col6 {\n",
       "            background-color:  #e0dbd8;\n",
       "            color:  #000000;\n",
       "        }    #T_a111dd0e_77b6_11eb_a9d3_a0999b1609f9row8_col7 {\n",
       "            background-color:  #6e90f2;\n",
       "            color:  #000000;\n",
       "        }    #T_a111dd0e_77b6_11eb_a9d3_a0999b1609f9row8_col8 {\n",
       "            background-color:  #b40426;\n",
       "            color:  #f1f1f1;\n",
       "        }    #T_a111dd0e_77b6_11eb_a9d3_a0999b1609f9row8_col9 {\n",
       "            background-color:  #88abfd;\n",
       "            color:  #000000;\n",
       "        }    #T_a111dd0e_77b6_11eb_a9d3_a0999b1609f9row8_col10 {\n",
       "            background-color:  #cad8ef;\n",
       "            color:  #000000;\n",
       "        }    #T_a111dd0e_77b6_11eb_a9d3_a0999b1609f9row8_col11 {\n",
       "            background-color:  #c6d6f1;\n",
       "            color:  #000000;\n",
       "        }    #T_a111dd0e_77b6_11eb_a9d3_a0999b1609f9row8_col12 {\n",
       "            background-color:  #7ea1fa;\n",
       "            color:  #000000;\n",
       "        }    #T_a111dd0e_77b6_11eb_a9d3_a0999b1609f9row9_col0 {\n",
       "            background-color:  #8db0fe;\n",
       "            color:  #000000;\n",
       "        }    #T_a111dd0e_77b6_11eb_a9d3_a0999b1609f9row9_col1 {\n",
       "            background-color:  #afcafc;\n",
       "            color:  #000000;\n",
       "        }    #T_a111dd0e_77b6_11eb_a9d3_a0999b1609f9row9_col2 {\n",
       "            background-color:  #97b8ff;\n",
       "            color:  #000000;\n",
       "        }    #T_a111dd0e_77b6_11eb_a9d3_a0999b1609f9row9_col3 {\n",
       "            background-color:  #8fb1fe;\n",
       "            color:  #000000;\n",
       "        }    #T_a111dd0e_77b6_11eb_a9d3_a0999b1609f9row9_col4 {\n",
       "            background-color:  #6384eb;\n",
       "            color:  #000000;\n",
       "        }    #T_a111dd0e_77b6_11eb_a9d3_a0999b1609f9row9_col5 {\n",
       "            background-color:  #a6c4fe;\n",
       "            color:  #000000;\n",
       "        }    #T_a111dd0e_77b6_11eb_a9d3_a0999b1609f9row9_col6 {\n",
       "            background-color:  #d4dbe6;\n",
       "            color:  #000000;\n",
       "        }    #T_a111dd0e_77b6_11eb_a9d3_a0999b1609f9row9_col7 {\n",
       "            background-color:  #85a8fc;\n",
       "            color:  #000000;\n",
       "        }    #T_a111dd0e_77b6_11eb_a9d3_a0999b1609f9row9_col8 {\n",
       "            background-color:  #8db0fe;\n",
       "            color:  #000000;\n",
       "        }    #T_a111dd0e_77b6_11eb_a9d3_a0999b1609f9row9_col9 {\n",
       "            background-color:  #b40426;\n",
       "            color:  #f1f1f1;\n",
       "        }    #T_a111dd0e_77b6_11eb_a9d3_a0999b1609f9row9_col10 {\n",
       "            background-color:  #89acfd;\n",
       "            color:  #000000;\n",
       "        }    #T_a111dd0e_77b6_11eb_a9d3_a0999b1609f9row9_col11 {\n",
       "            background-color:  #cad8ef;\n",
       "            color:  #000000;\n",
       "        }    #T_a111dd0e_77b6_11eb_a9d3_a0999b1609f9row9_col12 {\n",
       "            background-color:  #485fd1;\n",
       "            color:  #f1f1f1;\n",
       "        }    #T_a111dd0e_77b6_11eb_a9d3_a0999b1609f9row10_col0 {\n",
       "            background-color:  #6180e9;\n",
       "            color:  #000000;\n",
       "        }    #T_a111dd0e_77b6_11eb_a9d3_a0999b1609f9row10_col1 {\n",
       "            background-color:  #e2dad5;\n",
       "            color:  #000000;\n",
       "        }    #T_a111dd0e_77b6_11eb_a9d3_a0999b1609f9row10_col2 {\n",
       "            background-color:  #5673e0;\n",
       "            color:  #000000;\n",
       "        }    #T_a111dd0e_77b6_11eb_a9d3_a0999b1609f9row10_col3 {\n",
       "            background-color:  #cfdaea;\n",
       "            color:  #000000;\n",
       "        }    #T_a111dd0e_77b6_11eb_a9d3_a0999b1609f9row10_col4 {\n",
       "            background-color:  #3b4cc0;\n",
       "            color:  #f1f1f1;\n",
       "        }    #T_a111dd0e_77b6_11eb_a9d3_a0999b1609f9row10_col5 {\n",
       "            background-color:  #6c8ff1;\n",
       "            color:  #000000;\n",
       "        }    #T_a111dd0e_77b6_11eb_a9d3_a0999b1609f9row10_col6 {\n",
       "            background-color:  #c3d5f4;\n",
       "            color:  #000000;\n",
       "        }    #T_a111dd0e_77b6_11eb_a9d3_a0999b1609f9row10_col7 {\n",
       "            background-color:  #4a63d3;\n",
       "            color:  #f1f1f1;\n",
       "        }    #T_a111dd0e_77b6_11eb_a9d3_a0999b1609f9row10_col8 {\n",
       "            background-color:  #c1d4f4;\n",
       "            color:  #000000;\n",
       "        }    #T_a111dd0e_77b6_11eb_a9d3_a0999b1609f9row10_col9 {\n",
       "            background-color:  #779af7;\n",
       "            color:  #000000;\n",
       "        }    #T_a111dd0e_77b6_11eb_a9d3_a0999b1609f9row10_col10 {\n",
       "            background-color:  #b40426;\n",
       "            color:  #f1f1f1;\n",
       "        }    #T_a111dd0e_77b6_11eb_a9d3_a0999b1609f9row10_col11 {\n",
       "            background-color:  #d4dbe6;\n",
       "            color:  #000000;\n",
       "        }    #T_a111dd0e_77b6_11eb_a9d3_a0999b1609f9row10_col12 {\n",
       "            background-color:  #9abbff;\n",
       "            color:  #000000;\n",
       "        }    #T_a111dd0e_77b6_11eb_a9d3_a0999b1609f9row11_col0 {\n",
       "            background-color:  #3b4cc0;\n",
       "            color:  #f1f1f1;\n",
       "        }    #T_a111dd0e_77b6_11eb_a9d3_a0999b1609f9row11_col1 {\n",
       "            background-color:  #3b4cc0;\n",
       "            color:  #f1f1f1;\n",
       "        }    #T_a111dd0e_77b6_11eb_a9d3_a0999b1609f9row11_col2 {\n",
       "            background-color:  #4f69d9;\n",
       "            color:  #000000;\n",
       "        }    #T_a111dd0e_77b6_11eb_a9d3_a0999b1609f9row11_col3 {\n",
       "            background-color:  #3b4cc0;\n",
       "            color:  #f1f1f1;\n",
       "        }    #T_a111dd0e_77b6_11eb_a9d3_a0999b1609f9row11_col4 {\n",
       "            background-color:  #6687ed;\n",
       "            color:  #000000;\n",
       "        }    #T_a111dd0e_77b6_11eb_a9d3_a0999b1609f9row11_col5 {\n",
       "            background-color:  #3b4cc0;\n",
       "            color:  #f1f1f1;\n",
       "        }    #T_a111dd0e_77b6_11eb_a9d3_a0999b1609f9row11_col6 {\n",
       "            background-color:  #3b4cc0;\n",
       "            color:  #f1f1f1;\n",
       "        }    #T_a111dd0e_77b6_11eb_a9d3_a0999b1609f9row11_col7 {\n",
       "            background-color:  #3b4cc0;\n",
       "            color:  #f1f1f1;\n",
       "        }    #T_a111dd0e_77b6_11eb_a9d3_a0999b1609f9row11_col8 {\n",
       "            background-color:  #3b4cc0;\n",
       "            color:  #f1f1f1;\n",
       "        }    #T_a111dd0e_77b6_11eb_a9d3_a0999b1609f9row11_col9 {\n",
       "            background-color:  #3b4cc0;\n",
       "            color:  #f1f1f1;\n",
       "        }    #T_a111dd0e_77b6_11eb_a9d3_a0999b1609f9row11_col10 {\n",
       "            background-color:  #5f7fe8;\n",
       "            color:  #000000;\n",
       "        }    #T_a111dd0e_77b6_11eb_a9d3_a0999b1609f9row11_col11 {\n",
       "            background-color:  #b40426;\n",
       "            color:  #f1f1f1;\n",
       "        }    #T_a111dd0e_77b6_11eb_a9d3_a0999b1609f9row11_col12 {\n",
       "            background-color:  #3e51c5;\n",
       "            color:  #f1f1f1;\n",
       "        }    #T_a111dd0e_77b6_11eb_a9d3_a0999b1609f9row12_col0 {\n",
       "            background-color:  #5673e0;\n",
       "            color:  #000000;\n",
       "        }    #T_a111dd0e_77b6_11eb_a9d3_a0999b1609f9row12_col1 {\n",
       "            background-color:  #aac7fd;\n",
       "            color:  #000000;\n",
       "        }    #T_a111dd0e_77b6_11eb_a9d3_a0999b1609f9row12_col2 {\n",
       "            background-color:  #4e68d8;\n",
       "            color:  #000000;\n",
       "        }    #T_a111dd0e_77b6_11eb_a9d3_a0999b1609f9row12_col3 {\n",
       "            background-color:  #abc8fd;\n",
       "            color:  #000000;\n",
       "        }    #T_a111dd0e_77b6_11eb_a9d3_a0999b1609f9row12_col4 {\n",
       "            background-color:  #81a4fb;\n",
       "            color:  #000000;\n",
       "        }    #T_a111dd0e_77b6_11eb_a9d3_a0999b1609f9row12_col5 {\n",
       "            background-color:  #5b7ae5;\n",
       "            color:  #000000;\n",
       "        }    #T_a111dd0e_77b6_11eb_a9d3_a0999b1609f9row12_col6 {\n",
       "            background-color:  #d4dbe6;\n",
       "            color:  #000000;\n",
       "        }    #T_a111dd0e_77b6_11eb_a9d3_a0999b1609f9row12_col7 {\n",
       "            background-color:  #5875e1;\n",
       "            color:  #000000;\n",
       "        }    #T_a111dd0e_77b6_11eb_a9d3_a0999b1609f9row12_col8 {\n",
       "            background-color:  #94b6ff;\n",
       "            color:  #000000;\n",
       "        }    #T_a111dd0e_77b6_11eb_a9d3_a0999b1609f9row12_col9 {\n",
       "            background-color:  #5a78e4;\n",
       "            color:  #000000;\n",
       "        }    #T_a111dd0e_77b6_11eb_a9d3_a0999b1609f9row12_col10 {\n",
       "            background-color:  #b7cff9;\n",
       "            color:  #000000;\n",
       "        }    #T_a111dd0e_77b6_11eb_a9d3_a0999b1609f9row12_col11 {\n",
       "            background-color:  #d6dce4;\n",
       "            color:  #000000;\n",
       "        }    #T_a111dd0e_77b6_11eb_a9d3_a0999b1609f9row12_col12 {\n",
       "            background-color:  #b40426;\n",
       "            color:  #f1f1f1;\n",
       "        }</style><table id=\"T_a111dd0e_77b6_11eb_a9d3_a0999b1609f9\" ><thead>    <tr>        <th class=\"blank level0\" ></th>        <th class=\"col_heading level0 col0\" >medwid</th>        <th class=\"col_heading level0 col1\" >no_lanes</th>        <th class=\"col_heading level0 col2\" >lanewid</th>        <th class=\"col_heading level0 col3\" >aadt</th>        <th class=\"col_heading level0 col4\" >seg_lng</th>        <th class=\"col_heading level0 col5\" >access</th>        <th class=\"col_heading level0 col6\" >oneway</th>        <th class=\"col_heading level0 col7\" >spd_limt</th>        <th class=\"col_heading level0 col8\" >med_type</th>        <th class=\"col_heading level0 col9\" >surf_typ</th>        <th class=\"col_heading level0 col10\" >rururb</th>        <th class=\"col_heading level0 col11\" >rodwycls</th>        <th class=\"col_heading level0 col12\" >AccCount</th>    </tr></thead><tbody>\n",
       "                <tr>\n",
       "                        <th id=\"T_a111dd0e_77b6_11eb_a9d3_a0999b1609f9level0_row0\" class=\"row_heading level0 row0\" >medwid</th>\n",
       "                        <td id=\"T_a111dd0e_77b6_11eb_a9d3_a0999b1609f9row0_col0\" class=\"data row0 col0\" >1.000000</td>\n",
       "                        <td id=\"T_a111dd0e_77b6_11eb_a9d3_a0999b1609f9row0_col1\" class=\"data row0 col1\" >0.398464</td>\n",
       "                        <td id=\"T_a111dd0e_77b6_11eb_a9d3_a0999b1609f9row0_col2\" class=\"data row0 col2\" >0.046062</td>\n",
       "                        <td id=\"T_a111dd0e_77b6_11eb_a9d3_a0999b1609f9row0_col3\" class=\"data row0 col3\" >0.262245</td>\n",
       "                        <td id=\"T_a111dd0e_77b6_11eb_a9d3_a0999b1609f9row0_col4\" class=\"data row0 col4\" >0.047566</td>\n",
       "                        <td id=\"T_a111dd0e_77b6_11eb_a9d3_a0999b1609f9row0_col5\" class=\"data row0 col5\" >0.572429</td>\n",
       "                        <td id=\"T_a111dd0e_77b6_11eb_a9d3_a0999b1609f9row0_col6\" class=\"data row0 col6\" >0.039220</td>\n",
       "                        <td id=\"T_a111dd0e_77b6_11eb_a9d3_a0999b1609f9row0_col7\" class=\"data row0 col7\" >0.240614</td>\n",
       "                        <td id=\"T_a111dd0e_77b6_11eb_a9d3_a0999b1609f9row0_col8\" class=\"data row0 col8\" >0.197209</td>\n",
       "                        <td id=\"T_a111dd0e_77b6_11eb_a9d3_a0999b1609f9row0_col9\" class=\"data row0 col9\" >0.193567</td>\n",
       "                        <td id=\"T_a111dd0e_77b6_11eb_a9d3_a0999b1609f9row0_col10\" class=\"data row0 col10\" >0.053265</td>\n",
       "                        <td id=\"T_a111dd0e_77b6_11eb_a9d3_a0999b1609f9row0_col11\" class=\"data row0 col11\" >-0.079005</td>\n",
       "                        <td id=\"T_a111dd0e_77b6_11eb_a9d3_a0999b1609f9row0_col12\" class=\"data row0 col12\" >0.021565</td>\n",
       "            </tr>\n",
       "            <tr>\n",
       "                        <th id=\"T_a111dd0e_77b6_11eb_a9d3_a0999b1609f9level0_row1\" class=\"row_heading level0 row1\" >no_lanes</th>\n",
       "                        <td id=\"T_a111dd0e_77b6_11eb_a9d3_a0999b1609f9row1_col0\" class=\"data row1 col0\" >0.398464</td>\n",
       "                        <td id=\"T_a111dd0e_77b6_11eb_a9d3_a0999b1609f9row1_col1\" class=\"data row1 col1\" >1.000000</td>\n",
       "                        <td id=\"T_a111dd0e_77b6_11eb_a9d3_a0999b1609f9row1_col2\" class=\"data row1 col2\" >-0.002944</td>\n",
       "                        <td id=\"T_a111dd0e_77b6_11eb_a9d3_a0999b1609f9row1_col3\" class=\"data row1 col3\" >0.717556</td>\n",
       "                        <td id=\"T_a111dd0e_77b6_11eb_a9d3_a0999b1609f9row1_col4\" class=\"data row1 col4\" >-0.050692</td>\n",
       "                        <td id=\"T_a111dd0e_77b6_11eb_a9d3_a0999b1609f9row1_col5\" class=\"data row1 col5\" >0.526949</td>\n",
       "                        <td id=\"T_a111dd0e_77b6_11eb_a9d3_a0999b1609f9row1_col6\" class=\"data row1 col6\" >0.027514</td>\n",
       "                        <td id=\"T_a111dd0e_77b6_11eb_a9d3_a0999b1609f9row1_col7\" class=\"data row1 col7\" >0.179516</td>\n",
       "                        <td id=\"T_a111dd0e_77b6_11eb_a9d3_a0999b1609f9row1_col8\" class=\"data row1 col8\" >0.459690</td>\n",
       "                        <td id=\"T_a111dd0e_77b6_11eb_a9d3_a0999b1609f9row1_col9\" class=\"data row1 col9\" >0.271548</td>\n",
       "                        <td id=\"T_a111dd0e_77b6_11eb_a9d3_a0999b1609f9row1_col10\" class=\"data row1 col10\" >0.464824</td>\n",
       "                        <td id=\"T_a111dd0e_77b6_11eb_a9d3_a0999b1609f9row1_col11\" class=\"data row1 col11\" >-0.120371</td>\n",
       "                        <td id=\"T_a111dd0e_77b6_11eb_a9d3_a0999b1609f9row1_col12\" class=\"data row1 col12\" >0.254341</td>\n",
       "            </tr>\n",
       "            <tr>\n",
       "                        <th id=\"T_a111dd0e_77b6_11eb_a9d3_a0999b1609f9level0_row2\" class=\"row_heading level0 row2\" >lanewid</th>\n",
       "                        <td id=\"T_a111dd0e_77b6_11eb_a9d3_a0999b1609f9row2_col0\" class=\"data row2 col0\" >0.046062</td>\n",
       "                        <td id=\"T_a111dd0e_77b6_11eb_a9d3_a0999b1609f9row2_col1\" class=\"data row2 col1\" >-0.002944</td>\n",
       "                        <td id=\"T_a111dd0e_77b6_11eb_a9d3_a0999b1609f9row2_col2\" class=\"data row2 col2\" >1.000000</td>\n",
       "                        <td id=\"T_a111dd0e_77b6_11eb_a9d3_a0999b1609f9row2_col3\" class=\"data row2 col3\" >0.028974</td>\n",
       "                        <td id=\"T_a111dd0e_77b6_11eb_a9d3_a0999b1609f9row2_col4\" class=\"data row2 col4\" >-0.063829</td>\n",
       "                        <td id=\"T_a111dd0e_77b6_11eb_a9d3_a0999b1609f9row2_col5\" class=\"data row2 col5\" >0.052131</td>\n",
       "                        <td id=\"T_a111dd0e_77b6_11eb_a9d3_a0999b1609f9row2_col6\" class=\"data row2 col6\" >-0.076690</td>\n",
       "                        <td id=\"T_a111dd0e_77b6_11eb_a9d3_a0999b1609f9row2_col7\" class=\"data row2 col7\" >0.064741</td>\n",
       "                        <td id=\"T_a111dd0e_77b6_11eb_a9d3_a0999b1609f9row2_col8\" class=\"data row2 col8\" >0.082173</td>\n",
       "                        <td id=\"T_a111dd0e_77b6_11eb_a9d3_a0999b1609f9row2_col9\" class=\"data row2 col9\" >0.223808</td>\n",
       "                        <td id=\"T_a111dd0e_77b6_11eb_a9d3_a0999b1609f9row2_col10\" class=\"data row2 col10\" >0.020736</td>\n",
       "                        <td id=\"T_a111dd0e_77b6_11eb_a9d3_a0999b1609f9row2_col11\" class=\"data row2 col11\" >-0.003233</td>\n",
       "                        <td id=\"T_a111dd0e_77b6_11eb_a9d3_a0999b1609f9row2_col12\" class=\"data row2 col12\" >-0.005461</td>\n",
       "            </tr>\n",
       "            <tr>\n",
       "                        <th id=\"T_a111dd0e_77b6_11eb_a9d3_a0999b1609f9level0_row3\" class=\"row_heading level0 row3\" >aadt</th>\n",
       "                        <td id=\"T_a111dd0e_77b6_11eb_a9d3_a0999b1609f9row3_col0\" class=\"data row3 col0\" >0.262245</td>\n",
       "                        <td id=\"T_a111dd0e_77b6_11eb_a9d3_a0999b1609f9row3_col1\" class=\"data row3 col1\" >0.717556</td>\n",
       "                        <td id=\"T_a111dd0e_77b6_11eb_a9d3_a0999b1609f9row3_col2\" class=\"data row3 col2\" >0.028974</td>\n",
       "                        <td id=\"T_a111dd0e_77b6_11eb_a9d3_a0999b1609f9row3_col3\" class=\"data row3 col3\" >1.000000</td>\n",
       "                        <td id=\"T_a111dd0e_77b6_11eb_a9d3_a0999b1609f9row3_col4\" class=\"data row3 col4\" >-0.041127</td>\n",
       "                        <td id=\"T_a111dd0e_77b6_11eb_a9d3_a0999b1609f9row3_col5\" class=\"data row3 col5\" >0.461992</td>\n",
       "                        <td id=\"T_a111dd0e_77b6_11eb_a9d3_a0999b1609f9row3_col6\" class=\"data row3 col6\" >0.022502</td>\n",
       "                        <td id=\"T_a111dd0e_77b6_11eb_a9d3_a0999b1609f9row3_col7\" class=\"data row3 col7\" >0.153242</td>\n",
       "                        <td id=\"T_a111dd0e_77b6_11eb_a9d3_a0999b1609f9row3_col8\" class=\"data row3 col8\" >0.347739</td>\n",
       "                        <td id=\"T_a111dd0e_77b6_11eb_a9d3_a0999b1609f9row3_col9\" class=\"data row3 col9\" >0.167397</td>\n",
       "                        <td id=\"T_a111dd0e_77b6_11eb_a9d3_a0999b1609f9row3_col10\" class=\"data row3 col10\" >0.387634</td>\n",
       "                        <td id=\"T_a111dd0e_77b6_11eb_a9d3_a0999b1609f9row3_col11\" class=\"data row3 col11\" >-0.116560</td>\n",
       "                        <td id=\"T_a111dd0e_77b6_11eb_a9d3_a0999b1609f9row3_col12\" class=\"data row3 col12\" >0.260675</td>\n",
       "            </tr>\n",
       "            <tr>\n",
       "                        <th id=\"T_a111dd0e_77b6_11eb_a9d3_a0999b1609f9level0_row4\" class=\"row_heading level0 row4\" >seg_lng</th>\n",
       "                        <td id=\"T_a111dd0e_77b6_11eb_a9d3_a0999b1609f9row4_col0\" class=\"data row4 col0\" >0.047566</td>\n",
       "                        <td id=\"T_a111dd0e_77b6_11eb_a9d3_a0999b1609f9row4_col1\" class=\"data row4 col1\" >-0.050692</td>\n",
       "                        <td id=\"T_a111dd0e_77b6_11eb_a9d3_a0999b1609f9row4_col2\" class=\"data row4 col2\" >-0.063829</td>\n",
       "                        <td id=\"T_a111dd0e_77b6_11eb_a9d3_a0999b1609f9row4_col3\" class=\"data row4 col3\" >-0.041127</td>\n",
       "                        <td id=\"T_a111dd0e_77b6_11eb_a9d3_a0999b1609f9row4_col4\" class=\"data row4 col4\" >1.000000</td>\n",
       "                        <td id=\"T_a111dd0e_77b6_11eb_a9d3_a0999b1609f9row4_col5\" class=\"data row4 col5\" >0.071411</td>\n",
       "                        <td id=\"T_a111dd0e_77b6_11eb_a9d3_a0999b1609f9row4_col6\" class=\"data row4 col6\" >0.037045</td>\n",
       "                        <td id=\"T_a111dd0e_77b6_11eb_a9d3_a0999b1609f9row4_col7\" class=\"data row4 col7\" >0.056700</td>\n",
       "                        <td id=\"T_a111dd0e_77b6_11eb_a9d3_a0999b1609f9row4_col8\" class=\"data row4 col8\" >-0.088049</td>\n",
       "                        <td id=\"T_a111dd0e_77b6_11eb_a9d3_a0999b1609f9row4_col9\" class=\"data row4 col9\" >-0.018455</td>\n",
       "                        <td id=\"T_a111dd0e_77b6_11eb_a9d3_a0999b1609f9row4_col10\" class=\"data row4 col10\" >-0.172120</td>\n",
       "                        <td id=\"T_a111dd0e_77b6_11eb_a9d3_a0999b1609f9row4_col11\" class=\"data row4 col11\" >-0.008839</td>\n",
       "                        <td id=\"T_a111dd0e_77b6_11eb_a9d3_a0999b1609f9row4_col12\" class=\"data row4 col12\" >0.082408</td>\n",
       "            </tr>\n",
       "            <tr>\n",
       "                        <th id=\"T_a111dd0e_77b6_11eb_a9d3_a0999b1609f9level0_row5\" class=\"row_heading level0 row5\" >access</th>\n",
       "                        <td id=\"T_a111dd0e_77b6_11eb_a9d3_a0999b1609f9row5_col0\" class=\"data row5 col0\" >0.572429</td>\n",
       "                        <td id=\"T_a111dd0e_77b6_11eb_a9d3_a0999b1609f9row5_col1\" class=\"data row5 col1\" >0.526949</td>\n",
       "                        <td id=\"T_a111dd0e_77b6_11eb_a9d3_a0999b1609f9row5_col2\" class=\"data row5 col2\" >0.052131</td>\n",
       "                        <td id=\"T_a111dd0e_77b6_11eb_a9d3_a0999b1609f9row5_col3\" class=\"data row5 col3\" >0.461992</td>\n",
       "                        <td id=\"T_a111dd0e_77b6_11eb_a9d3_a0999b1609f9row5_col4\" class=\"data row5 col4\" >0.071411</td>\n",
       "                        <td id=\"T_a111dd0e_77b6_11eb_a9d3_a0999b1609f9row5_col5\" class=\"data row5 col5\" >1.000000</td>\n",
       "                        <td id=\"T_a111dd0e_77b6_11eb_a9d3_a0999b1609f9row5_col6\" class=\"data row5 col6\" >0.040453</td>\n",
       "                        <td id=\"T_a111dd0e_77b6_11eb_a9d3_a0999b1609f9row5_col7\" class=\"data row5 col7\" >0.319063</td>\n",
       "                        <td id=\"T_a111dd0e_77b6_11eb_a9d3_a0999b1609f9row5_col8\" class=\"data row5 col8\" >0.192666</td>\n",
       "                        <td id=\"T_a111dd0e_77b6_11eb_a9d3_a0999b1609f9row5_col9\" class=\"data row5 col9\" >0.250999</td>\n",
       "                        <td id=\"T_a111dd0e_77b6_11eb_a9d3_a0999b1609f9row5_col10\" class=\"data row5 col10\" >0.071178</td>\n",
       "                        <td id=\"T_a111dd0e_77b6_11eb_a9d3_a0999b1609f9row5_col11\" class=\"data row5 col11\" >-0.102206</td>\n",
       "                        <td id=\"T_a111dd0e_77b6_11eb_a9d3_a0999b1609f9row5_col12\" class=\"data row5 col12\" >0.016242</td>\n",
       "            </tr>\n",
       "            <tr>\n",
       "                        <th id=\"T_a111dd0e_77b6_11eb_a9d3_a0999b1609f9level0_row6\" class=\"row_heading level0 row6\" >oneway</th>\n",
       "                        <td id=\"T_a111dd0e_77b6_11eb_a9d3_a0999b1609f9row6_col0\" class=\"data row6 col0\" >0.039220</td>\n",
       "                        <td id=\"T_a111dd0e_77b6_11eb_a9d3_a0999b1609f9row6_col1\" class=\"data row6 col1\" >0.027514</td>\n",
       "                        <td id=\"T_a111dd0e_77b6_11eb_a9d3_a0999b1609f9row6_col2\" class=\"data row6 col2\" >-0.076690</td>\n",
       "                        <td id=\"T_a111dd0e_77b6_11eb_a9d3_a0999b1609f9row6_col3\" class=\"data row6 col3\" >0.022502</td>\n",
       "                        <td id=\"T_a111dd0e_77b6_11eb_a9d3_a0999b1609f9row6_col4\" class=\"data row6 col4\" >0.037045</td>\n",
       "                        <td id=\"T_a111dd0e_77b6_11eb_a9d3_a0999b1609f9row6_col5\" class=\"data row6 col5\" >0.040453</td>\n",
       "                        <td id=\"T_a111dd0e_77b6_11eb_a9d3_a0999b1609f9row6_col6\" class=\"data row6 col6\" >1.000000</td>\n",
       "                        <td id=\"T_a111dd0e_77b6_11eb_a9d3_a0999b1609f9row6_col7\" class=\"data row6 col7\" >0.096256</td>\n",
       "                        <td id=\"T_a111dd0e_77b6_11eb_a9d3_a0999b1609f9row6_col8\" class=\"data row6 col8\" >0.056401</td>\n",
       "                        <td id=\"T_a111dd0e_77b6_11eb_a9d3_a0999b1609f9row6_col9\" class=\"data row6 col9\" >-0.028685</td>\n",
       "                        <td id=\"T_a111dd0e_77b6_11eb_a9d3_a0999b1609f9row6_col10\" class=\"data row6 col10\" >-0.146550</td>\n",
       "                        <td id=\"T_a111dd0e_77b6_11eb_a9d3_a0999b1609f9row6_col11\" class=\"data row6 col11\" >-0.932565</td>\n",
       "                        <td id=\"T_a111dd0e_77b6_11eb_a9d3_a0999b1609f9row6_col12\" class=\"data row6 col12\" >-0.029854</td>\n",
       "            </tr>\n",
       "            <tr>\n",
       "                        <th id=\"T_a111dd0e_77b6_11eb_a9d3_a0999b1609f9level0_row7\" class=\"row_heading level0 row7\" >spd_limt</th>\n",
       "                        <td id=\"T_a111dd0e_77b6_11eb_a9d3_a0999b1609f9row7_col0\" class=\"data row7 col0\" >0.240614</td>\n",
       "                        <td id=\"T_a111dd0e_77b6_11eb_a9d3_a0999b1609f9row7_col1\" class=\"data row7 col1\" >0.179516</td>\n",
       "                        <td id=\"T_a111dd0e_77b6_11eb_a9d3_a0999b1609f9row7_col2\" class=\"data row7 col2\" >0.064741</td>\n",
       "                        <td id=\"T_a111dd0e_77b6_11eb_a9d3_a0999b1609f9row7_col3\" class=\"data row7 col3\" >0.153242</td>\n",
       "                        <td id=\"T_a111dd0e_77b6_11eb_a9d3_a0999b1609f9row7_col4\" class=\"data row7 col4\" >0.056700</td>\n",
       "                        <td id=\"T_a111dd0e_77b6_11eb_a9d3_a0999b1609f9row7_col5\" class=\"data row7 col5\" >0.319063</td>\n",
       "                        <td id=\"T_a111dd0e_77b6_11eb_a9d3_a0999b1609f9row7_col6\" class=\"data row7 col6\" >0.096256</td>\n",
       "                        <td id=\"T_a111dd0e_77b6_11eb_a9d3_a0999b1609f9row7_col7\" class=\"data row7 col7\" >1.000000</td>\n",
       "                        <td id=\"T_a111dd0e_77b6_11eb_a9d3_a0999b1609f9row7_col8\" class=\"data row7 col8\" >0.059355</td>\n",
       "                        <td id=\"T_a111dd0e_77b6_11eb_a9d3_a0999b1609f9row7_col9\" class=\"data row7 col9\" >0.137375</td>\n",
       "                        <td id=\"T_a111dd0e_77b6_11eb_a9d3_a0999b1609f9row7_col10\" class=\"data row7 col10\" >-0.062895</td>\n",
       "                        <td id=\"T_a111dd0e_77b6_11eb_a9d3_a0999b1609f9row7_col11\" class=\"data row7 col11\" >-0.120806</td>\n",
       "                        <td id=\"T_a111dd0e_77b6_11eb_a9d3_a0999b1609f9row7_col12\" class=\"data row7 col12\" >-0.014470</td>\n",
       "            </tr>\n",
       "            <tr>\n",
       "                        <th id=\"T_a111dd0e_77b6_11eb_a9d3_a0999b1609f9level0_row8\" class=\"row_heading level0 row8\" >med_type</th>\n",
       "                        <td id=\"T_a111dd0e_77b6_11eb_a9d3_a0999b1609f9row8_col0\" class=\"data row8 col0\" >0.197209</td>\n",
       "                        <td id=\"T_a111dd0e_77b6_11eb_a9d3_a0999b1609f9row8_col1\" class=\"data row8 col1\" >0.459690</td>\n",
       "                        <td id=\"T_a111dd0e_77b6_11eb_a9d3_a0999b1609f9row8_col2\" class=\"data row8 col2\" >0.082173</td>\n",
       "                        <td id=\"T_a111dd0e_77b6_11eb_a9d3_a0999b1609f9row8_col3\" class=\"data row8 col3\" >0.347739</td>\n",
       "                        <td id=\"T_a111dd0e_77b6_11eb_a9d3_a0999b1609f9row8_col4\" class=\"data row8 col4\" >-0.088049</td>\n",
       "                        <td id=\"T_a111dd0e_77b6_11eb_a9d3_a0999b1609f9row8_col5\" class=\"data row8 col5\" >0.192666</td>\n",
       "                        <td id=\"T_a111dd0e_77b6_11eb_a9d3_a0999b1609f9row8_col6\" class=\"data row8 col6\" >0.056401</td>\n",
       "                        <td id=\"T_a111dd0e_77b6_11eb_a9d3_a0999b1609f9row8_col7\" class=\"data row8 col7\" >0.059355</td>\n",
       "                        <td id=\"T_a111dd0e_77b6_11eb_a9d3_a0999b1609f9row8_col8\" class=\"data row8 col8\" >1.000000</td>\n",
       "                        <td id=\"T_a111dd0e_77b6_11eb_a9d3_a0999b1609f9row8_col9\" class=\"data row8 col9\" >0.161516</td>\n",
       "                        <td id=\"T_a111dd0e_77b6_11eb_a9d3_a0999b1609f9row8_col10\" class=\"data row8 col10\" >0.332938</td>\n",
       "                        <td id=\"T_a111dd0e_77b6_11eb_a9d3_a0999b1609f9row8_col11\" class=\"data row8 col11\" >-0.121286</td>\n",
       "                        <td id=\"T_a111dd0e_77b6_11eb_a9d3_a0999b1609f9row8_col12\" class=\"data row8 col12\" >0.184602</td>\n",
       "            </tr>\n",
       "            <tr>\n",
       "                        <th id=\"T_a111dd0e_77b6_11eb_a9d3_a0999b1609f9level0_row9\" class=\"row_heading level0 row9\" >surf_typ</th>\n",
       "                        <td id=\"T_a111dd0e_77b6_11eb_a9d3_a0999b1609f9row9_col0\" class=\"data row9 col0\" >0.193567</td>\n",
       "                        <td id=\"T_a111dd0e_77b6_11eb_a9d3_a0999b1609f9row9_col1\" class=\"data row9 col1\" >0.271548</td>\n",
       "                        <td id=\"T_a111dd0e_77b6_11eb_a9d3_a0999b1609f9row9_col2\" class=\"data row9 col2\" >0.223808</td>\n",
       "                        <td id=\"T_a111dd0e_77b6_11eb_a9d3_a0999b1609f9row9_col3\" class=\"data row9 col3\" >0.167397</td>\n",
       "                        <td id=\"T_a111dd0e_77b6_11eb_a9d3_a0999b1609f9row9_col4\" class=\"data row9 col4\" >-0.018455</td>\n",
       "                        <td id=\"T_a111dd0e_77b6_11eb_a9d3_a0999b1609f9row9_col5\" class=\"data row9 col5\" >0.250999</td>\n",
       "                        <td id=\"T_a111dd0e_77b6_11eb_a9d3_a0999b1609f9row9_col6\" class=\"data row9 col6\" >-0.028685</td>\n",
       "                        <td id=\"T_a111dd0e_77b6_11eb_a9d3_a0999b1609f9row9_col7\" class=\"data row9 col7\" >0.137375</td>\n",
       "                        <td id=\"T_a111dd0e_77b6_11eb_a9d3_a0999b1609f9row9_col8\" class=\"data row9 col8\" >0.161516</td>\n",
       "                        <td id=\"T_a111dd0e_77b6_11eb_a9d3_a0999b1609f9row9_col9\" class=\"data row9 col9\" >1.000000</td>\n",
       "                        <td id=\"T_a111dd0e_77b6_11eb_a9d3_a0999b1609f9row9_col10\" class=\"data row9 col10\" >0.109726</td>\n",
       "                        <td id=\"T_a111dd0e_77b6_11eb_a9d3_a0999b1609f9row9_col11\" class=\"data row9 col11\" >-0.098428</td>\n",
       "                        <td id=\"T_a111dd0e_77b6_11eb_a9d3_a0999b1609f9row9_col12\" class=\"data row9 col12\" >0.016738</td>\n",
       "            </tr>\n",
       "            <tr>\n",
       "                        <th id=\"T_a111dd0e_77b6_11eb_a9d3_a0999b1609f9level0_row10\" class=\"row_heading level0 row10\" >rururb</th>\n",
       "                        <td id=\"T_a111dd0e_77b6_11eb_a9d3_a0999b1609f9row10_col0\" class=\"data row10 col0\" >0.053265</td>\n",
       "                        <td id=\"T_a111dd0e_77b6_11eb_a9d3_a0999b1609f9row10_col1\" class=\"data row10 col1\" >0.464824</td>\n",
       "                        <td id=\"T_a111dd0e_77b6_11eb_a9d3_a0999b1609f9row10_col2\" class=\"data row10 col2\" >0.020736</td>\n",
       "                        <td id=\"T_a111dd0e_77b6_11eb_a9d3_a0999b1609f9row10_col3\" class=\"data row10 col3\" >0.387634</td>\n",
       "                        <td id=\"T_a111dd0e_77b6_11eb_a9d3_a0999b1609f9row10_col4\" class=\"data row10 col4\" >-0.172120</td>\n",
       "                        <td id=\"T_a111dd0e_77b6_11eb_a9d3_a0999b1609f9row10_col5\" class=\"data row10 col5\" >0.071178</td>\n",
       "                        <td id=\"T_a111dd0e_77b6_11eb_a9d3_a0999b1609f9row10_col6\" class=\"data row10 col6\" >-0.146550</td>\n",
       "                        <td id=\"T_a111dd0e_77b6_11eb_a9d3_a0999b1609f9row10_col7\" class=\"data row10 col7\" >-0.062895</td>\n",
       "                        <td id=\"T_a111dd0e_77b6_11eb_a9d3_a0999b1609f9row10_col8\" class=\"data row10 col8\" >0.332938</td>\n",
       "                        <td id=\"T_a111dd0e_77b6_11eb_a9d3_a0999b1609f9row10_col9\" class=\"data row10 col9\" >0.109726</td>\n",
       "                        <td id=\"T_a111dd0e_77b6_11eb_a9d3_a0999b1609f9row10_col10\" class=\"data row10 col10\" >1.000000</td>\n",
       "                        <td id=\"T_a111dd0e_77b6_11eb_a9d3_a0999b1609f9row10_col11\" class=\"data row10 col11\" >-0.032125</td>\n",
       "                        <td id=\"T_a111dd0e_77b6_11eb_a9d3_a0999b1609f9row10_col12\" class=\"data row10 col12\" >0.265962</td>\n",
       "            </tr>\n",
       "            <tr>\n",
       "                        <th id=\"T_a111dd0e_77b6_11eb_a9d3_a0999b1609f9level0_row11\" class=\"row_heading level0 row11\" >rodwycls</th>\n",
       "                        <td id=\"T_a111dd0e_77b6_11eb_a9d3_a0999b1609f9row11_col0\" class=\"data row11 col0\" >-0.079005</td>\n",
       "                        <td id=\"T_a111dd0e_77b6_11eb_a9d3_a0999b1609f9row11_col1\" class=\"data row11 col1\" >-0.120371</td>\n",
       "                        <td id=\"T_a111dd0e_77b6_11eb_a9d3_a0999b1609f9row11_col2\" class=\"data row11 col2\" >-0.003233</td>\n",
       "                        <td id=\"T_a111dd0e_77b6_11eb_a9d3_a0999b1609f9row11_col3\" class=\"data row11 col3\" >-0.116560</td>\n",
       "                        <td id=\"T_a111dd0e_77b6_11eb_a9d3_a0999b1609f9row11_col4\" class=\"data row11 col4\" >-0.008839</td>\n",
       "                        <td id=\"T_a111dd0e_77b6_11eb_a9d3_a0999b1609f9row11_col5\" class=\"data row11 col5\" >-0.102206</td>\n",
       "                        <td id=\"T_a111dd0e_77b6_11eb_a9d3_a0999b1609f9row11_col6\" class=\"data row11 col6\" >-0.932565</td>\n",
       "                        <td id=\"T_a111dd0e_77b6_11eb_a9d3_a0999b1609f9row11_col7\" class=\"data row11 col7\" >-0.120806</td>\n",
       "                        <td id=\"T_a111dd0e_77b6_11eb_a9d3_a0999b1609f9row11_col8\" class=\"data row11 col8\" >-0.121286</td>\n",
       "                        <td id=\"T_a111dd0e_77b6_11eb_a9d3_a0999b1609f9row11_col9\" class=\"data row11 col9\" >-0.098428</td>\n",
       "                        <td id=\"T_a111dd0e_77b6_11eb_a9d3_a0999b1609f9row11_col10\" class=\"data row11 col10\" >-0.032125</td>\n",
       "                        <td id=\"T_a111dd0e_77b6_11eb_a9d3_a0999b1609f9row11_col11\" class=\"data row11 col11\" >1.000000</td>\n",
       "                        <td id=\"T_a111dd0e_77b6_11eb_a9d3_a0999b1609f9row11_col12\" class=\"data row11 col12\" >-0.016486</td>\n",
       "            </tr>\n",
       "            <tr>\n",
       "                        <th id=\"T_a111dd0e_77b6_11eb_a9d3_a0999b1609f9level0_row12\" class=\"row_heading level0 row12\" >AccCount</th>\n",
       "                        <td id=\"T_a111dd0e_77b6_11eb_a9d3_a0999b1609f9row12_col0\" class=\"data row12 col0\" >0.021565</td>\n",
       "                        <td id=\"T_a111dd0e_77b6_11eb_a9d3_a0999b1609f9row12_col1\" class=\"data row12 col1\" >0.254341</td>\n",
       "                        <td id=\"T_a111dd0e_77b6_11eb_a9d3_a0999b1609f9row12_col2\" class=\"data row12 col2\" >-0.005461</td>\n",
       "                        <td id=\"T_a111dd0e_77b6_11eb_a9d3_a0999b1609f9row12_col3\" class=\"data row12 col3\" >0.260675</td>\n",
       "                        <td id=\"T_a111dd0e_77b6_11eb_a9d3_a0999b1609f9row12_col4\" class=\"data row12 col4\" >0.082408</td>\n",
       "                        <td id=\"T_a111dd0e_77b6_11eb_a9d3_a0999b1609f9row12_col5\" class=\"data row12 col5\" >0.016242</td>\n",
       "                        <td id=\"T_a111dd0e_77b6_11eb_a9d3_a0999b1609f9row12_col6\" class=\"data row12 col6\" >-0.029854</td>\n",
       "                        <td id=\"T_a111dd0e_77b6_11eb_a9d3_a0999b1609f9row12_col7\" class=\"data row12 col7\" >-0.014470</td>\n",
       "                        <td id=\"T_a111dd0e_77b6_11eb_a9d3_a0999b1609f9row12_col8\" class=\"data row12 col8\" >0.184602</td>\n",
       "                        <td id=\"T_a111dd0e_77b6_11eb_a9d3_a0999b1609f9row12_col9\" class=\"data row12 col9\" >0.016738</td>\n",
       "                        <td id=\"T_a111dd0e_77b6_11eb_a9d3_a0999b1609f9row12_col10\" class=\"data row12 col10\" >0.265962</td>\n",
       "                        <td id=\"T_a111dd0e_77b6_11eb_a9d3_a0999b1609f9row12_col11\" class=\"data row12 col11\" >-0.016486</td>\n",
       "                        <td id=\"T_a111dd0e_77b6_11eb_a9d3_a0999b1609f9row12_col12\" class=\"data row12 col12\" >1.000000</td>\n",
       "            </tr>\n",
       "    </tbody></table>"
      ],
      "text/plain": [
       "<pandas.io.formats.style.Styler at 0x140f4f450>"
      ]
     },
     "execution_count": 134,
     "metadata": {},
     "output_type": "execute_result"
    }
   ],
   "source": [
    "corr = AllData06[['medwid', 'no_lanes', 'lanewid', 'aadt', 'trf_cntl','seg_lng','access', 'oneway', 'spd_limt', 'med_type',\n",
    "       'surf_typ','rururb', 'rodwycls', 'AccCount']].corr()\n",
    "corr.style.background_gradient(cmap='coolwarm')"
   ]
  },
  {
   "cell_type": "code",
   "execution_count": 137,
   "metadata": {},
   "outputs": [
    {
     "data": {
      "text/plain": [
       "0"
      ]
     },
     "execution_count": 137,
     "metadata": {},
     "output_type": "execute_result"
    }
   ],
   "source": [
    "AllData06[(AllData06.medwid == 0) & (AllData06.med_type != 0)].shape[0]\n",
    "# All locations with median has median width"
   ]
  },
  {
   "cell_type": "code",
   "execution_count": 140,
   "metadata": {},
   "outputs": [
    {
     "data": {
      "text/plain": [
       "1"
      ]
     },
     "execution_count": 140,
     "metadata": {},
     "output_type": "execute_result"
    }
   ],
   "source": [
    "AllData06[(AllData06.no_lanes == 0)].shape[0]"
   ]
  },
  {
   "cell_type": "code",
   "execution_count": 141,
   "metadata": {},
   "outputs": [
    {
     "data": {
      "text/plain": [
       "1628"
      ]
     },
     "execution_count": 141,
     "metadata": {},
     "output_type": "execute_result"
    }
   ],
   "source": [
    "AllData06[(AllData06.lanewid == 0)].shape[0]"
   ]
  },
  {
   "cell_type": "code",
   "execution_count": 142,
   "metadata": {},
   "outputs": [
    {
     "data": {
      "text/plain": [
       "1576"
      ]
     },
     "execution_count": 142,
     "metadata": {},
     "output_type": "execute_result"
    }
   ],
   "source": [
    "AllData06[(AllData06.aadt == 0)].shape[0]"
   ]
  },
  {
   "cell_type": "code",
   "execution_count": 161,
   "metadata": {},
   "outputs": [
    {
     "data": {
      "text/plain": [
       "668"
      ]
     },
     "execution_count": 161,
     "metadata": {},
     "output_type": "execute_result"
    }
   ],
   "source": [
    "sum(AllData06[(AllData06.aadt < 10)].AccCount)"
   ]
  },
  {
   "cell_type": "code",
   "execution_count": 143,
   "metadata": {},
   "outputs": [
    {
     "data": {
      "text/plain": [
       "0"
      ]
     },
     "execution_count": 143,
     "metadata": {},
     "output_type": "execute_result"
    }
   ],
   "source": [
    "AllData06[(AllData06.seg_lng == 0)].shape[0]"
   ]
  },
  {
   "cell_type": "code",
   "execution_count": 163,
   "metadata": {},
   "outputs": [
    {
     "name": "stdout",
     "output_type": "stream",
     "text": [
      "25987\n",
      "11379\n"
     ]
    }
   ],
   "source": [
    "print(AllData06[(AllData06.spd_limt == 0)].shape[0])\n",
    "print(sum(AllData06[(AllData06.spd_limt == 0)].AccCount))\n",
    "#Unknown speed limits"
   ]
  },
  {
   "cell_type": "code",
   "execution_count": 162,
   "metadata": {},
   "outputs": [
    {
     "data": {
      "text/plain": [
       "6380"
      ]
     },
     "execution_count": 162,
     "metadata": {},
     "output_type": "execute_result"
    }
   ],
   "source": [
    "sum(AllData06[AllData06.rodwycls == 99].AccCount)"
   ]
  },
  {
   "cell_type": "code",
   "execution_count": 186,
   "metadata": {},
   "outputs": [
    {
     "data": {
      "text/plain": [
       "999"
      ]
     },
     "execution_count": 186,
     "metadata": {},
     "output_type": "execute_result"
    }
   ],
   "source": [
    "max(AllData06.medwid)\n",
    "#999 corresponds to > 100"
   ]
  },
  {
   "cell_type": "code",
   "execution_count": 188,
   "metadata": {},
   "outputs": [
    {
     "data": {
      "text/plain": [
       "36"
      ]
     },
     "execution_count": 188,
     "metadata": {},
     "output_type": "execute_result"
    }
   ],
   "source": [
    "max(AllData06.lanewid)\n",
    "#999 corresponds to > 100"
   ]
  },
  {
   "cell_type": "code",
   "execution_count": 169,
   "metadata": {},
   "outputs": [],
   "source": [
    "AllData06_filtered = AllData06[(AllData06.no_lanes != 0)&(AllData06.lanewid != 0)&(AllData06.aadt > 10)&(AllData06.spd_limt != 0)]\n",
    "#&(AllData06.rodwycls != 99)"
   ]
  },
  {
   "cell_type": "code",
   "execution_count": 170,
   "metadata": {},
   "outputs": [
    {
     "name": "stdout",
     "output_type": "stream",
     "text": [
      "134287 ( 83.57 %) records remain after filter with  190306  accidents\n"
     ]
    }
   ],
   "source": [
    "#print(AllData06_filtered.shape[0])\n",
    "#print(AllData06.shape[0])\n",
    "print(AllData06_filtered.shape[0], \"(\", round(AllData06_filtered.shape[0]*100/AllData06.shape[0],2),\"%) records remain after filter with \",sum(AllData06_filtered.AccCount),\" accidents\")"
   ]
  },
  {
   "cell_type": "code",
   "execution_count": 171,
   "metadata": {},
   "outputs": [
    {
     "data": {
      "text/html": [
       "<style  type=\"text/css\" >\n",
       "    #T_b5cafb02_77bd_11eb_a9d3_a0999b1609f9row0_col0 {\n",
       "            background-color:  #b40426;\n",
       "            color:  #f1f1f1;\n",
       "        }    #T_b5cafb02_77bd_11eb_a9d3_a0999b1609f9row0_col1 {\n",
       "            background-color:  #d2dbe8;\n",
       "            color:  #000000;\n",
       "        }    #T_b5cafb02_77bd_11eb_a9d3_a0999b1609f9row0_col2 {\n",
       "            background-color:  #6384eb;\n",
       "            color:  #000000;\n",
       "        }    #T_b5cafb02_77bd_11eb_a9d3_a0999b1609f9row0_col3 {\n",
       "            background-color:  #abc8fd;\n",
       "            color:  #000000;\n",
       "        }    #T_b5cafb02_77bd_11eb_a9d3_a0999b1609f9row0_col4 {\n",
       "            background-color:  #7da0f9;\n",
       "            color:  #000000;\n",
       "        }    #T_b5cafb02_77bd_11eb_a9d3_a0999b1609f9row0_col5 {\n",
       "            background-color:  #f5c2aa;\n",
       "            color:  #000000;\n",
       "        }    #T_b5cafb02_77bd_11eb_a9d3_a0999b1609f9row0_col6 {\n",
       "            background-color:  #e1dad6;\n",
       "            color:  #000000;\n",
       "        }    #T_b5cafb02_77bd_11eb_a9d3_a0999b1609f9row0_col7 {\n",
       "            background-color:  #e6d7cf;\n",
       "            color:  #000000;\n",
       "        }    #T_b5cafb02_77bd_11eb_a9d3_a0999b1609f9row0_col8 {\n",
       "            background-color:  #96b7ff;\n",
       "            color:  #000000;\n",
       "        }    #T_b5cafb02_77bd_11eb_a9d3_a0999b1609f9row0_col9 {\n",
       "            background-color:  #82a6fb;\n",
       "            color:  #000000;\n",
       "        }    #T_b5cafb02_77bd_11eb_a9d3_a0999b1609f9row0_col10 {\n",
       "            background-color:  #abc8fd;\n",
       "            color:  #000000;\n",
       "        }    #T_b5cafb02_77bd_11eb_a9d3_a0999b1609f9row0_col11 {\n",
       "            background-color:  #d1dae9;\n",
       "            color:  #000000;\n",
       "        }    #T_b5cafb02_77bd_11eb_a9d3_a0999b1609f9row0_col12 {\n",
       "            background-color:  #7093f3;\n",
       "            color:  #000000;\n",
       "        }    #T_b5cafb02_77bd_11eb_a9d3_a0999b1609f9row1_col0 {\n",
       "            background-color:  #ccd9ed;\n",
       "            color:  #000000;\n",
       "        }    #T_b5cafb02_77bd_11eb_a9d3_a0999b1609f9row1_col1 {\n",
       "            background-color:  #b40426;\n",
       "            color:  #f1f1f1;\n",
       "        }    #T_b5cafb02_77bd_11eb_a9d3_a0999b1609f9row1_col2 {\n",
       "            background-color:  #485fd1;\n",
       "            color:  #f1f1f1;\n",
       "        }    #T_b5cafb02_77bd_11eb_a9d3_a0999b1609f9row1_col3 {\n",
       "            background-color:  #f49a7b;\n",
       "            color:  #000000;\n",
       "        }    #T_b5cafb02_77bd_11eb_a9d3_a0999b1609f9row1_col4 {\n",
       "            background-color:  #5e7de7;\n",
       "            color:  #000000;\n",
       "        }    #T_b5cafb02_77bd_11eb_a9d3_a0999b1609f9row1_col5 {\n",
       "            background-color:  #efcfbf;\n",
       "            color:  #000000;\n",
       "        }    #T_b5cafb02_77bd_11eb_a9d3_a0999b1609f9row1_col6 {\n",
       "            background-color:  #dfdbd9;\n",
       "            color:  #000000;\n",
       "        }    #T_b5cafb02_77bd_11eb_a9d3_a0999b1609f9row1_col7 {\n",
       "            background-color:  #a9c6fd;\n",
       "            color:  #000000;\n",
       "        }    #T_b5cafb02_77bd_11eb_a9d3_a0999b1609f9row1_col8 {\n",
       "            background-color:  #e1dad6;\n",
       "            color:  #000000;\n",
       "        }    #T_b5cafb02_77bd_11eb_a9d3_a0999b1609f9row1_col9 {\n",
       "            background-color:  #9fbfff;\n",
       "            color:  #000000;\n",
       "        }    #T_b5cafb02_77bd_11eb_a9d3_a0999b1609f9row1_col10 {\n",
       "            background-color:  #f5c4ac;\n",
       "            color:  #000000;\n",
       "        }    #T_b5cafb02_77bd_11eb_a9d3_a0999b1609f9row1_col11 {\n",
       "            background-color:  #cbd8ee;\n",
       "            color:  #000000;\n",
       "        }    #T_b5cafb02_77bd_11eb_a9d3_a0999b1609f9row1_col12 {\n",
       "            background-color:  #b5cdfa;\n",
       "            color:  #000000;\n",
       "        }    #T_b5cafb02_77bd_11eb_a9d3_a0999b1609f9row2_col0 {\n",
       "            background-color:  #5d7ce6;\n",
       "            color:  #000000;\n",
       "        }    #T_b5cafb02_77bd_11eb_a9d3_a0999b1609f9row2_col1 {\n",
       "            background-color:  #4a63d3;\n",
       "            color:  #f1f1f1;\n",
       "        }    #T_b5cafb02_77bd_11eb_a9d3_a0999b1609f9row2_col2 {\n",
       "            background-color:  #b40426;\n",
       "            color:  #f1f1f1;\n",
       "        }    #T_b5cafb02_77bd_11eb_a9d3_a0999b1609f9row2_col3 {\n",
       "            background-color:  #5977e3;\n",
       "            color:  #000000;\n",
       "        }    #T_b5cafb02_77bd_11eb_a9d3_a0999b1609f9row2_col4 {\n",
       "            background-color:  #5977e3;\n",
       "            color:  #000000;\n",
       "        }    #T_b5cafb02_77bd_11eb_a9d3_a0999b1609f9row2_col5 {\n",
       "            background-color:  #6788ee;\n",
       "            color:  #000000;\n",
       "        }    #T_b5cafb02_77bd_11eb_a9d3_a0999b1609f9row2_col6 {\n",
       "            background-color:  #ccd9ed;\n",
       "            color:  #000000;\n",
       "        }    #T_b5cafb02_77bd_11eb_a9d3_a0999b1609f9row2_col7 {\n",
       "            background-color:  #97b8ff;\n",
       "            color:  #000000;\n",
       "        }    #T_b5cafb02_77bd_11eb_a9d3_a0999b1609f9row2_col8 {\n",
       "            background-color:  #6f92f3;\n",
       "            color:  #000000;\n",
       "        }    #T_b5cafb02_77bd_11eb_a9d3_a0999b1609f9row2_col9 {\n",
       "            background-color:  #5470de;\n",
       "            color:  #000000;\n",
       "        }    #T_b5cafb02_77bd_11eb_a9d3_a0999b1609f9row2_col10 {\n",
       "            background-color:  #a9c6fd;\n",
       "            color:  #000000;\n",
       "        }    #T_b5cafb02_77bd_11eb_a9d3_a0999b1609f9row2_col11 {\n",
       "            background-color:  #e8d6cc;\n",
       "            color:  #000000;\n",
       "        }    #T_b5cafb02_77bd_11eb_a9d3_a0999b1609f9row2_col12 {\n",
       "            background-color:  #6485ec;\n",
       "            color:  #000000;\n",
       "        }    #T_b5cafb02_77bd_11eb_a9d3_a0999b1609f9row3_col0 {\n",
       "            background-color:  #a2c1ff;\n",
       "            color:  #000000;\n",
       "        }    #T_b5cafb02_77bd_11eb_a9d3_a0999b1609f9row3_col1 {\n",
       "            background-color:  #f49a7b;\n",
       "            color:  #000000;\n",
       "        }    #T_b5cafb02_77bd_11eb_a9d3_a0999b1609f9row3_col2 {\n",
       "            background-color:  #5572df;\n",
       "            color:  #000000;\n",
       "        }    #T_b5cafb02_77bd_11eb_a9d3_a0999b1609f9row3_col3 {\n",
       "            background-color:  #b40426;\n",
       "            color:  #f1f1f1;\n",
       "        }    #T_b5cafb02_77bd_11eb_a9d3_a0999b1609f9row3_col4 {\n",
       "            background-color:  #5f7fe8;\n",
       "            color:  #000000;\n",
       "        }    #T_b5cafb02_77bd_11eb_a9d3_a0999b1609f9row3_col5 {\n",
       "            background-color:  #e1dad6;\n",
       "            color:  #000000;\n",
       "        }    #T_b5cafb02_77bd_11eb_a9d3_a0999b1609f9row3_col6 {\n",
       "            background-color:  #dfdbd9;\n",
       "            color:  #000000;\n",
       "        }    #T_b5cafb02_77bd_11eb_a9d3_a0999b1609f9row3_col7 {\n",
       "            background-color:  #aac7fd;\n",
       "            color:  #000000;\n",
       "        }    #T_b5cafb02_77bd_11eb_a9d3_a0999b1609f9row3_col8 {\n",
       "            background-color:  #c5d6f2;\n",
       "            color:  #000000;\n",
       "        }    #T_b5cafb02_77bd_11eb_a9d3_a0999b1609f9row3_col9 {\n",
       "            background-color:  #7699f6;\n",
       "            color:  #000000;\n",
       "        }    #T_b5cafb02_77bd_11eb_a9d3_a0999b1609f9row3_col10 {\n",
       "            background-color:  #eed0c0;\n",
       "            color:  #000000;\n",
       "        }    #T_b5cafb02_77bd_11eb_a9d3_a0999b1609f9row3_col11 {\n",
       "            background-color:  #cad8ef;\n",
       "            color:  #000000;\n",
       "        }    #T_b5cafb02_77bd_11eb_a9d3_a0999b1609f9row3_col12 {\n",
       "            background-color:  #b6cefa;\n",
       "            color:  #000000;\n",
       "        }    #T_b5cafb02_77bd_11eb_a9d3_a0999b1609f9row4_col0 {\n",
       "            background-color:  #6485ec;\n",
       "            color:  #000000;\n",
       "        }    #T_b5cafb02_77bd_11eb_a9d3_a0999b1609f9row4_col1 {\n",
       "            background-color:  #506bda;\n",
       "            color:  #000000;\n",
       "        }    #T_b5cafb02_77bd_11eb_a9d3_a0999b1609f9row4_col2 {\n",
       "            background-color:  #4961d2;\n",
       "            color:  #f1f1f1;\n",
       "        }    #T_b5cafb02_77bd_11eb_a9d3_a0999b1609f9row4_col3 {\n",
       "            background-color:  #536edd;\n",
       "            color:  #000000;\n",
       "        }    #T_b5cafb02_77bd_11eb_a9d3_a0999b1609f9row4_col4 {\n",
       "            background-color:  #b40426;\n",
       "            color:  #f1f1f1;\n",
       "        }    #T_b5cafb02_77bd_11eb_a9d3_a0999b1609f9row4_col5 {\n",
       "            background-color:  #7699f6;\n",
       "            color:  #000000;\n",
       "        }    #T_b5cafb02_77bd_11eb_a9d3_a0999b1609f9row4_col6 {\n",
       "            background-color:  #e0dbd8;\n",
       "            color:  #000000;\n",
       "        }    #T_b5cafb02_77bd_11eb_a9d3_a0999b1609f9row4_col7 {\n",
       "            background-color:  #d5dbe5;\n",
       "            color:  #000000;\n",
       "        }    #T_b5cafb02_77bd_11eb_a9d3_a0999b1609f9row4_col8 {\n",
       "            background-color:  #465ecf;\n",
       "            color:  #f1f1f1;\n",
       "        }    #T_b5cafb02_77bd_11eb_a9d3_a0999b1609f9row4_col9 {\n",
       "            background-color:  #3f53c6;\n",
       "            color:  #f1f1f1;\n",
       "        }    #T_b5cafb02_77bd_11eb_a9d3_a0999b1609f9row4_col10 {\n",
       "            background-color:  #799cf8;\n",
       "            color:  #000000;\n",
       "        }    #T_b5cafb02_77bd_11eb_a9d3_a0999b1609f9row4_col11 {\n",
       "            background-color:  #d9dce1;\n",
       "            color:  #000000;\n",
       "        }    #T_b5cafb02_77bd_11eb_a9d3_a0999b1609f9row4_col12 {\n",
       "            background-color:  #88abfd;\n",
       "            color:  #000000;\n",
       "        }    #T_b5cafb02_77bd_11eb_a9d3_a0999b1609f9row5_col0 {\n",
       "            background-color:  #f4c6af;\n",
       "            color:  #000000;\n",
       "        }    #T_b5cafb02_77bd_11eb_a9d3_a0999b1609f9row5_col1 {\n",
       "            background-color:  #efcebd;\n",
       "            color:  #000000;\n",
       "        }    #T_b5cafb02_77bd_11eb_a9d3_a0999b1609f9row5_col2 {\n",
       "            background-color:  #6687ed;\n",
       "            color:  #000000;\n",
       "        }    #T_b5cafb02_77bd_11eb_a9d3_a0999b1609f9row5_col3 {\n",
       "            background-color:  #e2dad5;\n",
       "            color:  #000000;\n",
       "        }    #T_b5cafb02_77bd_11eb_a9d3_a0999b1609f9row5_col4 {\n",
       "            background-color:  #85a8fc;\n",
       "            color:  #000000;\n",
       "        }    #T_b5cafb02_77bd_11eb_a9d3_a0999b1609f9row5_col5 {\n",
       "            background-color:  #b40426;\n",
       "            color:  #f1f1f1;\n",
       "        }    #T_b5cafb02_77bd_11eb_a9d3_a0999b1609f9row5_col6 {\n",
       "            background-color:  #e1dad6;\n",
       "            color:  #000000;\n",
       "        }    #T_b5cafb02_77bd_11eb_a9d3_a0999b1609f9row5_col7 {\n",
       "            background-color:  #f5c4ac;\n",
       "            color:  #000000;\n",
       "        }    #T_b5cafb02_77bd_11eb_a9d3_a0999b1609f9row5_col8 {\n",
       "            background-color:  #96b7ff;\n",
       "            color:  #000000;\n",
       "        }    #T_b5cafb02_77bd_11eb_a9d3_a0999b1609f9row5_col9 {\n",
       "            background-color:  #9bbcff;\n",
       "            color:  #000000;\n",
       "        }    #T_b5cafb02_77bd_11eb_a9d3_a0999b1609f9row5_col10 {\n",
       "            background-color:  #aec9fc;\n",
       "            color:  #000000;\n",
       "        }    #T_b5cafb02_77bd_11eb_a9d3_a0999b1609f9row5_col11 {\n",
       "            background-color:  #ccd9ed;\n",
       "            color:  #000000;\n",
       "        }    #T_b5cafb02_77bd_11eb_a9d3_a0999b1609f9row5_col12 {\n",
       "            background-color:  #6e90f2;\n",
       "            color:  #000000;\n",
       "        }    #T_b5cafb02_77bd_11eb_a9d3_a0999b1609f9row6_col0 {\n",
       "            background-color:  #5d7ce6;\n",
       "            color:  #000000;\n",
       "        }    #T_b5cafb02_77bd_11eb_a9d3_a0999b1609f9row6_col1 {\n",
       "            background-color:  #6384eb;\n",
       "            color:  #000000;\n",
       "        }    #T_b5cafb02_77bd_11eb_a9d3_a0999b1609f9row6_col2 {\n",
       "            background-color:  #3b4cc0;\n",
       "            color:  #f1f1f1;\n",
       "        }    #T_b5cafb02_77bd_11eb_a9d3_a0999b1609f9row6_col3 {\n",
       "            background-color:  #6384eb;\n",
       "            color:  #000000;\n",
       "        }    #T_b5cafb02_77bd_11eb_a9d3_a0999b1609f9row6_col4 {\n",
       "            background-color:  #7396f5;\n",
       "            color:  #000000;\n",
       "        }    #T_b5cafb02_77bd_11eb_a9d3_a0999b1609f9row6_col5 {\n",
       "            background-color:  #688aef;\n",
       "            color:  #000000;\n",
       "        }    #T_b5cafb02_77bd_11eb_a9d3_a0999b1609f9row6_col6 {\n",
       "            background-color:  #b40426;\n",
       "            color:  #f1f1f1;\n",
       "        }    #T_b5cafb02_77bd_11eb_a9d3_a0999b1609f9row6_col7 {\n",
       "            background-color:  #cdd9ec;\n",
       "            color:  #000000;\n",
       "        }    #T_b5cafb02_77bd_11eb_a9d3_a0999b1609f9row6_col8 {\n",
       "            background-color:  #6e90f2;\n",
       "            color:  #000000;\n",
       "        }    #T_b5cafb02_77bd_11eb_a9d3_a0999b1609f9row6_col9 {\n",
       "            background-color:  #3b4cc0;\n",
       "            color:  #f1f1f1;\n",
       "        }    #T_b5cafb02_77bd_11eb_a9d3_a0999b1609f9row6_col10 {\n",
       "            background-color:  #82a6fb;\n",
       "            color:  #000000;\n",
       "        }    #T_b5cafb02_77bd_11eb_a9d3_a0999b1609f9row6_col11 {\n",
       "            background-color:  #3b4cc0;\n",
       "            color:  #f1f1f1;\n",
       "        }    #T_b5cafb02_77bd_11eb_a9d3_a0999b1609f9row6_col12 {\n",
       "            background-color:  #6485ec;\n",
       "            color:  #000000;\n",
       "        }    #T_b5cafb02_77bd_11eb_a9d3_a0999b1609f9row7_col0 {\n",
       "            background-color:  #b9d0f9;\n",
       "            color:  #000000;\n",
       "        }    #T_b5cafb02_77bd_11eb_a9d3_a0999b1609f9row7_col1 {\n",
       "            background-color:  #6282ea;\n",
       "            color:  #000000;\n",
       "        }    #T_b5cafb02_77bd_11eb_a9d3_a0999b1609f9row7_col2 {\n",
       "            background-color:  #4961d2;\n",
       "            color:  #f1f1f1;\n",
       "        }    #T_b5cafb02_77bd_11eb_a9d3_a0999b1609f9row7_col3 {\n",
       "            background-color:  #6485ec;\n",
       "            color:  #000000;\n",
       "        }    #T_b5cafb02_77bd_11eb_a9d3_a0999b1609f9row7_col4 {\n",
       "            background-color:  #adc9fd;\n",
       "            color:  #000000;\n",
       "        }    #T_b5cafb02_77bd_11eb_a9d3_a0999b1609f9row7_col5 {\n",
       "            background-color:  #e0dbd8;\n",
       "            color:  #000000;\n",
       "        }    #T_b5cafb02_77bd_11eb_a9d3_a0999b1609f9row7_col6 {\n",
       "            background-color:  #f1cdba;\n",
       "            color:  #000000;\n",
       "        }    #T_b5cafb02_77bd_11eb_a9d3_a0999b1609f9row7_col7 {\n",
       "            background-color:  #b40426;\n",
       "            color:  #f1f1f1;\n",
       "        }    #T_b5cafb02_77bd_11eb_a9d3_a0999b1609f9row7_col8 {\n",
       "            background-color:  #4961d2;\n",
       "            color:  #f1f1f1;\n",
       "        }    #T_b5cafb02_77bd_11eb_a9d3_a0999b1609f9row7_col9 {\n",
       "            background-color:  #5e7de7;\n",
       "            color:  #000000;\n",
       "        }    #T_b5cafb02_77bd_11eb_a9d3_a0999b1609f9row7_col10 {\n",
       "            background-color:  #3b4cc0;\n",
       "            color:  #f1f1f1;\n",
       "        }    #T_b5cafb02_77bd_11eb_a9d3_a0999b1609f9row7_col11 {\n",
       "            background-color:  #c7d7f0;\n",
       "            color:  #000000;\n",
       "        }    #T_b5cafb02_77bd_11eb_a9d3_a0999b1609f9row7_col12 {\n",
       "            background-color:  #3b4cc0;\n",
       "            color:  #f1f1f1;\n",
       "        }    #T_b5cafb02_77bd_11eb_a9d3_a0999b1609f9row8_col0 {\n",
       "            background-color:  #8caffe;\n",
       "            color:  #000000;\n",
       "        }    #T_b5cafb02_77bd_11eb_a9d3_a0999b1609f9row8_col1 {\n",
       "            background-color:  #e0dbd8;\n",
       "            color:  #000000;\n",
       "        }    #T_b5cafb02_77bd_11eb_a9d3_a0999b1609f9row8_col2 {\n",
       "            background-color:  #6b8df0;\n",
       "            color:  #000000;\n",
       "        }    #T_b5cafb02_77bd_11eb_a9d3_a0999b1609f9row8_col3 {\n",
       "            background-color:  #c5d6f2;\n",
       "            color:  #000000;\n",
       "        }    #T_b5cafb02_77bd_11eb_a9d3_a0999b1609f9row8_col4 {\n",
       "            background-color:  #536edd;\n",
       "            color:  #000000;\n",
       "        }    #T_b5cafb02_77bd_11eb_a9d3_a0999b1609f9row8_col5 {\n",
       "            background-color:  #93b5fe;\n",
       "            color:  #000000;\n",
       "        }    #T_b5cafb02_77bd_11eb_a9d3_a0999b1609f9row8_col6 {\n",
       "            background-color:  #e3d9d3;\n",
       "            color:  #000000;\n",
       "        }    #T_b5cafb02_77bd_11eb_a9d3_a0999b1609f9row8_col7 {\n",
       "            background-color:  #93b5fe;\n",
       "            color:  #000000;\n",
       "        }    #T_b5cafb02_77bd_11eb_a9d3_a0999b1609f9row8_col8 {\n",
       "            background-color:  #b40426;\n",
       "            color:  #f1f1f1;\n",
       "        }    #T_b5cafb02_77bd_11eb_a9d3_a0999b1609f9row8_col9 {\n",
       "            background-color:  #7295f4;\n",
       "            color:  #000000;\n",
       "        }    #T_b5cafb02_77bd_11eb_a9d3_a0999b1609f9row8_col10 {\n",
       "            background-color:  #e7d7ce;\n",
       "            color:  #000000;\n",
       "        }    #T_b5cafb02_77bd_11eb_a9d3_a0999b1609f9row8_col11 {\n",
       "            background-color:  #cad8ef;\n",
       "            color:  #000000;\n",
       "        }    #T_b5cafb02_77bd_11eb_a9d3_a0999b1609f9row8_col12 {\n",
       "            background-color:  #a3c2fe;\n",
       "            color:  #000000;\n",
       "        }    #T_b5cafb02_77bd_11eb_a9d3_a0999b1609f9row9_col0 {\n",
       "            background-color:  #93b5fe;\n",
       "            color:  #000000;\n",
       "        }    #T_b5cafb02_77bd_11eb_a9d3_a0999b1609f9row9_col1 {\n",
       "            background-color:  #b5cdfa;\n",
       "            color:  #000000;\n",
       "        }    #T_b5cafb02_77bd_11eb_a9d3_a0999b1609f9row9_col2 {\n",
       "            background-color:  #6c8ff1;\n",
       "            color:  #000000;\n",
       "        }    #T_b5cafb02_77bd_11eb_a9d3_a0999b1609f9row9_col3 {\n",
       "            background-color:  #92b4fe;\n",
       "            color:  #000000;\n",
       "        }    #T_b5cafb02_77bd_11eb_a9d3_a0999b1609f9row9_col4 {\n",
       "            background-color:  #688aef;\n",
       "            color:  #000000;\n",
       "        }    #T_b5cafb02_77bd_11eb_a9d3_a0999b1609f9row9_col5 {\n",
       "            background-color:  #b1cbfc;\n",
       "            color:  #000000;\n",
       "        }    #T_b5cafb02_77bd_11eb_a9d3_a0999b1609f9row9_col6 {\n",
       "            background-color:  #d9dce1;\n",
       "            color:  #000000;\n",
       "        }    #T_b5cafb02_77bd_11eb_a9d3_a0999b1609f9row9_col7 {\n",
       "            background-color:  #bbd1f8;\n",
       "            color:  #000000;\n",
       "        }    #T_b5cafb02_77bd_11eb_a9d3_a0999b1609f9row9_col8 {\n",
       "            background-color:  #8db0fe;\n",
       "            color:  #000000;\n",
       "        }    #T_b5cafb02_77bd_11eb_a9d3_a0999b1609f9row9_col9 {\n",
       "            background-color:  #b40426;\n",
       "            color:  #f1f1f1;\n",
       "        }    #T_b5cafb02_77bd_11eb_a9d3_a0999b1609f9row9_col10 {\n",
       "            background-color:  #bad0f8;\n",
       "            color:  #000000;\n",
       "        }    #T_b5cafb02_77bd_11eb_a9d3_a0999b1609f9row9_col11 {\n",
       "            background-color:  #dadce0;\n",
       "            color:  #000000;\n",
       "        }    #T_b5cafb02_77bd_11eb_a9d3_a0999b1609f9row9_col12 {\n",
       "            background-color:  #6e90f2;\n",
       "            color:  #000000;\n",
       "        }    #T_b5cafb02_77bd_11eb_a9d3_a0999b1609f9row10_col0 {\n",
       "            background-color:  #5b7ae5;\n",
       "            color:  #000000;\n",
       "        }    #T_b5cafb02_77bd_11eb_a9d3_a0999b1609f9row10_col1 {\n",
       "            background-color:  #e0dbd8;\n",
       "            color:  #000000;\n",
       "        }    #T_b5cafb02_77bd_11eb_a9d3_a0999b1609f9row10_col2 {\n",
       "            background-color:  #5f7fe8;\n",
       "            color:  #000000;\n",
       "        }    #T_b5cafb02_77bd_11eb_a9d3_a0999b1609f9row10_col3 {\n",
       "            background-color:  #cedaeb;\n",
       "            color:  #000000;\n",
       "        }    #T_b5cafb02_77bd_11eb_a9d3_a0999b1609f9row10_col4 {\n",
       "            background-color:  #3b4cc0;\n",
       "            color:  #f1f1f1;\n",
       "        }    #T_b5cafb02_77bd_11eb_a9d3_a0999b1609f9row10_col5 {\n",
       "            background-color:  #6788ee;\n",
       "            color:  #000000;\n",
       "        }    #T_b5cafb02_77bd_11eb_a9d3_a0999b1609f9row10_col6 {\n",
       "            background-color:  #c9d7f0;\n",
       "            color:  #000000;\n",
       "        }    #T_b5cafb02_77bd_11eb_a9d3_a0999b1609f9row10_col7 {\n",
       "            background-color:  #3b4cc0;\n",
       "            color:  #f1f1f1;\n",
       "        }    #T_b5cafb02_77bd_11eb_a9d3_a0999b1609f9row10_col8 {\n",
       "            background-color:  #c3d5f4;\n",
       "            color:  #000000;\n",
       "        }    #T_b5cafb02_77bd_11eb_a9d3_a0999b1609f9row10_col9 {\n",
       "            background-color:  #5d7ce6;\n",
       "            color:  #000000;\n",
       "        }    #T_b5cafb02_77bd_11eb_a9d3_a0999b1609f9row10_col10 {\n",
       "            background-color:  #b40426;\n",
       "            color:  #f1f1f1;\n",
       "        }    #T_b5cafb02_77bd_11eb_a9d3_a0999b1609f9row10_col11 {\n",
       "            background-color:  #d6dce4;\n",
       "            color:  #000000;\n",
       "        }    #T_b5cafb02_77bd_11eb_a9d3_a0999b1609f9row10_col12 {\n",
       "            background-color:  #bad0f8;\n",
       "            color:  #000000;\n",
       "        }    #T_b5cafb02_77bd_11eb_a9d3_a0999b1609f9row11_col0 {\n",
       "            background-color:  #3b4cc0;\n",
       "            color:  #f1f1f1;\n",
       "        }    #T_b5cafb02_77bd_11eb_a9d3_a0999b1609f9row11_col1 {\n",
       "            background-color:  #3b4cc0;\n",
       "            color:  #f1f1f1;\n",
       "        }    #T_b5cafb02_77bd_11eb_a9d3_a0999b1609f9row11_col2 {\n",
       "            background-color:  #7597f6;\n",
       "            color:  #000000;\n",
       "        }    #T_b5cafb02_77bd_11eb_a9d3_a0999b1609f9row11_col3 {\n",
       "            background-color:  #3b4cc0;\n",
       "            color:  #f1f1f1;\n",
       "        }    #T_b5cafb02_77bd_11eb_a9d3_a0999b1609f9row11_col4 {\n",
       "            background-color:  #6485ec;\n",
       "            color:  #000000;\n",
       "        }    #T_b5cafb02_77bd_11eb_a9d3_a0999b1609f9row11_col5 {\n",
       "            background-color:  #3b4cc0;\n",
       "            color:  #f1f1f1;\n",
       "        }    #T_b5cafb02_77bd_11eb_a9d3_a0999b1609f9row11_col6 {\n",
       "            background-color:  #3b4cc0;\n",
       "            color:  #f1f1f1;\n",
       "        }    #T_b5cafb02_77bd_11eb_a9d3_a0999b1609f9row11_col7 {\n",
       "            background-color:  #81a4fb;\n",
       "            color:  #000000;\n",
       "        }    #T_b5cafb02_77bd_11eb_a9d3_a0999b1609f9row11_col8 {\n",
       "            background-color:  #3b4cc0;\n",
       "            color:  #f1f1f1;\n",
       "        }    #T_b5cafb02_77bd_11eb_a9d3_a0999b1609f9row11_col9 {\n",
       "            background-color:  #3c4ec2;\n",
       "            color:  #f1f1f1;\n",
       "        }    #T_b5cafb02_77bd_11eb_a9d3_a0999b1609f9row11_col10 {\n",
       "            background-color:  #98b9ff;\n",
       "            color:  #000000;\n",
       "        }    #T_b5cafb02_77bd_11eb_a9d3_a0999b1609f9row11_col11 {\n",
       "            background-color:  #b40426;\n",
       "            color:  #f1f1f1;\n",
       "        }    #T_b5cafb02_77bd_11eb_a9d3_a0999b1609f9row11_col12 {\n",
       "            background-color:  #6788ee;\n",
       "            color:  #000000;\n",
       "        }    #T_b5cafb02_77bd_11eb_a9d3_a0999b1609f9row12_col0 {\n",
       "            background-color:  #5572df;\n",
       "            color:  #000000;\n",
       "        }    #T_b5cafb02_77bd_11eb_a9d3_a0999b1609f9row12_col1 {\n",
       "            background-color:  #a7c5fe;\n",
       "            color:  #000000;\n",
       "        }    #T_b5cafb02_77bd_11eb_a9d3_a0999b1609f9row12_col2 {\n",
       "            background-color:  #4f69d9;\n",
       "            color:  #000000;\n",
       "        }    #T_b5cafb02_77bd_11eb_a9d3_a0999b1609f9row12_col3 {\n",
       "            background-color:  #aac7fd;\n",
       "            color:  #000000;\n",
       "        }    #T_b5cafb02_77bd_11eb_a9d3_a0999b1609f9row12_col4 {\n",
       "            background-color:  #85a8fc;\n",
       "            color:  #000000;\n",
       "        }    #T_b5cafb02_77bd_11eb_a9d3_a0999b1609f9row12_col5 {\n",
       "            background-color:  #5b7ae5;\n",
       "            color:  #000000;\n",
       "        }    #T_b5cafb02_77bd_11eb_a9d3_a0999b1609f9row12_col6 {\n",
       "            background-color:  #d8dce2;\n",
       "            color:  #000000;\n",
       "        }    #T_b5cafb02_77bd_11eb_a9d3_a0999b1609f9row12_col7 {\n",
       "            background-color:  #7699f6;\n",
       "            color:  #000000;\n",
       "        }    #T_b5cafb02_77bd_11eb_a9d3_a0999b1609f9row12_col8 {\n",
       "            background-color:  #96b7ff;\n",
       "            color:  #000000;\n",
       "        }    #T_b5cafb02_77bd_11eb_a9d3_a0999b1609f9row12_col9 {\n",
       "            background-color:  #4055c8;\n",
       "            color:  #f1f1f1;\n",
       "        }    #T_b5cafb02_77bd_11eb_a9d3_a0999b1609f9row12_col10 {\n",
       "            background-color:  #dbdcde;\n",
       "            color:  #000000;\n",
       "        }    #T_b5cafb02_77bd_11eb_a9d3_a0999b1609f9row12_col11 {\n",
       "            background-color:  #d9dce1;\n",
       "            color:  #000000;\n",
       "        }    #T_b5cafb02_77bd_11eb_a9d3_a0999b1609f9row12_col12 {\n",
       "            background-color:  #b40426;\n",
       "            color:  #f1f1f1;\n",
       "        }</style><table id=\"T_b5cafb02_77bd_11eb_a9d3_a0999b1609f9\" ><thead>    <tr>        <th class=\"blank level0\" ></th>        <th class=\"col_heading level0 col0\" >medwid</th>        <th class=\"col_heading level0 col1\" >no_lanes</th>        <th class=\"col_heading level0 col2\" >lanewid</th>        <th class=\"col_heading level0 col3\" >aadt</th>        <th class=\"col_heading level0 col4\" >seg_lng</th>        <th class=\"col_heading level0 col5\" >access</th>        <th class=\"col_heading level0 col6\" >oneway</th>        <th class=\"col_heading level0 col7\" >spd_limt</th>        <th class=\"col_heading level0 col8\" >med_type</th>        <th class=\"col_heading level0 col9\" >surf_typ</th>        <th class=\"col_heading level0 col10\" >rururb</th>        <th class=\"col_heading level0 col11\" >rodwycls</th>        <th class=\"col_heading level0 col12\" >AccCount</th>    </tr></thead><tbody>\n",
       "                <tr>\n",
       "                        <th id=\"T_b5cafb02_77bd_11eb_a9d3_a0999b1609f9level0_row0\" class=\"row_heading level0 row0\" >medwid</th>\n",
       "                        <td id=\"T_b5cafb02_77bd_11eb_a9d3_a0999b1609f9row0_col0\" class=\"data row0 col0\" >1.000000</td>\n",
       "                        <td id=\"T_b5cafb02_77bd_11eb_a9d3_a0999b1609f9row0_col1\" class=\"data row0 col1\" >0.393760</td>\n",
       "                        <td id=\"T_b5cafb02_77bd_11eb_a9d3_a0999b1609f9row0_col2\" class=\"data row0 col2\" >0.038738</td>\n",
       "                        <td id=\"T_b5cafb02_77bd_11eb_a9d3_a0999b1609f9row0_col3\" class=\"data row0 col3\" >0.255388</td>\n",
       "                        <td id=\"T_b5cafb02_77bd_11eb_a9d3_a0999b1609f9row0_col4\" class=\"data row0 col4\" >0.065664</td>\n",
       "                        <td id=\"T_b5cafb02_77bd_11eb_a9d3_a0999b1609f9row0_col5\" class=\"data row0 col5\" >0.587748</td>\n",
       "                        <td id=\"T_b5cafb02_77bd_11eb_a9d3_a0999b1609f9row0_col6\" class=\"data row0 col6\" >0.041016</td>\n",
       "                        <td id=\"T_b5cafb02_77bd_11eb_a9d3_a0999b1609f9row0_col7\" class=\"data row0 col7\" >0.325002</td>\n",
       "                        <td id=\"T_b5cafb02_77bd_11eb_a9d3_a0999b1609f9row0_col8\" class=\"data row0 col8\" >0.185975</td>\n",
       "                        <td id=\"T_b5cafb02_77bd_11eb_a9d3_a0999b1609f9row0_col9\" class=\"data row0 col9\" >0.208432</td>\n",
       "                        <td id=\"T_b5cafb02_77bd_11eb_a9d3_a0999b1609f9row0_col10\" class=\"data row0 col10\" >0.033809</td>\n",
       "                        <td id=\"T_b5cafb02_77bd_11eb_a9d3_a0999b1609f9row0_col11\" class=\"data row0 col11\" >-0.081294</td>\n",
       "                        <td id=\"T_b5cafb02_77bd_11eb_a9d3_a0999b1609f9row0_col12\" class=\"data row0 col12\" >0.012729</td>\n",
       "            </tr>\n",
       "            <tr>\n",
       "                        <th id=\"T_b5cafb02_77bd_11eb_a9d3_a0999b1609f9level0_row1\" class=\"row_heading level0 row1\" >no_lanes</th>\n",
       "                        <td id=\"T_b5cafb02_77bd_11eb_a9d3_a0999b1609f9row1_col0\" class=\"data row1 col0\" >0.393760</td>\n",
       "                        <td id=\"T_b5cafb02_77bd_11eb_a9d3_a0999b1609f9row1_col1\" class=\"data row1 col1\" >1.000000</td>\n",
       "                        <td id=\"T_b5cafb02_77bd_11eb_a9d3_a0999b1609f9row1_col2\" class=\"data row1 col2\" >-0.058159</td>\n",
       "                        <td id=\"T_b5cafb02_77bd_11eb_a9d3_a0999b1609f9row1_col3\" class=\"data row1 col3\" >0.716913</td>\n",
       "                        <td id=\"T_b5cafb02_77bd_11eb_a9d3_a0999b1609f9row1_col4\" class=\"data row1 col4\" >-0.036015</td>\n",
       "                        <td id=\"T_b5cafb02_77bd_11eb_a9d3_a0999b1609f9row1_col5\" class=\"data row1 col5\" >0.533388</td>\n",
       "                        <td id=\"T_b5cafb02_77bd_11eb_a9d3_a0999b1609f9row1_col6\" class=\"data row1 col6\" >0.026207</td>\n",
       "                        <td id=\"T_b5cafb02_77bd_11eb_a9d3_a0999b1609f9row1_col7\" class=\"data row1 col7\" >0.022765</td>\n",
       "                        <td id=\"T_b5cafb02_77bd_11eb_a9d3_a0999b1609f9row1_col8\" class=\"data row1 col8\" >0.457747</td>\n",
       "                        <td id=\"T_b5cafb02_77bd_11eb_a9d3_a0999b1609f9row1_col9\" class=\"data row1 col9\" >0.290493</td>\n",
       "                        <td id=\"T_b5cafb02_77bd_11eb_a9d3_a0999b1609f9row1_col10\" class=\"data row1 col10\" >0.457586</td>\n",
       "                        <td id=\"T_b5cafb02_77bd_11eb_a9d3_a0999b1609f9row1_col11\" class=\"data row1 col11\" >-0.118806</td>\n",
       "                        <td id=\"T_b5cafb02_77bd_11eb_a9d3_a0999b1609f9row1_col12\" class=\"data row1 col12\" >0.244643</td>\n",
       "            </tr>\n",
       "            <tr>\n",
       "                        <th id=\"T_b5cafb02_77bd_11eb_a9d3_a0999b1609f9level0_row2\" class=\"row_heading level0 row2\" >lanewid</th>\n",
       "                        <td id=\"T_b5cafb02_77bd_11eb_a9d3_a0999b1609f9row2_col0\" class=\"data row2 col0\" >0.038738</td>\n",
       "                        <td id=\"T_b5cafb02_77bd_11eb_a9d3_a0999b1609f9row2_col1\" class=\"data row2 col1\" >-0.058159</td>\n",
       "                        <td id=\"T_b5cafb02_77bd_11eb_a9d3_a0999b1609f9row2_col2\" class=\"data row2 col2\" >1.000000</td>\n",
       "                        <td id=\"T_b5cafb02_77bd_11eb_a9d3_a0999b1609f9row2_col3\" class=\"data row2 col3\" >-0.009978</td>\n",
       "                        <td id=\"T_b5cafb02_77bd_11eb_a9d3_a0999b1609f9row2_col4\" class=\"data row2 col4\" >-0.054370</td>\n",
       "                        <td id=\"T_b5cafb02_77bd_11eb_a9d3_a0999b1609f9row2_col5\" class=\"data row2 col5\" >0.048060</td>\n",
       "                        <td id=\"T_b5cafb02_77bd_11eb_a9d3_a0999b1609f9row2_col6\" class=\"data row2 col6\" >-0.106392</td>\n",
       "                        <td id=\"T_b5cafb02_77bd_11eb_a9d3_a0999b1609f9row2_col7\" class=\"data row2 col7\" >-0.051965</td>\n",
       "                        <td id=\"T_b5cafb02_77bd_11eb_a9d3_a0999b1609f9row2_col8\" class=\"data row2 col8\" >0.064207</td>\n",
       "                        <td id=\"T_b5cafb02_77bd_11eb_a9d3_a0999b1609f9row2_col9\" class=\"data row2 col9\" >0.069701</td>\n",
       "                        <td id=\"T_b5cafb02_77bd_11eb_a9d3_a0999b1609f9row2_col10\" class=\"data row2 col10\" >0.025485</td>\n",
       "                        <td id=\"T_b5cafb02_77bd_11eb_a9d3_a0999b1609f9row2_col11\" class=\"data row2 col11\" >0.096196</td>\n",
       "                        <td id=\"T_b5cafb02_77bd_11eb_a9d3_a0999b1609f9row2_col12\" class=\"data row2 col12\" >-0.028954</td>\n",
       "            </tr>\n",
       "            <tr>\n",
       "                        <th id=\"T_b5cafb02_77bd_11eb_a9d3_a0999b1609f9level0_row3\" class=\"row_heading level0 row3\" >aadt</th>\n",
       "                        <td id=\"T_b5cafb02_77bd_11eb_a9d3_a0999b1609f9row3_col0\" class=\"data row3 col0\" >0.255388</td>\n",
       "                        <td id=\"T_b5cafb02_77bd_11eb_a9d3_a0999b1609f9row3_col1\" class=\"data row3 col1\" >0.716913</td>\n",
       "                        <td id=\"T_b5cafb02_77bd_11eb_a9d3_a0999b1609f9row3_col2\" class=\"data row3 col2\" >-0.009978</td>\n",
       "                        <td id=\"T_b5cafb02_77bd_11eb_a9d3_a0999b1609f9row3_col3\" class=\"data row3 col3\" >1.000000</td>\n",
       "                        <td id=\"T_b5cafb02_77bd_11eb_a9d3_a0999b1609f9row3_col4\" class=\"data row3 col4\" >-0.031991</td>\n",
       "                        <td id=\"T_b5cafb02_77bd_11eb_a9d3_a0999b1609f9row3_col5\" class=\"data row3 col5\" >0.463958</td>\n",
       "                        <td id=\"T_b5cafb02_77bd_11eb_a9d3_a0999b1609f9row3_col6\" class=\"data row3 col6\" >0.026008</td>\n",
       "                        <td id=\"T_b5cafb02_77bd_11eb_a9d3_a0999b1609f9row3_col7\" class=\"data row3 col7\" >0.029877</td>\n",
       "                        <td id=\"T_b5cafb02_77bd_11eb_a9d3_a0999b1609f9row3_col8\" class=\"data row3 col8\" >0.344977</td>\n",
       "                        <td id=\"T_b5cafb02_77bd_11eb_a9d3_a0999b1609f9row3_col9\" class=\"data row3 col9\" >0.172166</td>\n",
       "                        <td id=\"T_b5cafb02_77bd_11eb_a9d3_a0999b1609f9row3_col10\" class=\"data row3 col10\" >0.380764</td>\n",
       "                        <td id=\"T_b5cafb02_77bd_11eb_a9d3_a0999b1609f9row3_col11\" class=\"data row3 col11\" >-0.121896</td>\n",
       "                        <td id=\"T_b5cafb02_77bd_11eb_a9d3_a0999b1609f9row3_col12\" class=\"data row3 col12\" >0.250683</td>\n",
       "            </tr>\n",
       "            <tr>\n",
       "                        <th id=\"T_b5cafb02_77bd_11eb_a9d3_a0999b1609f9level0_row4\" class=\"row_heading level0 row4\" >seg_lng</th>\n",
       "                        <td id=\"T_b5cafb02_77bd_11eb_a9d3_a0999b1609f9row4_col0\" class=\"data row4 col0\" >0.065664</td>\n",
       "                        <td id=\"T_b5cafb02_77bd_11eb_a9d3_a0999b1609f9row4_col1\" class=\"data row4 col1\" >-0.036015</td>\n",
       "                        <td id=\"T_b5cafb02_77bd_11eb_a9d3_a0999b1609f9row4_col2\" class=\"data row4 col2\" >-0.054370</td>\n",
       "                        <td id=\"T_b5cafb02_77bd_11eb_a9d3_a0999b1609f9row4_col3\" class=\"data row4 col3\" >-0.031991</td>\n",
       "                        <td id=\"T_b5cafb02_77bd_11eb_a9d3_a0999b1609f9row4_col4\" class=\"data row4 col4\" >1.000000</td>\n",
       "                        <td id=\"T_b5cafb02_77bd_11eb_a9d3_a0999b1609f9row4_col5\" class=\"data row4 col5\" >0.093309</td>\n",
       "                        <td id=\"T_b5cafb02_77bd_11eb_a9d3_a0999b1609f9row4_col6\" class=\"data row4 col6\" >0.037016</td>\n",
       "                        <td id=\"T_b5cafb02_77bd_11eb_a9d3_a0999b1609f9row4_col7\" class=\"data row4 col7\" >0.226413</td>\n",
       "                        <td id=\"T_b5cafb02_77bd_11eb_a9d3_a0999b1609f9row4_col8\" class=\"data row4 col8\" >-0.078335</td>\n",
       "                        <td id=\"T_b5cafb02_77bd_11eb_a9d3_a0999b1609f9row4_col9\" class=\"data row4 col9\" >-0.000177</td>\n",
       "                        <td id=\"T_b5cafb02_77bd_11eb_a9d3_a0999b1609f9row4_col10\" class=\"data row4 col10\" >-0.173069</td>\n",
       "                        <td id=\"T_b5cafb02_77bd_11eb_a9d3_a0999b1609f9row4_col11\" class=\"data row4 col11\" >-0.014407</td>\n",
       "                        <td id=\"T_b5cafb02_77bd_11eb_a9d3_a0999b1609f9row4_col12\" class=\"data row4 col12\" >0.094785</td>\n",
       "            </tr>\n",
       "            <tr>\n",
       "                        <th id=\"T_b5cafb02_77bd_11eb_a9d3_a0999b1609f9level0_row5\" class=\"row_heading level0 row5\" >access</th>\n",
       "                        <td id=\"T_b5cafb02_77bd_11eb_a9d3_a0999b1609f9row5_col0\" class=\"data row5 col0\" >0.587748</td>\n",
       "                        <td id=\"T_b5cafb02_77bd_11eb_a9d3_a0999b1609f9row5_col1\" class=\"data row5 col1\" >0.533388</td>\n",
       "                        <td id=\"T_b5cafb02_77bd_11eb_a9d3_a0999b1609f9row5_col2\" class=\"data row5 col2\" >0.048060</td>\n",
       "                        <td id=\"T_b5cafb02_77bd_11eb_a9d3_a0999b1609f9row5_col3\" class=\"data row5 col3\" >0.463958</td>\n",
       "                        <td id=\"T_b5cafb02_77bd_11eb_a9d3_a0999b1609f9row5_col4\" class=\"data row5 col4\" >0.093309</td>\n",
       "                        <td id=\"T_b5cafb02_77bd_11eb_a9d3_a0999b1609f9row5_col5\" class=\"data row5 col5\" >1.000000</td>\n",
       "                        <td id=\"T_b5cafb02_77bd_11eb_a9d3_a0999b1609f9row5_col6\" class=\"data row5 col6\" >0.048553</td>\n",
       "                        <td id=\"T_b5cafb02_77bd_11eb_a9d3_a0999b1609f9row5_col7\" class=\"data row5 col7\" >0.459058</td>\n",
       "                        <td id=\"T_b5cafb02_77bd_11eb_a9d3_a0999b1609f9row5_col8\" class=\"data row5 col8\" >0.184546</td>\n",
       "                        <td id=\"T_b5cafb02_77bd_11eb_a9d3_a0999b1609f9row5_col9\" class=\"data row5 col9\" >0.281147</td>\n",
       "                        <td id=\"T_b5cafb02_77bd_11eb_a9d3_a0999b1609f9row5_col10\" class=\"data row5 col10\" >0.048339</td>\n",
       "                        <td id=\"T_b5cafb02_77bd_11eb_a9d3_a0999b1609f9row5_col11\" class=\"data row5 col11\" >-0.112315</td>\n",
       "                        <td id=\"T_b5cafb02_77bd_11eb_a9d3_a0999b1609f9row5_col12\" class=\"data row5 col12\" >0.005395</td>\n",
       "            </tr>\n",
       "            <tr>\n",
       "                        <th id=\"T_b5cafb02_77bd_11eb_a9d3_a0999b1609f9level0_row6\" class=\"row_heading level0 row6\" >oneway</th>\n",
       "                        <td id=\"T_b5cafb02_77bd_11eb_a9d3_a0999b1609f9row6_col0\" class=\"data row6 col0\" >0.041016</td>\n",
       "                        <td id=\"T_b5cafb02_77bd_11eb_a9d3_a0999b1609f9row6_col1\" class=\"data row6 col1\" >0.026207</td>\n",
       "                        <td id=\"T_b5cafb02_77bd_11eb_a9d3_a0999b1609f9row6_col2\" class=\"data row6 col2\" >-0.106392</td>\n",
       "                        <td id=\"T_b5cafb02_77bd_11eb_a9d3_a0999b1609f9row6_col3\" class=\"data row6 col3\" >0.026008</td>\n",
       "                        <td id=\"T_b5cafb02_77bd_11eb_a9d3_a0999b1609f9row6_col4\" class=\"data row6 col4\" >0.037016</td>\n",
       "                        <td id=\"T_b5cafb02_77bd_11eb_a9d3_a0999b1609f9row6_col5\" class=\"data row6 col5\" >0.048553</td>\n",
       "                        <td id=\"T_b5cafb02_77bd_11eb_a9d3_a0999b1609f9row6_col6\" class=\"data row6 col6\" >1.000000</td>\n",
       "                        <td id=\"T_b5cafb02_77bd_11eb_a9d3_a0999b1609f9row6_col7\" class=\"data row6 col7\" >0.188205</td>\n",
       "                        <td id=\"T_b5cafb02_77bd_11eb_a9d3_a0999b1609f9row6_col8\" class=\"data row6 col8\" >0.057790</td>\n",
       "                        <td id=\"T_b5cafb02_77bd_11eb_a9d3_a0999b1609f9row6_col9\" class=\"data row6 col9\" >-0.016284</td>\n",
       "                        <td id=\"T_b5cafb02_77bd_11eb_a9d3_a0999b1609f9row6_col10\" class=\"data row6 col10\" >-0.135010</td>\n",
       "                        <td id=\"T_b5cafb02_77bd_11eb_a9d3_a0999b1609f9row6_col11\" class=\"data row6 col11\" >-0.979984</td>\n",
       "                        <td id=\"T_b5cafb02_77bd_11eb_a9d3_a0999b1609f9row6_col12\" class=\"data row6 col12\" >-0.027440</td>\n",
       "            </tr>\n",
       "            <tr>\n",
       "                        <th id=\"T_b5cafb02_77bd_11eb_a9d3_a0999b1609f9level0_row7\" class=\"row_heading level0 row7\" >spd_limt</th>\n",
       "                        <td id=\"T_b5cafb02_77bd_11eb_a9d3_a0999b1609f9row7_col0\" class=\"data row7 col0\" >0.325002</td>\n",
       "                        <td id=\"T_b5cafb02_77bd_11eb_a9d3_a0999b1609f9row7_col1\" class=\"data row7 col1\" >0.022765</td>\n",
       "                        <td id=\"T_b5cafb02_77bd_11eb_a9d3_a0999b1609f9row7_col2\" class=\"data row7 col2\" >-0.051965</td>\n",
       "                        <td id=\"T_b5cafb02_77bd_11eb_a9d3_a0999b1609f9row7_col3\" class=\"data row7 col3\" >0.029877</td>\n",
       "                        <td id=\"T_b5cafb02_77bd_11eb_a9d3_a0999b1609f9row7_col4\" class=\"data row7 col4\" >0.226413</td>\n",
       "                        <td id=\"T_b5cafb02_77bd_11eb_a9d3_a0999b1609f9row7_col5\" class=\"data row7 col5\" >0.459058</td>\n",
       "                        <td id=\"T_b5cafb02_77bd_11eb_a9d3_a0999b1609f9row7_col6\" class=\"data row7 col6\" >0.188205</td>\n",
       "                        <td id=\"T_b5cafb02_77bd_11eb_a9d3_a0999b1609f9row7_col7\" class=\"data row7 col7\" >1.000000</td>\n",
       "                        <td id=\"T_b5cafb02_77bd_11eb_a9d3_a0999b1609f9row7_col8\" class=\"data row7 col8\" >-0.069448</td>\n",
       "                        <td id=\"T_b5cafb02_77bd_11eb_a9d3_a0999b1609f9row7_col9\" class=\"data row7 col9\" >0.101869</td>\n",
       "                        <td id=\"T_b5cafb02_77bd_11eb_a9d3_a0999b1609f9row7_col10\" class=\"data row7 col10\" >-0.456535</td>\n",
       "                        <td id=\"T_b5cafb02_77bd_11eb_a9d3_a0999b1609f9row7_col11\" class=\"data row7 col11\" >-0.139839</td>\n",
       "                        <td id=\"T_b5cafb02_77bd_11eb_a9d3_a0999b1609f9row7_col12\" class=\"data row7 col12\" >-0.186735</td>\n",
       "            </tr>\n",
       "            <tr>\n",
       "                        <th id=\"T_b5cafb02_77bd_11eb_a9d3_a0999b1609f9level0_row8\" class=\"row_heading level0 row8\" >med_type</th>\n",
       "                        <td id=\"T_b5cafb02_77bd_11eb_a9d3_a0999b1609f9row8_col0\" class=\"data row8 col0\" >0.185975</td>\n",
       "                        <td id=\"T_b5cafb02_77bd_11eb_a9d3_a0999b1609f9row8_col1\" class=\"data row8 col1\" >0.457747</td>\n",
       "                        <td id=\"T_b5cafb02_77bd_11eb_a9d3_a0999b1609f9row8_col2\" class=\"data row8 col2\" >0.064207</td>\n",
       "                        <td id=\"T_b5cafb02_77bd_11eb_a9d3_a0999b1609f9row8_col3\" class=\"data row8 col3\" >0.344977</td>\n",
       "                        <td id=\"T_b5cafb02_77bd_11eb_a9d3_a0999b1609f9row8_col4\" class=\"data row8 col4\" >-0.078335</td>\n",
       "                        <td id=\"T_b5cafb02_77bd_11eb_a9d3_a0999b1609f9row8_col5\" class=\"data row8 col5\" >0.184546</td>\n",
       "                        <td id=\"T_b5cafb02_77bd_11eb_a9d3_a0999b1609f9row8_col6\" class=\"data row8 col6\" >0.057790</td>\n",
       "                        <td id=\"T_b5cafb02_77bd_11eb_a9d3_a0999b1609f9row8_col7\" class=\"data row8 col7\" >-0.069448</td>\n",
       "                        <td id=\"T_b5cafb02_77bd_11eb_a9d3_a0999b1609f9row8_col8\" class=\"data row8 col8\" >1.000000</td>\n",
       "                        <td id=\"T_b5cafb02_77bd_11eb_a9d3_a0999b1609f9row8_col9\" class=\"data row8 col9\" >0.160789</td>\n",
       "                        <td id=\"T_b5cafb02_77bd_11eb_a9d3_a0999b1609f9row8_col10\" class=\"data row8 col10\" >0.333894</td>\n",
       "                        <td id=\"T_b5cafb02_77bd_11eb_a9d3_a0999b1609f9row8_col11\" class=\"data row8 col11\" >-0.123955</td>\n",
       "                        <td id=\"T_b5cafb02_77bd_11eb_a9d3_a0999b1609f9row8_col12\" class=\"data row8 col12\" >0.185838</td>\n",
       "            </tr>\n",
       "            <tr>\n",
       "                        <th id=\"T_b5cafb02_77bd_11eb_a9d3_a0999b1609f9level0_row9\" class=\"row_heading level0 row9\" >surf_typ</th>\n",
       "                        <td id=\"T_b5cafb02_77bd_11eb_a9d3_a0999b1609f9row9_col0\" class=\"data row9 col0\" >0.208432</td>\n",
       "                        <td id=\"T_b5cafb02_77bd_11eb_a9d3_a0999b1609f9row9_col1\" class=\"data row9 col1\" >0.290493</td>\n",
       "                        <td id=\"T_b5cafb02_77bd_11eb_a9d3_a0999b1609f9row9_col2\" class=\"data row9 col2\" >0.069701</td>\n",
       "                        <td id=\"T_b5cafb02_77bd_11eb_a9d3_a0999b1609f9row9_col3\" class=\"data row9 col3\" >0.172166</td>\n",
       "                        <td id=\"T_b5cafb02_77bd_11eb_a9d3_a0999b1609f9row9_col4\" class=\"data row9 col4\" >-0.000177</td>\n",
       "                        <td id=\"T_b5cafb02_77bd_11eb_a9d3_a0999b1609f9row9_col5\" class=\"data row9 col5\" >0.281147</td>\n",
       "                        <td id=\"T_b5cafb02_77bd_11eb_a9d3_a0999b1609f9row9_col6\" class=\"data row9 col6\" >-0.016284</td>\n",
       "                        <td id=\"T_b5cafb02_77bd_11eb_a9d3_a0999b1609f9row9_col7\" class=\"data row9 col7\" >0.101869</td>\n",
       "                        <td id=\"T_b5cafb02_77bd_11eb_a9d3_a0999b1609f9row9_col8\" class=\"data row9 col8\" >0.160789</td>\n",
       "                        <td id=\"T_b5cafb02_77bd_11eb_a9d3_a0999b1609f9row9_col9\" class=\"data row9 col9\" >1.000000</td>\n",
       "                        <td id=\"T_b5cafb02_77bd_11eb_a9d3_a0999b1609f9row9_col10\" class=\"data row9 col10\" >0.098607</td>\n",
       "                        <td id=\"T_b5cafb02_77bd_11eb_a9d3_a0999b1609f9row9_col11\" class=\"data row9 col11\" >-0.010785</td>\n",
       "                        <td id=\"T_b5cafb02_77bd_11eb_a9d3_a0999b1609f9row9_col12\" class=\"data row9 col12\" >0.004260</td>\n",
       "            </tr>\n",
       "            <tr>\n",
       "                        <th id=\"T_b5cafb02_77bd_11eb_a9d3_a0999b1609f9level0_row10\" class=\"row_heading level0 row10\" >rururb</th>\n",
       "                        <td id=\"T_b5cafb02_77bd_11eb_a9d3_a0999b1609f9row10_col0\" class=\"data row10 col0\" >0.033809</td>\n",
       "                        <td id=\"T_b5cafb02_77bd_11eb_a9d3_a0999b1609f9row10_col1\" class=\"data row10 col1\" >0.457586</td>\n",
       "                        <td id=\"T_b5cafb02_77bd_11eb_a9d3_a0999b1609f9row10_col2\" class=\"data row10 col2\" >0.025485</td>\n",
       "                        <td id=\"T_b5cafb02_77bd_11eb_a9d3_a0999b1609f9row10_col3\" class=\"data row10 col3\" >0.380764</td>\n",
       "                        <td id=\"T_b5cafb02_77bd_11eb_a9d3_a0999b1609f9row10_col4\" class=\"data row10 col4\" >-0.173069</td>\n",
       "                        <td id=\"T_b5cafb02_77bd_11eb_a9d3_a0999b1609f9row10_col5\" class=\"data row10 col5\" >0.048339</td>\n",
       "                        <td id=\"T_b5cafb02_77bd_11eb_a9d3_a0999b1609f9row10_col6\" class=\"data row10 col6\" >-0.135010</td>\n",
       "                        <td id=\"T_b5cafb02_77bd_11eb_a9d3_a0999b1609f9row10_col7\" class=\"data row10 col7\" >-0.456535</td>\n",
       "                        <td id=\"T_b5cafb02_77bd_11eb_a9d3_a0999b1609f9row10_col8\" class=\"data row10 col8\" >0.333894</td>\n",
       "                        <td id=\"T_b5cafb02_77bd_11eb_a9d3_a0999b1609f9row10_col9\" class=\"data row10 col9\" >0.098607</td>\n",
       "                        <td id=\"T_b5cafb02_77bd_11eb_a9d3_a0999b1609f9row10_col10\" class=\"data row10 col10\" >1.000000</td>\n",
       "                        <td id=\"T_b5cafb02_77bd_11eb_a9d3_a0999b1609f9row10_col11\" class=\"data row10 col11\" >-0.041306</td>\n",
       "                        <td id=\"T_b5cafb02_77bd_11eb_a9d3_a0999b1609f9row10_col12\" class=\"data row10 col12\" >0.263593</td>\n",
       "            </tr>\n",
       "            <tr>\n",
       "                        <th id=\"T_b5cafb02_77bd_11eb_a9d3_a0999b1609f9level0_row11\" class=\"row_heading level0 row11\" >rodwycls</th>\n",
       "                        <td id=\"T_b5cafb02_77bd_11eb_a9d3_a0999b1609f9row11_col0\" class=\"data row11 col0\" >-0.081294</td>\n",
       "                        <td id=\"T_b5cafb02_77bd_11eb_a9d3_a0999b1609f9row11_col1\" class=\"data row11 col1\" >-0.118806</td>\n",
       "                        <td id=\"T_b5cafb02_77bd_11eb_a9d3_a0999b1609f9row11_col2\" class=\"data row11 col2\" >0.096196</td>\n",
       "                        <td id=\"T_b5cafb02_77bd_11eb_a9d3_a0999b1609f9row11_col3\" class=\"data row11 col3\" >-0.121896</td>\n",
       "                        <td id=\"T_b5cafb02_77bd_11eb_a9d3_a0999b1609f9row11_col4\" class=\"data row11 col4\" >-0.014407</td>\n",
       "                        <td id=\"T_b5cafb02_77bd_11eb_a9d3_a0999b1609f9row11_col5\" class=\"data row11 col5\" >-0.112315</td>\n",
       "                        <td id=\"T_b5cafb02_77bd_11eb_a9d3_a0999b1609f9row11_col6\" class=\"data row11 col6\" >-0.979984</td>\n",
       "                        <td id=\"T_b5cafb02_77bd_11eb_a9d3_a0999b1609f9row11_col7\" class=\"data row11 col7\" >-0.139839</td>\n",
       "                        <td id=\"T_b5cafb02_77bd_11eb_a9d3_a0999b1609f9row11_col8\" class=\"data row11 col8\" >-0.123955</td>\n",
       "                        <td id=\"T_b5cafb02_77bd_11eb_a9d3_a0999b1609f9row11_col9\" class=\"data row11 col9\" >-0.010785</td>\n",
       "                        <td id=\"T_b5cafb02_77bd_11eb_a9d3_a0999b1609f9row11_col10\" class=\"data row11 col10\" >-0.041306</td>\n",
       "                        <td id=\"T_b5cafb02_77bd_11eb_a9d3_a0999b1609f9row11_col11\" class=\"data row11 col11\" >1.000000</td>\n",
       "                        <td id=\"T_b5cafb02_77bd_11eb_a9d3_a0999b1609f9row11_col12\" class=\"data row11 col12\" >-0.015859</td>\n",
       "            </tr>\n",
       "            <tr>\n",
       "                        <th id=\"T_b5cafb02_77bd_11eb_a9d3_a0999b1609f9level0_row12\" class=\"row_heading level0 row12\" >AccCount</th>\n",
       "                        <td id=\"T_b5cafb02_77bd_11eb_a9d3_a0999b1609f9row12_col0\" class=\"data row12 col0\" >0.012729</td>\n",
       "                        <td id=\"T_b5cafb02_77bd_11eb_a9d3_a0999b1609f9row12_col1\" class=\"data row12 col1\" >0.244643</td>\n",
       "                        <td id=\"T_b5cafb02_77bd_11eb_a9d3_a0999b1609f9row12_col2\" class=\"data row12 col2\" >-0.028954</td>\n",
       "                        <td id=\"T_b5cafb02_77bd_11eb_a9d3_a0999b1609f9row12_col3\" class=\"data row12 col3\" >0.250683</td>\n",
       "                        <td id=\"T_b5cafb02_77bd_11eb_a9d3_a0999b1609f9row12_col4\" class=\"data row12 col4\" >0.094785</td>\n",
       "                        <td id=\"T_b5cafb02_77bd_11eb_a9d3_a0999b1609f9row12_col5\" class=\"data row12 col5\" >0.005395</td>\n",
       "                        <td id=\"T_b5cafb02_77bd_11eb_a9d3_a0999b1609f9row12_col6\" class=\"data row12 col6\" >-0.027440</td>\n",
       "                        <td id=\"T_b5cafb02_77bd_11eb_a9d3_a0999b1609f9row12_col7\" class=\"data row12 col7\" >-0.186735</td>\n",
       "                        <td id=\"T_b5cafb02_77bd_11eb_a9d3_a0999b1609f9row12_col8\" class=\"data row12 col8\" >0.185838</td>\n",
       "                        <td id=\"T_b5cafb02_77bd_11eb_a9d3_a0999b1609f9row12_col9\" class=\"data row12 col9\" >0.004260</td>\n",
       "                        <td id=\"T_b5cafb02_77bd_11eb_a9d3_a0999b1609f9row12_col10\" class=\"data row12 col10\" >0.263593</td>\n",
       "                        <td id=\"T_b5cafb02_77bd_11eb_a9d3_a0999b1609f9row12_col11\" class=\"data row12 col11\" >-0.015859</td>\n",
       "                        <td id=\"T_b5cafb02_77bd_11eb_a9d3_a0999b1609f9row12_col12\" class=\"data row12 col12\" >1.000000</td>\n",
       "            </tr>\n",
       "    </tbody></table>"
      ],
      "text/plain": [
       "<pandas.io.formats.style.Styler at 0x120abf290>"
      ]
     },
     "execution_count": 171,
     "metadata": {},
     "output_type": "execute_result"
    }
   ],
   "source": [
    "corr_filter = AllData06_filtered[['medwid', 'no_lanes', 'lanewid', 'aadt', 'trf_cntl','seg_lng','access', 'oneway', 'spd_limt', 'med_type',\n",
    "       'surf_typ','rururb', 'rodwycls', 'AccCount']].corr()\n",
    "corr_filter.style.background_gradient(cmap='coolwarm')"
   ]
  },
  {
   "cell_type": "code",
   "execution_count": 172,
   "metadata": {},
   "outputs": [
    {
     "name": "stdout",
     "output_type": "stream",
     "text": [
      "89073 records had no accidents and  45214 records had accidents\n"
     ]
    }
   ],
   "source": [
    "print(AllData06_filtered[AllData06_filtered['AccCount']==0].shape[0], \"records had no accidents and \",AllData06_filtered[AllData06_filtered['AccCount']>0].shape[0], \"records had accidents\")"
   ]
  },
  {
   "cell_type": "code",
   "execution_count": 187,
   "metadata": {},
   "outputs": [],
   "source": [
    "#AllData06_filtered['AccCount_Factor'] = 0\n",
    "#AllData06_filtered.loc[(AllData06_filtered['AccCount']>0),'AccCount_Factor']"
   ]
  },
  {
   "cell_type": "code",
   "execution_count": 178,
   "metadata": {},
   "outputs": [
    {
     "data": {
      "text/plain": [
       "Index(['medwid', 'no_lanes', 'lanewid', 'aadt', 'trf_cntl', 'curv_rad',\n",
       "       'begmp', 'seg_lng', 'endmp', 'access', 'oneway', 'spd_limt', 'med_type',\n",
       "       'surf_typ', 'cnty_rte', 'rururb', 'rodwycls', 'AccCount',\n",
       "       'AccCount_Factor'],\n",
       "      dtype='object')"
      ]
     },
     "execution_count": 178,
     "metadata": {},
     "output_type": "execute_result"
    }
   ],
   "source": [
    "AllData06_filtered.columns"
   ]
  },
  {
   "cell_type": "code",
   "execution_count": 185,
   "metadata": {},
   "outputs": [
    {
     "data": {
      "text/plain": [
       "0    89073\n",
       "1    45214\n",
       "Name: AccCount_Factor, dtype: int64"
      ]
     },
     "execution_count": 185,
     "metadata": {},
     "output_type": "execute_result"
    }
   ],
   "source": [
    "AllData06_filtered.AccCount_Factor.value_counts()"
   ]
  },
  {
   "cell_type": "code",
   "execution_count": 202,
   "metadata": {},
   "outputs": [],
   "source": [
    "categories_medwid = pd.cut(AllData06_filtered.medwid,bins=[-5,0,5,10,30,50,100,1000],labels=['No Median','<5','6-10','11-30','31-50','51-100','>100'])\n",
    "categories_lanewid = pd.cut(AllData06_filtered.lanewid,bins=[0,8,10,15,20,100],labels=['<8','9-10','11-15','16-20','>20'])"
   ]
  },
  {
   "cell_type": "code",
   "execution_count": 204,
   "metadata": {},
   "outputs": [
    {
     "data": {
      "text/plain": [
       "11-15    123766\n",
       "9-10       7854\n",
       "16-20      2173\n",
       ">20         484\n",
       "<8           10\n",
       "Name: lanewid, dtype: int64"
      ]
     },
     "execution_count": 204,
     "metadata": {},
     "output_type": "execute_result"
    }
   ],
   "source": [
    "categories_lanewid.value_counts()"
   ]
  },
  {
   "cell_type": "code",
   "execution_count": 205,
   "metadata": {},
   "outputs": [
    {
     "name": "stderr",
     "output_type": "stream",
     "text": [
      "/Users/jacob/anaconda/envs/py3/lib/python3.7/site-packages/ipykernel_launcher.py:1: SettingWithCopyWarning: \n",
      "A value is trying to be set on a copy of a slice from a DataFrame.\n",
      "Try using .loc[row_indexer,col_indexer] = value instead\n",
      "\n",
      "See the caveats in the documentation: https://pandas.pydata.org/pandas-docs/stable/user_guide/indexing.html#returning-a-view-versus-a-copy\n",
      "  \"\"\"Entry point for launching an IPython kernel.\n",
      "/Users/jacob/anaconda/envs/py3/lib/python3.7/site-packages/ipykernel_launcher.py:2: SettingWithCopyWarning: \n",
      "A value is trying to be set on a copy of a slice from a DataFrame.\n",
      "Try using .loc[row_indexer,col_indexer] = value instead\n",
      "\n",
      "See the caveats in the documentation: https://pandas.pydata.org/pandas-docs/stable/user_guide/indexing.html#returning-a-view-versus-a-copy\n",
      "  \n"
     ]
    }
   ],
   "source": [
    "AllData06_filtered['medwid_cat'] = categories_medwid\n",
    "AllData06_filtered['lanewid_cat'] = categories_lanewid"
   ]
  },
  {
   "cell_type": "code",
   "execution_count": 206,
   "metadata": {},
   "outputs": [
    {
     "data": {
      "text/plain": [
       "11-15    123766\n",
       "9-10       7854\n",
       "16-20      2173\n",
       ">20         484\n",
       "<8           10\n",
       "Name: lanewid_cat, dtype: int64"
      ]
     },
     "execution_count": 206,
     "metadata": {},
     "output_type": "execute_result"
    }
   ],
   "source": [
    "AllData06_filtered.lanewid_cat.value_counts()"
   ]
  },
  {
   "cell_type": "code",
   "execution_count": 208,
   "metadata": {},
   "outputs": [
    {
     "data": {
      "text/plain": [
       "Text(0, 0.5, 'Frequency')"
      ]
     },
     "execution_count": 208,
     "metadata": {},
     "output_type": "execute_result"
    },
    {
     "data": {
      "image/png": "[encoded data removed]",
      "text/plain": [
       "<Figure size 432x288 with 1 Axes>"
      ]
     },
     "metadata": {},
     "output_type": "display_data"
    }
   ],
   "source": [
    "pd.crosstab(AllData06_filtered.medwid_cat,AllData06_filtered.AccCount_Factor).plot(kind='bar')\n",
    "plt.title('Frequency of Locations based on Median Width')\n",
    "plt.xlabel('Median Width')\n",
    "plt.ylabel('Frequency')"
   ]
  },
  {
   "cell_type": "code",
   "execution_count": 210,
   "metadata": {},
   "outputs": [
    {
     "data": {
      "text/plain": [
       "Text(0, 0.5, 'Frequency')"
      ]
     },
     "execution_count": 210,
     "metadata": {},
     "output_type": "execute_result"
    },
    {
     "data": {
      "image/png": "[encoded data removed]",
      "text/plain": [
       "<Figure size 432x288 with 1 Axes>"
      ]
     },
     "metadata": {},
     "output_type": "display_data"
    }
   ],
   "source": [
    "pd.crosstab(AllData06_filtered.lanewid_cat,AllData06_filtered.AccCount_Factor).plot(kind='bar')\n",
    "plt.title('Frequency of Locations based on Lane Width')\n",
    "plt.xlabel('Lane Width')\n",
    "plt.ylabel('Frequency')"
   ]
  },
  {
   "cell_type": "code",
   "execution_count": 223,
   "metadata": {},
   "outputs": [
    {
     "data": {
      "text/plain": [
       "AccCount_Factor  aadt  \n",
       "0                25        37\n",
       "                 29         7\n",
       "                 50        11\n",
       "                 75         6\n",
       "                 100       22\n",
       "                           ..\n",
       "1                281100     1\n",
       "                 285800     1\n",
       "                 312800     2\n",
       "                 322500     1\n",
       "                 332400     1\n",
       "Name: medwid, Length: 2221, dtype: int64"
      ]
     },
     "execution_count": 223,
     "metadata": {},
     "output_type": "execute_result"
    }
   ],
   "source": [
    "AllData06_filtered.groupby(['AccCount_Factor','aadt']).agg('count')['medwid']"
   ]
  },
  {
   "cell_type": "code",
   "execution_count": 226,
   "metadata": {},
   "outputs": [
    {
     "data": {
      "text/plain": [
       "array([<matplotlib.axes._subplots.AxesSubplot object at 0x14173fe90>,\n",
       "       <matplotlib.axes._subplots.AxesSubplot object at 0x119eb9c90>],\n",
       "      dtype=object)"
      ]
     },
     "execution_count": 226,
     "metadata": {},
     "output_type": "execute_result"
    },
    {
     "data": {
      "image/png": "[encoded data removed]",
      "text/plain": [
       "<Figure size 432x288 with 2 Axes>"
      ]
     },
     "metadata": {},
     "output_type": "display_data"
    }
   ],
   "source": [
    "AllData06_filtered.groupby(['AccCount_Factor','aadt']).agg('count')['medwid'].hist(by = 'AccCount_Factor')\n",
    "#sns.scatterplot(x=\"aadt\", y=\"AccCount\", data=AllData06_filtered, hue=\"AccCount_Factor\")"
   ]
  },
  {
   "cell_type": "code",
   "execution_count": 227,
   "metadata": {},
   "outputs": [
    {
     "data": {
      "text/plain": [
       "<matplotlib.axes._subplots.AxesSubplot at 0x11fd05450>"
      ]
     },
     "execution_count": 227,
     "metadata": {},
     "output_type": "execute_result"
    },
    {
     "data": {
      "image/png": "[encoded data removed]",
      "text/plain": [
       "<Figure size 432x288 with 1 Axes>"
      ]
     },
     "metadata": {},
     "output_type": "display_data"
    }
   ],
   "source": [
    "AllData06_filtered.pivot(columns=\"AccCount_Factor\", values=\"aadt\").plot.hist(bins=100)"
   ]
  },
  {
   "cell_type": "code",
   "execution_count": 228,
   "metadata": {},
   "outputs": [],
   "source": [
    "cat_vars=['medwid_cat','lanewid_cat','access','oneway','med_type','surf_typ','rururb','rodwycls']\n",
    "for var in cat_vars:\n",
    "    cat_list='var'+'_'+var\n",
    "    cat_list = pd.get_dummies(AllData06_filtered[var], prefix=var)\n",
    "    data1=AllData06_filtered.join(cat_list)\n",
    "    AllData06_filtered=data1\n",
    "cat_vars=['medwid_cat','lanewid_cat','access','oneway','med_type','surf_typ','rururb','rodwycls']\n",
    "data_vars=AllData06_filtered.columns.values.tolist()\n",
    "to_keep=[i for i in data_vars if i not in cat_vars]"
   ]
  },
  {
   "cell_type": "code",
   "execution_count": 235,
   "metadata": {},
   "outputs": [],
   "source": [
    "#AllData06_filtered.columns\n",
    "logistic_vars = ['no_lanes','aadt','spd_limt','medwid_cat_No Median',\n",
    "       'medwid_cat_<5', 'medwid_cat_6-10', 'medwid_cat_11-30',\n",
    "       'medwid_cat_31-50', 'medwid_cat_51-100','lanewid_cat_<8', 'lanewid_cat_9-10', 'lanewid_cat_11-15',\n",
    "       'lanewid_cat_16-20','access_0', 'access_1','oneway_1','med_type_0', 'med_type_1',\n",
    "       'med_type_2', 'med_type_3', 'med_type_4', 'med_type_5','surf_typ_300', 'surf_typ_400', 'surf_typ_410', 'surf_typ_500',\n",
    "       'surf_typ_520', 'surf_typ_530', 'surf_typ_550', 'surf_typ_560',\n",
    "       'surf_typ_600', 'surf_typ_610', 'surf_typ_620', 'surf_typ_625',\n",
    "       'surf_typ_630', 'surf_typ_640', 'surf_typ_650', 'surf_typ_700',\n",
    "       'surf_typ_710', 'surf_typ_720', 'surf_typ_725', 'surf_typ_730',\n",
    "       'surf_typ_740', 'surf_typ_775', 'surf_typ_790', 'surf_typ_792',\n",
    "       'surf_typ_800', 'surf_typ_954', 'surf_typ_956', 'surf_typ_957',\n",
    "       'surf_typ_963', 'surf_typ_964', 'surf_typ_965', 'surf_typ_967',\n",
    "       'surf_typ_972', 'surf_typ_973', 'surf_typ_975',\n",
    "       'rururb_1', 'rururb_2', 'rodwycls_1', 'rodwycls_2', 'rodwycls_3',\n",
    "       'rodwycls_4', 'rodwycls_5', 'rodwycls_6', 'rodwycls_7', 'rodwycls_8',\n",
    "       'rodwycls_9', 'rodwycls_10','AccCount_Factor']"
   ]
  },
  {
   "cell_type": "code",
   "execution_count": 236,
   "metadata": {},
   "outputs": [],
   "source": [
    "logisticData_final=AllData06_filtered[logistic_vars]"
   ]
  },
  {
   "cell_type": "code",
   "execution_count": 237,
   "metadata": {},
   "outputs": [
    {
     "data": {
      "text/plain": [
       "(134287, 70)"
      ]
     },
     "execution_count": 237,
     "metadata": {},
     "output_type": "execute_result"
    }
   ],
   "source": [
    "logisticData_final.shape"
   ]
  },
  {
   "cell_type": "code",
   "execution_count": 238,
   "metadata": {},
   "outputs": [],
   "source": [
    "X = logisticData_final.loc[:, logisticData_final.columns != 'AccCount_Factor']\n",
    "y = logisticData_final.loc[:, logisticData_final.columns == 'AccCount_Factor']"
   ]
  },
  {
   "cell_type": "code",
   "execution_count": 240,
   "metadata": {},
   "outputs": [],
   "source": [
    "#https://towardsdatascience.com/building-a-logistic-regression-in-python-step-by-step-becd4d56c9c8\n",
    "#from imblearn.over_sampling import SMOTE\n",
    "#os = SMOTE(random_state=0)\n",
    "X_train, X_test, y_train, y_test = train_test_split(X, y, test_size=0.3, random_state=0)\n",
    "columns = X_train.columns\n",
    "#os_data_X,os_data_y=os.fit_sample(X_train, y_train)\n",
    "#os_data_X = pd.DataFrame(data=os_data_X,columns=columns )\n",
    "#os_data_y= pd.DataFrame(data=os_data_y,columns=['y'])\n",
    "# we can Check the numbers of our data\n",
    "#print(\"length of oversampled data is \",len(os_data_X))\n",
    "#print(\"Number of no accident location in oversampled data\",len(os_data_y[os_data_y['y']==0]))\n",
    "#print(\"Number of accident location\",len(os_data_y[os_data_y['y']==1]))\n",
    "#print(\"Proportion of no accident location data in oversampled data is \",len(os_data_y[os_data_y['y']==0])/len(os_data_X))\n",
    "#print(\"Proportion of accident location data in oversampled data is \",len(os_data_y[os_data_y['y']==1])/len(os_data_X))"
   ]
  },
  {
   "cell_type": "code",
   "execution_count": 249,
   "metadata": {},
   "outputs": [
    {
     "data": {
      "text/plain": [
       "LogisticRegression(C=1.0, class_weight=None, dual=False, fit_intercept=True,\n",
       "                   intercept_scaling=1, l1_ratio=None, max_iter=100,\n",
       "                   multi_class='auto', n_jobs=None, penalty='l2',\n",
       "                   random_state=None, solver='lbfgs', tol=0.0001, verbose=0,\n",
       "                   warm_start=False)"
      ]
     },
     "execution_count": 249,
     "metadata": {},
     "output_type": "execute_result"
    }
   ],
   "source": [
    "logreg = LogisticRegression()\n",
    "logreg.fit(X_train, y_train.values.ravel())"
   ]
  },
  {
   "cell_type": "code",
   "execution_count": 250,
   "metadata": {},
   "outputs": [
    {
     "name": "stdout",
     "output_type": "stream",
     "text": [
      "Accuracy of logistic regression classifier on test set: 0.72\n"
     ]
    }
   ],
   "source": [
    "y_pred = logreg.predict(X_test)\n",
    "print('Accuracy of logistic regression classifier on test set: {:.2f}'.format(logreg.score(X_test, y_test)))"
   ]
  },
  {
   "cell_type": "code",
   "execution_count": 251,
   "metadata": {},
   "outputs": [
    {
     "name": "stdout",
     "output_type": "stream",
     "text": [
      "[[23488  3229]\n",
      " [ 7852  5718]]\n"
     ]
    }
   ],
   "source": [
    "from sklearn.metrics import confusion_matrix\n",
    "confusion_matrix = confusion_matrix(y_test, y_pred)\n",
    "print(confusion_matrix)"
   ]
  },
  {
   "cell_type": "code",
   "execution_count": 139,
   "metadata": {},
   "outputs": [
    {
     "data": {
      "text/plain": [
       "95373"
      ]
     },
     "execution_count": 139,
     "metadata": {},
     "output_type": "execute_result"
    }
   ],
   "source": [
    "sum(TrainingData06.trf_cntl.isna())"
   ]
  },
  {
   "cell_type": "code",
   "execution_count": 140,
   "metadata": {},
   "outputs": [
    {
     "data": {
      "text/plain": [
       "160693"
      ]
     },
     "execution_count": 140,
     "metadata": {},
     "output_type": "execute_result"
    }
   ],
   "source": [
    "len(TrainingData06)"
   ]
  },
  {
   "cell_type": "code",
   "execution_count": 141,
   "metadata": {},
   "outputs": [
    {
     "data": {
      "text/plain": [
       "1    25575\n",
       "A    10775\n",
       "0     8007\n",
       "N     6609\n",
       "9     6341\n",
       "8     6078\n",
       "5      475\n",
       "6      386\n",
       "2      369\n",
       "4      272\n",
       "7      240\n",
       "3      172\n",
       "B       21\n",
       "Name: trf_cntl, dtype: int64"
      ]
     },
     "execution_count": 141,
     "metadata": {},
     "output_type": "execute_result"
    }
   ],
   "source": [
    "TrainingData06.trf_cntl.value_counts()"
   ]
  },
  {
   "cell_type": "code",
   "execution_count": null,
   "metadata": {},
   "outputs": [],
   "source": []
  }
 ],
 "metadata": {
  "kernelspec": {
   "display_name": "Python 3",
   "language": "python",
   "name": "python3"
  },
  "language_info": {
   "codemirror_mode": {
    "name": "ipython",
    "version": 3
   },
   "file_extension": ".py",
   "mimetype": "text/x-python",
   "name": "python",
   "nbconvert_exporter": "python",
   "pygments_lexer": "ipython3",
   "version": "3.7.6"
  }
 },
 "nbformat": 4,
 "nbformat_minor": 4
}
