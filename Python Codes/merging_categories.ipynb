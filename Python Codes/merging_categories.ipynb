{
 "cells": [
  {
   "cell_type": "code",
   "execution_count": 1,
   "metadata": {},
   "outputs": [],
   "source": [
    "import pandas as pd\n",
    "import numpy as np\n",
    "import matplotlib.pyplot as plt\n",
    "import seaborn as sns\n",
    "import pylab\n",
    "sns.set_style('whitegrid')"
   ]
  },
  {
   "cell_type": "code",
   "execution_count": 2,
   "metadata": {},
   "outputs": [],
   "source": [
    "filtered_06 = pd.read_csv('Filtered_Merged_06.csv')\n",
    "filtered_07 = pd.read_csv('Filtered_Merged_07.csv')\n",
    "filtered_08 = pd.read_csv('Filtered_Merged_08.csv')\n",
    "filtered_09 = pd.read_csv('Filtered_Merged_09.csv')\n",
    "filtered_10 = pd.read_csv('Filtered_Merged_10.csv')"
   ]
  },
  {
   "cell_type": "code",
   "execution_count": 3,
   "metadata": {},
   "outputs": [],
   "source": [
    "filtered_all = pd.concat([filtered_06, filtered_07,filtered_08,filtered_09,filtered_10])"
   ]
  },
  {
   "cell_type": "code",
   "execution_count": 4,
   "metadata": {},
   "outputs": [],
   "source": [
    "filtered_all['curv_rad_binary'] = np.where(filtered_all['curv_rad']!= 0, 'Curve', 'No Curve')"
   ]
  },
  {
   "cell_type": "code",
   "execution_count": 5,
   "metadata": {},
   "outputs": [
    {
     "data": {
      "text/plain": [
       "No Curve    812185\n",
       "Curve        17062\n",
       "Name: curv_rad_binary, dtype: int64"
      ]
     },
     "execution_count": 5,
     "metadata": {},
     "output_type": "execute_result"
    }
   ],
   "source": [
    "filtered_all['curv_rad_binary'].value_counts()"
   ]
  },
  {
   "cell_type": "code",
   "execution_count": 9,
   "metadata": {},
   "outputs": [],
   "source": [
    "filtered_all['med_type_binary'] = np.where(filtered_all['med_type']!= 0, 'Median', 'No Median')"
   ]
  },
  {
   "cell_type": "code",
   "execution_count": 14,
   "metadata": {},
   "outputs": [],
   "source": [
    "def categorize_surface_type(df):\n",
    "    if df['surf_typ'] in [300, 400, 410, 500, 550]:\n",
    "        return \"Flexible\"\n",
    "    elif df['surf_typ'] in [600, 610, 620, 630, 640, 650, 700, 710, 720, 730, 740, 800]:\n",
    "        return \"Rigid\"\n",
    "    else:\n",
    "        return \"Other\""
   ]
  },
  {
   "cell_type": "code",
   "execution_count": 18,
   "metadata": {},
   "outputs": [],
   "source": [
    "filtered_all['surf_cat'] = filtered_all.apply(categorize_surface_type, axis = 1)"
   ]
  },
  {
   "cell_type": "code",
   "execution_count": 16,
   "metadata": {},
   "outputs": [
    {
     "data": {
      "text/plain": [
       "Rigid       755532\n",
       "Other        39467\n",
       "Flexible     34248\n",
       "Name: Surface_Category, dtype: int64"
      ]
     },
     "execution_count": 16,
     "metadata": {},
     "output_type": "execute_result"
    }
   ],
   "source": [
    "filtered_all['surf_cat'].value_counts()"
   ]
  },
  {
   "cell_type": "code",
   "execution_count": 20,
   "metadata": {},
   "outputs": [
    {
     "data": {
      "text/html": [
       "<div>\n",
       "<style scoped>\n",
       "    .dataframe tbody tr th:only-of-type {\n",
       "        vertical-align: middle;\n",
       "    }\n",
       "\n",
       "    .dataframe tbody tr th {\n",
       "        vertical-align: top;\n",
       "    }\n",
       "\n",
       "    .dataframe thead th {\n",
       "        text-align: right;\n",
       "    }\n",
       "</style>\n",
       "<table border=\"1\" class=\"dataframe\">\n",
       "  <thead>\n",
       "    <tr style=\"text-align: right;\">\n",
       "      <th></th>\n",
       "      <th>no_lanes</th>\n",
       "      <th>lanewid</th>\n",
       "      <th>aadt</th>\n",
       "      <th>seg_lng</th>\n",
       "      <th>access</th>\n",
       "      <th>oneway</th>\n",
       "      <th>spd_limt</th>\n",
       "      <th>med_type_binary</th>\n",
       "      <th>surf_cat</th>\n",
       "      <th>rururb</th>\n",
       "      <th>rodwycls</th>\n",
       "      <th>curv_rad_binary</th>\n",
       "      <th>Year</th>\n",
       "    </tr>\n",
       "  </thead>\n",
       "  <tbody>\n",
       "    <tr>\n",
       "      <th>0</th>\n",
       "      <td>2</td>\n",
       "      <td>12</td>\n",
       "      <td>8600</td>\n",
       "      <td>0.01</td>\n",
       "      <td>0</td>\n",
       "      <td>1</td>\n",
       "      <td>45</td>\n",
       "      <td>No Median</td>\n",
       "      <td>Rigid</td>\n",
       "      <td>2</td>\n",
       "      <td>99</td>\n",
       "      <td>No Curve</td>\n",
       "      <td>6</td>\n",
       "    </tr>\n",
       "    <tr>\n",
       "      <th>1</th>\n",
       "      <td>2</td>\n",
       "      <td>12</td>\n",
       "      <td>8600</td>\n",
       "      <td>0.12</td>\n",
       "      <td>0</td>\n",
       "      <td>1</td>\n",
       "      <td>45</td>\n",
       "      <td>No Median</td>\n",
       "      <td>Rigid</td>\n",
       "      <td>2</td>\n",
       "      <td>99</td>\n",
       "      <td>No Curve</td>\n",
       "      <td>6</td>\n",
       "    </tr>\n",
       "    <tr>\n",
       "      <th>2</th>\n",
       "      <td>2</td>\n",
       "      <td>12</td>\n",
       "      <td>8600</td>\n",
       "      <td>0.03</td>\n",
       "      <td>0</td>\n",
       "      <td>1</td>\n",
       "      <td>45</td>\n",
       "      <td>No Median</td>\n",
       "      <td>Rigid</td>\n",
       "      <td>2</td>\n",
       "      <td>99</td>\n",
       "      <td>No Curve</td>\n",
       "      <td>6</td>\n",
       "    </tr>\n",
       "    <tr>\n",
       "      <th>3</th>\n",
       "      <td>2</td>\n",
       "      <td>12</td>\n",
       "      <td>8600</td>\n",
       "      <td>0.02</td>\n",
       "      <td>0</td>\n",
       "      <td>1</td>\n",
       "      <td>45</td>\n",
       "      <td>No Median</td>\n",
       "      <td>Rigid</td>\n",
       "      <td>2</td>\n",
       "      <td>99</td>\n",
       "      <td>No Curve</td>\n",
       "      <td>6</td>\n",
       "    </tr>\n",
       "    <tr>\n",
       "      <th>4</th>\n",
       "      <td>2</td>\n",
       "      <td>18</td>\n",
       "      <td>8600</td>\n",
       "      <td>0.03</td>\n",
       "      <td>0</td>\n",
       "      <td>1</td>\n",
       "      <td>45</td>\n",
       "      <td>No Median</td>\n",
       "      <td>Rigid</td>\n",
       "      <td>2</td>\n",
       "      <td>99</td>\n",
       "      <td>No Curve</td>\n",
       "      <td>6</td>\n",
       "    </tr>\n",
       "    <tr>\n",
       "      <th>...</th>\n",
       "      <td>...</td>\n",
       "      <td>...</td>\n",
       "      <td>...</td>\n",
       "      <td>...</td>\n",
       "      <td>...</td>\n",
       "      <td>...</td>\n",
       "      <td>...</td>\n",
       "      <td>...</td>\n",
       "      <td>...</td>\n",
       "      <td>...</td>\n",
       "      <td>...</td>\n",
       "      <td>...</td>\n",
       "      <td>...</td>\n",
       "    </tr>\n",
       "    <tr>\n",
       "      <th>174260</th>\n",
       "      <td>4</td>\n",
       "      <td>12</td>\n",
       "      <td>25000</td>\n",
       "      <td>0.26</td>\n",
       "      <td>2</td>\n",
       "      <td>2</td>\n",
       "      <td>65</td>\n",
       "      <td>Median</td>\n",
       "      <td>Rigid</td>\n",
       "      <td>1</td>\n",
       "      <td>6</td>\n",
       "      <td>No Curve</td>\n",
       "      <td>10</td>\n",
       "    </tr>\n",
       "    <tr>\n",
       "      <th>174261</th>\n",
       "      <td>4</td>\n",
       "      <td>12</td>\n",
       "      <td>25000</td>\n",
       "      <td>0.29</td>\n",
       "      <td>2</td>\n",
       "      <td>2</td>\n",
       "      <td>65</td>\n",
       "      <td>Median</td>\n",
       "      <td>Rigid</td>\n",
       "      <td>1</td>\n",
       "      <td>6</td>\n",
       "      <td>No Curve</td>\n",
       "      <td>10</td>\n",
       "    </tr>\n",
       "    <tr>\n",
       "      <th>174262</th>\n",
       "      <td>4</td>\n",
       "      <td>12</td>\n",
       "      <td>25000</td>\n",
       "      <td>0.65</td>\n",
       "      <td>2</td>\n",
       "      <td>2</td>\n",
       "      <td>65</td>\n",
       "      <td>Median</td>\n",
       "      <td>Rigid</td>\n",
       "      <td>1</td>\n",
       "      <td>6</td>\n",
       "      <td>No Curve</td>\n",
       "      <td>10</td>\n",
       "    </tr>\n",
       "    <tr>\n",
       "      <th>174263</th>\n",
       "      <td>4</td>\n",
       "      <td>12</td>\n",
       "      <td>25000</td>\n",
       "      <td>0.97</td>\n",
       "      <td>2</td>\n",
       "      <td>2</td>\n",
       "      <td>65</td>\n",
       "      <td>Median</td>\n",
       "      <td>Rigid</td>\n",
       "      <td>1</td>\n",
       "      <td>6</td>\n",
       "      <td>No Curve</td>\n",
       "      <td>10</td>\n",
       "    </tr>\n",
       "    <tr>\n",
       "      <th>174264</th>\n",
       "      <td>4</td>\n",
       "      <td>12</td>\n",
       "      <td>25000</td>\n",
       "      <td>0.36</td>\n",
       "      <td>2</td>\n",
       "      <td>2</td>\n",
       "      <td>65</td>\n",
       "      <td>Median</td>\n",
       "      <td>Rigid</td>\n",
       "      <td>1</td>\n",
       "      <td>6</td>\n",
       "      <td>No Curve</td>\n",
       "      <td>10</td>\n",
       "    </tr>\n",
       "  </tbody>\n",
       "</table>\n",
       "<p>829247 rows × 13 columns</p>\n",
       "</div>"
      ],
      "text/plain": [
       "        no_lanes  lanewid   aadt  seg_lng  access  oneway  spd_limt  \\\n",
       "0              2       12   8600     0.01       0       1        45   \n",
       "1              2       12   8600     0.12       0       1        45   \n",
       "2              2       12   8600     0.03       0       1        45   \n",
       "3              2       12   8600     0.02       0       1        45   \n",
       "4              2       18   8600     0.03       0       1        45   \n",
       "...          ...      ...    ...      ...     ...     ...       ...   \n",
       "174260         4       12  25000     0.26       2       2        65   \n",
       "174261         4       12  25000     0.29       2       2        65   \n",
       "174262         4       12  25000     0.65       2       2        65   \n",
       "174263         4       12  25000     0.97       2       2        65   \n",
       "174264         4       12  25000     0.36       2       2        65   \n",
       "\n",
       "       med_type_binary surf_cat  rururb  rodwycls curv_rad_binary  Year  \n",
       "0            No Median    Rigid       2        99        No Curve     6  \n",
       "1            No Median    Rigid       2        99        No Curve     6  \n",
       "2            No Median    Rigid       2        99        No Curve     6  \n",
       "3            No Median    Rigid       2        99        No Curve     6  \n",
       "4            No Median    Rigid       2        99        No Curve     6  \n",
       "...                ...      ...     ...       ...             ...   ...  \n",
       "174260          Median    Rigid       1         6        No Curve    10  \n",
       "174261          Median    Rigid       1         6        No Curve    10  \n",
       "174262          Median    Rigid       1         6        No Curve    10  \n",
       "174263          Median    Rigid       1         6        No Curve    10  \n",
       "174264          Median    Rigid       1         6        No Curve    10  \n",
       "\n",
       "[829247 rows x 13 columns]"
      ]
     },
     "execution_count": 20,
     "metadata": {},
     "output_type": "execute_result"
    }
   ],
   "source": [
    "filtered_all[['no_lanes', 'lanewid', 'aadt','seg_lng','access','oneway','spd_limt','med_type_binary',\n",
    "              'surf_cat','rururb','rodwycls','curv_rad_binary','Year']]"
   ]
  },
  {
   "cell_type": "code",
   "execution_count": 21,
   "metadata": {},
   "outputs": [],
   "source": [
    "var_considered = ['no_lanes', 'lanewid', 'aadt','seg_lng','access','oneway','spd_limt','med_type_binary',\n",
    "              'surf_cat','rururb','rodwycls','curv_rad_binary','Year']"
   ]
  },
  {
   "cell_type": "code",
   "execution_count": 22,
   "metadata": {},
   "outputs": [],
   "source": [
    "filtered_all.to_csv('AllData_Filtered_Merged_ConsolidatedCategories.csv')"
   ]
  },
  {
   "cell_type": "code",
   "execution_count": null,
   "metadata": {},
   "outputs": [],
   "source": []
  },
  {
   "cell_type": "code",
   "execution_count": null,
   "metadata": {},
   "outputs": [],
   "source": []
  },
  {
   "cell_type": "code",
   "execution_count": null,
   "metadata": {},
   "outputs": [],
   "source": []
  },
  {
   "cell_type": "code",
   "execution_count": null,
   "metadata": {},
   "outputs": [],
   "source": []
  },
  {
   "cell_type": "code",
   "execution_count": null,
   "metadata": {},
   "outputs": [],
   "source": []
  },
  {
   "cell_type": "code",
   "execution_count": null,
   "metadata": {},
   "outputs": [],
   "source": []
  },
  {
   "cell_type": "code",
   "execution_count": null,
   "metadata": {},
   "outputs": [],
   "source": []
  },
  {
   "cell_type": "code",
   "execution_count": null,
   "metadata": {},
   "outputs": [],
   "source": []
  },
  {
   "cell_type": "code",
   "execution_count": 19,
   "metadata": {},
   "outputs": [
    {
     "data": {
      "text/plain": [
       "Index(['medwid', 'no_lanes', 'lanewid', 'aadt', 'trf_cntl', 'curv_rad',\n",
       "       'begmp', 'seg_lng', 'endmp', 'access', 'oneway', 'spd_limt', 'med_type',\n",
       "       'surf_typ', 'cnty_rte', 'rururb', 'rodwycls', 'AccCount',\n",
       "       'Severity_PDO', 'Severity_Inj_TypeA', 'Severity_Inj_TypeB',\n",
       "       'Severity_Inj_TypeC', 'Severity_Fatal', 'Severity_Unknown',\n",
       "       'Weather_Clear', 'Weather_Rain', 'Weather_Snow', 'Weather_Fog',\n",
       "       'Weather_Hail', 'Weather_CrossWind', 'Weather_Other', 'Weather_Unknown',\n",
       "       'Year', 'curv_rad_binary', 'med_type_binary', 'Surface_Category',\n",
       "       'surf_cat'],\n",
       "      dtype='object')"
      ]
     },
     "execution_count": 19,
     "metadata": {},
     "output_type": "execute_result"
    }
   ],
   "source": []
  },
  {
   "cell_type": "code",
   "execution_count": 59,
   "metadata": {},
   "outputs": [],
   "source": [
    "def cumfreq(a, numbins=10, defaultreallimits=None):\n",
    "    # docstring omitted\n",
    "    h,l,b,e = histogram(a,numbins,defaultreallimits)\n",
    "    cumhist = np.cumsum(h*1, axis=0)\n",
    "    return cumhist,l,b,e"
   ]
  },
  {
   "cell_type": "code",
   "execution_count": 63,
   "metadata": {},
   "outputs": [
    {
     "name": "stderr",
     "output_type": "stream",
     "text": [
      "/Users/jacob/anaconda/envs/py3/lib/python3.7/site-packages/ipykernel_launcher.py:3: VisibleDeprecationWarning: Passing `normed=True` on non-uniform bins has always been broken, and computes neither the probability density function nor the probability mass function. The result is only correct if the bins are uniform, when density=True will produce the same result anyway. The argument will be removed in a future version of numpy.\n",
      "  This is separate from the ipykernel package so we can avoid doing imports until\n"
     ]
    },
    {
     "data": {
      "text/plain": [
       "[<matplotlib.lines.Line2D at 0x125176610>]"
      ]
     },
     "execution_count": 63,
     "metadata": {},
     "output_type": "execute_result"
    },
    {
     "data": {
      "image/png": "[encoded data removed]",
      "text/plain": [
       "<Figure size 432x288 with 1 Axes>"
      ]
     },
     "metadata": {},
     "output_type": "display_data"
    }
   ],
   "source": [
    "a = np.array(filtered_all['AccCount'])\n",
    "num_bins = 20\n",
    "counts, bin_edges = np.histogram(a, bins=num_bins, normed=True)\n",
    "cdf = np.cumsum(counts)\n",
    "pylab.plot(bin_edges[1:], cdf)\n"
   ]
  },
  {
   "cell_type": "code",
   "execution_count": 62,
   "metadata": {},
   "outputs": [],
   "source": []
  },
  {
   "cell_type": "code",
   "execution_count": null,
   "metadata": {},
   "outputs": [],
   "source": []
  }
 ],
 "metadata": {
  "kernelspec": {
   "display_name": "Python 3",
   "language": "python",
   "name": "python3"
  },
  "language_info": {
   "codemirror_mode": {
    "name": "ipython",
    "version": 3
   },
   "file_extension": ".py",
   "mimetype": "text/x-python",
   "name": "python",
   "nbconvert_exporter": "python",
   "pygments_lexer": "ipython3",
   "version": "3.7.6"
  }
 },
 "nbformat": 4,
 "nbformat_minor": 4
}
