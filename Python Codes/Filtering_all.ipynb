{
 "cells": [
  {
   "cell_type": "markdown",
   "metadata": {},
   "source": [
    "This file contains information on what filters were applied to the data. "
   ]
  },
  {
   "cell_type": "code",
   "execution_count": 188,
   "metadata": {},
   "outputs": [],
   "source": [
    "import pandas as pd"
   ]
  },
  {
   "cell_type": "code",
   "execution_count": 189,
   "metadata": {},
   "outputs": [],
   "source": [
    "Unfiltered_Merged = pd.read_csv(\"Unfiltered_MergedData_10.csv\")"
   ]
  },
  {
   "cell_type": "code",
   "execution_count": 190,
   "metadata": {},
   "outputs": [
    {
     "data": {
      "text/plain": [
       "Index(['medwid', 'no_lanes', 'lanewid', 'aadt', 'trf_cntl', 'curv_rad',\n",
       "       'begmp', 'seg_lng', 'endmp', 'access', 'oneway', 'spd_limt', 'med_type',\n",
       "       'surf_typ', 'cnty_rte', 'rururb', 'rodwycls', 'AccCount',\n",
       "       'Severity_PDO', 'Severity_Inj_TypeA', 'Severity_Inj_TypeB',\n",
       "       'Severity_Inj_TypeC', 'Severity_Fatal', 'Severity_Unknown',\n",
       "       'Weather_Clear', 'Weather_Rain', 'Weather_Snow', 'Weather_Fog',\n",
       "       'Weather_Hail', 'Weather_CrossWind', 'Weather_Other',\n",
       "       'Weather_Unknown'],\n",
       "      dtype='object')"
      ]
     },
     "execution_count": 190,
     "metadata": {},
     "output_type": "execute_result"
    }
   ],
   "source": [
    "Unfiltered_Merged.columns"
   ]
  },
  {
   "cell_type": "markdown",
   "metadata": {},
   "source": [
    "MEDIAN WIDTH AND TYPE"
   ]
  },
  {
   "cell_type": "code",
   "execution_count": 191,
   "metadata": {},
   "outputs": [
    {
     "data": {
      "text/plain": [
       "0    126392\n",
       "1     19448\n",
       "2     11718\n",
       "5     11567\n",
       "3      5725\n",
       "7      2387\n",
       "4      1875\n",
       "6      1252\n",
       "Name: med_type, dtype: int64"
      ]
     },
     "execution_count": 191,
     "metadata": {},
     "output_type": "execute_result"
    }
   ],
   "source": [
    "Unfiltered_Merged.med_type.value_counts()"
   ]
  },
  {
   "cell_type": "code",
   "execution_count": 192,
   "metadata": {},
   "outputs": [
    {
     "data": {
      "text/plain": [
       "4      7562\n",
       "64     3940\n",
       "12     3931\n",
       "6      3421\n",
       "40     3288\n",
       "       ... \n",
       "460       1\n",
       "360       1\n",
       "550       1\n",
       "615       1\n",
       "270       1\n",
       "Name: medwid, Length: 145, dtype: int64"
      ]
     },
     "execution_count": 192,
     "metadata": {},
     "output_type": "execute_result"
    }
   ],
   "source": [
    "Unfiltered_Merged[Unfiltered_Merged.med_type!=0].medwid.value_counts()"
   ]
  },
  {
   "cell_type": "code",
   "execution_count": 193,
   "metadata": {},
   "outputs": [
    {
     "data": {
      "text/plain": [
       "0"
      ]
     },
     "execution_count": 193,
     "metadata": {},
     "output_type": "execute_result"
    }
   ],
   "source": [
    "Unfiltered_Merged[Unfiltered_Merged.med_type==0].medwid.sum()"
   ]
  },
  {
   "cell_type": "code",
   "execution_count": 194,
   "metadata": {},
   "outputs": [
    {
     "name": "stdout",
     "output_type": "stream",
     "text": [
      "0\n",
      "0\n",
      "0\n"
     ]
    }
   ],
   "source": [
    "print(sum(Unfiltered_Merged.med_type.isna()))\n",
    "print(sum(Unfiltered_Merged[Unfiltered_Merged.med_type==0].medwid.isna()))\n",
    "print(sum(Unfiltered_Merged[Unfiltered_Merged.med_type!=0].medwid.isna()))"
   ]
  },
  {
   "cell_type": "markdown",
   "metadata": {},
   "source": [
    "It is seen that if the median exists, median width > 0 and if median doesn't exist, median width == 0. Also, median type has 7 (maybe 8) categories. We could do some feature engineering here?"
   ]
  },
  {
   "cell_type": "markdown",
   "metadata": {},
   "source": [
    "NUMBER OF LANES AND LANE WIDTH"
   ]
  },
  {
   "cell_type": "code",
   "execution_count": 195,
   "metadata": {},
   "outputs": [
    {
     "data": {
      "text/plain": [
       "0"
      ]
     },
     "execution_count": 195,
     "metadata": {},
     "output_type": "execute_result"
    }
   ],
   "source": [
    "Unfiltered_Merged.no_lanes.isna().sum()"
   ]
  },
  {
   "cell_type": "code",
   "execution_count": 196,
   "metadata": {},
   "outputs": [
    {
     "data": {
      "text/plain": [
       "2     116259\n",
       "4      52985\n",
       "6       6143\n",
       "3       2165\n",
       "5        962\n",
       "8        866\n",
       "1        321\n",
       "10       207\n",
       "7        188\n",
       "9        125\n",
       "12       124\n",
       "11        14\n",
       "0          5\n",
       "Name: no_lanes, dtype: int64"
      ]
     },
     "execution_count": 196,
     "metadata": {},
     "output_type": "execute_result"
    }
   ],
   "source": [
    "Unfiltered_Merged.no_lanes.value_counts()"
   ]
  },
  {
   "cell_type": "code",
   "execution_count": 197,
   "metadata": {},
   "outputs": [
    {
     "data": {
      "text/html": [
       "<div>\n",
       "<style scoped>\n",
       "    .dataframe tbody tr th:only-of-type {\n",
       "        vertical-align: middle;\n",
       "    }\n",
       "\n",
       "    .dataframe tbody tr th {\n",
       "        vertical-align: top;\n",
       "    }\n",
       "\n",
       "    .dataframe thead th {\n",
       "        text-align: right;\n",
       "    }\n",
       "</style>\n",
       "<table border=\"1\" class=\"dataframe\">\n",
       "  <thead>\n",
       "    <tr style=\"text-align: right;\">\n",
       "      <th></th>\n",
       "      <th>medwid</th>\n",
       "      <th>no_lanes</th>\n",
       "      <th>lanewid</th>\n",
       "      <th>aadt</th>\n",
       "      <th>trf_cntl</th>\n",
       "      <th>curv_rad</th>\n",
       "      <th>begmp</th>\n",
       "      <th>seg_lng</th>\n",
       "      <th>endmp</th>\n",
       "      <th>access</th>\n",
       "      <th>...</th>\n",
       "      <th>Severity_Fatal</th>\n",
       "      <th>Severity_Unknown</th>\n",
       "      <th>Weather_Clear</th>\n",
       "      <th>Weather_Rain</th>\n",
       "      <th>Weather_Snow</th>\n",
       "      <th>Weather_Fog</th>\n",
       "      <th>Weather_Hail</th>\n",
       "      <th>Weather_CrossWind</th>\n",
       "      <th>Weather_Other</th>\n",
       "      <th>Weather_Unknown</th>\n",
       "    </tr>\n",
       "  </thead>\n",
       "  <tbody>\n",
       "    <tr>\n",
       "      <th>41907</th>\n",
       "      <td>0</td>\n",
       "      <td>0</td>\n",
       "      <td>0</td>\n",
       "      <td>12700</td>\n",
       "      <td>NaN</td>\n",
       "      <td>0</td>\n",
       "      <td>3.42</td>\n",
       "      <td>0.04</td>\n",
       "      <td>3.46</td>\n",
       "      <td>0</td>\n",
       "      <td>...</td>\n",
       "      <td>0</td>\n",
       "      <td>0</td>\n",
       "      <td>0</td>\n",
       "      <td>0</td>\n",
       "      <td>0</td>\n",
       "      <td>0</td>\n",
       "      <td>0</td>\n",
       "      <td>0</td>\n",
       "      <td>0</td>\n",
       "      <td>0</td>\n",
       "    </tr>\n",
       "    <tr>\n",
       "      <th>41908</th>\n",
       "      <td>0</td>\n",
       "      <td>0</td>\n",
       "      <td>0</td>\n",
       "      <td>14700</td>\n",
       "      <td>NaN</td>\n",
       "      <td>0</td>\n",
       "      <td>3.46</td>\n",
       "      <td>0.02</td>\n",
       "      <td>3.48</td>\n",
       "      <td>0</td>\n",
       "      <td>...</td>\n",
       "      <td>0</td>\n",
       "      <td>0</td>\n",
       "      <td>0</td>\n",
       "      <td>0</td>\n",
       "      <td>0</td>\n",
       "      <td>0</td>\n",
       "      <td>0</td>\n",
       "      <td>0</td>\n",
       "      <td>0</td>\n",
       "      <td>0</td>\n",
       "    </tr>\n",
       "    <tr>\n",
       "      <th>41909</th>\n",
       "      <td>0</td>\n",
       "      <td>0</td>\n",
       "      <td>0</td>\n",
       "      <td>14709</td>\n",
       "      <td>NaN</td>\n",
       "      <td>0</td>\n",
       "      <td>3.48</td>\n",
       "      <td>0.20</td>\n",
       "      <td>3.68</td>\n",
       "      <td>0</td>\n",
       "      <td>...</td>\n",
       "      <td>0</td>\n",
       "      <td>0</td>\n",
       "      <td>0</td>\n",
       "      <td>0</td>\n",
       "      <td>0</td>\n",
       "      <td>0</td>\n",
       "      <td>0</td>\n",
       "      <td>0</td>\n",
       "      <td>0</td>\n",
       "      <td>0</td>\n",
       "    </tr>\n",
       "    <tr>\n",
       "      <th>41910</th>\n",
       "      <td>0</td>\n",
       "      <td>0</td>\n",
       "      <td>0</td>\n",
       "      <td>14709</td>\n",
       "      <td>NaN</td>\n",
       "      <td>0</td>\n",
       "      <td>3.68</td>\n",
       "      <td>1.63</td>\n",
       "      <td>5.31</td>\n",
       "      <td>0</td>\n",
       "      <td>...</td>\n",
       "      <td>0</td>\n",
       "      <td>0</td>\n",
       "      <td>0</td>\n",
       "      <td>0</td>\n",
       "      <td>0</td>\n",
       "      <td>0</td>\n",
       "      <td>0</td>\n",
       "      <td>0</td>\n",
       "      <td>0</td>\n",
       "      <td>0</td>\n",
       "    </tr>\n",
       "    <tr>\n",
       "      <th>41911</th>\n",
       "      <td>0</td>\n",
       "      <td>0</td>\n",
       "      <td>0</td>\n",
       "      <td>14709</td>\n",
       "      <td>NaN</td>\n",
       "      <td>0</td>\n",
       "      <td>5.31</td>\n",
       "      <td>0.16</td>\n",
       "      <td>5.47</td>\n",
       "      <td>0</td>\n",
       "      <td>...</td>\n",
       "      <td>0</td>\n",
       "      <td>0</td>\n",
       "      <td>0</td>\n",
       "      <td>0</td>\n",
       "      <td>0</td>\n",
       "      <td>0</td>\n",
       "      <td>0</td>\n",
       "      <td>0</td>\n",
       "      <td>0</td>\n",
       "      <td>0</td>\n",
       "    </tr>\n",
       "  </tbody>\n",
       "</table>\n",
       "<p>5 rows × 32 columns</p>\n",
       "</div>"
      ],
      "text/plain": [
       "       medwid  no_lanes  lanewid   aadt trf_cntl  curv_rad  begmp  seg_lng  \\\n",
       "41907       0         0        0  12700      NaN         0   3.42     0.04   \n",
       "41908       0         0        0  14700      NaN         0   3.46     0.02   \n",
       "41909       0         0        0  14709      NaN         0   3.48     0.20   \n",
       "41910       0         0        0  14709      NaN         0   3.68     1.63   \n",
       "41911       0         0        0  14709      NaN         0   5.31     0.16   \n",
       "\n",
       "       endmp  access  ...  Severity_Fatal  Severity_Unknown  Weather_Clear  \\\n",
       "41907   3.46       0  ...               0                 0              0   \n",
       "41908   3.48       0  ...               0                 0              0   \n",
       "41909   3.68       0  ...               0                 0              0   \n",
       "41910   5.31       0  ...               0                 0              0   \n",
       "41911   5.47       0  ...               0                 0              0   \n",
       "\n",
       "       Weather_Rain  Weather_Snow  Weather_Fog  Weather_Hail  \\\n",
       "41907             0             0            0             0   \n",
       "41908             0             0            0             0   \n",
       "41909             0             0            0             0   \n",
       "41910             0             0            0             0   \n",
       "41911             0             0            0             0   \n",
       "\n",
       "       Weather_CrossWind  Weather_Other  Weather_Unknown  \n",
       "41907                  0              0                0  \n",
       "41908                  0              0                0  \n",
       "41909                  0              0                0  \n",
       "41910                  0              0                0  \n",
       "41911                  0              0                0  \n",
       "\n",
       "[5 rows x 32 columns]"
      ]
     },
     "execution_count": 197,
     "metadata": {},
     "output_type": "execute_result"
    }
   ],
   "source": [
    "#One case where the number of lanes = 0 to be removed\n",
    "Unfiltered_Merged[Unfiltered_Merged.no_lanes==0]"
   ]
  },
  {
   "cell_type": "code",
   "execution_count": 198,
   "metadata": {},
   "outputs": [
    {
     "data": {
      "text/plain": [
       "41907    0\n",
       "41908    0\n",
       "41909    0\n",
       "41910    0\n",
       "41911    0\n",
       "Name: AccCount, dtype: int64"
      ]
     },
     "execution_count": 198,
     "metadata": {},
     "output_type": "execute_result"
    }
   ],
   "source": [
    "Unfiltered_Merged[Unfiltered_Merged.no_lanes==0].AccCount"
   ]
  },
  {
   "cell_type": "code",
   "execution_count": 199,
   "metadata": {},
   "outputs": [
    {
     "data": {
      "text/plain": [
       "0       1697\n",
       "4         11\n",
       "5        103\n",
       "6         27\n",
       "7         10\n",
       "8         82\n",
       "9       3679\n",
       "10      9642\n",
       "11     28818\n",
       "12    110655\n",
       "13     16157\n",
       "14      3795\n",
       "15      2215\n",
       "16      1139\n",
       "17       527\n",
       "18       623\n",
       "19       226\n",
       "20       390\n",
       "21       120\n",
       "22       167\n",
       "23        65\n",
       "24       107\n",
       "25        29\n",
       "26        36\n",
       "27        17\n",
       "28         4\n",
       "29         1\n",
       "30        10\n",
       "31         3\n",
       "32         3\n",
       "33         1\n",
       "Name: lanewid, dtype: int64"
      ]
     },
     "execution_count": 199,
     "metadata": {},
     "output_type": "execute_result"
    }
   ],
   "source": [
    "Unfiltered_Merged[Unfiltered_Merged.no_lanes!=0].lanewid.value_counts().sort_index()"
   ]
  },
  {
   "cell_type": "code",
   "execution_count": 200,
   "metadata": {},
   "outputs": [
    {
     "data": {
      "text/html": [
       "<div>\n",
       "<style scoped>\n",
       "    .dataframe tbody tr th:only-of-type {\n",
       "        vertical-align: middle;\n",
       "    }\n",
       "\n",
       "    .dataframe tbody tr th {\n",
       "        vertical-align: top;\n",
       "    }\n",
       "\n",
       "    .dataframe thead th {\n",
       "        text-align: right;\n",
       "    }\n",
       "</style>\n",
       "<table border=\"1\" class=\"dataframe\">\n",
       "  <thead>\n",
       "    <tr style=\"text-align: right;\">\n",
       "      <th></th>\n",
       "      <th>medwid</th>\n",
       "      <th>no_lanes</th>\n",
       "      <th>lanewid</th>\n",
       "      <th>aadt</th>\n",
       "      <th>trf_cntl</th>\n",
       "      <th>curv_rad</th>\n",
       "      <th>begmp</th>\n",
       "      <th>seg_lng</th>\n",
       "      <th>endmp</th>\n",
       "      <th>access</th>\n",
       "      <th>...</th>\n",
       "      <th>Severity_Fatal</th>\n",
       "      <th>Severity_Unknown</th>\n",
       "      <th>Weather_Clear</th>\n",
       "      <th>Weather_Rain</th>\n",
       "      <th>Weather_Snow</th>\n",
       "      <th>Weather_Fog</th>\n",
       "      <th>Weather_Hail</th>\n",
       "      <th>Weather_CrossWind</th>\n",
       "      <th>Weather_Other</th>\n",
       "      <th>Weather_Unknown</th>\n",
       "    </tr>\n",
       "  </thead>\n",
       "  <tbody>\n",
       "  </tbody>\n",
       "</table>\n",
       "<p>0 rows × 32 columns</p>\n",
       "</div>"
      ],
      "text/plain": [
       "Empty DataFrame\n",
       "Columns: [medwid, no_lanes, lanewid, aadt, trf_cntl, curv_rad, begmp, seg_lng, endmp, access, oneway, spd_limt, med_type, surf_typ, cnty_rte, rururb, rodwycls, AccCount, Severity_PDO, Severity_Inj_TypeA, Severity_Inj_TypeB, Severity_Inj_TypeC, Severity_Fatal, Severity_Unknown, Weather_Clear, Weather_Rain, Weather_Snow, Weather_Fog, Weather_Hail, Weather_CrossWind, Weather_Other, Weather_Unknown]\n",
       "Index: []\n",
       "\n",
       "[0 rows x 32 columns]"
      ]
     },
     "execution_count": 200,
     "metadata": {},
     "output_type": "execute_result"
    }
   ],
   "source": [
    "Unfiltered_Merged[Unfiltered_Merged.lanewid==36]"
   ]
  },
  {
   "cell_type": "code",
   "execution_count": 201,
   "metadata": {},
   "outputs": [
    {
     "data": {
      "text/plain": [
       "Series([], Name: cnty_rte, dtype: int64)"
      ]
     },
     "execution_count": 201,
     "metadata": {},
     "output_type": "execute_result"
    }
   ],
   "source": [
    "Unfiltered_Merged[Unfiltered_Merged.lanewid==36].cnty_rte"
   ]
  },
  {
   "cell_type": "markdown",
   "metadata": {},
   "source": [
    "The standard lane width is 12 feet \n",
    "https://safety.fhwa.dot.gov/geometric/pubs/mitigationstrategies/chapter3/3_lanewidth.cfm"
   ]
  },
  {
   "cell_type": "code",
   "execution_count": 202,
   "metadata": {},
   "outputs": [
    {
     "data": {
      "text/plain": [
       "(44069, 32)"
      ]
     },
     "execution_count": 202,
     "metadata": {},
     "output_type": "execute_result"
    }
   ],
   "source": [
    "Unfiltered_Merged[(Unfiltered_Merged.no_lanes!=0)&(Unfiltered_Merged.lanewid<12)].shape"
   ]
  },
  {
   "cell_type": "code",
   "execution_count": 203,
   "metadata": {},
   "outputs": [
    {
     "data": {
      "text/html": [
       "<div>\n",
       "<style scoped>\n",
       "    .dataframe tbody tr th:only-of-type {\n",
       "        vertical-align: middle;\n",
       "    }\n",
       "\n",
       "    .dataframe tbody tr th {\n",
       "        vertical-align: top;\n",
       "    }\n",
       "\n",
       "    .dataframe thead th {\n",
       "        text-align: right;\n",
       "    }\n",
       "</style>\n",
       "<table border=\"1\" class=\"dataframe\">\n",
       "  <thead>\n",
       "    <tr style=\"text-align: right;\">\n",
       "      <th></th>\n",
       "      <th>lanewid</th>\n",
       "      <th>AccCount</th>\n",
       "    </tr>\n",
       "  </thead>\n",
       "  <tbody>\n",
       "    <tr>\n",
       "      <th>78</th>\n",
       "      <td>11</td>\n",
       "      <td>1</td>\n",
       "    </tr>\n",
       "    <tr>\n",
       "      <th>79</th>\n",
       "      <td>11</td>\n",
       "      <td>0</td>\n",
       "    </tr>\n",
       "    <tr>\n",
       "      <th>80</th>\n",
       "      <td>11</td>\n",
       "      <td>0</td>\n",
       "    </tr>\n",
       "    <tr>\n",
       "      <th>81</th>\n",
       "      <td>11</td>\n",
       "      <td>0</td>\n",
       "    </tr>\n",
       "    <tr>\n",
       "      <th>82</th>\n",
       "      <td>11</td>\n",
       "      <td>0</td>\n",
       "    </tr>\n",
       "    <tr>\n",
       "      <th>...</th>\n",
       "      <td>...</td>\n",
       "      <td>...</td>\n",
       "    </tr>\n",
       "    <tr>\n",
       "      <th>180275</th>\n",
       "      <td>0</td>\n",
       "      <td>0</td>\n",
       "    </tr>\n",
       "    <tr>\n",
       "      <th>180276</th>\n",
       "      <td>0</td>\n",
       "      <td>0</td>\n",
       "    </tr>\n",
       "    <tr>\n",
       "      <th>180277</th>\n",
       "      <td>0</td>\n",
       "      <td>0</td>\n",
       "    </tr>\n",
       "    <tr>\n",
       "      <th>180278</th>\n",
       "      <td>10</td>\n",
       "      <td>0</td>\n",
       "    </tr>\n",
       "    <tr>\n",
       "      <th>180279</th>\n",
       "      <td>10</td>\n",
       "      <td>0</td>\n",
       "    </tr>\n",
       "  </tbody>\n",
       "</table>\n",
       "<p>44069 rows × 2 columns</p>\n",
       "</div>"
      ],
      "text/plain": [
       "        lanewid  AccCount\n",
       "78           11         1\n",
       "79           11         0\n",
       "80           11         0\n",
       "81           11         0\n",
       "82           11         0\n",
       "...         ...       ...\n",
       "180275        0         0\n",
       "180276        0         0\n",
       "180277        0         0\n",
       "180278       10         0\n",
       "180279       10         0\n",
       "\n",
       "[44069 rows x 2 columns]"
      ]
     },
     "execution_count": 203,
     "metadata": {},
     "output_type": "execute_result"
    }
   ],
   "source": [
    "Unfiltered_Merged[(Unfiltered_Merged.no_lanes!=0)&(Unfiltered_Merged.lanewid<12)][['lanewid','AccCount']]"
   ]
  },
  {
   "cell_type": "code",
   "execution_count": 204,
   "metadata": {},
   "outputs": [
    {
     "data": {
      "text/plain": [
       "78        1\n",
       "79        0\n",
       "80        0\n",
       "81        0\n",
       "82        0\n",
       "         ..\n",
       "180275    0\n",
       "180276    0\n",
       "180277    0\n",
       "180278    0\n",
       "180279    0\n",
       "Name: AccCount, Length: 44069, dtype: int64"
      ]
     },
     "execution_count": 204,
     "metadata": {},
     "output_type": "execute_result"
    }
   ],
   "source": [
    "Unfiltered_Merged[(Unfiltered_Merged.no_lanes!=0)&(Unfiltered_Merged.lanewid<12)].AccCount"
   ]
  },
  {
   "cell_type": "code",
   "execution_count": 205,
   "metadata": {},
   "outputs": [
    {
     "data": {
      "text/plain": [
       "34472"
      ]
     },
     "execution_count": 205,
     "metadata": {},
     "output_type": "execute_result"
    }
   ],
   "source": [
    "Unfiltered_Merged[(Unfiltered_Merged.no_lanes!=0)&(Unfiltered_Merged.lanewid<12)].AccCount.sum()"
   ]
  },
  {
   "cell_type": "code",
   "execution_count": 206,
   "metadata": {},
   "outputs": [
    {
     "data": {
      "text/plain": [
       "89"
      ]
     },
     "execution_count": 206,
     "metadata": {},
     "output_type": "execute_result"
    }
   ],
   "source": [
    "Unfiltered_Merged[(Unfiltered_Merged.no_lanes!=0)&(Unfiltered_Merged.lanewid<12)].AccCount.max()"
   ]
  },
  {
   "cell_type": "code",
   "execution_count": 207,
   "metadata": {},
   "outputs": [
    {
     "data": {
      "text/plain": [
       "0"
      ]
     },
     "execution_count": 207,
     "metadata": {},
     "output_type": "execute_result"
    }
   ],
   "source": [
    "Unfiltered_Merged[(Unfiltered_Merged.no_lanes!=0)&(Unfiltered_Merged.lanewid<12)].AccCount.min()"
   ]
  },
  {
   "cell_type": "code",
   "execution_count": 208,
   "metadata": {},
   "outputs": [
    {
     "data": {
      "text/plain": [
       "140739"
      ]
     },
     "execution_count": 208,
     "metadata": {},
     "output_type": "execute_result"
    }
   ],
   "source": [
    "Unfiltered_Merged[(Unfiltered_Merged.no_lanes!=0)].AccCount.sum()"
   ]
  },
  {
   "cell_type": "code",
   "execution_count": 209,
   "metadata": {},
   "outputs": [
    {
     "data": {
      "text/plain": [
       "2013"
      ]
     },
     "execution_count": 209,
     "metadata": {},
     "output_type": "execute_result"
    }
   ],
   "source": [
    "Unfiltered_Merged[(Unfiltered_Merged.no_lanes!=0)&(Unfiltered_Merged.lanewid<10)].AccCount.sum()"
   ]
  },
  {
   "cell_type": "code",
   "execution_count": 210,
   "metadata": {},
   "outputs": [
    {
     "data": {
      "text/plain": [
       "(5609, 32)"
      ]
     },
     "execution_count": 210,
     "metadata": {},
     "output_type": "execute_result"
    }
   ],
   "source": [
    "Unfiltered_Merged[(Unfiltered_Merged.no_lanes!=0)&(Unfiltered_Merged.lanewid<10)].shape"
   ]
  },
  {
   "cell_type": "markdown",
   "metadata": {},
   "source": [
    "Possibly remove all road segments where the lane width < 10. Result in removing 1694 accidents. Also remove all cases where no_lanes = 0"
   ]
  },
  {
   "cell_type": "markdown",
   "metadata": {},
   "source": [
    "AADT"
   ]
  },
  {
   "cell_type": "code",
   "execution_count": 211,
   "metadata": {},
   "outputs": [
    {
     "data": {
      "text/html": [
       "<div>\n",
       "<style scoped>\n",
       "    .dataframe tbody tr th:only-of-type {\n",
       "        vertical-align: middle;\n",
       "    }\n",
       "\n",
       "    .dataframe tbody tr th {\n",
       "        vertical-align: top;\n",
       "    }\n",
       "\n",
       "    .dataframe thead th {\n",
       "        text-align: right;\n",
       "    }\n",
       "</style>\n",
       "<table border=\"1\" class=\"dataframe\">\n",
       "  <thead>\n",
       "    <tr style=\"text-align: right;\">\n",
       "      <th></th>\n",
       "      <th>medwid</th>\n",
       "      <th>no_lanes</th>\n",
       "      <th>lanewid</th>\n",
       "      <th>aadt</th>\n",
       "      <th>trf_cntl</th>\n",
       "      <th>curv_rad</th>\n",
       "      <th>begmp</th>\n",
       "      <th>seg_lng</th>\n",
       "      <th>endmp</th>\n",
       "      <th>access</th>\n",
       "      <th>...</th>\n",
       "      <th>Severity_Fatal</th>\n",
       "      <th>Severity_Unknown</th>\n",
       "      <th>Weather_Clear</th>\n",
       "      <th>Weather_Rain</th>\n",
       "      <th>Weather_Snow</th>\n",
       "      <th>Weather_Fog</th>\n",
       "      <th>Weather_Hail</th>\n",
       "      <th>Weather_CrossWind</th>\n",
       "      <th>Weather_Other</th>\n",
       "      <th>Weather_Unknown</th>\n",
       "    </tr>\n",
       "  </thead>\n",
       "  <tbody>\n",
       "    <tr>\n",
       "      <th>1799</th>\n",
       "      <td>0</td>\n",
       "      <td>2</td>\n",
       "      <td>0</td>\n",
       "      <td>0</td>\n",
       "      <td>N</td>\n",
       "      <td>0</td>\n",
       "      <td>0.00</td>\n",
       "      <td>0.01</td>\n",
       "      <td>0.01</td>\n",
       "      <td>0</td>\n",
       "      <td>...</td>\n",
       "      <td>0</td>\n",
       "      <td>0</td>\n",
       "      <td>0</td>\n",
       "      <td>0</td>\n",
       "      <td>0</td>\n",
       "      <td>0</td>\n",
       "      <td>0</td>\n",
       "      <td>0</td>\n",
       "      <td>0</td>\n",
       "      <td>0</td>\n",
       "    </tr>\n",
       "    <tr>\n",
       "      <th>1800</th>\n",
       "      <td>0</td>\n",
       "      <td>2</td>\n",
       "      <td>0</td>\n",
       "      <td>0</td>\n",
       "      <td>N</td>\n",
       "      <td>0</td>\n",
       "      <td>0.01</td>\n",
       "      <td>0.19</td>\n",
       "      <td>0.20</td>\n",
       "      <td>0</td>\n",
       "      <td>...</td>\n",
       "      <td>0</td>\n",
       "      <td>0</td>\n",
       "      <td>0</td>\n",
       "      <td>0</td>\n",
       "      <td>0</td>\n",
       "      <td>0</td>\n",
       "      <td>0</td>\n",
       "      <td>0</td>\n",
       "      <td>0</td>\n",
       "      <td>0</td>\n",
       "    </tr>\n",
       "    <tr>\n",
       "      <th>1801</th>\n",
       "      <td>0</td>\n",
       "      <td>2</td>\n",
       "      <td>0</td>\n",
       "      <td>0</td>\n",
       "      <td>NaN</td>\n",
       "      <td>0</td>\n",
       "      <td>0.20</td>\n",
       "      <td>0.04</td>\n",
       "      <td>0.24</td>\n",
       "      <td>0</td>\n",
       "      <td>...</td>\n",
       "      <td>0</td>\n",
       "      <td>0</td>\n",
       "      <td>0</td>\n",
       "      <td>0</td>\n",
       "      <td>0</td>\n",
       "      <td>0</td>\n",
       "      <td>0</td>\n",
       "      <td>0</td>\n",
       "      <td>0</td>\n",
       "      <td>0</td>\n",
       "    </tr>\n",
       "    <tr>\n",
       "      <th>1802</th>\n",
       "      <td>0</td>\n",
       "      <td>2</td>\n",
       "      <td>0</td>\n",
       "      <td>0</td>\n",
       "      <td>NaN</td>\n",
       "      <td>0</td>\n",
       "      <td>0.24</td>\n",
       "      <td>0.01</td>\n",
       "      <td>0.25</td>\n",
       "      <td>0</td>\n",
       "      <td>...</td>\n",
       "      <td>0</td>\n",
       "      <td>0</td>\n",
       "      <td>0</td>\n",
       "      <td>0</td>\n",
       "      <td>0</td>\n",
       "      <td>0</td>\n",
       "      <td>0</td>\n",
       "      <td>0</td>\n",
       "      <td>0</td>\n",
       "      <td>0</td>\n",
       "    </tr>\n",
       "    <tr>\n",
       "      <th>1814</th>\n",
       "      <td>0</td>\n",
       "      <td>2</td>\n",
       "      <td>0</td>\n",
       "      <td>0</td>\n",
       "      <td>N</td>\n",
       "      <td>0</td>\n",
       "      <td>0.00</td>\n",
       "      <td>0.03</td>\n",
       "      <td>0.03</td>\n",
       "      <td>0</td>\n",
       "      <td>...</td>\n",
       "      <td>0</td>\n",
       "      <td>0</td>\n",
       "      <td>0</td>\n",
       "      <td>0</td>\n",
       "      <td>0</td>\n",
       "      <td>0</td>\n",
       "      <td>0</td>\n",
       "      <td>0</td>\n",
       "      <td>0</td>\n",
       "      <td>0</td>\n",
       "    </tr>\n",
       "    <tr>\n",
       "      <th>...</th>\n",
       "      <td>...</td>\n",
       "      <td>...</td>\n",
       "      <td>...</td>\n",
       "      <td>...</td>\n",
       "      <td>...</td>\n",
       "      <td>...</td>\n",
       "      <td>...</td>\n",
       "      <td>...</td>\n",
       "      <td>...</td>\n",
       "      <td>...</td>\n",
       "      <td>...</td>\n",
       "      <td>...</td>\n",
       "      <td>...</td>\n",
       "      <td>...</td>\n",
       "      <td>...</td>\n",
       "      <td>...</td>\n",
       "      <td>...</td>\n",
       "      <td>...</td>\n",
       "      <td>...</td>\n",
       "      <td>...</td>\n",
       "      <td>...</td>\n",
       "    </tr>\n",
       "    <tr>\n",
       "      <th>180272</th>\n",
       "      <td>0</td>\n",
       "      <td>2</td>\n",
       "      <td>0</td>\n",
       "      <td>0</td>\n",
       "      <td>A</td>\n",
       "      <td>0</td>\n",
       "      <td>0.25</td>\n",
       "      <td>0.07</td>\n",
       "      <td>0.32</td>\n",
       "      <td>1</td>\n",
       "      <td>...</td>\n",
       "      <td>0</td>\n",
       "      <td>0</td>\n",
       "      <td>0</td>\n",
       "      <td>0</td>\n",
       "      <td>0</td>\n",
       "      <td>0</td>\n",
       "      <td>0</td>\n",
       "      <td>0</td>\n",
       "      <td>0</td>\n",
       "      <td>0</td>\n",
       "    </tr>\n",
       "    <tr>\n",
       "      <th>180273</th>\n",
       "      <td>0</td>\n",
       "      <td>2</td>\n",
       "      <td>0</td>\n",
       "      <td>0</td>\n",
       "      <td>N</td>\n",
       "      <td>0</td>\n",
       "      <td>0.32</td>\n",
       "      <td>0.12</td>\n",
       "      <td>0.44</td>\n",
       "      <td>1</td>\n",
       "      <td>...</td>\n",
       "      <td>0</td>\n",
       "      <td>0</td>\n",
       "      <td>0</td>\n",
       "      <td>0</td>\n",
       "      <td>0</td>\n",
       "      <td>0</td>\n",
       "      <td>0</td>\n",
       "      <td>0</td>\n",
       "      <td>0</td>\n",
       "      <td>0</td>\n",
       "    </tr>\n",
       "    <tr>\n",
       "      <th>180274</th>\n",
       "      <td>0</td>\n",
       "      <td>2</td>\n",
       "      <td>0</td>\n",
       "      <td>0</td>\n",
       "      <td>A</td>\n",
       "      <td>0</td>\n",
       "      <td>0.44</td>\n",
       "      <td>0.06</td>\n",
       "      <td>0.50</td>\n",
       "      <td>1</td>\n",
       "      <td>...</td>\n",
       "      <td>0</td>\n",
       "      <td>0</td>\n",
       "      <td>0</td>\n",
       "      <td>0</td>\n",
       "      <td>0</td>\n",
       "      <td>0</td>\n",
       "      <td>0</td>\n",
       "      <td>0</td>\n",
       "      <td>0</td>\n",
       "      <td>0</td>\n",
       "    </tr>\n",
       "    <tr>\n",
       "      <th>180278</th>\n",
       "      <td>0</td>\n",
       "      <td>2</td>\n",
       "      <td>10</td>\n",
       "      <td>0</td>\n",
       "      <td>N</td>\n",
       "      <td>0</td>\n",
       "      <td>0.00</td>\n",
       "      <td>0.01</td>\n",
       "      <td>0.01</td>\n",
       "      <td>1</td>\n",
       "      <td>...</td>\n",
       "      <td>0</td>\n",
       "      <td>0</td>\n",
       "      <td>0</td>\n",
       "      <td>0</td>\n",
       "      <td>0</td>\n",
       "      <td>0</td>\n",
       "      <td>0</td>\n",
       "      <td>0</td>\n",
       "      <td>0</td>\n",
       "      <td>0</td>\n",
       "    </tr>\n",
       "    <tr>\n",
       "      <th>180279</th>\n",
       "      <td>0</td>\n",
       "      <td>2</td>\n",
       "      <td>10</td>\n",
       "      <td>0</td>\n",
       "      <td>0</td>\n",
       "      <td>0</td>\n",
       "      <td>0.01</td>\n",
       "      <td>0.04</td>\n",
       "      <td>0.05</td>\n",
       "      <td>1</td>\n",
       "      <td>...</td>\n",
       "      <td>0</td>\n",
       "      <td>0</td>\n",
       "      <td>0</td>\n",
       "      <td>0</td>\n",
       "      <td>0</td>\n",
       "      <td>0</td>\n",
       "      <td>0</td>\n",
       "      <td>0</td>\n",
       "      <td>0</td>\n",
       "      <td>0</td>\n",
       "    </tr>\n",
       "  </tbody>\n",
       "</table>\n",
       "<p>1834 rows × 32 columns</p>\n",
       "</div>"
      ],
      "text/plain": [
       "        medwid  no_lanes  lanewid  aadt trf_cntl  curv_rad  begmp  seg_lng  \\\n",
       "1799         0         2        0     0        N         0   0.00     0.01   \n",
       "1800         0         2        0     0        N         0   0.01     0.19   \n",
       "1801         0         2        0     0      NaN         0   0.20     0.04   \n",
       "1802         0         2        0     0      NaN         0   0.24     0.01   \n",
       "1814         0         2        0     0        N         0   0.00     0.03   \n",
       "...        ...       ...      ...   ...      ...       ...    ...      ...   \n",
       "180272       0         2        0     0        A         0   0.25     0.07   \n",
       "180273       0         2        0     0        N         0   0.32     0.12   \n",
       "180274       0         2        0     0        A         0   0.44     0.06   \n",
       "180278       0         2       10     0        N         0   0.00     0.01   \n",
       "180279       0         2       10     0        0         0   0.01     0.04   \n",
       "\n",
       "        endmp  access  ...  Severity_Fatal  Severity_Unknown  Weather_Clear  \\\n",
       "1799     0.01       0  ...               0                 0              0   \n",
       "1800     0.20       0  ...               0                 0              0   \n",
       "1801     0.24       0  ...               0                 0              0   \n",
       "1802     0.25       0  ...               0                 0              0   \n",
       "1814     0.03       0  ...               0                 0              0   \n",
       "...       ...     ...  ...             ...               ...            ...   \n",
       "180272   0.32       1  ...               0                 0              0   \n",
       "180273   0.44       1  ...               0                 0              0   \n",
       "180274   0.50       1  ...               0                 0              0   \n",
       "180278   0.01       1  ...               0                 0              0   \n",
       "180279   0.05       1  ...               0                 0              0   \n",
       "\n",
       "        Weather_Rain  Weather_Snow  Weather_Fog  Weather_Hail  \\\n",
       "1799               0             0            0             0   \n",
       "1800               0             0            0             0   \n",
       "1801               0             0            0             0   \n",
       "1802               0             0            0             0   \n",
       "1814               0             0            0             0   \n",
       "...              ...           ...          ...           ...   \n",
       "180272             0             0            0             0   \n",
       "180273             0             0            0             0   \n",
       "180274             0             0            0             0   \n",
       "180278             0             0            0             0   \n",
       "180279             0             0            0             0   \n",
       "\n",
       "        Weather_CrossWind  Weather_Other  Weather_Unknown  \n",
       "1799                    0              0                0  \n",
       "1800                    0              0                0  \n",
       "1801                    0              0                0  \n",
       "1802                    0              0                0  \n",
       "1814                    0              0                0  \n",
       "...                   ...            ...              ...  \n",
       "180272                  0              0                0  \n",
       "180273                  0              0                0  \n",
       "180274                  0              0                0  \n",
       "180278                  0              0                0  \n",
       "180279                  0              0                0  \n",
       "\n",
       "[1834 rows x 32 columns]"
      ]
     },
     "execution_count": 211,
     "metadata": {},
     "output_type": "execute_result"
    }
   ],
   "source": [
    "Unfiltered_Merged[Unfiltered_Merged.aadt==0]"
   ]
  },
  {
   "cell_type": "code",
   "execution_count": 212,
   "metadata": {},
   "outputs": [
    {
     "data": {
      "text/plain": [
       "0      1834\n",
       "9        37\n",
       "10       46\n",
       "25      184\n",
       "29      134\n",
       "50      198\n",
       "59      106\n",
       "75       91\n",
       "79       14\n",
       "100     143\n",
       "Name: aadt, dtype: int64"
      ]
     },
     "execution_count": 212,
     "metadata": {},
     "output_type": "execute_result"
    }
   ],
   "source": [
    "Unfiltered_Merged.aadt.value_counts().sort_index().head(10)"
   ]
  },
  {
   "cell_type": "code",
   "execution_count": 213,
   "metadata": {},
   "outputs": [
    {
     "data": {
      "text/plain": [
       "0"
      ]
     },
     "execution_count": 213,
     "metadata": {},
     "output_type": "execute_result"
    }
   ],
   "source": [
    "Unfiltered_Merged.aadt.isna().sum()"
   ]
  },
  {
   "cell_type": "code",
   "execution_count": 214,
   "metadata": {},
   "outputs": [
    {
     "data": {
      "text/plain": [
       "969"
      ]
     },
     "execution_count": 214,
     "metadata": {},
     "output_type": "execute_result"
    }
   ],
   "source": [
    "Unfiltered_Merged[Unfiltered_Merged.aadt==0].AccCount.sum()"
   ]
  },
  {
   "cell_type": "code",
   "execution_count": 215,
   "metadata": {},
   "outputs": [
    {
     "data": {
      "text/plain": [
       "336100"
      ]
     },
     "execution_count": 215,
     "metadata": {},
     "output_type": "execute_result"
    }
   ],
   "source": [
    "Unfiltered_Merged.aadt.max()"
   ]
  },
  {
   "cell_type": "code",
   "execution_count": 216,
   "metadata": {},
   "outputs": [
    {
     "data": {
      "text/plain": [
       "336100    2\n",
       "331900    4\n",
       "326800    7\n",
       "324600    1\n",
       "324000    1\n",
       "322100    1\n",
       "322000    1\n",
       "318600    3\n",
       "318300    2\n",
       "317300    3\n",
       "316100    5\n",
       "314900    1\n",
       "314500    2\n",
       "314400    1\n",
       "312900    2\n",
       "312800    1\n",
       "311800    1\n",
       "311100    8\n",
       "310700    5\n",
       "310000    4\n",
       "Name: aadt, dtype: int64"
      ]
     },
     "execution_count": 216,
     "metadata": {},
     "output_type": "execute_result"
    }
   ],
   "source": [
    "Unfiltered_Merged.aadt.value_counts().sort_index(ascending=False).head(20)"
   ]
  },
  {
   "cell_type": "code",
   "execution_count": 217,
   "metadata": {},
   "outputs": [
    {
     "data": {
      "text/plain": [
       "(87, 32)"
      ]
     },
     "execution_count": 217,
     "metadata": {},
     "output_type": "execute_result"
    }
   ],
   "source": [
    "Unfiltered_Merged[Unfiltered_Merged.aadt>300000].shape"
   ]
  },
  {
   "cell_type": "code",
   "execution_count": 218,
   "metadata": {},
   "outputs": [
    {
     "data": {
      "text/plain": [
       "225"
      ]
     },
     "execution_count": 218,
     "metadata": {},
     "output_type": "execute_result"
    }
   ],
   "source": [
    "Unfiltered_Merged[Unfiltered_Merged.aadt>300000].AccCount.sum()"
   ]
  },
  {
   "cell_type": "markdown",
   "metadata": {},
   "source": [
    "There are 1576 locations where AADT = 0. 647 accidents are recorded. These should be removed. "
   ]
  },
  {
   "cell_type": "markdown",
   "metadata": {},
   "source": [
    "TRAFFIC CONTROL DEVICE"
   ]
  },
  {
   "cell_type": "code",
   "execution_count": 219,
   "metadata": {},
   "outputs": [
    {
     "data": {
      "text/plain": [
       "116221"
      ]
     },
     "execution_count": 219,
     "metadata": {},
     "output_type": "execute_result"
    }
   ],
   "source": [
    "Unfiltered_Merged.trf_cntl.isna().sum()"
   ]
  },
  {
   "cell_type": "code",
   "execution_count": 220,
   "metadata": {},
   "outputs": [
    {
     "data": {
      "text/plain": [
       "180364"
      ]
     },
     "execution_count": 220,
     "metadata": {},
     "output_type": "execute_result"
    }
   ],
   "source": [
    "Unfiltered_Merged.shape[0]"
   ]
  },
  {
   "cell_type": "markdown",
   "metadata": {},
   "source": [
    "Nearly 60% of the records have NA for type of traffic control. Should be eliminated"
   ]
  },
  {
   "cell_type": "markdown",
   "metadata": {},
   "source": [
    "CURVE RADIUS"
   ]
  },
  {
   "cell_type": "code",
   "execution_count": 221,
   "metadata": {},
   "outputs": [
    {
     "data": {
      "text/plain": [
       "0"
      ]
     },
     "execution_count": 221,
     "metadata": {},
     "output_type": "execute_result"
    }
   ],
   "source": [
    "Unfiltered_Merged.curv_rad.isna().sum()"
   ]
  },
  {
   "cell_type": "code",
   "execution_count": 222,
   "metadata": {},
   "outputs": [
    {
     "data": {
      "text/plain": [
       "0     176816\n",
       "15         1\n",
       "25         2\n",
       "30         2\n",
       "35         1\n",
       "45         2\n",
       "48         1\n",
       "50        88\n",
       "54         1\n",
       "55         1\n",
       "Name: curv_rad, dtype: int64"
      ]
     },
     "execution_count": 222,
     "metadata": {},
     "output_type": "execute_result"
    }
   ],
   "source": [
    "Unfiltered_Merged.curv_rad.value_counts().sort_index().head(10)"
   ]
  },
  {
   "cell_type": "code",
   "execution_count": 223,
   "metadata": {},
   "outputs": [
    {
     "data": {
      "text/plain": [
       "(3548, 32)"
      ]
     },
     "execution_count": 223,
     "metadata": {},
     "output_type": "execute_result"
    }
   ],
   "source": [
    "Unfiltered_Merged[Unfiltered_Merged.curv_rad!=0].shape"
   ]
  },
  {
   "cell_type": "markdown",
   "metadata": {},
   "source": [
    "Curve Radius = 0 means straight segment. Most cases are straight. It should be kept "
   ]
  },
  {
   "cell_type": "markdown",
   "metadata": {},
   "source": [
    "SEGMENT LENGTH"
   ]
  },
  {
   "cell_type": "code",
   "execution_count": 224,
   "metadata": {},
   "outputs": [
    {
     "data": {
      "text/plain": [
       "0"
      ]
     },
     "execution_count": 224,
     "metadata": {},
     "output_type": "execute_result"
    }
   ],
   "source": [
    "Unfiltered_Merged.seg_lng.isna().sum()"
   ]
  },
  {
   "cell_type": "code",
   "execution_count": 225,
   "metadata": {},
   "outputs": [
    {
     "data": {
      "text/plain": [
       "0.01    26345\n",
       "0.02    20488\n",
       "0.03    17325\n",
       "0.04    17318\n",
       "0.05    12941\n",
       "0.06    14726\n",
       "0.07     9890\n",
       "0.08     9375\n",
       "0.09     5602\n",
       "0.10     4913\n",
       "Name: seg_lng, dtype: int64"
      ]
     },
     "execution_count": 225,
     "metadata": {},
     "output_type": "execute_result"
    }
   ],
   "source": [
    "Unfiltered_Merged.seg_lng.value_counts().sort_index().head(10)"
   ]
  },
  {
   "cell_type": "code",
   "execution_count": 226,
   "metadata": {},
   "outputs": [
    {
     "data": {
      "text/plain": [
       "2.93"
      ]
     },
     "execution_count": 226,
     "metadata": {},
     "output_type": "execute_result"
    }
   ],
   "source": [
    "Unfiltered_Merged.seg_lng.max()"
   ]
  },
  {
   "cell_type": "code",
   "execution_count": 227,
   "metadata": {},
   "outputs": [
    {
     "data": {
      "text/plain": [
       "0.01"
      ]
     },
     "execution_count": 227,
     "metadata": {},
     "output_type": "execute_result"
    }
   ],
   "source": [
    "Unfiltered_Merged.seg_lng.min()"
   ]
  },
  {
   "cell_type": "markdown",
   "metadata": {},
   "source": [
    "Segment Length seems ok. It should be kept. "
   ]
  },
  {
   "cell_type": "markdown",
   "metadata": {},
   "source": [
    "ROADWAY ACCESS TYPE"
   ]
  },
  {
   "cell_type": "code",
   "execution_count": 228,
   "metadata": {},
   "outputs": [
    {
     "data": {
      "text/plain": [
       "0"
      ]
     },
     "execution_count": 228,
     "metadata": {},
     "output_type": "execute_result"
    }
   ],
   "source": [
    "Unfiltered_Merged.access.isna().sum()"
   ]
  },
  {
   "cell_type": "code",
   "execution_count": 229,
   "metadata": {},
   "outputs": [
    {
     "data": {
      "text/plain": [
       "0    146275\n",
       "2     18126\n",
       "1     15963\n",
       "Name: access, dtype: int64"
      ]
     },
     "execution_count": 229,
     "metadata": {},
     "output_type": "execute_result"
    }
   ],
   "source": [
    "Unfiltered_Merged.access.value_counts().head(10)"
   ]
  },
  {
   "cell_type": "markdown",
   "metadata": {},
   "source": [
    "Just three categories. Should be kept. "
   ]
  },
  {
   "cell_type": "markdown",
   "metadata": {},
   "source": [
    "ONEWAY"
   ]
  },
  {
   "cell_type": "code",
   "execution_count": 230,
   "metadata": {},
   "outputs": [
    {
     "data": {
      "text/plain": [
       "0"
      ]
     },
     "execution_count": 230,
     "metadata": {},
     "output_type": "execute_result"
    }
   ],
   "source": [
    "Unfiltered_Merged.oneway.isna().sum()"
   ]
  },
  {
   "cell_type": "code",
   "execution_count": 231,
   "metadata": {},
   "outputs": [
    {
     "data": {
      "text/plain": [
       "2    177098\n",
       "1      3266\n",
       "Name: oneway, dtype: int64"
      ]
     },
     "execution_count": 231,
     "metadata": {},
     "output_type": "execute_result"
    }
   ],
   "source": [
    "Unfiltered_Merged.oneway.value_counts().head(10)"
   ]
  },
  {
   "cell_type": "markdown",
   "metadata": {},
   "source": [
    "Just two categories. Should be kept. "
   ]
  },
  {
   "cell_type": "markdown",
   "metadata": {},
   "source": [
    "SPEED LIMIT"
   ]
  },
  {
   "cell_type": "code",
   "execution_count": 232,
   "metadata": {},
   "outputs": [
    {
     "data": {
      "text/plain": [
       "0"
      ]
     },
     "execution_count": 232,
     "metadata": {},
     "output_type": "execute_result"
    }
   ],
   "source": [
    "Unfiltered_Merged.spd_limt.isna().sum()"
   ]
  },
  {
   "cell_type": "code",
   "execution_count": 233,
   "metadata": {},
   "outputs": [
    {
     "data": {
      "text/plain": [
       "55    65637\n",
       "0     23325\n",
       "30    20535\n",
       "35    18719\n",
       "45    18246\n",
       "40    13788\n",
       "65    12517\n",
       "50     5057\n",
       "25     2149\n",
       "20      362\n",
       "10       19\n",
       "15       10\n",
       "Name: spd_limt, dtype: int64"
      ]
     },
     "execution_count": 233,
     "metadata": {},
     "output_type": "execute_result"
    }
   ],
   "source": [
    "Unfiltered_Merged.spd_limt.value_counts()"
   ]
  },
  {
   "cell_type": "code",
   "execution_count": 234,
   "metadata": {},
   "outputs": [
    {
     "data": {
      "text/plain": [
       "7937"
      ]
     },
     "execution_count": 234,
     "metadata": {},
     "output_type": "execute_result"
    }
   ],
   "source": [
    "Unfiltered_Merged[Unfiltered_Merged.spd_limt==0].AccCount.sum()"
   ]
  },
  {
   "cell_type": "code",
   "execution_count": 235,
   "metadata": {},
   "outputs": [
    {
     "data": {
      "text/plain": [
       "46"
      ]
     },
     "execution_count": 235,
     "metadata": {},
     "output_type": "execute_result"
    }
   ],
   "source": [
    "Unfiltered_Merged[Unfiltered_Merged.spd_limt==0].AccCount.max()"
   ]
  },
  {
   "cell_type": "code",
   "execution_count": 236,
   "metadata": {},
   "outputs": [
    {
     "data": {
      "text/plain": [
       "0"
      ]
     },
     "execution_count": 236,
     "metadata": {},
     "output_type": "execute_result"
    }
   ],
   "source": [
    "Unfiltered_Merged[Unfiltered_Merged.spd_limt==0].AccCount.min()"
   ]
  },
  {
   "cell_type": "markdown",
   "metadata": {},
   "source": [
    "25987 cases where the speed limit is unknown. There are 11186 accidents. \n",
    "1. Should filter out OR\n",
    "2. Make a guess of the speed limit based on other conditions from data. "
   ]
  },
  {
   "cell_type": "markdown",
   "metadata": {},
   "source": [
    "SURFACE TYPE"
   ]
  },
  {
   "cell_type": "code",
   "execution_count": 237,
   "metadata": {},
   "outputs": [
    {
     "data": {
      "text/plain": [
       "0"
      ]
     },
     "execution_count": 237,
     "metadata": {},
     "output_type": "execute_result"
    }
   ],
   "source": [
    "Unfiltered_Merged.surf_typ.isna().sum()"
   ]
  },
  {
   "cell_type": "code",
   "execution_count": 238,
   "metadata": {},
   "outputs": [
    {
     "data": {
      "text/plain": [
       "600    66239\n",
       "610    39063\n",
       "620    18393\n",
       "630    15419\n",
       "640     7364\n",
       "550     6005\n",
       "560     5534\n",
       "700     3827\n",
       "730     3654\n",
       "740     3536\n",
       "720     2557\n",
       "710     1866\n",
       "725     1662\n",
       "500     1456\n",
       "650     1212\n",
       "300      599\n",
       "976      517\n",
       "965      461\n",
       "200      301\n",
       "975      110\n",
       "410       98\n",
       "400       96\n",
       "625       55\n",
       "800       55\n",
       "963       37\n",
       "530       31\n",
       "10        27\n",
       "967       26\n",
       "20        26\n",
       "973       22\n",
       "775       20\n",
       "520       16\n",
       "987       14\n",
       "954       12\n",
       "972       10\n",
       "790        9\n",
       "792        9\n",
       "0          8\n",
       "210        7\n",
       "964        5\n",
       "110        2\n",
       "971        2\n",
       "100        2\n",
       "Name: surf_typ, dtype: int64"
      ]
     },
     "execution_count": 238,
     "metadata": {},
     "output_type": "execute_result"
    }
   ],
   "source": [
    "Unfiltered_Merged.surf_typ.value_counts()"
   ]
  },
  {
   "cell_type": "markdown",
   "metadata": {},
   "source": [
    "Large number of categories. We should concolidate categories based on commonalities. "
   ]
  },
  {
   "cell_type": "markdown",
   "metadata": {},
   "source": [
    "RURAL OR URBAN"
   ]
  },
  {
   "cell_type": "code",
   "execution_count": 239,
   "metadata": {},
   "outputs": [
    {
     "data": {
      "text/plain": [
       "0"
      ]
     },
     "execution_count": 239,
     "metadata": {},
     "output_type": "execute_result"
    }
   ],
   "source": [
    "Unfiltered_Merged.rururb.isna().sum()"
   ]
  },
  {
   "cell_type": "code",
   "execution_count": 240,
   "metadata": {},
   "outputs": [
    {
     "data": {
      "text/plain": [
       "1    91337\n",
       "2    89027\n",
       "Name: rururb, dtype: int64"
      ]
     },
     "execution_count": 240,
     "metadata": {},
     "output_type": "execute_result"
    }
   ],
   "source": [
    "Unfiltered_Merged.rururb.value_counts()"
   ]
  },
  {
   "cell_type": "markdown",
   "metadata": {},
   "source": [
    "Should be kept"
   ]
  },
  {
   "cell_type": "markdown",
   "metadata": {},
   "source": [
    "ROADWAY CLASS"
   ]
  },
  {
   "cell_type": "code",
   "execution_count": 241,
   "metadata": {},
   "outputs": [
    {
     "data": {
      "text/plain": [
       "0"
      ]
     },
     "execution_count": 241,
     "metadata": {},
     "output_type": "execute_result"
    }
   ],
   "source": [
    "Unfiltered_Merged.rodwycls.isna().sum()"
   ]
  },
  {
   "cell_type": "code",
   "execution_count": 242,
   "metadata": {},
   "outputs": [
    {
     "data": {
      "text/plain": [
       "8     79500\n",
       "3     33832\n",
       "4     24866\n",
       "5     16647\n",
       "1     10109\n",
       "6      7177\n",
       "99     3703\n",
       "9      3407\n",
       "10      452\n",
       "7       425\n",
       "2       246\n",
       "Name: rodwycls, dtype: int64"
      ]
     },
     "execution_count": 242,
     "metadata": {},
     "output_type": "execute_result"
    }
   ],
   "source": [
    "Unfiltered_Merged.rodwycls.value_counts()"
   ]
  },
  {
   "cell_type": "markdown",
   "metadata": {},
   "source": [
    "11 categories. May consider consolidating categories. Should be kept. "
   ]
  },
  {
   "cell_type": "code",
   "execution_count": 243,
   "metadata": {},
   "outputs": [],
   "source": [
    "Filtered_Merged = Unfiltered_Merged[(Unfiltered_Merged.no_lanes!=0)&(Unfiltered_Merged.lanewid>=10)&(Unfiltered_Merged.aadt>0)]"
   ]
  },
  {
   "cell_type": "code",
   "execution_count": 244,
   "metadata": {},
   "outputs": [
    {
     "name": "stderr",
     "output_type": "stream",
     "text": [
      "/Users/jacob/anaconda/envs/py3/lib/python3.7/site-packages/ipykernel_launcher.py:1: SettingWithCopyWarning: \n",
      "A value is trying to be set on a copy of a slice from a DataFrame.\n",
      "Try using .loc[row_indexer,col_indexer] = value instead\n",
      "\n",
      "See the caveats in the documentation: https://pandas.pydata.org/pandas-docs/stable/user_guide/indexing.html#returning-a-view-versus-a-copy\n",
      "  \"\"\"Entry point for launching an IPython kernel.\n"
     ]
    }
   ],
   "source": [
    "Filtered_Merged['Year'] = '10'"
   ]
  },
  {
   "cell_type": "code",
   "execution_count": 245,
   "metadata": {},
   "outputs": [
    {
     "data": {
      "text/html": [
       "<div>\n",
       "<style scoped>\n",
       "    .dataframe tbody tr th:only-of-type {\n",
       "        vertical-align: middle;\n",
       "    }\n",
       "\n",
       "    .dataframe tbody tr th {\n",
       "        vertical-align: top;\n",
       "    }\n",
       "\n",
       "    .dataframe thead th {\n",
       "        text-align: right;\n",
       "    }\n",
       "</style>\n",
       "<table border=\"1\" class=\"dataframe\">\n",
       "  <thead>\n",
       "    <tr style=\"text-align: right;\">\n",
       "      <th></th>\n",
       "      <th>medwid</th>\n",
       "      <th>no_lanes</th>\n",
       "      <th>lanewid</th>\n",
       "      <th>aadt</th>\n",
       "      <th>trf_cntl</th>\n",
       "      <th>curv_rad</th>\n",
       "      <th>begmp</th>\n",
       "      <th>seg_lng</th>\n",
       "      <th>endmp</th>\n",
       "      <th>access</th>\n",
       "      <th>...</th>\n",
       "      <th>Severity_Unknown</th>\n",
       "      <th>Weather_Clear</th>\n",
       "      <th>Weather_Rain</th>\n",
       "      <th>Weather_Snow</th>\n",
       "      <th>Weather_Fog</th>\n",
       "      <th>Weather_Hail</th>\n",
       "      <th>Weather_CrossWind</th>\n",
       "      <th>Weather_Other</th>\n",
       "      <th>Weather_Unknown</th>\n",
       "      <th>Year</th>\n",
       "    </tr>\n",
       "  </thead>\n",
       "  <tbody>\n",
       "    <tr>\n",
       "      <th>0</th>\n",
       "      <td>0</td>\n",
       "      <td>2</td>\n",
       "      <td>12</td>\n",
       "      <td>8500</td>\n",
       "      <td>N</td>\n",
       "      <td>0</td>\n",
       "      <td>0.00</td>\n",
       "      <td>0.01</td>\n",
       "      <td>0.01</td>\n",
       "      <td>0</td>\n",
       "      <td>...</td>\n",
       "      <td>0</td>\n",
       "      <td>213</td>\n",
       "      <td>29</td>\n",
       "      <td>14</td>\n",
       "      <td>1</td>\n",
       "      <td>1</td>\n",
       "      <td>0</td>\n",
       "      <td>4</td>\n",
       "      <td>1</td>\n",
       "      <td>10</td>\n",
       "    </tr>\n",
       "    <tr>\n",
       "      <th>1</th>\n",
       "      <td>0</td>\n",
       "      <td>2</td>\n",
       "      <td>12</td>\n",
       "      <td>8500</td>\n",
       "      <td>NaN</td>\n",
       "      <td>0</td>\n",
       "      <td>0.01</td>\n",
       "      <td>0.12</td>\n",
       "      <td>0.13</td>\n",
       "      <td>0</td>\n",
       "      <td>...</td>\n",
       "      <td>0</td>\n",
       "      <td>0</td>\n",
       "      <td>0</td>\n",
       "      <td>0</td>\n",
       "      <td>0</td>\n",
       "      <td>0</td>\n",
       "      <td>0</td>\n",
       "      <td>0</td>\n",
       "      <td>0</td>\n",
       "      <td>10</td>\n",
       "    </tr>\n",
       "    <tr>\n",
       "      <th>2</th>\n",
       "      <td>0</td>\n",
       "      <td>2</td>\n",
       "      <td>12</td>\n",
       "      <td>8500</td>\n",
       "      <td>N</td>\n",
       "      <td>0</td>\n",
       "      <td>0.13</td>\n",
       "      <td>0.03</td>\n",
       "      <td>0.16</td>\n",
       "      <td>0</td>\n",
       "      <td>...</td>\n",
       "      <td>0</td>\n",
       "      <td>0</td>\n",
       "      <td>0</td>\n",
       "      <td>0</td>\n",
       "      <td>0</td>\n",
       "      <td>0</td>\n",
       "      <td>0</td>\n",
       "      <td>0</td>\n",
       "      <td>0</td>\n",
       "      <td>10</td>\n",
       "    </tr>\n",
       "    <tr>\n",
       "      <th>3</th>\n",
       "      <td>0</td>\n",
       "      <td>2</td>\n",
       "      <td>12</td>\n",
       "      <td>8500</td>\n",
       "      <td>NaN</td>\n",
       "      <td>0</td>\n",
       "      <td>0.16</td>\n",
       "      <td>0.02</td>\n",
       "      <td>0.18</td>\n",
       "      <td>0</td>\n",
       "      <td>...</td>\n",
       "      <td>0</td>\n",
       "      <td>0</td>\n",
       "      <td>0</td>\n",
       "      <td>0</td>\n",
       "      <td>0</td>\n",
       "      <td>0</td>\n",
       "      <td>0</td>\n",
       "      <td>0</td>\n",
       "      <td>0</td>\n",
       "      <td>10</td>\n",
       "    </tr>\n",
       "    <tr>\n",
       "      <th>4</th>\n",
       "      <td>0</td>\n",
       "      <td>2</td>\n",
       "      <td>18</td>\n",
       "      <td>8500</td>\n",
       "      <td>NaN</td>\n",
       "      <td>0</td>\n",
       "      <td>0.18</td>\n",
       "      <td>0.03</td>\n",
       "      <td>0.21</td>\n",
       "      <td>0</td>\n",
       "      <td>...</td>\n",
       "      <td>0</td>\n",
       "      <td>2</td>\n",
       "      <td>0</td>\n",
       "      <td>0</td>\n",
       "      <td>0</td>\n",
       "      <td>0</td>\n",
       "      <td>0</td>\n",
       "      <td>0</td>\n",
       "      <td>0</td>\n",
       "      <td>10</td>\n",
       "    </tr>\n",
       "    <tr>\n",
       "      <th>...</th>\n",
       "      <td>...</td>\n",
       "      <td>...</td>\n",
       "      <td>...</td>\n",
       "      <td>...</td>\n",
       "      <td>...</td>\n",
       "      <td>...</td>\n",
       "      <td>...</td>\n",
       "      <td>...</td>\n",
       "      <td>...</td>\n",
       "      <td>...</td>\n",
       "      <td>...</td>\n",
       "      <td>...</td>\n",
       "      <td>...</td>\n",
       "      <td>...</td>\n",
       "      <td>...</td>\n",
       "      <td>...</td>\n",
       "      <td>...</td>\n",
       "      <td>...</td>\n",
       "      <td>...</td>\n",
       "      <td>...</td>\n",
       "      <td>...</td>\n",
       "    </tr>\n",
       "    <tr>\n",
       "      <th>180359</th>\n",
       "      <td>64</td>\n",
       "      <td>4</td>\n",
       "      <td>12</td>\n",
       "      <td>25000</td>\n",
       "      <td>N</td>\n",
       "      <td>0</td>\n",
       "      <td>116.07</td>\n",
       "      <td>0.26</td>\n",
       "      <td>116.33</td>\n",
       "      <td>2</td>\n",
       "      <td>...</td>\n",
       "      <td>0</td>\n",
       "      <td>3</td>\n",
       "      <td>1</td>\n",
       "      <td>0</td>\n",
       "      <td>0</td>\n",
       "      <td>0</td>\n",
       "      <td>0</td>\n",
       "      <td>0</td>\n",
       "      <td>0</td>\n",
       "      <td>10</td>\n",
       "    </tr>\n",
       "    <tr>\n",
       "      <th>180360</th>\n",
       "      <td>64</td>\n",
       "      <td>4</td>\n",
       "      <td>12</td>\n",
       "      <td>25000</td>\n",
       "      <td>NaN</td>\n",
       "      <td>0</td>\n",
       "      <td>116.33</td>\n",
       "      <td>0.29</td>\n",
       "      <td>116.62</td>\n",
       "      <td>2</td>\n",
       "      <td>...</td>\n",
       "      <td>0</td>\n",
       "      <td>0</td>\n",
       "      <td>0</td>\n",
       "      <td>0</td>\n",
       "      <td>0</td>\n",
       "      <td>0</td>\n",
       "      <td>0</td>\n",
       "      <td>0</td>\n",
       "      <td>0</td>\n",
       "      <td>10</td>\n",
       "    </tr>\n",
       "    <tr>\n",
       "      <th>180361</th>\n",
       "      <td>64</td>\n",
       "      <td>4</td>\n",
       "      <td>12</td>\n",
       "      <td>25000</td>\n",
       "      <td>N</td>\n",
       "      <td>0</td>\n",
       "      <td>116.62</td>\n",
       "      <td>0.65</td>\n",
       "      <td>117.27</td>\n",
       "      <td>2</td>\n",
       "      <td>...</td>\n",
       "      <td>0</td>\n",
       "      <td>0</td>\n",
       "      <td>0</td>\n",
       "      <td>0</td>\n",
       "      <td>0</td>\n",
       "      <td>0</td>\n",
       "      <td>0</td>\n",
       "      <td>0</td>\n",
       "      <td>0</td>\n",
       "      <td>10</td>\n",
       "    </tr>\n",
       "    <tr>\n",
       "      <th>180362</th>\n",
       "      <td>64</td>\n",
       "      <td>4</td>\n",
       "      <td>12</td>\n",
       "      <td>25000</td>\n",
       "      <td>NaN</td>\n",
       "      <td>0</td>\n",
       "      <td>117.27</td>\n",
       "      <td>0.97</td>\n",
       "      <td>118.24</td>\n",
       "      <td>2</td>\n",
       "      <td>...</td>\n",
       "      <td>0</td>\n",
       "      <td>0</td>\n",
       "      <td>1</td>\n",
       "      <td>0</td>\n",
       "      <td>0</td>\n",
       "      <td>0</td>\n",
       "      <td>0</td>\n",
       "      <td>0</td>\n",
       "      <td>0</td>\n",
       "      <td>10</td>\n",
       "    </tr>\n",
       "    <tr>\n",
       "      <th>180363</th>\n",
       "      <td>64</td>\n",
       "      <td>4</td>\n",
       "      <td>12</td>\n",
       "      <td>25000</td>\n",
       "      <td>NaN</td>\n",
       "      <td>0</td>\n",
       "      <td>118.24</td>\n",
       "      <td>0.36</td>\n",
       "      <td>118.60</td>\n",
       "      <td>2</td>\n",
       "      <td>...</td>\n",
       "      <td>0</td>\n",
       "      <td>1</td>\n",
       "      <td>0</td>\n",
       "      <td>0</td>\n",
       "      <td>0</td>\n",
       "      <td>0</td>\n",
       "      <td>0</td>\n",
       "      <td>0</td>\n",
       "      <td>0</td>\n",
       "      <td>10</td>\n",
       "    </tr>\n",
       "  </tbody>\n",
       "</table>\n",
       "<p>174265 rows × 33 columns</p>\n",
       "</div>"
      ],
      "text/plain": [
       "        medwid  no_lanes  lanewid   aadt trf_cntl  curv_rad   begmp  seg_lng  \\\n",
       "0            0         2       12   8500        N         0    0.00     0.01   \n",
       "1            0         2       12   8500      NaN         0    0.01     0.12   \n",
       "2            0         2       12   8500        N         0    0.13     0.03   \n",
       "3            0         2       12   8500      NaN         0    0.16     0.02   \n",
       "4            0         2       18   8500      NaN         0    0.18     0.03   \n",
       "...        ...       ...      ...    ...      ...       ...     ...      ...   \n",
       "180359      64         4       12  25000        N         0  116.07     0.26   \n",
       "180360      64         4       12  25000      NaN         0  116.33     0.29   \n",
       "180361      64         4       12  25000        N         0  116.62     0.65   \n",
       "180362      64         4       12  25000      NaN         0  117.27     0.97   \n",
       "180363      64         4       12  25000      NaN         0  118.24     0.36   \n",
       "\n",
       "         endmp  access  ...  Severity_Unknown  Weather_Clear  Weather_Rain  \\\n",
       "0         0.01       0  ...                 0            213            29   \n",
       "1         0.13       0  ...                 0              0             0   \n",
       "2         0.16       0  ...                 0              0             0   \n",
       "3         0.18       0  ...                 0              0             0   \n",
       "4         0.21       0  ...                 0              2             0   \n",
       "...        ...     ...  ...               ...            ...           ...   \n",
       "180359  116.33       2  ...                 0              3             1   \n",
       "180360  116.62       2  ...                 0              0             0   \n",
       "180361  117.27       2  ...                 0              0             0   \n",
       "180362  118.24       2  ...                 0              0             1   \n",
       "180363  118.60       2  ...                 0              1             0   \n",
       "\n",
       "        Weather_Snow  Weather_Fog  Weather_Hail  Weather_CrossWind  \\\n",
       "0                 14            1             1                  0   \n",
       "1                  0            0             0                  0   \n",
       "2                  0            0             0                  0   \n",
       "3                  0            0             0                  0   \n",
       "4                  0            0             0                  0   \n",
       "...              ...          ...           ...                ...   \n",
       "180359             0            0             0                  0   \n",
       "180360             0            0             0                  0   \n",
       "180361             0            0             0                  0   \n",
       "180362             0            0             0                  0   \n",
       "180363             0            0             0                  0   \n",
       "\n",
       "        Weather_Other  Weather_Unknown  Year  \n",
       "0                   4                1    10  \n",
       "1                   0                0    10  \n",
       "2                   0                0    10  \n",
       "3                   0                0    10  \n",
       "4                   0                0    10  \n",
       "...               ...              ...   ...  \n",
       "180359              0                0    10  \n",
       "180360              0                0    10  \n",
       "180361              0                0    10  \n",
       "180362              0                0    10  \n",
       "180363              0                0    10  \n",
       "\n",
       "[174265 rows x 33 columns]"
      ]
     },
     "execution_count": 245,
     "metadata": {},
     "output_type": "execute_result"
    }
   ],
   "source": [
    "Filtered_Merged"
   ]
  },
  {
   "cell_type": "code",
   "execution_count": 246,
   "metadata": {},
   "outputs": [],
   "source": [
    "Filtered_Merged.to_csv('Filtered_Merged_10.csv',index=False)"
   ]
  },
  {
   "cell_type": "code",
   "execution_count": null,
   "metadata": {},
   "outputs": [],
   "source": []
  }
 ],
 "metadata": {
  "kernelspec": {
   "display_name": "Python 3",
   "language": "python",
   "name": "python3"
  },
  "language_info": {
   "codemirror_mode": {
    "name": "ipython",
    "version": 3
   },
   "file_extension": ".py",
   "mimetype": "text/x-python",
   "name": "python",
   "nbconvert_exporter": "python",
   "pygments_lexer": "ipython3",
   "version": "3.7.6"
  }
 },
 "nbformat": 4,
 "nbformat_minor": 4
}
