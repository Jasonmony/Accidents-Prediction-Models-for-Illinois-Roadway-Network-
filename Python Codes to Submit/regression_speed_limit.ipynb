{
 "cells": [
  {
   "cell_type": "code",
   "execution_count": null,
   "metadata": {
    "colab": {
     "base_uri": "https://localhost:8080/"
    },
    "executionInfo": {
     "elapsed": 29077,
     "status": "ok",
     "timestamp": 1617821124581,
     "user": {
      "displayName": "Trisha Das",
      "photoUrl": "",
      "userId": "15362276246443347108"
     },
     "user_tz": 300
    },
    "id": "XGTqCDjTsc3I",
    "outputId": "810835e5-c1cc-4cda-a1a0-5cf1c391ee1a"
   },
   "outputs": [
    {
     "name": "stdout",
     "output_type": "stream",
     "text": [
      "Mounted at /content/drive\n"
     ]
    }
   ],
   "source": [
    "#from google.colab import drive\n",
    "#drive.mount('/content/drive', force_remount=True)"
   ]
  },
  {
   "cell_type": "code",
   "execution_count": null,
   "metadata": {
    "id": "z8zylw-Os3ov"
   },
   "outputs": [],
   "source": [
    "#change the file location according to your file location in google drive\n",
    "#import os\n",
    "#os.chdir('/content/drive/My Drive/Final_Project_CS498/Filtered_Data_from_Illinois/')"
   ]
  },
  {
   "cell_type": "code",
   "execution_count": 1,
   "metadata": {
    "id": "NHw9hnRXtfnL"
   },
   "outputs": [],
   "source": [
    "import pandas as pd\n",
    "import numpy as np\n",
    "from sklearn.linear_model import LinearRegression"
   ]
  },
  {
   "cell_type": "code",
   "execution_count": 2,
   "metadata": {
    "id": "dJhRQTGZs9O4"
   },
   "outputs": [],
   "source": [
    "all_data=pd.read_csv(\"AllData_Filtered_Merged_ConsolidatedCategories.csv\", index_col=0)"
   ]
  },
  {
   "cell_type": "code",
   "execution_count": 3,
   "metadata": {
    "colab": {
     "base_uri": "https://localhost:8080/"
    },
    "executionInfo": {
     "elapsed": 200,
     "status": "ok",
     "timestamp": 1617821264372,
     "user": {
      "displayName": "Trisha Das",
      "photoUrl": "",
      "userId": "15362276246443347108"
     },
     "user_tz": 300
    },
    "id": "DWHL_EUbu8Bl",
    "outputId": "bba93fc0-e18d-4ce6-f3c6-1ea1ab1d51c6"
   },
   "outputs": [
    {
     "data": {
      "text/plain": [
       "Index(['medwid', 'no_lanes', 'lanewid', 'aadt', 'trf_cntl', 'curv_rad',\n",
       "       'begmp', 'seg_lng', 'endmp', 'access', 'oneway', 'spd_limt', 'med_type',\n",
       "       'surf_typ', 'cnty_rte', 'rururb', 'rodwycls', 'AccCount',\n",
       "       'Severity_PDO', 'Severity_Inj_TypeA', 'Severity_Inj_TypeB',\n",
       "       'Severity_Inj_TypeC', 'Severity_Fatal', 'Severity_Unknown',\n",
       "       'Weather_Clear', 'Weather_Rain', 'Weather_Snow', 'Weather_Fog',\n",
       "       'Weather_Hail', 'Weather_CrossWind', 'Weather_Other', 'Weather_Unknown',\n",
       "       'Year', 'curv_rad_binary', 'med_type_binary', 'surf_cat'],\n",
       "      dtype='object')"
      ]
     },
     "execution_count": 3,
     "metadata": {},
     "output_type": "execute_result"
    }
   ],
   "source": [
    "all_data.columns"
   ]
  },
  {
   "cell_type": "code",
   "execution_count": 4,
   "metadata": {
    "id": "B98F-kpeuX07"
   },
   "outputs": [],
   "source": [
    "df= all_data.loc[:,['aadt', 'no_lanes', 'access', 'curv_rad', 'oneway','spd_limt', 'rururb', 'cnty_rte']]"
   ]
  },
  {
   "cell_type": "code",
   "execution_count": 5,
   "metadata": {
    "id": "pgo_h1I8vxGW"
   },
   "outputs": [],
   "source": [
    "testing= all_data[all_data['spd_limt']== 0]"
   ]
  },
  {
   "cell_type": "code",
   "execution_count": 6,
   "metadata": {},
   "outputs": [
    {
     "data": {
      "text/plain": [
       "(105209, 36)"
      ]
     },
     "execution_count": 6,
     "metadata": {},
     "output_type": "execute_result"
    }
   ],
   "source": [
    "testing.shape"
   ]
  },
  {
   "cell_type": "code",
   "execution_count": 7,
   "metadata": {},
   "outputs": [
    {
     "data": {
      "text/plain": [
       "0.1268729341197496"
      ]
     },
     "execution_count": 7,
     "metadata": {},
     "output_type": "execute_result"
    }
   ],
   "source": [
    "105209/all_data.shape[0]"
   ]
  },
  {
   "cell_type": "code",
   "execution_count": 8,
   "metadata": {
    "id": "RIq7l9mIwomX"
   },
   "outputs": [],
   "source": [
    "training= all_data[all_data['spd_limt']!= 0]"
   ]
  },
  {
   "cell_type": "code",
   "execution_count": 9,
   "metadata": {
    "colab": {
     "base_uri": "https://localhost:8080/"
    },
    "executionInfo": {
     "elapsed": 195,
     "status": "ok",
     "timestamp": 1617821274598,
     "user": {
      "displayName": "Trisha Das",
      "photoUrl": "",
      "userId": "15362276246443347108"
     },
     "user_tz": 300
    },
    "id": "EYq0DqPoxEeh",
    "outputId": "161f5488-d04d-4e92-b82d-a185272d2094"
   },
   "outputs": [
    {
     "name": "stdout",
     "output_type": "stream",
     "text": [
      "[ 2  4  1  3  5  6  8  7  9 10 12 11]\n"
     ]
    }
   ],
   "source": [
    "print(training.no_lanes.unique())"
   ]
  },
  {
   "cell_type": "code",
   "execution_count": 10,
   "metadata": {
    "id": "BlBpWppZ0igT"
   },
   "outputs": [],
   "source": [
    "X = training.loc[:,['aadt', 'no_lanes', 'access','curv_rad', 'oneway', 'rururb', 'cnty_rte']]\n",
    "y= training.loc[:,['spd_limt']]"
   ]
  },
  {
   "cell_type": "code",
   "execution_count": 17,
   "metadata": {},
   "outputs": [
    {
     "ename": "AttributeError",
     "evalue": "'DataFrame' object has no attribute 'value_counts'",
     "output_type": "error",
     "traceback": [
      "\u001b[0;31m---------------------------------------------------------------------------\u001b[0m",
      "\u001b[0;31mAttributeError\u001b[0m                            Traceback (most recent call last)",
      "\u001b[0;32m<ipython-input-17-3d1fed58b86b>\u001b[0m in \u001b[0;36m<module>\u001b[0;34m\u001b[0m\n\u001b[0;32m----> 1\u001b[0;31m \u001b[0my\u001b[0m\u001b[0;34m.\u001b[0m\u001b[0mvalue_counts\u001b[0m\u001b[0;34m(\u001b[0m\u001b[0;34m)\u001b[0m\u001b[0;34m\u001b[0m\u001b[0;34m\u001b[0m\u001b[0m\n\u001b[0m",
      "\u001b[0;32m~/anaconda/envs/py3/lib/python3.7/site-packages/pandas/core/generic.py\u001b[0m in \u001b[0;36m__getattr__\u001b[0;34m(self, name)\u001b[0m\n\u001b[1;32m   5272\u001b[0m             \u001b[0;32mif\u001b[0m \u001b[0mself\u001b[0m\u001b[0;34m.\u001b[0m\u001b[0m_info_axis\u001b[0m\u001b[0;34m.\u001b[0m\u001b[0m_can_hold_identifiers_and_holds_name\u001b[0m\u001b[0;34m(\u001b[0m\u001b[0mname\u001b[0m\u001b[0;34m)\u001b[0m\u001b[0;34m:\u001b[0m\u001b[0;34m\u001b[0m\u001b[0;34m\u001b[0m\u001b[0m\n\u001b[1;32m   5273\u001b[0m                 \u001b[0;32mreturn\u001b[0m \u001b[0mself\u001b[0m\u001b[0;34m[\u001b[0m\u001b[0mname\u001b[0m\u001b[0;34m]\u001b[0m\u001b[0;34m\u001b[0m\u001b[0;34m\u001b[0m\u001b[0m\n\u001b[0;32m-> 5274\u001b[0;31m             \u001b[0;32mreturn\u001b[0m \u001b[0mobject\u001b[0m\u001b[0;34m.\u001b[0m\u001b[0m__getattribute__\u001b[0m\u001b[0;34m(\u001b[0m\u001b[0mself\u001b[0m\u001b[0;34m,\u001b[0m \u001b[0mname\u001b[0m\u001b[0;34m)\u001b[0m\u001b[0;34m\u001b[0m\u001b[0;34m\u001b[0m\u001b[0m\n\u001b[0m\u001b[1;32m   5275\u001b[0m \u001b[0;34m\u001b[0m\u001b[0m\n\u001b[1;32m   5276\u001b[0m     \u001b[0;32mdef\u001b[0m \u001b[0m__setattr__\u001b[0m\u001b[0;34m(\u001b[0m\u001b[0mself\u001b[0m\u001b[0;34m,\u001b[0m \u001b[0mname\u001b[0m\u001b[0;34m:\u001b[0m \u001b[0mstr\u001b[0m\u001b[0;34m,\u001b[0m \u001b[0mvalue\u001b[0m\u001b[0;34m)\u001b[0m \u001b[0;34m->\u001b[0m \u001b[0;32mNone\u001b[0m\u001b[0;34m:\u001b[0m\u001b[0;34m\u001b[0m\u001b[0;34m\u001b[0m\u001b[0m\n",
      "\u001b[0;31mAttributeError\u001b[0m: 'DataFrame' object has no attribute 'value_counts'"
     ]
    }
   ],
   "source": [
    "y.value_counts()"
   ]
  },
  {
   "cell_type": "code",
   "execution_count": 19,
   "metadata": {
    "id": "1PC2eE2IyJ2v"
   },
   "outputs": [],
   "source": [
    "from numpy import mean\n",
    "from numpy import std\n",
    "from sklearn.model_selection import cross_val_score\n",
    "from sklearn.model_selection import RepeatedStratifiedKFold\n",
    "from sklearn.linear_model import LogisticRegression\n",
    "from sklearn.model_selection import train_test_split\n",
    "from sklearn.pipeline import make_pipeline\n",
    "from sklearn.preprocessing import StandardScaler\n",
    "from sklearn.metrics import confusion_matrix, roc_auc_score, accuracy_score, precision_score, recall_score, f1_score\n",
    "from sklearn.ensemble import RandomForestClassifier"
   ]
  },
  {
   "cell_type": "code",
   "execution_count": 20,
   "metadata": {
    "id": "gCdf47BiC5nk"
   },
   "outputs": [],
   "source": [
    "X_train, X_test, y_train, y_test = train_test_split(X, y, test_size=0.25, random_state=1)"
   ]
  },
  {
   "cell_type": "markdown",
   "metadata": {
    "id": "UBIfXG4PI5CP"
   },
   "source": [
    "RF"
   ]
  },
  {
   "cell_type": "code",
   "execution_count": 21,
   "metadata": {
    "id": "_n78H4ZtI6GB"
   },
   "outputs": [],
   "source": [
    "scaler = StandardScaler()\n",
    "X_train = scaler.fit_transform(X_train)\n",
    "X_test = scaler.transform(X_test)"
   ]
  },
  {
   "cell_type": "code",
   "execution_count": 22,
   "metadata": {
    "colab": {
     "base_uri": "https://localhost:8080/"
    },
    "executionInfo": {
     "elapsed": 11074,
     "status": "ok",
     "timestamp": 1617821317850,
     "user": {
      "displayName": "Trisha Das",
      "photoUrl": "",
      "userId": "15362276246443347108"
     },
     "user_tz": 300
    },
    "id": "FQ4mFXASI_OM",
    "outputId": "9fad5d5b-faa3-4161-a55a-1edff91f81e3"
   },
   "outputs": [
    {
     "data": {
      "text/plain": [
       "RandomForestClassifier(bootstrap=True, ccp_alpha=0.0, class_weight=None,\n",
       "                       criterion='entropy', max_depth=None, max_features='auto',\n",
       "                       max_leaf_nodes=None, max_samples=None,\n",
       "                       min_impurity_decrease=0.0, min_impurity_split=None,\n",
       "                       min_samples_leaf=1, min_samples_split=2,\n",
       "                       min_weight_fraction_leaf=0.0, n_estimators=15,\n",
       "                       n_jobs=None, oob_score=False, random_state=42, verbose=0,\n",
       "                       warm_start=False)"
      ]
     },
     "execution_count": 22,
     "metadata": {},
     "output_type": "execute_result"
    }
   ],
   "source": [
    "classifier = RandomForestClassifier(n_estimators = 15, criterion = 'entropy', random_state = 42)\n",
    "classifier.fit(X_train, y_train.values.ravel())"
   ]
  },
  {
   "cell_type": "code",
   "execution_count": 23,
   "metadata": {
    "id": "v5bU0sRHJUK-"
   },
   "outputs": [],
   "source": [
    "# Predicting the Test set results\n",
    "y_pred = classifier.predict(X_test)\n",
    "\n"
   ]
  },
  {
   "cell_type": "code",
   "execution_count": 24,
   "metadata": {},
   "outputs": [
    {
     "data": {
      "text/plain": [
       "array([10, 15, 20, 25, 30, 35, 40, 45, 50, 55, 65])"
      ]
     },
     "execution_count": 24,
     "metadata": {},
     "output_type": "execute_result"
    }
   ],
   "source": [
    "classifier.classes_"
   ]
  },
  {
   "cell_type": "code",
   "execution_count": 14,
   "metadata": {
    "colab": {
     "base_uri": "https://localhost:8080/"
    },
    "executionInfo": {
     "elapsed": 172,
     "status": "ok",
     "timestamp": 1617821322349,
     "user": {
      "displayName": "Trisha Das",
      "photoUrl": "",
      "userId": "15362276246443347108"
     },
     "user_tz": 300
    },
    "id": "aBQpGX2IJo8R",
    "outputId": "9594ed93-2f0d-4a5f-b39c-0fcca2f503c4"
   },
   "outputs": [
    {
     "name": "stdout",
     "output_type": "stream",
     "text": [
      "0.8681951273410309\n"
     ]
    }
   ],
   "source": [
    "accuracy= accuracy_score(y_test, y_pred)\n",
    "print(accuracy)"
   ]
  },
  {
   "cell_type": "code",
   "execution_count": 15,
   "metadata": {
    "id": "CeiBAl1yL6kA"
   },
   "outputs": [],
   "source": [
    "y_newpred= classifier.predict(scaler.transform(testing.loc[:,['aadt', 'no_lanes', 'access','curv_rad', 'oneway', 'rururb', 'cnty_rte']]))"
   ]
  },
  {
   "cell_type": "code",
   "execution_count": 16,
   "metadata": {
    "colab": {
     "base_uri": "https://localhost:8080/"
    },
    "executionInfo": {
     "elapsed": 209,
     "status": "ok",
     "timestamp": 1617821327493,
     "user": {
      "displayName": "Trisha Das",
      "photoUrl": "",
      "userId": "15362276246443347108"
     },
     "user_tz": 300
    },
    "id": "353p_aJbM_yZ",
    "outputId": "c8a8ac82-3c7c-47a6-c1f4-4f97e2a2b082"
   },
   "outputs": [
    {
     "name": "stdout",
     "output_type": "stream",
     "text": [
      "[55 45 55 ... 55 55 55]\n"
     ]
    }
   ],
   "source": [
    "print(y_newpred)"
   ]
  },
  {
   "cell_type": "code",
   "execution_count": 17,
   "metadata": {
    "colab": {
     "base_uri": "https://localhost:8080/"
    },
    "executionInfo": {
     "elapsed": 173,
     "status": "ok",
     "timestamp": 1617821330541,
     "user": {
      "displayName": "Trisha Das",
      "photoUrl": "",
      "userId": "15362276246443347108"
     },
     "user_tz": 300
    },
    "id": "tSbZndP-OiDO",
    "outputId": "03bf455d-7666-4613-f692-59772be36a45"
   },
   "outputs": [
    {
     "data": {
      "text/plain": [
       "49.21009609444059"
      ]
     },
     "execution_count": 17,
     "metadata": {},
     "output_type": "execute_result"
    }
   ],
   "source": [
    "y_newpred.mean()"
   ]
  },
  {
   "cell_type": "code",
   "execution_count": 18,
   "metadata": {
    "colab": {
     "base_uri": "https://localhost:8080/"
    },
    "executionInfo": {
     "elapsed": 245,
     "status": "ok",
     "timestamp": 1617821338789,
     "user": {
      "displayName": "Trisha Das",
      "photoUrl": "",
      "userId": "15362276246443347108"
     },
     "user_tz": 300
    },
    "id": "GeQy4DlbMN0u",
    "outputId": "9b27ea4e-fcdb-407b-8d0a-38d2c177dc89"
   },
   "outputs": [
    {
     "name": "stderr",
     "output_type": "stream",
     "text": [
      "/Users/jacob/anaconda/envs/py3/lib/python3.7/site-packages/pandas/core/indexing.py:965: SettingWithCopyWarning: \n",
      "A value is trying to be set on a copy of a slice from a DataFrame.\n",
      "Try using .loc[row_indexer,col_indexer] = value instead\n",
      "\n",
      "See the caveats in the documentation: https://pandas.pydata.org/pandas-docs/stable/user_guide/indexing.html#returning-a-view-versus-a-copy\n",
      "  self.obj[item] = s\n"
     ]
    }
   ],
   "source": [
    "testing.loc[:,'spd_limt']=y_newpred"
   ]
  },
  {
   "cell_type": "code",
   "execution_count": 19,
   "metadata": {
    "colab": {
     "base_uri": "https://localhost:8080/"
    },
    "executionInfo": {
     "elapsed": 456,
     "status": "ok",
     "timestamp": 1617821341557,
     "user": {
      "displayName": "Trisha Das",
      "photoUrl": "",
      "userId": "15362276246443347108"
     },
     "user_tz": 300
    },
    "id": "59TW1NkFPOqG",
    "outputId": "ccae515f-3455-4cfa-f707-b0bbceb18db7"
   },
   "outputs": [
    {
     "name": "stdout",
     "output_type": "stream",
     "text": [
      "['medwid', 'no_lanes', 'lanewid', 'aadt', 'trf_cntl', 'curv_rad', 'begmp', 'seg_lng', 'endmp', 'access', 'oneway', 'spd_limt', 'med_type', 'surf_typ', 'cnty_rte', 'rururb', 'rodwycls', 'AccCount', 'Severity_PDO', 'Severity_Inj_TypeA', 'Severity_Inj_TypeB', 'Severity_Inj_TypeC', 'Severity_Fatal', 'Severity_Unknown', 'Weather_Clear', 'Weather_Rain', 'Weather_Snow', 'Weather_Fog', 'Weather_Hail', 'Weather_CrossWind', 'Weather_Other', 'Weather_Unknown', 'Year', 'curv_rad_binary', 'med_type_binary', 'surf_cat']\n"
     ]
    }
   ],
   "source": [
    "print(testing.columns.to_list())"
   ]
  },
  {
   "cell_type": "code",
   "execution_count": 20,
   "metadata": {
    "id": "89vdaKAwOtTK"
   },
   "outputs": [],
   "source": [
    "all_data1=pd.concat([training, testing], ignore_index=True, sort=True)"
   ]
  },
  {
   "cell_type": "code",
   "execution_count": 21,
   "metadata": {
    "id": "cGjVQlJ7QlRp"
   },
   "outputs": [],
   "source": [
    "all_data1.sort_values(by=['Year'],inplace=True)"
   ]
  },
  {
   "cell_type": "code",
   "execution_count": 22,
   "metadata": {
    "id": "2-wSwzPmRWMb"
   },
   "outputs": [],
   "source": [
    "all_data1.to_csv(\"all_data_with_spd_limt.csv\")"
   ]
  },
  {
   "cell_type": "markdown",
   "metadata": {
    "id": "4R5XoQxLI3AF"
   },
   "source": [
    "Logistic"
   ]
  },
  {
   "cell_type": "code",
   "execution_count": null,
   "metadata": {
    "id": "iyPfo7PyDkAj"
   },
   "outputs": [],
   "source": [
    "def try_logistic(X_train, y_train, X_test, y_test, features):\n",
    "    X_train, X_test = X_train[features], X_test[features]\n",
    "    \n",
    "    pipe = make_pipeline(StandardScaler(), LogisticRegression(multi_class='multinomial', solver='lbfgs'))\n",
    "    model=pipe.fit(X_train, y_train)  # apply scaling on training data\n",
    "\n",
    "    \n",
    "    #model = LR.fit(X_train, y_train)\n",
    "    y_predict = model.predict(X_test)\n",
    "    LR_accuracy=  accuracy_score(y_test, y_predict)\n",
    "    models_initial = pd.DataFrame({\n",
    "        'Model'       : ['Logistic'],\n",
    "        'Accuracy'    : [ LR_accuracy]\n",
    "        }, columns = ['Model', 'Accuracy'])\n",
    "    print(models_initial)\n",
    "    #return LR_roc, LR_accuracy, LR_precision, LR_recall, LR_f1, model"
   ]
  },
  {
   "cell_type": "code",
   "execution_count": null,
   "metadata": {
    "colab": {
     "base_uri": "https://localhost:8080/",
     "height": 163
    },
    "executionInfo": {
     "elapsed": 455,
     "status": "error",
     "timestamp": 1617806253125,
     "user": {
      "displayName": "Jinsong Cui",
      "photoUrl": "",
      "userId": "13317873298815800646"
     },
     "user_tz": 300
    },
    "id": "fDCeslZjDsho",
    "outputId": "d98ae3d3-9057-4355-cd94-81e544199842"
   },
   "outputs": [
    {
     "ename": "AttributeError",
     "evalue": "ignored",
     "output_type": "error",
     "traceback": [
      "\u001b[0;31m---------------------------------------------------------------------------\u001b[0m",
      "\u001b[0;31mAttributeError\u001b[0m                            Traceback (most recent call last)",
      "\u001b[0;32m<ipython-input-38-b8b1403ab3b2>\u001b[0m in \u001b[0;36m<module>\u001b[0;34m()\u001b[0m\n\u001b[0;32m----> 1\u001b[0;31m \u001b[0mtry_logistic\u001b[0m\u001b[0;34m(\u001b[0m\u001b[0mX_train\u001b[0m\u001b[0;34m,\u001b[0m \u001b[0my_train\u001b[0m\u001b[0;34m.\u001b[0m\u001b[0mvalues\u001b[0m\u001b[0;34m.\u001b[0m\u001b[0mravel\u001b[0m\u001b[0;34m(\u001b[0m\u001b[0;34m)\u001b[0m\u001b[0;34m,\u001b[0m \u001b[0mX_test\u001b[0m\u001b[0;34m,\u001b[0m \u001b[0my_test\u001b[0m\u001b[0;34m.\u001b[0m\u001b[0mvalues\u001b[0m\u001b[0;34m.\u001b[0m\u001b[0mravel\u001b[0m\u001b[0;34m(\u001b[0m\u001b[0;34m)\u001b[0m\u001b[0;34m,\u001b[0m \u001b[0mX_train\u001b[0m\u001b[0;34m.\u001b[0m\u001b[0mcolumns\u001b[0m\u001b[0;34m.\u001b[0m\u001b[0mto_list\u001b[0m\u001b[0;34m(\u001b[0m\u001b[0;34m)\u001b[0m \u001b[0;34m)\u001b[0m\u001b[0;34m\u001b[0m\u001b[0;34m\u001b[0m\u001b[0m\n\u001b[0m",
      "\u001b[0;31mAttributeError\u001b[0m: 'numpy.ndarray' object has no attribute 'columns'"
     ]
    }
   ],
   "source": [
    "try_logistic(X_train, y_train.values.ravel(), X_test, y_test.values.ravel(), X_train.columns.to_list() )"
   ]
  },
  {
   "cell_type": "code",
   "execution_count": null,
   "metadata": {
    "id": "76I4EwgsxKOS"
   },
   "outputs": [],
   "source": []
  }
 ],
 "metadata": {
  "colab": {
   "collapsed_sections": [],
   "name": "regression_speed_limit.ipynb",
   "provenance": []
  },
  "kernelspec": {
   "display_name": "Python 3",
   "language": "python",
   "name": "python3"
  },
  "language_info": {
   "codemirror_mode": {
    "name": "ipython",
    "version": 3
   },
   "file_extension": ".py",
   "mimetype": "text/x-python",
   "name": "python",
   "nbconvert_exporter": "python",
   "pygments_lexer": "ipython3",
   "version": "3.7.6"
  }
 },
 "nbformat": 4,
 "nbformat_minor": 1
}
