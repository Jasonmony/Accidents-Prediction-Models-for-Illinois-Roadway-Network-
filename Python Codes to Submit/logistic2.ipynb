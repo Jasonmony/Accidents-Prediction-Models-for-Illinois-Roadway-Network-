{
 "cells": [
  {
   "cell_type": "code",
   "execution_count": 15,
   "metadata": {},
   "outputs": [],
   "source": [
    "import pandas as pd\n",
    "import numpy as np\n"
   ]
  },
  {
   "cell_type": "code",
   "execution_count": 16,
   "metadata": {},
   "outputs": [],
   "source": [
    "train_full = pd.read_csv('train_data_normalizedv4.csv')\n",
    "test_full = pd.read_csv('test_normalized_v4.csv')"
   ]
  },
  {
   "cell_type": "code",
   "execution_count": 17,
   "metadata": {},
   "outputs": [
    {
     "data": {
      "text/plain": [
       "0.0    577713\n",
       "1.0    247217\n",
       "2.0      1872\n",
       "3.0       444\n",
       "Name: Accident, dtype: int64"
      ]
     },
     "execution_count": 17,
     "metadata": {},
     "output_type": "execute_result"
    }
   ],
   "source": [
    "train_full.Accident.value_counts()"
   ]
  },
  {
   "cell_type": "code",
   "execution_count": 44,
   "metadata": {},
   "outputs": [
    {
     "data": {
      "text/plain": [
       "0.6983569579061125"
      ]
     },
     "execution_count": 44,
     "metadata": {},
     "output_type": "execute_result"
    }
   ],
   "source": [
    "577713/(577713+247217+1872+444)"
   ]
  },
  {
   "cell_type": "code",
   "execution_count": 18,
   "metadata": {},
   "outputs": [
    {
     "data": {
      "text/html": [
       "<div>\n",
       "<style scoped>\n",
       "    .dataframe tbody tr th:only-of-type {\n",
       "        vertical-align: middle;\n",
       "    }\n",
       "\n",
       "    .dataframe tbody tr th {\n",
       "        vertical-align: top;\n",
       "    }\n",
       "\n",
       "    .dataframe thead th {\n",
       "        text-align: right;\n",
       "    }\n",
       "</style>\n",
       "<table border=\"1\" class=\"dataframe\">\n",
       "  <thead>\n",
       "    <tr style=\"text-align: right;\">\n",
       "      <th></th>\n",
       "      <th>Unnamed: 0</th>\n",
       "      <th>aadt</th>\n",
       "      <th>access</th>\n",
       "      <th>curv_rad_binary</th>\n",
       "      <th>lanewid</th>\n",
       "      <th>med_type_binary</th>\n",
       "      <th>no_lanes</th>\n",
       "      <th>oneway</th>\n",
       "      <th>rodwycls</th>\n",
       "      <th>rururb</th>\n",
       "      <th>seg_lng</th>\n",
       "      <th>spd_limt</th>\n",
       "      <th>surf_cat</th>\n",
       "      <th>Accident</th>\n",
       "    </tr>\n",
       "  </thead>\n",
       "  <tbody>\n",
       "    <tr>\n",
       "      <th>0</th>\n",
       "      <td>0</td>\n",
       "      <td>-0.481139</td>\n",
       "      <td>0</td>\n",
       "      <td>0</td>\n",
       "      <td>0.727296</td>\n",
       "      <td>0</td>\n",
       "      <td>0.727296</td>\n",
       "      <td>2</td>\n",
       "      <td>8</td>\n",
       "      <td>1</td>\n",
       "      <td>0.727296</td>\n",
       "      <td>0.727296</td>\n",
       "      <td>1</td>\n",
       "      <td>0.0</td>\n",
       "    </tr>\n",
       "    <tr>\n",
       "      <th>1</th>\n",
       "      <td>1</td>\n",
       "      <td>-0.535222</td>\n",
       "      <td>0</td>\n",
       "      <td>0</td>\n",
       "      <td>-0.041433</td>\n",
       "      <td>0</td>\n",
       "      <td>-0.041433</td>\n",
       "      <td>2</td>\n",
       "      <td>8</td>\n",
       "      <td>1</td>\n",
       "      <td>-0.041433</td>\n",
       "      <td>-0.041433</td>\n",
       "      <td>1</td>\n",
       "      <td>0.0</td>\n",
       "    </tr>\n",
       "    <tr>\n",
       "      <th>2</th>\n",
       "      <td>2</td>\n",
       "      <td>-0.506100</td>\n",
       "      <td>0</td>\n",
       "      <td>0</td>\n",
       "      <td>-0.810162</td>\n",
       "      <td>0</td>\n",
       "      <td>-0.810162</td>\n",
       "      <td>2</td>\n",
       "      <td>8</td>\n",
       "      <td>1</td>\n",
       "      <td>-0.810162</td>\n",
       "      <td>-0.810162</td>\n",
       "      <td>1</td>\n",
       "      <td>0.0</td>\n",
       "    </tr>\n",
       "    <tr>\n",
       "      <th>3</th>\n",
       "      <td>3</td>\n",
       "      <td>-0.348013</td>\n",
       "      <td>0</td>\n",
       "      <td>0</td>\n",
       "      <td>6.108399</td>\n",
       "      <td>0</td>\n",
       "      <td>6.108399</td>\n",
       "      <td>1</td>\n",
       "      <td>99</td>\n",
       "      <td>2</td>\n",
       "      <td>6.108399</td>\n",
       "      <td>6.108399</td>\n",
       "      <td>1</td>\n",
       "      <td>1.0</td>\n",
       "    </tr>\n",
       "    <tr>\n",
       "      <th>4</th>\n",
       "      <td>4</td>\n",
       "      <td>0.076327</td>\n",
       "      <td>2</td>\n",
       "      <td>0</td>\n",
       "      <td>-0.041433</td>\n",
       "      <td>1</td>\n",
       "      <td>-0.041433</td>\n",
       "      <td>2</td>\n",
       "      <td>1</td>\n",
       "      <td>2</td>\n",
       "      <td>-0.041433</td>\n",
       "      <td>-0.041433</td>\n",
       "      <td>1</td>\n",
       "      <td>0.0</td>\n",
       "    </tr>\n",
       "  </tbody>\n",
       "</table>\n",
       "</div>"
      ],
      "text/plain": [
       "   Unnamed: 0      aadt  access  curv_rad_binary   lanewid  med_type_binary  \\\n",
       "0           0 -0.481139       0                0  0.727296                0   \n",
       "1           1 -0.535222       0                0 -0.041433                0   \n",
       "2           2 -0.506100       0                0 -0.810162                0   \n",
       "3           3 -0.348013       0                0  6.108399                0   \n",
       "4           4  0.076327       2                0 -0.041433                1   \n",
       "\n",
       "   no_lanes  oneway  rodwycls  rururb   seg_lng  spd_limt  surf_cat  Accident  \n",
       "0  0.727296       2         8       1  0.727296  0.727296         1       0.0  \n",
       "1 -0.041433       2         8       1 -0.041433 -0.041433         1       0.0  \n",
       "2 -0.810162       2         8       1 -0.810162 -0.810162         1       0.0  \n",
       "3  6.108399       1        99       2  6.108399  6.108399         1       1.0  \n",
       "4 -0.041433       2         1       2 -0.041433 -0.041433         1       0.0  "
      ]
     },
     "execution_count": 18,
     "metadata": {},
     "output_type": "execute_result"
    }
   ],
   "source": [
    "train_full.head()"
   ]
  },
  {
   "cell_type": "code",
   "execution_count": 19,
   "metadata": {},
   "outputs": [],
   "source": [
    "train = train_full[['aadt', 'access', 'curv_rad_binary', 'lanewid',\n",
    "       'med_type_binary', 'no_lanes', 'oneway', 'rodwycls', 'rururb',\n",
    "       'seg_lng', 'spd_limt', 'surf_cat', 'Accident']]\n",
    "test = test_full[['aadt', 'access', 'curv_rad_binary', 'lanewid',\n",
    "       'med_type_binary', 'no_lanes', 'oneway', 'rodwycls', 'rururb',\n",
    "       'seg_lng', 'spd_limt', 'surf_cat', 'Accident']]"
   ]
  },
  {
   "cell_type": "code",
   "execution_count": 38,
   "metadata": {},
   "outputs": [
    {
     "data": {
      "text/plain": [
       "(827246, 13)"
      ]
     },
     "execution_count": 38,
     "metadata": {},
     "output_type": "execute_result"
    }
   ],
   "source": [
    "train.shape"
   ]
  },
  {
   "cell_type": "code",
   "execution_count": 31,
   "metadata": {},
   "outputs": [],
   "source": [
    "train_encoded = pd.get_dummies(train,\n",
    "                     columns = ['access', 'curv_rad_binary', 'med_type_binary', 'oneway','rodwycls','rururb','surf_cat'], drop_first = True)\n",
    "test_encoded = pd.get_dummies(test,\n",
    "                     columns = ['access', 'curv_rad_binary', 'med_type_binary', 'oneway','rodwycls','rururb','surf_cat'], drop_first = True)"
   ]
  },
  {
   "cell_type": "code",
   "execution_count": 4,
   "metadata": {},
   "outputs": [],
   "source": [
    "#test_encoded['rodwycls_2'] = 0"
   ]
  },
  {
   "cell_type": "code",
   "execution_count": 21,
   "metadata": {},
   "outputs": [
    {
     "name": "stdout",
     "output_type": "stream",
     "text": [
      "24\n",
      "24\n"
     ]
    }
   ],
   "source": [
    "print(len(train_encoded.columns))\n",
    "print(len(test_encoded.columns))"
   ]
  },
  {
   "cell_type": "code",
   "execution_count": 11,
   "metadata": {},
   "outputs": [
    {
     "data": {
      "text/plain": [
       "Index(['aadt', 'lanewid', 'no_lanes', 'seg_lng', 'spd_limt', 'Accident',\n",
       "       'access_1', 'access_2', 'curv_rad_binary_1', 'med_type_binary_1',\n",
       "       'oneway_2', 'rodwycls_-0.4328775979493335',\n",
       "       'rodwycls_-0.3534587650450657', 'rodwycls_-0.2740399321407979',\n",
       "       'rodwycls_-0.19462109923653012', 'rodwycls_-0.11520226633226235',\n",
       "       'rodwycls_-0.035783433427994595', 'rodwycls_0.04363539947627319',\n",
       "       'rodwycls_0.12305423238054095', 'rodwycls_0.20247306528480874',\n",
       "       'rodwycls_7.270749193764641', 'rururb_2', 'surf_cat_2', 'surf_cat_3'],\n",
       "      dtype='object')"
      ]
     },
     "execution_count": 11,
     "metadata": {},
     "output_type": "execute_result"
    }
   ],
   "source": [
    "train_encoded.columns"
   ]
  },
  {
   "cell_type": "code",
   "execution_count": 12,
   "metadata": {},
   "outputs": [
    {
     "data": {
      "text/plain": [
       "Index(['aadt', 'lanewid', 'no_lanes', 'seg_lng', 'spd_limt', 'Accident',\n",
       "       'access_1', 'access_2', 'curv_rad_binary_1', 'med_type_binary_1',\n",
       "       'oneway_2', 'rodwycls_-0.3534587650448899',\n",
       "       'rodwycls_-0.2740399321406614', 'rodwycls_-0.19462109923643292',\n",
       "       'rodwycls_-0.11520226633220446', 'rodwycls_-0.035783433427975984',\n",
       "       'rodwycls_0.04363539947625249', 'rodwycls_0.12305423238048095',\n",
       "       'rodwycls_0.20247306528470946', 'rodwycls_7.270749193761043',\n",
       "       'rururb_2', 'surf_cat_2', 'surf_cat_3'],\n",
       "      dtype='object')"
      ]
     },
     "execution_count": 12,
     "metadata": {},
     "output_type": "execute_result"
    }
   ],
   "source": [
    "test_encoded.columns"
   ]
  },
  {
   "cell_type": "code",
   "execution_count": 6,
   "metadata": {},
   "outputs": [],
   "source": [
    "test_encoded = test_encoded[train_encoded.columns]"
   ]
  },
  {
   "cell_type": "code",
   "execution_count": 30,
   "metadata": {},
   "outputs": [
    {
     "data": {
      "text/plain": [
       "lanewid                   0\n",
       "no_lanes                  0\n",
       "seg_lng                   0\n",
       "spd_limt                  0\n",
       "access_1                  0\n",
       "access_2                  0\n",
       "curv_rad_binary_1         0\n",
       "med_type_binary_1         0\n",
       "oneway_2                  0\n",
       "rodwycls_2                0\n",
       "rodwycls_3                0\n",
       "rodwycls_4                0\n",
       "rodwycls_5                0\n",
       "rodwycls_6                0\n",
       "rodwycls_7                0\n",
       "rodwycls_8                0\n",
       "rodwycls_9                0\n",
       "rodwycls_10               0\n",
       "rodwycls_99               0\n",
       "rururb_2                  0\n",
       "surf_cat_2                0\n",
       "surf_cat_3                0\n",
       "LnAadt               573602\n",
       "dtype: int64"
      ]
     },
     "execution_count": 30,
     "metadata": {},
     "output_type": "execute_result"
    }
   ],
   "source": [
    "X_train.isna().sum()"
   ]
  },
  {
   "cell_type": "code",
   "execution_count": 32,
   "metadata": {},
   "outputs": [],
   "source": [
    "X_train = train_encoded.drop(['Accident'], axis=1)\n",
    "X_test = test_encoded.drop(['Accident'], axis=1)"
   ]
  },
  {
   "cell_type": "code",
   "execution_count": 33,
   "metadata": {},
   "outputs": [],
   "source": [
    "y_train = train_encoded['Accident']\n",
    "y_test = test_encoded['Accident']"
   ]
  },
  {
   "cell_type": "code",
   "execution_count": 25,
   "metadata": {},
   "outputs": [
    {
     "name": "stderr",
     "output_type": "stream",
     "text": [
      "/Users/jacob/anaconda/envs/py3/lib/python3.7/site-packages/pandas/core/series.py:679: RuntimeWarning: invalid value encountered in log\n",
      "  result = getattr(ufunc, method)(*inputs, **kwargs)\n"
     ]
    }
   ],
   "source": [
    "X_train['LnAadt'] = np.log(X_train['aadt'])\n",
    "X_train = X_train.drop(['aadt'], axis=1)\n",
    "X_test['LnAadt'] = np.log(X_test['aadt'])\n",
    "X_test = X_test.drop(['aadt'], axis=1)"
   ]
  },
  {
   "cell_type": "code",
   "execution_count": 26,
   "metadata": {},
   "outputs": [],
   "source": [
    "from sklearn.preprocessing import StandardScaler"
   ]
  },
  {
   "cell_type": "code",
   "execution_count": 11,
   "metadata": {},
   "outputs": [],
   "source": [
    "scaler = StandardScaler()"
   ]
  },
  {
   "cell_type": "code",
   "execution_count": 12,
   "metadata": {},
   "outputs": [],
   "source": [
    "X_train_scaled = scaler.fit_transform(X_train)"
   ]
  },
  {
   "cell_type": "code",
   "execution_count": 13,
   "metadata": {},
   "outputs": [],
   "source": [
    "X_test_scaled = scaler.transform(X_test)"
   ]
  },
  {
   "cell_type": "code",
   "execution_count": 28,
   "metadata": {},
   "outputs": [],
   "source": [
    "from sklearn.linear_model import LogisticRegression"
   ]
  },
  {
   "cell_type": "code",
   "execution_count": 34,
   "metadata": {},
   "outputs": [
    {
     "data": {
      "text/plain": [
       "LogisticRegression(C=1.0, class_weight=None, dual=False, fit_intercept=True,\n",
       "                   intercept_scaling=1, l1_ratio=None, max_iter=100,\n",
       "                   multi_class='ovr', n_jobs=None, penalty='l2',\n",
       "                   random_state=None, solver='liblinear', tol=0.0001, verbose=0,\n",
       "                   warm_start=False)"
      ]
     },
     "execution_count": 34,
     "metadata": {},
     "output_type": "execute_result"
    }
   ],
   "source": [
    "lm = LogisticRegression(multi_class='ovr', solver='liblinear')\n",
    "lm.fit(X_train, y_train)"
   ]
  },
  {
   "cell_type": "code",
   "execution_count": 20,
   "metadata": {},
   "outputs": [
    {
     "data": {
      "text/plain": [
       "array([0., 1.])"
      ]
     },
     "execution_count": 20,
     "metadata": {},
     "output_type": "execute_result"
    }
   ],
   "source": [
    "np.unique(lm.predict(X_test_scaled))"
   ]
  },
  {
   "cell_type": "code",
   "execution_count": 35,
   "metadata": {},
   "outputs": [],
   "source": [
    "from sklearn.metrics import accuracy_score"
   ]
  },
  {
   "cell_type": "code",
   "execution_count": 36,
   "metadata": {},
   "outputs": [
    {
     "data": {
      "text/plain": [
       "0.686"
      ]
     },
     "execution_count": 36,
     "metadata": {},
     "output_type": "execute_result"
    }
   ],
   "source": [
    "accuracy_score(y_test.to_numpy(), lm.predict(X_test))"
   ]
  },
  {
   "cell_type": "code",
   "execution_count": 37,
   "metadata": {},
   "outputs": [
    {
     "data": {
      "text/plain": [
       "0.686"
      ]
     },
     "execution_count": 37,
     "metadata": {},
     "output_type": "execute_result"
    }
   ],
   "source": [
    "lm.score(X_test, y_test)"
   ]
  },
  {
   "cell_type": "code",
   "execution_count": 23,
   "metadata": {},
   "outputs": [],
   "source": [
    "import matplotlib.pyplot as plt\n",
    "from sklearn import metrics"
   ]
  },
  {
   "cell_type": "code",
   "execution_count": 27,
   "metadata": {},
   "outputs": [
    {
     "data": {
      "text/plain": [
       "array([[621,  70,   0],\n",
       "       [171, 134,   0],\n",
       "       [  0,   4,   0]])"
      ]
     },
     "execution_count": 27,
     "metadata": {},
     "output_type": "execute_result"
    },
    {
     "data": {
      "image/png": "[encoded data removed]",
      "text/plain": [
       "<Figure size 720x432 with 2 Axes>"
      ]
     },
     "metadata": {
      "needs_background": "light"
     },
     "output_type": "display_data"
    }
   ],
   "source": [
    "fig, ax = plt.subplots(figsize=(10, 6))\n",
    "ax.set_title('Confusion Matrx')\n",
    "\n",
    "disp =metrics.plot_confusion_matrix(lm, X_test_scaled, y_test, display_labels= y_train.unique(), ax = ax)\n",
    "disp.confusion_matrix"
   ]
  },
  {
   "cell_type": "code",
   "execution_count": 28,
   "metadata": {},
   "outputs": [
    {
     "data": {
      "text/plain": [
       "array([0., 1., 2., 3.])"
      ]
     },
     "execution_count": 28,
     "metadata": {},
     "output_type": "execute_result"
    }
   ],
   "source": [
    "y_train.unique()"
   ]
  },
  {
   "cell_type": "code",
   "execution_count": 39,
   "metadata": {},
   "outputs": [],
   "source": [
    "import statsmodels.api as sm"
   ]
  },
  {
   "cell_type": "code",
   "execution_count": 40,
   "metadata": {},
   "outputs": [],
   "source": [
    "X_train1 = sm.add_constant(X_train)"
   ]
  },
  {
   "cell_type": "code",
   "execution_count": 42,
   "metadata": {},
   "outputs": [],
   "source": [
    "model =sm.OLS(y_train,X_train1).fit()"
   ]
  },
  {
   "cell_type": "code",
   "execution_count": 43,
   "metadata": {},
   "outputs": [
    {
     "name": "stdout",
     "output_type": "stream",
     "text": [
      "                            OLS Regression Results                            \n",
      "==============================================================================\n",
      "Dep. Variable:               Accident   R-squared:                       0.117\n",
      "Model:                            OLS   Adj. R-squared:                  0.117\n",
      "Method:                 Least Squares   F-statistic:                     5503.\n",
      "Date:                Mon, 03 May 2021   Prob (F-statistic):               0.00\n",
      "Time:                        12:51:01   Log-Likelihood:            -4.9532e+05\n",
      "No. Observations:              827246   AIC:                         9.907e+05\n",
      "Df Residuals:                  827225   BIC:                         9.909e+05\n",
      "Df Model:                          20                                         \n",
      "Covariance Type:            nonrobust                                         \n",
      "=====================================================================================\n",
      "                        coef    std err          t      P>|t|      [0.025      0.975]\n",
      "-------------------------------------------------------------------------------------\n",
      "const                 0.3048      0.046      6.676      0.000       0.215       0.394\n",
      "aadt                  0.0803      0.001    118.210      0.000       0.079       0.082\n",
      "lanewid              -0.0020      0.000    -15.899      0.000      -0.002      -0.002\n",
      "no_lanes             -0.0020      0.000    -15.899      0.000      -0.002      -0.002\n",
      "seg_lng              -0.0020      0.000    -15.899      0.000      -0.002      -0.002\n",
      "spd_limt             -0.0020      0.000    -15.899      0.000      -0.002      -0.002\n",
      "access_1             -0.0549      0.002    -30.685      0.000      -0.058      -0.051\n",
      "access_2             -0.0936      0.019     -4.900      0.000      -0.131      -0.056\n",
      "curv_rad_binary_1    -0.0313      0.003     -9.144      0.000      -0.038      -0.025\n",
      "med_type_binary_1    -0.0528      0.002    -22.447      0.000      -0.057      -0.048\n",
      "oneway_2             -0.1416      0.030     -4.766      0.000      -0.200      -0.083\n",
      "rodwycls_2           -0.0639      0.015     -4.396      0.000      -0.092      -0.035\n",
      "rodwycls_3           -0.0547      0.019     -2.821      0.005      -0.093      -0.017\n",
      "rodwycls_4            0.0805      0.019      4.171      0.000       0.043       0.118\n",
      "rodwycls_5            0.0813      0.019      4.184      0.000       0.043       0.119\n",
      "rodwycls_6            0.3099      0.024     12.915      0.000       0.263       0.357\n",
      "rodwycls_7            0.1381      0.026      5.394      0.000       0.088       0.188\n",
      "rodwycls_8            0.0425      0.032      1.322      0.186      -0.021       0.106\n",
      "rodwycls_9            0.1675      0.032      5.188      0.000       0.104       0.231\n",
      "rodwycls_10           0.0815      0.033      2.440      0.015       0.016       0.147\n",
      "rodwycls_99          -0.0699      0.033     -2.100      0.036      -0.135      -0.005\n",
      "rururb_2              0.2733      0.024     11.504      0.000       0.227       0.320\n",
      "surf_cat_2           -0.0224      0.002     -9.108      0.000      -0.027      -0.018\n",
      "surf_cat_3           -0.0471      0.002    -20.161      0.000      -0.052      -0.043\n",
      "==============================================================================\n",
      "Omnibus:                    74059.436   Durbin-Watson:                   2.002\n",
      "Prob(Omnibus):                  0.000   Jarque-Bera (JB):            94238.422\n",
      "Skew:                           0.819   Prob(JB):                         0.00\n",
      "Kurtosis:                       2.770   Cond. No.                     3.28e+18\n",
      "==============================================================================\n",
      "\n",
      "Warnings:\n",
      "[1] Standard Errors assume that the covariance matrix of the errors is correctly specified.\n",
      "[2] The smallest eigenvalue is 3.08e-31. This might indicate that there are\n",
      "strong multicollinearity problems or that the design matrix is singular.\n"
     ]
    }
   ],
   "source": [
    "print(model.summary())"
   ]
  },
  {
   "cell_type": "code",
   "execution_count": null,
   "metadata": {},
   "outputs": [],
   "source": []
  }
 ],
 "metadata": {
  "kernelspec": {
   "display_name": "Python 3",
   "language": "python",
   "name": "python3"
  },
  "language_info": {
   "codemirror_mode": {
    "name": "ipython",
    "version": 3
   },
   "file_extension": ".py",
   "mimetype": "text/x-python",
   "name": "python",
   "nbconvert_exporter": "python",
   "pygments_lexer": "ipython3",
   "version": "3.7.6"
  }
 },
 "nbformat": 4,
 "nbformat_minor": 4
}
